{
 "cells": [
  {
   "cell_type": "code",
   "execution_count": 1,
   "metadata": {
    "id": "tFilCU4V1XhD"
   },
   "outputs": [],
   "source": [
    "import numpy as np\n",
    "import matplotlib.pyplot as plt\n",
    "import cv2 \n",
    "import pandas as pd \n",
    "import math \n",
    "from tqdm import tqdm\n"
   ]
  },
  {
   "cell_type": "code",
   "execution_count": 2,
   "metadata": {
    "colab": {
     "base_uri": "https://localhost:8080/"
    },
    "id": "wjXEFbOh3hCX",
    "outputId": "7c6d775f-2153-4735-93a3-8238355d3785"
   },
   "outputs": [
    {
     "name": "stdout",
     "output_type": "stream",
     "text": [
      "Folder 1 - basophil\n",
      "Folder 2 - eosinophil\n",
      "Folder 3 - erythroblast\n",
      "Folder 4 - ig\n",
      "Folder 5 - lymphocyte\n",
      "Folder 6 - monocyte\n",
      "Folder 7 - neutrophil\n",
      "Folder 8 - platelet\n",
      "\n",
      "X and Y equal: True\n",
      "Total training examples: 17092\n",
      "(17092, 1024)\n",
      "(17092, 1)\n"
     ]
    }
   ],
   "source": [
    "from os import listdir\n",
    "import cv2\n",
    "import numpy as np\n",
    "\n",
    "# Root Folder Name\n",
    "FOLDER_NAME = 'Dataset'\n",
    "# Class Folders\n",
    "folders = listdir(FOLDER_NAME)\n",
    "NR_CLASSES = len(folders)\n",
    "# Walk over folders\n",
    "data_X, data_Y = [], []\n",
    "for i in range(NR_CLASSES):\n",
    "    folder = folders[i]\n",
    "    print('Folder', i+1, '-', folder)\n",
    "    images = listdir(FOLDER_NAME + '/' + folder)\n",
    "    # Walk over images\n",
    "    for image in images:\n",
    "        path = FOLDER_NAME + '/' + folder + '/' + image\n",
    "        # Process Image\n",
    "        raw = cv2.imread(path)\n",
    "        gray = cv2.cvtColor(raw, cv2.COLOR_BGR2GRAY)\n",
    "        img = cv2.resize(gray, (32, 32))\n",
    "        # Add to data\n",
    "        data_X.append(img.flatten())\n",
    "        data_Y.append(i)\n",
    "# Convert to numpy arrays\n",
    "X = np.array(data_X)\n",
    "Y = np.array(data_Y).reshape([-1, 1])\n",
    "# Verify sizes match\n",
    "print('\\nX and Y equal:', len(X) == len(Y))\n",
    "print('Total training examples:', len(X))\n",
    "print(X.shape)\n",
    "print(Y.shape)"
   ]
  },
  {
   "cell_type": "code",
   "execution_count": 3,
   "metadata": {
    "id": "nKD4Z-fC3zEy"
   },
   "outputs": [],
   "source": [
    "def convolution(image, filt, bias, s=1):\n",
    "    '''\n",
    "    Confolves `filt` over `image` using stride `s`\n",
    "    '''\n",
    "    (n_f, n_c_f, f, _) = filt.shape # filter dimensions\n",
    "    n_c, in_dim, _ = image.shape # image dimensions\n",
    "    \n",
    "    out_dim = int((in_dim - f)/s)+1 # calculate output dimensions\n",
    "    \n",
    "    # ensure that the filter dimensions match the dimensions of the input image\n",
    "    assert n_c == n_c_f, \"Dimensions of filter must match dimensions of input image\"\n",
    "    \n",
    "    out = np.zeros((n_f,out_dim,out_dim)) # create the matrix to hold the values of the convolution operation\n",
    "    \n",
    "    # convolve each filter over the image\n",
    "    for curr_f in range(n_f):\n",
    "        curr_y = out_y = 0\n",
    "        # move filter vertically across the image\n",
    "        while curr_y + f <= in_dim:\n",
    "            curr_x = out_x = 0\n",
    "            # move filter horizontally across the image \n",
    "            while curr_x + f <= in_dim:\n",
    "                # perform the convolution operation and add the bias\n",
    "                out[curr_f, out_y, out_x] = np.sum(filt[curr_f] * image[:,curr_y:curr_y+f, curr_x:curr_x+f]) + bias[curr_f]\n",
    "                curr_x += s\n",
    "                out_x += 1\n",
    "            curr_y += s\n",
    "            out_y += 1\n",
    "        #print('Conv is working')\n",
    "    return out"
   ]
  },
  {
   "cell_type": "code",
   "execution_count": 4,
   "metadata": {
    "id": "QeIs4Axk35XK"
   },
   "outputs": [],
   "source": [
    "def maxpool(image, f=2, s=2):\n",
    "    \n",
    "    #Downsample input `image` using a kernel size of `f` and a stride of `s`\n",
    "    \n",
    "    n_c, h_prev, w_prev = image.shape\n",
    "    \n",
    "    # calculate output dimensions after the maxpooling operation.\n",
    "    h = int((h_prev - f)/s)+1 \n",
    "    w = int((w_prev - f)/s)+1\n",
    "    \n",
    "    # create a matrix to hold the values of the maxpooling operation.\n",
    "    downsampled = np.zeros((n_c, h, w)) \n",
    "    \n",
    "    # slide the window over every part of the image using stride s. Take the maximum value at each step.\n",
    "    for i in range(n_c):\n",
    "        curr_y = out_y = 0\n",
    "        # slide the max pooling window vertically across the image\n",
    "        while curr_y + f <= h_prev:\n",
    "            curr_x = out_x = 0\n",
    "            # slide the max pooling window horizontally across the image\n",
    "            while curr_x + f <= w_prev:\n",
    "                # choose the maximum value within the window at each step and store it to the output matrix\n",
    "                downsampled[i, out_y, out_x] = np.max(image[i, curr_y:curr_y+f, curr_x:curr_x+f])\n",
    "                curr_x += s\n",
    "                out_x += 1\n",
    "            curr_y += s\n",
    "            out_y += 1\n",
    "    #print('max pooling is working')        \n",
    "    return downsampled"
   ]
  },
  {
   "cell_type": "code",
   "execution_count": 5,
   "metadata": {
    "id": "7sjwPgNh3-JF"
   },
   "outputs": [],
   "source": [
    "def softmax(raw_preds):\n",
    "    '''\n",
    "    pass raw predictions through softmax activation function\n",
    "    '''\n",
    "    out = np.exp(raw_preds) # exponentiate vector of raw predictions\n",
    "    return out/np.sum(out) # divide the exponentiated vector by its sum. All values in the output sum to 1."
   ]
  },
  {
   "cell_type": "code",
   "execution_count": 6,
   "metadata": {
    "id": "pnusIrEm4Dpb"
   },
   "outputs": [],
   "source": [
    "def categoricalCrossEntropy(probs, label):\n",
    "    '''\n",
    "    calculate the categorical cross-entropy loss of the predictions\n",
    "    '''\n",
    "    return -np.sum(label * np.log(probs)) # Multiply the desired output label by the log of the prediction, then sum all values in the vector\n"
   ]
  },
  {
   "cell_type": "code",
   "execution_count": 7,
   "metadata": {
    "id": "LdzY-vrg4H-E"
   },
   "outputs": [],
   "source": [
    "def initializeFilter(size, scale = 1.0):\n",
    "    '''\n",
    "    Initialize filter using a normal distribution with and a \n",
    "    standard deviation inversely proportional the square root of the number of units\n",
    "    '''\n",
    "    stddev = scale/np.sqrt(np.prod(size))\n",
    "    return np.random.normal(loc = 0, scale = stddev, size = size)\n",
    "\n",
    "def initializeWeight(size):\n",
    "    '''\n",
    "    Initialize weights with a random normal distribution\n",
    "    '''\n",
    "    return np.random.standard_normal(size=size) * 0.01"
   ]
  },
  {
   "cell_type": "code",
   "execution_count": 8,
   "metadata": {
    "id": "ZBZUC1lH4NMS"
   },
   "outputs": [],
   "source": [
    "def convolutionBackward(dconv_prev, conv_in, filt, s):\n",
    "    '''\n",
    "    Backpropagation through a convolutional layer. \n",
    "    '''\n",
    "    (n_f, n_c, f, _) = filt.shape\n",
    "    (_, orig_dim, _) = conv_in.shape\n",
    "    ## initialize derivatives\n",
    "    dout = np.zeros(conv_in.shape) \n",
    "    dfilt = np.zeros(filt.shape)\n",
    "    dbias = np.zeros((n_f,1))\n",
    "    for curr_f in range(n_f):\n",
    "        # loop through all filters\n",
    "        curr_y = out_y = 0\n",
    "        while curr_y + f <= orig_dim:\n",
    "            curr_x = out_x = 0\n",
    "            while curr_x + f <= orig_dim:\n",
    "                # loss gradient of filter (used to update the filter)\n",
    "                dfilt[curr_f] += dconv_prev[curr_f, out_y, out_x] * conv_in[:, curr_y:curr_y+f, curr_x:curr_x+f]\n",
    "                # loss gradient of the input to the convolution operation (conv1 in the case of this network)\n",
    "                dout[:, curr_y:curr_y+f, curr_x:curr_x+f] += dconv_prev[curr_f, out_y, out_x] * filt[curr_f] \n",
    "                curr_x += s\n",
    "                out_x += 1\n",
    "            curr_y += s\n",
    "            out_y += 1\n",
    "        # loss gradient of the bias\n",
    "        dbias[curr_f] = np.sum(dconv_prev[curr_f])\n",
    "    \n",
    "    return dout, dfilt, dbias\n",
    "\n",
    "def nanargmax(arr):\n",
    "    '''\n",
    "    return index of the largest non-nan value in the array. Output is an ordered pair tuple\n",
    "    '''\n",
    "    idx = np.nanargmax(arr)\n",
    "    idxs = np.unravel_index(idx, arr.shape)\n",
    "    return idxs \n",
    "\n",
    "def maxpoolBackward(dpool, orig, f, s):\n",
    "    '''\n",
    "    Backpropagation through a maxpooling layer. The gradients are passed through the indices of greatest value in the original maxpooling during the forward step.\n",
    "    '''\n",
    "    (n_c, orig_dim, _) = orig.shape\n",
    "    \n",
    "    dout = np.zeros(orig.shape)\n",
    "    \n",
    "    for curr_c in range(n_c):\n",
    "        curr_y = out_y = 0\n",
    "        while curr_y + f <= orig_dim:\n",
    "            curr_x = out_x = 0\n",
    "            while curr_x + f <= orig_dim:\n",
    "                # obtain index of largest value in input for current window\n",
    "                (a, b) = nanargmax(orig[curr_c, curr_y:curr_y+f, curr_x:curr_x+f])\n",
    "                dout[curr_c, curr_y+a, curr_x+b] = dpool[curr_c, out_y, out_x]\n",
    "                \n",
    "                curr_x += s\n",
    "                out_x += 1\n",
    "            curr_y += s\n",
    "            out_y += 1\n",
    "        \n",
    "    return dout"
   ]
  },
  {
   "cell_type": "code",
   "execution_count": 9,
   "metadata": {
    "id": "RTANKQyd4bPJ"
   },
   "outputs": [],
   "source": [
    "def conv(image, label, params, conv_s, pool_f, pool_s):\n",
    "    \n",
    "    [f1, f2, w3, w4, b1, b2, b3, b4] = params \n",
    "    \n",
    "    ################################################\n",
    "    ############## Forward Operation ###############\n",
    "    ################################################\n",
    "    conv1 = convolution(image, f1, b1, conv_s) # convolution operation\n",
    "    conv1[conv1<=0] = 0 # pass through ReLU non-linearity\n",
    "    \n",
    "    conv2 = convolution(conv1, f2, b2, conv_s) # second convolution operation\n",
    "    conv2[conv2<=0] = 0 # pass through ReLU non-linearity\n",
    "    \n",
    "    pooled = maxpool(conv2, pool_f, pool_s) # maxpooling operation\n",
    "    \n",
    "    (nf2, dim2, _) = pooled.shape\n",
    "    fc = pooled.reshape((nf2 * dim2 * dim2, 1)) # flatten pooled layer\n",
    "    \n",
    "    z = w3.dot(fc) + b3 # first dense layer\n",
    "    z[z<=0] = 0 # pass through ReLU non-linearity\n",
    "    \n",
    "    out = w4.dot(z) + b4 # second dense layer\n",
    "     \n",
    "    probs = softmax(out) # predict class probabilities with the softmax activation function\n",
    "    \n",
    "    ################################################\n",
    "    #################### Loss ######################\n",
    "    ################################################\n",
    "    \n",
    "    loss = categoricalCrossEntropy(probs, label) # categorical cross-entropy loss\n",
    "        \n",
    "    ################################################\n",
    "    ############# Backward Operation ###############\n",
    "    ################################################\n",
    "    dout = probs - label # derivative of loss w.r.t. final dense layer output\n",
    "    dw4 = dout.dot(z.T) # loss gradient of final dense layer weights\n",
    "    db4 = np.sum(dout, axis = 1).reshape(b4.shape) # loss gradient of final dense layer biases\n",
    "    \n",
    "    dz = w4.T.dot(dout) # loss gradient of first dense layer outputs \n",
    "    dz[z<=0] = 0 # backpropagate through ReLU \n",
    "    dw3 = dz.dot(fc.T)\n",
    "    db3 = np.sum(dz, axis = 1).reshape(b3.shape)\n",
    "    \n",
    "    dfc = w3.T.dot(dz) # loss gradients of fully-connected layer (pooling layer)\n",
    "    dpool = dfc.reshape(pooled.shape) # reshape fully connected into dimensions of pooling layer\n",
    "    \n",
    "    dconv2 = maxpoolBackward(dpool, conv2, pool_f, pool_s) # backprop through the max-pooling layer(only neurons with highest activation in window get updated)\n",
    "    dconv2[conv2<=0] = 0 # backpropagate through ReLU\n",
    "    \n",
    "    dconv1, df2, db2 = convolutionBackward(dconv2, conv1, f2, conv_s) # backpropagate previous gradient through second convolutional layer.\n",
    "    dconv1[conv1<=0] = 0 # backpropagate through ReLU\n",
    "    \n",
    "    dimage, df1, db1 = convolutionBackward(dconv1, image, f1, conv_s) # backpropagate previous gradient through first convolutional layer.\n",
    "    \n",
    "    grads = [df1, df2, dw3, dw4, db1, db2, db3, db4] \n",
    "    \n",
    "    return grads, loss"
   ]
  },
  {
   "cell_type": "code",
   "execution_count": 10,
   "metadata": {
    "id": "e3k6NcI74gyp"
   },
   "outputs": [],
   "source": [
    "def adamGD(batch, num_classes, lr, dim, n_c, beta1, beta2, params, cost):\n",
    "    '''\n",
    "    update the parameters through Adam gradient descnet.\n",
    "    '''\n",
    "    [f1, f2, w3, w4, b1, b2, b3, b4] = params\n",
    "    \n",
    "    X = batch[:,0:-1] # get batch inputs\n",
    "    X = X.reshape(len(batch), n_c, dim, dim)\n",
    "    Y = batch[:,-1] # get batch labels\n",
    "    \n",
    "    cost_ = 0\n",
    "    batch_size = len(batch)\n",
    "    \n",
    "    # initialize gradients and momentum,RMS params\n",
    "    df1 = np.zeros(f1.shape)\n",
    "    df2 = np.zeros(f2.shape)\n",
    "    dw3 = np.zeros(w3.shape)\n",
    "    dw4 = np.zeros(w4.shape)\n",
    "    db1 = np.zeros(b1.shape)\n",
    "    db2 = np.zeros(b2.shape)\n",
    "    db3 = np.zeros(b3.shape)\n",
    "    db4 = np.zeros(b4.shape)\n",
    "    \n",
    "    v1 = np.zeros(f1.shape)\n",
    "    v2 = np.zeros(f2.shape)\n",
    "    v3 = np.zeros(w3.shape)\n",
    "    v4 = np.zeros(w4.shape)\n",
    "    bv1 = np.zeros(b1.shape)\n",
    "    bv2 = np.zeros(b2.shape)\n",
    "    bv3 = np.zeros(b3.shape)\n",
    "    bv4 = np.zeros(b4.shape)\n",
    "    \n",
    "    s1 = np.zeros(f1.shape)\n",
    "    s2 = np.zeros(f2.shape)\n",
    "    s3 = np.zeros(w3.shape)\n",
    "    s4 = np.zeros(w4.shape)\n",
    "    bs1 = np.zeros(b1.shape)\n",
    "    bs2 = np.zeros(b2.shape)\n",
    "    bs3 = np.zeros(b3.shape)\n",
    "    bs4 = np.zeros(b4.shape)\n",
    "    \n",
    "    for i in range(batch_size):\n",
    "        \n",
    "        x = X[i]\n",
    "        y = np.eye(num_classes)[int(Y[i])].reshape(num_classes, 1) # convert label to one-hot\n",
    "        \n",
    "        # Collect Gradients for training example\n",
    "        grads, loss = conv(x, y, params, 1, 2, 2)\n",
    "        [df1_, df2_, dw3_, dw4_, db1_, db2_, db3_, db4_] = grads\n",
    "        \n",
    "        df1+=df1_\n",
    "        db1+=db1_\n",
    "        df2+=df2_\n",
    "        db2+=db2_\n",
    "        dw3+=dw3_\n",
    "        db3+=db3_\n",
    "        dw4+=dw4_\n",
    "        db4+=db4_\n",
    "\n",
    "        cost_+= loss\n",
    "\n",
    "    # Parameter Update  \n",
    "        \n",
    "    v1 = beta1*v1 + (1-beta1)*df1/batch_size # momentum update\n",
    "    s1 = beta2*s1 + (1-beta2)*(df1/batch_size)**2 # RMSProp update\n",
    "    f1 -= lr * v1/np.sqrt(s1+1e-7) # combine momentum and RMSProp to perform update with Adam\n",
    "    \n",
    "    bv1 = beta1*bv1 + (1-beta1)*db1/batch_size\n",
    "    bs1 = beta2*bs1 + (1-beta2)*(db1/batch_size)**2\n",
    "    b1 -= lr * bv1/np.sqrt(bs1+1e-7)\n",
    "   \n",
    "    v2 = beta1*v2 + (1-beta1)*df2/batch_size\n",
    "    s2 = beta2*s2 + (1-beta2)*(df2/batch_size)**2\n",
    "    f2 -= lr * v2/np.sqrt(s2+1e-7)\n",
    "                       \n",
    "    bv2 = beta1*bv2 + (1-beta1) * db2/batch_size\n",
    "    bs2 = beta2*bs2 + (1-beta2)*(db2/batch_size)**2\n",
    "    b2 -= lr * bv2/np.sqrt(bs2+1e-7)\n",
    "    \n",
    "    v3 = beta1*v3 + (1-beta1) * dw3/batch_size\n",
    "    s3 = beta2*s3 + (1-beta2)*(dw3/batch_size)**2\n",
    "    w3 -= lr * v3/np.sqrt(s3+1e-7)\n",
    "    \n",
    "    bv3 = beta1*bv3 + (1-beta1) * db3/batch_size\n",
    "    bs3 = beta2*bs3 + (1-beta2)*(db3/batch_size)**2\n",
    "    b3 -= lr * bv3/np.sqrt(bs3+1e-7)\n",
    "    \n",
    "    v4 = beta1*v4 + (1-beta1) * dw4/batch_size\n",
    "    s4 = beta2*s4 + (1-beta2)*(dw4/batch_size)**2\n",
    "    w4 -= lr * v4 / np.sqrt(s4+1e-7)\n",
    "    \n",
    "    bv4 = beta1*bv4 + (1-beta1)*db4/batch_size\n",
    "    bs4 = beta2*bs4 + (1-beta2)*(db4/batch_size)**2\n",
    "    b4 -= lr * bv4 / np.sqrt(bs4+1e-7)\n",
    "    \n",
    "\n",
    "    cost_ = cost_/batch_size\n",
    "    cost.append(cost_)\n",
    "\n",
    "    params = [f1, f2, w3, w4, b1, b2, b3, b4]\n",
    "    #print (\"parameters\", params)\n",
    "    #print (\"f2\", params[1])\n",
    "\n",
    "    print (\"Cost\", cost)\n",
    "    return params, cost"
   ]
  },
  {
   "cell_type": "code",
   "execution_count": 11,
   "metadata": {
    "id": "-wd8tEQR4mt2"
   },
   "outputs": [],
   "source": [
    "#####################################################\n",
    "##################### Training ######################\n",
    "#####################################################\n",
    "\n",
    "def train(num_classes, lr, beta1, beta2, img_dim, img_depth, f, num_filt1, num_filt2, batch_size, num_epochs):\n",
    "\n",
    "    # Get training data\n",
    "    m =1000\n",
    "    \n",
    "    data = np.hstack((X,Y))\n",
    "\n",
    "    np.random.shuffle(data)\n",
    "    data_train = round(0.6*len(data))\n",
    "    data_valid = round(data_train+0.2*len(data))\n",
    "    train_x = X[:data_train]\n",
    "    valid_x = X[data_train:data_valid]\n",
    "    test_x = X[data_valid:]\n",
    "    #train_data = data[:m]\n",
    "\n",
    "    train_y = Y[:data_train]\n",
    "    valid_y = Y[data_train:data_valid]\n",
    "    test_y = Y[data_valid:]\n",
    "\n",
    "    train_data = np.hstack((train_x,train_y))\n",
    "    valid_data = np.hstack((valid_x,valid_y))\n",
    "    test_data = np.hstack((test_x,test_y))\n",
    "\n",
    "    #np.random.shuffle(train_data)\n",
    "    #np.random.shuffle(valid_data)\n",
    "\n",
    "    train_data = train_data[:m]\n",
    "    valid_data = valid_data[:m]\n",
    "    test_data = test_data[:m]\n",
    "\n",
    "\n",
    "    ## Initializing all the parameters\n",
    "    f1, f2, w3, w4 = (num_filt1 ,img_depth,f,f), (num_filt2 ,num_filt1,f,f), (128,720), (8, 128)\n",
    "    f1 = initializeFilter(f1)\n",
    "    f2 = initializeFilter(f2)\n",
    "    w3 = initializeWeight(w3)\n",
    "    w4 = initializeWeight(w4)\n",
    "\n",
    "    b1 = np.zeros((f1.shape[0],1))\n",
    "    b2 = np.zeros((f2.shape[0],1))\n",
    "    b3 = np.zeros((w3.shape[0],1))\n",
    "    b4 = np.zeros((w4.shape[0],1))\n",
    "\n",
    "    params = [f1, f2, w3, w4, b1, b2, b3, b4]\n",
    "\n",
    "    cost = []\n",
    "    valid_cost = []\n",
    "    test_cost = []\n",
    "\n",
    "    print(\"LR:\"+str(lr)+\", Batch Size:\"+str(batch_size))\n",
    "\n",
    "    for epoch in range(num_epochs):\n",
    "        np.random.shuffle(train_data)\n",
    "        batches = [train_data[k:k + batch_size] for k in range(0, train_data.shape[0], batch_size)]\n",
    "\n",
    "        np.random.shuffle(valid_data)\n",
    "        batches1 = [valid_data[k:k + batch_size] for k in range(0, valid_data.shape[0], batch_size)]\n",
    "\n",
    "        np.random.shuffle(test_data)\n",
    "        batches2 = [test_data[k:k + batch_size] for k in range(0, test_data.shape[0], batch_size)]\n",
    "\n",
    "        t = tqdm(batches)\n",
    "        t1 = tqdm(batches1)\n",
    "        t2 = tqdm(batches2)\n",
    "        for x,batch in enumerate(t):\n",
    "            params, cost = adamGD(batch, num_classes, lr, img_dim, img_depth, beta1, beta2, params, cost)\n",
    "            t.set_description(\"Cost: %.2f\" % (cost[-1]))\n",
    "\n",
    "        for x,batch in enumerate(t1):\n",
    "            params1, valid_cost = adamGD(batch, num_classes, lr, img_dim, img_depth, beta1, beta2, params, valid_cost)\n",
    "            t1.set_description(\"Valid_Cost: %.2f\" % (valid_cost[-1]))   \n",
    "        \n",
    "        for x,batch in enumerate(t2):\n",
    "            params2, test_cost = adamGD(batch, num_classes, lr, img_dim, img_depth, beta1, beta2, params, test_cost)\n",
    "            t2.set_description(\"Test_Cost: %.2f\" % (test_cost[-1]))\n",
    "        \n",
    "    print (\"parameters\", params)\n",
    "    #print (\"f2\", params[1])\n",
    "\n",
    "\n",
    "    \n",
    "       \n",
    "    return params, cost,valid_cost,test_cost"
   ]
  },
  {
   "cell_type": "code",
   "execution_count": 12,
   "metadata": {
    "colab": {
     "base_uri": "https://localhost:8080/"
    },
    "id": "YgBzVI4_4q9s",
    "outputId": "bf661c1f-c073-480b-cf9b-953578eb9ecb"
   },
   "outputs": [
    {
     "name": "stderr",
     "output_type": "stream",
     "text": [
      "  0%|                                                                                           | 0/10 [00:00<?, ?it/s]\n",
      "  0%|                                                                                           | 0/10 [00:00<?, ?it/s]\u001b[A\n",
      "\n",
      "  0%|                                                                                           | 0/10 [00:00<?, ?it/s]\u001b[A\u001b[A"
     ]
    },
    {
     "name": "stdout",
     "output_type": "stream",
     "text": [
      "LR:0.001, Batch Size:100\n"
     ]
    },
    {
     "name": "stderr",
     "output_type": "stream",
     "text": [
      "Cost: 1.81:  10%|███████                                                                | 1/10 [01:02<09:25, 62.79s/it]"
     ]
    },
    {
     "name": "stdout",
     "output_type": "stream",
     "text": [
      "Cost [1.805058834099499]\n"
     ]
    },
    {
     "name": "stderr",
     "output_type": "stream",
     "text": [
      "Cost: 0.42:  20%|██████████████▏                                                        | 2/10 [02:14<08:44, 65.57s/it]"
     ]
    },
    {
     "name": "stdout",
     "output_type": "stream",
     "text": [
      "Cost [1.805058834099499, 0.41932456458767126]\n"
     ]
    },
    {
     "name": "stderr",
     "output_type": "stream",
     "text": [
      "Cost: 0.01:  30%|█████████████████████▎                                                 | 3/10 [03:20<07:40, 65.73s/it]"
     ]
    },
    {
     "name": "stdout",
     "output_type": "stream",
     "text": [
      "Cost [1.805058834099499, 0.41932456458767126, 0.014087307350374025]\n"
     ]
    },
    {
     "name": "stderr",
     "output_type": "stream",
     "text": [
      "Cost: 0.00:  40%|████████████████████████████▍                                          | 4/10 [04:29<06:39, 66.59s/it]"
     ]
    },
    {
     "name": "stdout",
     "output_type": "stream",
     "text": [
      "Cost [1.805058834099499, 0.41932456458767126, 0.014087307350374025, 0.0001692433711427714]\n"
     ]
    },
    {
     "name": "stderr",
     "output_type": "stream",
     "text": [
      "Cost: 0.00:  50%|███████████████████████████████████▌                                   | 5/10 [05:32<05:27, 65.60s/it]"
     ]
    },
    {
     "name": "stdout",
     "output_type": "stream",
     "text": [
      "Cost [1.805058834099499, 0.41932456458767126, 0.014087307350374025, 0.0001692433711427714, 5.653639294561886e-05]\n"
     ]
    },
    {
     "name": "stderr",
     "output_type": "stream",
     "text": [
      "Cost: 0.00:  60%|██████████████████████████████████████████▌                            | 6/10 [06:38<04:22, 65.57s/it]"
     ]
    },
    {
     "name": "stdout",
     "output_type": "stream",
     "text": [
      "Cost [1.805058834099499, 0.41932456458767126, 0.014087307350374025, 0.0001692433711427714, 5.653639294561886e-05, 3.356158175112585e-05]\n"
     ]
    },
    {
     "name": "stderr",
     "output_type": "stream",
     "text": [
      "Cost: 0.00:  70%|█████████████████████████████████████████████████▋                     | 7/10 [07:44<03:17, 65.74s/it]"
     ]
    },
    {
     "name": "stdout",
     "output_type": "stream",
     "text": [
      "Cost [1.805058834099499, 0.41932456458767126, 0.014087307350374025, 0.0001692433711427714, 5.653639294561886e-05, 3.356158175112585e-05, 2.396809661747693e-05]\n"
     ]
    },
    {
     "name": "stderr",
     "output_type": "stream",
     "text": [
      "Cost: 0.00:  80%|████████████████████████████████████████████████████████▊              | 8/10 [08:51<02:12, 66.06s/it]"
     ]
    },
    {
     "name": "stdout",
     "output_type": "stream",
     "text": [
      "Cost [1.805058834099499, 0.41932456458767126, 0.014087307350374025, 0.0001692433711427714, 5.653639294561886e-05, 3.356158175112585e-05, 2.396809661747693e-05, 1.9735546402678084e-05]\n"
     ]
    },
    {
     "name": "stderr",
     "output_type": "stream",
     "text": [
      "Cost: 0.00:  90%|███████████████████████████████████████████████████████████████▉       | 9/10 [09:57<01:05, 65.99s/it]"
     ]
    },
    {
     "name": "stdout",
     "output_type": "stream",
     "text": [
      "Cost [1.805058834099499, 0.41932456458767126, 0.014087307350374025, 0.0001692433711427714, 5.653639294561886e-05, 3.356158175112585e-05, 2.396809661747693e-05, 1.9735546402678084e-05, 1.5763080920937223e-05]\n"
     ]
    },
    {
     "name": "stderr",
     "output_type": "stream",
     "text": [
      "Cost: 0.00: 100%|██████████████████████████████████████████████████████████████████████| 10/10 [11:04<00:00, 66.49s/it]"
     ]
    },
    {
     "name": "stdout",
     "output_type": "stream",
     "text": [
      "Cost [1.805058834099499, 0.41932456458767126, 0.014087307350374025, 0.0001692433711427714, 5.653639294561886e-05, 3.356158175112585e-05, 2.396809661747693e-05, 1.9735546402678084e-05, 1.5763080920937223e-05, 1.3486385941374477e-05]\n"
     ]
    },
    {
     "name": "stderr",
     "output_type": "stream",
     "text": [
      "\n",
      "\n",
      "Valid_Cost: 12.61:   0%|                                                                        | 0/10 [12:10<?, ?it/s]\u001b[A\n",
      "Valid_Cost: 12.61:  10%|██████                                                       | 1/10 [12:10<1:49:30, 730.03s/it]\u001b[A"
     ]
    },
    {
     "name": "stdout",
     "output_type": "stream",
     "text": [
      "Cost [12.613709885244726]\n"
     ]
    },
    {
     "name": "stderr",
     "output_type": "stream",
     "text": [
      "\n",
      "Valid_Cost: 6.13:  10%|██████▏                                                       | 1/10 [13:16<1:49:30, 730.03s/it]\u001b[A\n",
      "Valid_Cost: 6.13:  20%|████████████▍                                                 | 2/10 [13:16<1:10:46, 530.87s/it]\u001b[A"
     ]
    },
    {
     "name": "stdout",
     "output_type": "stream",
     "text": [
      "Cost [12.613709885244726, 6.129279193499976]\n"
     ]
    },
    {
     "name": "stderr",
     "output_type": "stream",
     "text": [
      "\n",
      "Valid_Cost: 1.90:  20%|████████████▍                                                 | 2/10 [14:22<1:10:46, 530.87s/it]\u001b[A\n",
      "Valid_Cost: 1.90:  30%|███████████████████▏                                            | 3/10 [14:22<45:40, 391.47s/it]\u001b[A"
     ]
    },
    {
     "name": "stdout",
     "output_type": "stream",
     "text": [
      "Cost [12.613709885244726, 6.129279193499976, 1.9015729174187954]\n"
     ]
    },
    {
     "name": "stderr",
     "output_type": "stream",
     "text": [
      "\n",
      "Valid_Cost: 0.48:  30%|███████████████████▏                                            | 3/10 [15:28<45:40, 391.47s/it]\u001b[A\n",
      "Valid_Cost: 0.48:  40%|█████████████████████████▌                                      | 4/10 [15:28<29:23, 293.90s/it]\u001b[A"
     ]
    },
    {
     "name": "stdout",
     "output_type": "stream",
     "text": [
      "Cost [12.613709885244726, 6.129279193499976, 1.9015729174187954, 0.4830742251328419]\n"
     ]
    },
    {
     "name": "stderr",
     "output_type": "stream",
     "text": [
      "\n",
      "Valid_Cost: 0.06:  40%|█████████████████████████▌                                      | 4/10 [16:34<29:23, 293.90s/it]\u001b[A\n",
      "Valid_Cost: 0.06:  50%|████████████████████████████████                                | 5/10 [16:34<18:47, 225.57s/it]\u001b[A"
     ]
    },
    {
     "name": "stdout",
     "output_type": "stream",
     "text": [
      "Cost [12.613709885244726, 6.129279193499976, 1.9015729174187954, 0.4830742251328419, 0.059338604989321045]\n"
     ]
    },
    {
     "name": "stderr",
     "output_type": "stream",
     "text": [
      "\n",
      "Valid_Cost: 0.00:  50%|████████████████████████████████                                | 5/10 [17:41<18:47, 225.57s/it]\u001b[A\n",
      "Valid_Cost: 0.00:  60%|██████████████████████████████████████▍                         | 6/10 [17:41<11:51, 177.79s/it]\u001b[A"
     ]
    },
    {
     "name": "stdout",
     "output_type": "stream",
     "text": [
      "Cost [12.613709885244726, 6.129279193499976, 1.9015729174187954, 0.4830742251328419, 0.059338604989321045, 0.0038545933766283057]\n"
     ]
    },
    {
     "name": "stderr",
     "output_type": "stream",
     "text": [
      "\n",
      "Valid_Cost: 0.00:  60%|██████████████████████████████████████▍                         | 6/10 [18:48<11:51, 177.79s/it]\u001b[A\n",
      "Valid_Cost: 0.00:  70%|████████████████████████████████████████████▊                   | 7/10 [18:48<07:13, 144.54s/it]\u001b[A"
     ]
    },
    {
     "name": "stdout",
     "output_type": "stream",
     "text": [
      "Cost [12.613709885244726, 6.129279193499976, 1.9015729174187954, 0.4830742251328419, 0.059338604989321045, 0.0038545933766283057, 0.0003906240788377571]\n"
     ]
    },
    {
     "name": "stderr",
     "output_type": "stream",
     "text": [
      "\n",
      "Valid_Cost: 0.00:  70%|████████████████████████████████████████████▊                   | 7/10 [19:53<07:13, 144.54s/it]\u001b[A\n",
      "Valid_Cost: 0.00:  80%|███████████████████████████████████████████████████▏            | 8/10 [19:53<04:01, 120.69s/it]\u001b[A"
     ]
    },
    {
     "name": "stdout",
     "output_type": "stream",
     "text": [
      "Cost [12.613709885244726, 6.129279193499976, 1.9015729174187954, 0.4830742251328419, 0.059338604989321045, 0.0038545933766283057, 0.0003906240788377571, 9.15193451790838e-05]\n"
     ]
    },
    {
     "name": "stderr",
     "output_type": "stream",
     "text": [
      "\n",
      "Valid_Cost: 0.00:  80%|███████████████████████████████████████████████████▏            | 8/10 [20:58<04:01, 120.69s/it]\u001b[A\n",
      "Valid_Cost: 0.00:  90%|█████████████████████████████████████████████████████████▌      | 9/10 [20:58<01:44, 104.00s/it]\u001b[A"
     ]
    },
    {
     "name": "stdout",
     "output_type": "stream",
     "text": [
      "Cost [12.613709885244726, 6.129279193499976, 1.9015729174187954, 0.4830742251328419, 0.059338604989321045, 0.0038545933766283057, 0.0003906240788377571, 9.15193451790838e-05, 3.919789094803865e-05]\n"
     ]
    },
    {
     "name": "stderr",
     "output_type": "stream",
     "text": [
      "\n",
      "Valid_Cost: 0.00:  90%|█████████████████████████████████████████████████████████▌      | 9/10 [22:04<01:44, 104.00s/it]\u001b[A\n",
      "Valid_Cost: 0.00: 100%|███████████████████████████████████████████████████████████████| 10/10 [22:04<00:00, 132.44s/it]\u001b[A"
     ]
    },
    {
     "name": "stdout",
     "output_type": "stream",
     "text": [
      "Cost [12.613709885244726, 6.129279193499976, 1.9015729174187954, 0.4830742251328419, 0.059338604989321045, 0.0038545933766283057, 0.0003906240788377571, 9.15193451790838e-05, 3.919789094803865e-05, 2.5649834936594426e-05]\n"
     ]
    },
    {
     "name": "stderr",
     "output_type": "stream",
     "text": [
      "\n",
      "\n",
      "\n",
      "Test_Cost: 17.48:   0%|                                                                         | 0/10 [23:11<?, ?it/s]\u001b[A\u001b[A\n",
      "\n",
      "Test_Cost: 17.48:  10%|██████                                                       | 1/10 [23:11<3:28:47, 1391.92s/it]\u001b[A\u001b[A"
     ]
    },
    {
     "name": "stdout",
     "output_type": "stream",
     "text": [
      "Cost [17.477931487658772]\n"
     ]
    },
    {
     "name": "stderr",
     "output_type": "stream",
     "text": [
      "\n",
      "\n",
      "Test_Cost: 11.48:  10%|██████                                                       | 1/10 [24:19<3:28:47, 1391.92s/it]\u001b[A\u001b[A\n",
      "\n",
      "Test_Cost: 11.48:  20%|████████████▍                                                 | 2/10 [24:19<2:12:36, 994.53s/it]\u001b[A\u001b[A"
     ]
    },
    {
     "name": "stdout",
     "output_type": "stream",
     "text": [
      "Cost [17.477931487658772, 11.481349621096912]\n"
     ]
    },
    {
     "name": "stderr",
     "output_type": "stream",
     "text": [
      "\n",
      "\n",
      "Test_Cost: 7.24:  20%|████████████▌                                                  | 2/10 [25:20<2:12:36, 994.53s/it]\u001b[A\u001b[A\n",
      "\n",
      "Test_Cost: 7.24:  30%|██████████████████▉                                            | 3/10 [25:20<1:23:22, 714.63s/it]\u001b[A\u001b[A"
     ]
    },
    {
     "name": "stdout",
     "output_type": "stream",
     "text": [
      "Cost [17.477931487658772, 11.481349621096912, 7.2365141576138186]\n"
     ]
    },
    {
     "name": "stderr",
     "output_type": "stream",
     "text": [
      "\n",
      "\n",
      "Test_Cost: 4.33:  30%|██████████████████▉                                            | 3/10 [26:22<1:23:22, 714.63s/it]\u001b[A\u001b[A\n",
      "\n",
      "Test_Cost: 4.33:  40%|██████████████████████████                                       | 4/10 [26:22<51:52, 518.80s/it]\u001b[A\u001b[A"
     ]
    },
    {
     "name": "stdout",
     "output_type": "stream",
     "text": [
      "Cost [17.477931487658772, 11.481349621096912, 7.2365141576138186, 4.329902826767674]\n"
     ]
    },
    {
     "name": "stderr",
     "output_type": "stream",
     "text": [
      "\n",
      "\n",
      "Test_Cost: 2.48:  40%|██████████████████████████                                       | 4/10 [27:25<51:52, 518.80s/it]\u001b[A\u001b[A\n",
      "\n",
      "Test_Cost: 2.48:  50%|████████████████████████████████▌                                | 5/10 [27:25<31:49, 381.94s/it]\u001b[A\u001b[A"
     ]
    },
    {
     "name": "stdout",
     "output_type": "stream",
     "text": [
      "Cost [17.477931487658772, 11.481349621096912, 7.2365141576138186, 4.329902826767674, 2.4760411291537143]\n"
     ]
    },
    {
     "name": "stderr",
     "output_type": "stream",
     "text": [
      "\n",
      "\n",
      "Test_Cost: 1.51:  50%|████████████████████████████████▌                                | 5/10 [28:27<31:49, 381.94s/it]\u001b[A\u001b[A\n",
      "\n",
      "Test_Cost: 1.51:  60%|███████████████████████████████████████                          | 6/10 [28:27<19:03, 285.96s/it]\u001b[A\u001b[A"
     ]
    },
    {
     "name": "stdout",
     "output_type": "stream",
     "text": [
      "Cost [17.477931487658772, 11.481349621096912, 7.2365141576138186, 4.329902826767674, 2.4760411291537143, 1.5138635182223377]\n"
     ]
    },
    {
     "name": "stderr",
     "output_type": "stream",
     "text": [
      "\n",
      "\n",
      "Test_Cost: 0.71:  60%|███████████████████████████████████████                          | 6/10 [29:28<19:03, 285.96s/it]\u001b[A\u001b[A\n",
      "\n",
      "Test_Cost: 0.71:  70%|█████████████████████████████████████████████▌                   | 7/10 [29:28<10:55, 218.62s/it]\u001b[A\u001b[A"
     ]
    },
    {
     "name": "stdout",
     "output_type": "stream",
     "text": [
      "Cost [17.477931487658772, 11.481349621096912, 7.2365141576138186, 4.329902826767674, 2.4760411291537143, 1.5138635182223377, 0.7073556751685137]\n"
     ]
    },
    {
     "name": "stderr",
     "output_type": "stream",
     "text": [
      "\n",
      "\n",
      "Test_Cost: 0.12:  70%|█████████████████████████████████████████████▌                   | 7/10 [30:30<10:55, 218.62s/it]\u001b[A\u001b[A\n",
      "\n",
      "Test_Cost: 0.12:  80%|████████████████████████████████████████████████████             | 8/10 [30:30<05:43, 171.58s/it]\u001b[A\u001b[A"
     ]
    },
    {
     "name": "stdout",
     "output_type": "stream",
     "text": [
      "Cost [17.477931487658772, 11.481349621096912, 7.2365141576138186, 4.329902826767674, 2.4760411291537143, 1.5138635182223377, 0.7073556751685137, 0.12401734248441017]\n"
     ]
    },
    {
     "name": "stderr",
     "output_type": "stream",
     "text": [
      "\n",
      "\n",
      "Test_Cost: 0.01:  80%|████████████████████████████████████████████████████             | 8/10 [31:32<05:43, 171.58s/it]\u001b[A\u001b[A\n",
      "\n",
      "Test_Cost: 0.01:  90%|██████████████████████████████████████████████████████████▌      | 9/10 [31:32<02:18, 138.68s/it]\u001b[A\u001b[A"
     ]
    },
    {
     "name": "stdout",
     "output_type": "stream",
     "text": [
      "Cost [17.477931487658772, 11.481349621096912, 7.2365141576138186, 4.329902826767674, 2.4760411291537143, 1.5138635182223377, 0.7073556751685137, 0.12401734248441017, 0.007844180439016798]\n"
     ]
    },
    {
     "name": "stderr",
     "output_type": "stream",
     "text": [
      "\n",
      "\n",
      "Test_Cost: 0.00:  90%|██████████████████████████████████████████████████████████▌      | 9/10 [32:34<02:18, 138.68s/it]\u001b[A\u001b[A\n",
      "\n",
      "Test_Cost: 0.00: 100%|████████████████████████████████████████████████████████████████| 10/10 [32:34<00:00, 195.44s/it]\u001b[A\u001b[A\n",
      "  0%|                                                                                           | 0/10 [00:00<?, ?it/s]\n",
      "  0%|                                                                                           | 0/10 [00:00<?, ?it/s]\u001b[A\n",
      "\n",
      "  0%|                                                                                           | 0/10 [00:00<?, ?it/s]\u001b[A\u001b[A"
     ]
    },
    {
     "name": "stdout",
     "output_type": "stream",
     "text": [
      "Cost [17.477931487658772, 11.481349621096912, 7.2365141576138186, 4.329902826767674, 2.4760411291537143, 1.5138635182223377, 0.7073556751685137, 0.12401734248441017, 0.007844180439016798, 0.0004556797310312098]\n"
     ]
    },
    {
     "name": "stderr",
     "output_type": "stream",
     "text": [
      "Cost: 10.79:  10%|███████                                                               | 1/10 [01:01<09:15, 61.69s/it]"
     ]
    },
    {
     "name": "stdout",
     "output_type": "stream",
     "text": [
      "Cost [1.805058834099499, 0.41932456458767126, 0.014087307350374025, 0.0001692433711427714, 5.653639294561886e-05, 3.356158175112585e-05, 2.396809661747693e-05, 1.9735546402678084e-05, 1.5763080920937223e-05, 1.3486385941374477e-05, 10.794958456889965]\n"
     ]
    },
    {
     "name": "stderr",
     "output_type": "stream",
     "text": [
      "Cost: 6.92:  20%|██████████████▏                                                        | 2/10 [02:04<08:15, 61.92s/it]"
     ]
    },
    {
     "name": "stdout",
     "output_type": "stream",
     "text": [
      "Cost [1.805058834099499, 0.41932456458767126, 0.014087307350374025, 0.0001692433711427714, 5.653639294561886e-05, 3.356158175112585e-05, 2.396809661747693e-05, 1.9735546402678084e-05, 1.5763080920937223e-05, 1.3486385941374477e-05, 10.794958456889965, 6.921550221291253]\n"
     ]
    },
    {
     "name": "stderr",
     "output_type": "stream",
     "text": [
      "Cost: 3.92:  30%|█████████████████████▎                                                 | 3/10 [03:08<07:18, 62.69s/it]"
     ]
    },
    {
     "name": "stdout",
     "output_type": "stream",
     "text": [
      "Cost [1.805058834099499, 0.41932456458767126, 0.014087307350374025, 0.0001692433711427714, 5.653639294561886e-05, 3.356158175112585e-05, 2.396809661747693e-05, 1.9735546402678084e-05, 1.5763080920937223e-05, 1.3486385941374477e-05, 10.794958456889965, 6.921550221291253, 3.9205335028904216]\n"
     ]
    },
    {
     "name": "stderr",
     "output_type": "stream",
     "text": [
      "Cost: 2.03:  40%|████████████████████████████▍                                          | 4/10 [04:15<06:24, 64.07s/it]"
     ]
    },
    {
     "name": "stdout",
     "output_type": "stream",
     "text": [
      "Cost [1.805058834099499, 0.41932456458767126, 0.014087307350374025, 0.0001692433711427714, 5.653639294561886e-05, 3.356158175112585e-05, 2.396809661747693e-05, 1.9735546402678084e-05, 1.5763080920937223e-05, 1.3486385941374477e-05, 10.794958456889965, 6.921550221291253, 3.9205335028904216, 2.0339443569756948]\n"
     ]
    },
    {
     "name": "stderr",
     "output_type": "stream",
     "text": [
      "Cost: 1.14:  50%|███████████████████████████████████▌                                   | 5/10 [05:21<05:23, 64.60s/it]"
     ]
    },
    {
     "name": "stdout",
     "output_type": "stream",
     "text": [
      "Cost [1.805058834099499, 0.41932456458767126, 0.014087307350374025, 0.0001692433711427714, 5.653639294561886e-05, 3.356158175112585e-05, 2.396809661747693e-05, 1.9735546402678084e-05, 1.5763080920937223e-05, 1.3486385941374477e-05, 10.794958456889965, 6.921550221291253, 3.9205335028904216, 2.0339443569756948, 1.1359513374314638]\n"
     ]
    },
    {
     "name": "stderr",
     "output_type": "stream",
     "text": [
      "Cost: 0.57:  60%|██████████████████████████████████████████▌                            | 6/10 [06:28<04:21, 65.35s/it]"
     ]
    },
    {
     "name": "stdout",
     "output_type": "stream",
     "text": [
      "Cost [1.805058834099499, 0.41932456458767126, 0.014087307350374025, 0.0001692433711427714, 5.653639294561886e-05, 3.356158175112585e-05, 2.396809661747693e-05, 1.9735546402678084e-05, 1.5763080920937223e-05, 1.3486385941374477e-05, 10.794958456889965, 6.921550221291253, 3.9205335028904216, 2.0339443569756948, 1.1359513374314638, 0.5665828764235191]\n"
     ]
    },
    {
     "name": "stderr",
     "output_type": "stream",
     "text": [
      "Cost: 0.19:  70%|█████████████████████████████████████████████████▋                     | 7/10 [07:30<03:12, 64.22s/it]"
     ]
    },
    {
     "name": "stdout",
     "output_type": "stream",
     "text": [
      "Cost [1.805058834099499, 0.41932456458767126, 0.014087307350374025, 0.0001692433711427714, 5.653639294561886e-05, 3.356158175112585e-05, 2.396809661747693e-05, 1.9735546402678084e-05, 1.5763080920937223e-05, 1.3486385941374477e-05, 10.794958456889965, 6.921550221291253, 3.9205335028904216, 2.0339443569756948, 1.1359513374314638, 0.5665828764235191, 0.18895635398112973]\n"
     ]
    },
    {
     "name": "stderr",
     "output_type": "stream",
     "text": [
      "Cost: 0.04:  80%|████████████████████████████████████████████████████████▊              | 8/10 [08:31<02:06, 63.41s/it]"
     ]
    },
    {
     "name": "stdout",
     "output_type": "stream",
     "text": [
      "Cost [1.805058834099499, 0.41932456458767126, 0.014087307350374025, 0.0001692433711427714, 5.653639294561886e-05, 3.356158175112585e-05, 2.396809661747693e-05, 1.9735546402678084e-05, 1.5763080920937223e-05, 1.3486385941374477e-05, 10.794958456889965, 6.921550221291253, 3.9205335028904216, 2.0339443569756948, 1.1359513374314638, 0.5665828764235191, 0.18895635398112973, 0.03744538130653987]\n"
     ]
    },
    {
     "name": "stderr",
     "output_type": "stream",
     "text": [
      "Cost: 0.00:  90%|███████████████████████████████████████████████████████████████▉       | 9/10 [09:33<01:02, 62.94s/it]"
     ]
    },
    {
     "name": "stdout",
     "output_type": "stream",
     "text": [
      "Cost [1.805058834099499, 0.41932456458767126, 0.014087307350374025, 0.0001692433711427714, 5.653639294561886e-05, 3.356158175112585e-05, 2.396809661747693e-05, 1.9735546402678084e-05, 1.5763080920937223e-05, 1.3486385941374477e-05, 10.794958456889965, 6.921550221291253, 3.9205335028904216, 2.0339443569756948, 1.1359513374314638, 0.5665828764235191, 0.18895635398112973, 0.03744538130653987, 0.0041888964860639834]\n"
     ]
    },
    {
     "name": "stderr",
     "output_type": "stream",
     "text": [
      "Cost: 0.00: 100%|██████████████████████████████████████████████████████████████████████| 10/10 [10:36<00:00, 63.68s/it]"
     ]
    },
    {
     "name": "stdout",
     "output_type": "stream",
     "text": [
      "Cost [1.805058834099499, 0.41932456458767126, 0.014087307350374025, 0.0001692433711427714, 5.653639294561886e-05, 3.356158175112585e-05, 2.396809661747693e-05, 1.9735546402678084e-05, 1.5763080920937223e-05, 1.3486385941374477e-05, 10.794958456889965, 6.921550221291253, 3.9205335028904216, 2.0339443569756948, 1.1359513374314638, 0.5665828764235191, 0.18895635398112973, 0.03744538130653987, 0.0041888964860639834, 0.0004988327741898294]\n"
     ]
    },
    {
     "name": "stderr",
     "output_type": "stream",
     "text": [
      "\n",
      "\n",
      "Valid_Cost: 12.18:   0%|                                                                        | 0/10 [11:41<?, ?it/s]\u001b[A\n",
      "Valid_Cost: 12.18:  10%|██████                                                       | 1/10 [11:41<1:45:11, 701.24s/it]\u001b[A"
     ]
    },
    {
     "name": "stdout",
     "output_type": "stream",
     "text": [
      "Cost [12.613709885244726, 6.129279193499976, 1.9015729174187954, 0.4830742251328419, 0.059338604989321045, 0.0038545933766283057, 0.0003906240788377571, 9.15193451790838e-05, 3.919789094803865e-05, 2.5649834936594426e-05, 12.178118574525625]\n"
     ]
    },
    {
     "name": "stderr",
     "output_type": "stream",
     "text": [
      "\n",
      "Valid_Cost: 8.84:  10%|██████▏                                                       | 1/10 [12:45<1:45:11, 701.24s/it]\u001b[A\n",
      "Valid_Cost: 8.84:  20%|████████████▍                                                 | 2/10 [12:45<1:08:00, 510.07s/it]\u001b[A"
     ]
    },
    {
     "name": "stdout",
     "output_type": "stream",
     "text": [
      "Cost [12.613709885244726, 6.129279193499976, 1.9015729174187954, 0.4830742251328419, 0.059338604989321045, 0.0038545933766283057, 0.0003906240788377571, 9.15193451790838e-05, 3.919789094803865e-05, 2.5649834936594426e-05, 12.178118574525625, 8.83741414768729]\n"
     ]
    },
    {
     "name": "stderr",
     "output_type": "stream",
     "text": [
      "\n",
      "Valid_Cost: 6.05:  20%|████████████▍                                                 | 2/10 [13:49<1:08:00, 510.07s/it]\u001b[A\n",
      "Valid_Cost: 6.05:  30%|███████████████████▏                                            | 3/10 [13:49<43:54, 376.40s/it]\u001b[A"
     ]
    },
    {
     "name": "stdout",
     "output_type": "stream",
     "text": [
      "Cost [12.613709885244726, 6.129279193499976, 1.9015729174187954, 0.4830742251328419, 0.059338604989321045, 0.0038545933766283057, 0.0003906240788377571, 9.15193451790838e-05, 3.919789094803865e-05, 2.5649834936594426e-05, 12.178118574525625, 8.83741414768729, 6.049341830583761]\n"
     ]
    },
    {
     "name": "stderr",
     "output_type": "stream",
     "text": [
      "\n",
      "Valid_Cost: 3.72:  30%|███████████████████▏                                            | 3/10 [14:54<43:54, 376.40s/it]\u001b[A\n",
      "Valid_Cost: 3.72:  40%|█████████████████████████▌                                      | 4/10 [14:54<28:17, 282.93s/it]\u001b[A"
     ]
    },
    {
     "name": "stdout",
     "output_type": "stream",
     "text": [
      "Cost [12.613709885244726, 6.129279193499976, 1.9015729174187954, 0.4830742251328419, 0.059338604989321045, 0.0038545933766283057, 0.0003906240788377571, 9.15193451790838e-05, 3.919789094803865e-05, 2.5649834936594426e-05, 12.178118574525625, 8.83741414768729, 6.049341830583761, 3.717224841972516]\n"
     ]
    },
    {
     "name": "stderr",
     "output_type": "stream",
     "text": [
      "\n",
      "Valid_Cost: 1.94:  40%|█████████████████████████▌                                      | 4/10 [15:58<28:17, 282.93s/it]\u001b[A\n",
      "Valid_Cost: 1.94:  50%|████████████████████████████████                                | 5/10 [15:58<18:06, 217.34s/it]\u001b[A"
     ]
    },
    {
     "name": "stdout",
     "output_type": "stream",
     "text": [
      "Cost [12.613709885244726, 6.129279193499976, 1.9015729174187954, 0.4830742251328419, 0.059338604989321045, 0.0038545933766283057, 0.0003906240788377571, 9.15193451790838e-05, 3.919789094803865e-05, 2.5649834936594426e-05, 12.178118574525625, 8.83741414768729, 6.049341830583761, 3.717224841972516, 1.9367038000870511]\n"
     ]
    },
    {
     "name": "stderr",
     "output_type": "stream",
     "text": [
      "\n",
      "Valid_Cost: 0.84:  50%|████████████████████████████████                                | 5/10 [17:03<18:06, 217.34s/it]\u001b[A\n",
      "Valid_Cost: 0.84:  60%|██████████████████████████████████████▍                         | 6/10 [17:03<11:25, 171.38s/it]\u001b[A"
     ]
    },
    {
     "name": "stdout",
     "output_type": "stream",
     "text": [
      "Cost [12.613709885244726, 6.129279193499976, 1.9015729174187954, 0.4830742251328419, 0.059338604989321045, 0.0038545933766283057, 0.0003906240788377571, 9.15193451790838e-05, 3.919789094803865e-05, 2.5649834936594426e-05, 12.178118574525625, 8.83741414768729, 6.049341830583761, 3.717224841972516, 1.9367038000870511, 0.8429194833112358]\n"
     ]
    },
    {
     "name": "stderr",
     "output_type": "stream",
     "text": [
      "\n",
      "Valid_Cost: 0.31:  60%|██████████████████████████████████████▍                         | 6/10 [18:07<11:25, 171.38s/it]\u001b[A\n",
      "Valid_Cost: 0.31:  70%|████████████████████████████████████████████▊                   | 7/10 [18:07<06:57, 139.28s/it]\u001b[A"
     ]
    },
    {
     "name": "stdout",
     "output_type": "stream",
     "text": [
      "Cost [12.613709885244726, 6.129279193499976, 1.9015729174187954, 0.4830742251328419, 0.059338604989321045, 0.0038545933766283057, 0.0003906240788377571, 9.15193451790838e-05, 3.919789094803865e-05, 2.5649834936594426e-05, 12.178118574525625, 8.83741414768729, 6.049341830583761, 3.717224841972516, 1.9367038000870511, 0.8429194833112358, 0.30925509649505994]\n"
     ]
    },
    {
     "name": "stderr",
     "output_type": "stream",
     "text": [
      "\n",
      "Valid_Cost: 0.05:  70%|████████████████████████████████████████████▊                   | 7/10 [19:11<06:57, 139.28s/it]\u001b[A\n",
      "Valid_Cost: 0.05:  80%|███████████████████████████████████████████████████▏            | 8/10 [19:11<03:53, 116.85s/it]\u001b[A"
     ]
    },
    {
     "name": "stdout",
     "output_type": "stream",
     "text": [
      "Cost [12.613709885244726, 6.129279193499976, 1.9015729174187954, 0.4830742251328419, 0.059338604989321045, 0.0038545933766283057, 0.0003906240788377571, 9.15193451790838e-05, 3.919789094803865e-05, 2.5649834936594426e-05, 12.178118574525625, 8.83741414768729, 6.049341830583761, 3.717224841972516, 1.9367038000870511, 0.8429194833112358, 0.30925509649505994, 0.04688601036105282]\n"
     ]
    },
    {
     "name": "stderr",
     "output_type": "stream",
     "text": [
      "\n",
      "Valid_Cost: 0.00:  80%|███████████████████████████████████████████████████▏            | 8/10 [20:16<03:53, 116.85s/it]\u001b[A\n",
      "Valid_Cost: 0.00:  90%|█████████████████████████████████████████████████████████▌      | 9/10 [20:16<01:41, 101.03s/it]\u001b[A"
     ]
    },
    {
     "name": "stdout",
     "output_type": "stream",
     "text": [
      "Cost [12.613709885244726, 6.129279193499976, 1.9015729174187954, 0.4830742251328419, 0.059338604989321045, 0.0038545933766283057, 0.0003906240788377571, 9.15193451790838e-05, 3.919789094803865e-05, 2.5649834936594426e-05, 12.178118574525625, 8.83741414768729, 6.049341830583761, 3.717224841972516, 1.9367038000870511, 0.8429194833112358, 0.30925509649505994, 0.04688601036105282, 0.0031951087833463608]\n"
     ]
    },
    {
     "name": "stderr",
     "output_type": "stream",
     "text": [
      "\n",
      "Valid_Cost: 0.00:  90%|█████████████████████████████████████████████████████████▌      | 9/10 [21:20<01:41, 101.03s/it]\u001b[A\n",
      "Valid_Cost: 0.00: 100%|███████████████████████████████████████████████████████████████| 10/10 [21:20<00:00, 128.02s/it]\u001b[A"
     ]
    },
    {
     "name": "stdout",
     "output_type": "stream",
     "text": [
      "Cost [12.613709885244726, 6.129279193499976, 1.9015729174187954, 0.4830742251328419, 0.059338604989321045, 0.0038545933766283057, 0.0003906240788377571, 9.15193451790838e-05, 3.919789094803865e-05, 2.5649834936594426e-05, 12.178118574525625, 8.83741414768729, 6.049341830583761, 3.717224841972516, 1.9367038000870511, 0.8429194833112358, 0.30925509649505994, 0.04688601036105282, 0.0031951087833463608, 0.0002975351746294532]\n"
     ]
    },
    {
     "name": "stderr",
     "output_type": "stream",
     "text": [
      "\n",
      "\n",
      "\n",
      "Test_Cost: 11.29:   0%|                                                                         | 0/10 [22:24<?, ?it/s]\u001b[A\u001b[A\n",
      "\n",
      "Test_Cost: 11.29:  10%|██████                                                       | 1/10 [22:24<3:21:43, 1344.87s/it]\u001b[A\u001b[A"
     ]
    },
    {
     "name": "stdout",
     "output_type": "stream",
     "text": [
      "Cost [17.477931487658772, 11.481349621096912, 7.2365141576138186, 4.329902826767674, 2.4760411291537143, 1.5138635182223377, 0.7073556751685137, 0.12401734248441017, 0.007844180439016798, 0.0004556797310312098, 11.286471904239823]\n"
     ]
    },
    {
     "name": "stderr",
     "output_type": "stream",
     "text": [
      "\n",
      "\n",
      "Test_Cost: 7.16:  10%|██████▏                                                       | 1/10 [23:29<3:21:43, 1344.87s/it]\u001b[A\u001b[A\n",
      "\n",
      "Test_Cost: 7.16:  20%|████████████▌                                                  | 2/10 [23:29<2:08:05, 960.69s/it]\u001b[A\u001b[A"
     ]
    },
    {
     "name": "stdout",
     "output_type": "stream",
     "text": [
      "Cost [17.477931487658772, 11.481349621096912, 7.2365141576138186, 4.329902826767674, 2.4760411291537143, 1.5138635182223377, 0.7073556751685137, 0.12401734248441017, 0.007844180439016798, 0.0004556797310312098, 11.286471904239823, 7.1580123306771535]\n"
     ]
    },
    {
     "name": "stderr",
     "output_type": "stream",
     "text": [
      "\n",
      "\n",
      "Test_Cost: 3.96:  20%|████████████▌                                                  | 2/10 [24:33<2:08:05, 960.69s/it]\u001b[A\u001b[A\n",
      "\n",
      "Test_Cost: 3.96:  30%|██████████████████▉                                            | 3/10 [24:33<1:20:41, 691.70s/it]\u001b[A\u001b[A"
     ]
    },
    {
     "name": "stdout",
     "output_type": "stream",
     "text": [
      "Cost [17.477931487658772, 11.481349621096912, 7.2365141576138186, 4.329902826767674, 2.4760411291537143, 1.5138635182223377, 0.7073556751685137, 0.12401734248441017, 0.007844180439016798, 0.0004556797310312098, 11.286471904239823, 7.1580123306771535, 3.9571610125268046]\n"
     ]
    },
    {
     "name": "stderr",
     "output_type": "stream",
     "text": [
      "\n",
      "\n",
      "Test_Cost: 1.84:  30%|██████████████████▉                                            | 3/10 [25:38<1:20:41, 691.70s/it]\u001b[A\u001b[A\n",
      "\n",
      "Test_Cost: 1.84:  40%|██████████████████████████                                       | 4/10 [25:38<50:22, 503.70s/it]\u001b[A\u001b[A"
     ]
    },
    {
     "name": "stdout",
     "output_type": "stream",
     "text": [
      "Cost [17.477931487658772, 11.481349621096912, 7.2365141576138186, 4.329902826767674, 2.4760411291537143, 1.5138635182223377, 0.7073556751685137, 0.12401734248441017, 0.007844180439016798, 0.0004556797310312098, 11.286471904239823, 7.1580123306771535, 3.9571610125268046, 1.8399116118774996]\n"
     ]
    },
    {
     "name": "stderr",
     "output_type": "stream",
     "text": [
      "\n",
      "\n",
      "Test_Cost: 0.78:  40%|██████████████████████████                                       | 4/10 [26:41<50:22, 503.70s/it]\u001b[A\u001b[A\n",
      "\n",
      "Test_Cost: 0.78:  50%|████████████████████████████████▌                                | 5/10 [26:41<30:58, 371.70s/it]\u001b[A\u001b[A"
     ]
    },
    {
     "name": "stdout",
     "output_type": "stream",
     "text": [
      "Cost [17.477931487658772, 11.481349621096912, 7.2365141576138186, 4.329902826767674, 2.4760411291537143, 1.5138635182223377, 0.7073556751685137, 0.12401734248441017, 0.007844180439016798, 0.0004556797310312098, 11.286471904239823, 7.1580123306771535, 3.9571610125268046, 1.8399116118774996, 0.7802855169740726]\n"
     ]
    },
    {
     "name": "stderr",
     "output_type": "stream",
     "text": [
      "\n",
      "\n",
      "Test_Cost: 0.25:  50%|████████████████████████████████▌                                | 5/10 [27:46<30:58, 371.70s/it]\u001b[A\u001b[A\n",
      "\n",
      "Test_Cost: 0.25:  60%|███████████████████████████████████████                          | 6/10 [27:46<18:38, 279.50s/it]\u001b[A\u001b[A"
     ]
    },
    {
     "name": "stdout",
     "output_type": "stream",
     "text": [
      "Cost [17.477931487658772, 11.481349621096912, 7.2365141576138186, 4.329902826767674, 2.4760411291537143, 1.5138635182223377, 0.7073556751685137, 0.12401734248441017, 0.007844180439016798, 0.0004556797310312098, 11.286471904239823, 7.1580123306771535, 3.9571610125268046, 1.8399116118774996, 0.7802855169740726, 0.2489798442024637]\n"
     ]
    },
    {
     "name": "stderr",
     "output_type": "stream",
     "text": [
      "\n",
      "\n",
      "Test_Cost: 0.04:  60%|███████████████████████████████████████                          | 6/10 [28:50<18:38, 279.50s/it]\u001b[A\u001b[A\n",
      "\n",
      "Test_Cost: 0.04:  70%|█████████████████████████████████████████████▌                   | 7/10 [28:50<10:44, 214.92s/it]\u001b[A\u001b[A"
     ]
    },
    {
     "name": "stdout",
     "output_type": "stream",
     "text": [
      "Cost [17.477931487658772, 11.481349621096912, 7.2365141576138186, 4.329902826767674, 2.4760411291537143, 1.5138635182223377, 0.7073556751685137, 0.12401734248441017, 0.007844180439016798, 0.0004556797310312098, 11.286471904239823, 7.1580123306771535, 3.9571610125268046, 1.8399116118774996, 0.7802855169740726, 0.2489798442024637, 0.040478171647824725]\n"
     ]
    },
    {
     "name": "stderr",
     "output_type": "stream",
     "text": [
      "\n",
      "\n",
      "Test_Cost: 0.00:  70%|█████████████████████████████████████████████▌                   | 7/10 [29:55<10:44, 214.92s/it]\u001b[A\u001b[A\n",
      "\n",
      "Test_Cost: 0.00:  80%|████████████████████████████████████████████████████             | 8/10 [29:55<05:39, 169.82s/it]\u001b[A\u001b[A"
     ]
    },
    {
     "name": "stdout",
     "output_type": "stream",
     "text": [
      "Cost [17.477931487658772, 11.481349621096912, 7.2365141576138186, 4.329902826767674, 2.4760411291537143, 1.5138635182223377, 0.7073556751685137, 0.12401734248441017, 0.007844180439016798, 0.0004556797310312098, 11.286471904239823, 7.1580123306771535, 3.9571610125268046, 1.8399116118774996, 0.7802855169740726, 0.2489798442024637, 0.040478171647824725, 0.0034103101165470257]\n"
     ]
    },
    {
     "name": "stderr",
     "output_type": "stream",
     "text": [
      "\n",
      "\n",
      "Test_Cost: 0.00:  80%|████████████████████████████████████████████████████             | 8/10 [30:59<05:39, 169.82s/it]\u001b[A\u001b[A\n",
      "\n",
      "Test_Cost: 0.00:  90%|██████████████████████████████████████████████████████████▌      | 9/10 [30:59<02:18, 138.15s/it]\u001b[A\u001b[A"
     ]
    },
    {
     "name": "stdout",
     "output_type": "stream",
     "text": [
      "Cost [17.477931487658772, 11.481349621096912, 7.2365141576138186, 4.329902826767674, 2.4760411291537143, 1.5138635182223377, 0.7073556751685137, 0.12401734248441017, 0.007844180439016798, 0.0004556797310312098, 11.286471904239823, 7.1580123306771535, 3.9571610125268046, 1.8399116118774996, 0.7802855169740726, 0.2489798442024637, 0.040478171647824725, 0.0034103101165470257, 0.0003388346063951934]\n"
     ]
    },
    {
     "name": "stderr",
     "output_type": "stream",
     "text": [
      "\n",
      "\n",
      "Test_Cost: 0.00:  90%|██████████████████████████████████████████████████████████▌      | 9/10 [32:03<02:18, 138.15s/it]\u001b[A\u001b[A\n",
      "\n",
      "Test_Cost: 0.00: 100%|████████████████████████████████████████████████████████████████| 10/10 [32:03<00:00, 192.38s/it]\u001b[A\u001b[A\n",
      "  0%|                                                                                           | 0/10 [00:00<?, ?it/s]\n",
      "  0%|                                                                                           | 0/10 [00:00<?, ?it/s]\u001b[A\n",
      "\n",
      "  0%|                                                                                           | 0/10 [00:00<?, ?it/s]\u001b[A\u001b[A"
     ]
    },
    {
     "name": "stdout",
     "output_type": "stream",
     "text": [
      "Cost [17.477931487658772, 11.481349621096912, 7.2365141576138186, 4.329902826767674, 2.4760411291537143, 1.5138635182223377, 0.7073556751685137, 0.12401734248441017, 0.007844180439016798, 0.0004556797310312098, 11.286471904239823, 7.1580123306771535, 3.9571610125268046, 1.8399116118774996, 0.7802855169740726, 0.2489798442024637, 0.040478171647824725, 0.0034103101165470257, 0.0003388346063951934, 8.207387633336027e-05]\n"
     ]
    },
    {
     "name": "stderr",
     "output_type": "stream",
     "text": [
      "Cost: 13.94:  10%|███████                                                               | 1/10 [01:04<09:37, 64.19s/it]"
     ]
    },
    {
     "name": "stdout",
     "output_type": "stream",
     "text": [
      "Cost [1.805058834099499, 0.41932456458767126, 0.014087307350374025, 0.0001692433711427714, 5.653639294561886e-05, 3.356158175112585e-05, 2.396809661747693e-05, 1.9735546402678084e-05, 1.5763080920937223e-05, 1.3486385941374477e-05, 10.794958456889965, 6.921550221291253, 3.9205335028904216, 2.0339443569756948, 1.1359513374314638, 0.5665828764235191, 0.18895635398112973, 0.03744538130653987, 0.0041888964860639834, 0.0004988327741898294, 13.936540459613047]\n"
     ]
    },
    {
     "name": "stderr",
     "output_type": "stream",
     "text": [
      "Cost: 9.96:  20%|██████████████▏                                                        | 2/10 [02:08<08:32, 64.09s/it]"
     ]
    },
    {
     "name": "stdout",
     "output_type": "stream",
     "text": [
      "Cost [1.805058834099499, 0.41932456458767126, 0.014087307350374025, 0.0001692433711427714, 5.653639294561886e-05, 3.356158175112585e-05, 2.396809661747693e-05, 1.9735546402678084e-05, 1.5763080920937223e-05, 1.3486385941374477e-05, 10.794958456889965, 6.921550221291253, 3.9205335028904216, 2.0339443569756948, 1.1359513374314638, 0.5665828764235191, 0.18895635398112973, 0.03744538130653987, 0.0041888964860639834, 0.0004988327741898294, 13.936540459613047, 9.96470549480028]\n"
     ]
    },
    {
     "name": "stderr",
     "output_type": "stream",
     "text": [
      "Cost: 6.76:  30%|█████████████████████▎                                                 | 3/10 [03:12<07:29, 64.17s/it]"
     ]
    },
    {
     "name": "stdout",
     "output_type": "stream",
     "text": [
      "Cost [1.805058834099499, 0.41932456458767126, 0.014087307350374025, 0.0001692433711427714, 5.653639294561886e-05, 3.356158175112585e-05, 2.396809661747693e-05, 1.9735546402678084e-05, 1.5763080920937223e-05, 1.3486385941374477e-05, 10.794958456889965, 6.921550221291253, 3.9205335028904216, 2.0339443569756948, 1.1359513374314638, 0.5665828764235191, 0.18895635398112973, 0.03744538130653987, 0.0041888964860639834, 0.0004988327741898294, 13.936540459613047, 9.96470549480028, 6.759911915500286]\n"
     ]
    },
    {
     "name": "stderr",
     "output_type": "stream",
     "text": [
      "Cost: 4.15:  40%|████████████████████████████▍                                          | 4/10 [04:16<06:25, 64.17s/it]"
     ]
    },
    {
     "name": "stdout",
     "output_type": "stream",
     "text": [
      "Cost [1.805058834099499, 0.41932456458767126, 0.014087307350374025, 0.0001692433711427714, 5.653639294561886e-05, 3.356158175112585e-05, 2.396809661747693e-05, 1.9735546402678084e-05, 1.5763080920937223e-05, 1.3486385941374477e-05, 10.794958456889965, 6.921550221291253, 3.9205335028904216, 2.0339443569756948, 1.1359513374314638, 0.5665828764235191, 0.18895635398112973, 0.03744538130653987, 0.0041888964860639834, 0.0004988327741898294, 13.936540459613047, 9.96470549480028, 6.759911915500286, 4.147051321106824]\n"
     ]
    },
    {
     "name": "stderr",
     "output_type": "stream",
     "text": [
      "Cost: 2.27:  50%|███████████████████████████████████▌                                   | 5/10 [05:20<05:20, 64.12s/it]"
     ]
    },
    {
     "name": "stdout",
     "output_type": "stream",
     "text": [
      "Cost [1.805058834099499, 0.41932456458767126, 0.014087307350374025, 0.0001692433711427714, 5.653639294561886e-05, 3.356158175112585e-05, 2.396809661747693e-05, 1.9735546402678084e-05, 1.5763080920937223e-05, 1.3486385941374477e-05, 10.794958456889965, 6.921550221291253, 3.9205335028904216, 2.0339443569756948, 1.1359513374314638, 0.5665828764235191, 0.18895635398112973, 0.03744538130653987, 0.0041888964860639834, 0.0004988327741898294, 13.936540459613047, 9.96470549480028, 6.759911915500286, 4.147051321106824, 2.2729482942453947]\n"
     ]
    },
    {
     "name": "stderr",
     "output_type": "stream",
     "text": [
      "Cost: 1.16:  60%|██████████████████████████████████████████▌                            | 6/10 [06:24<04:15, 63.98s/it]"
     ]
    },
    {
     "name": "stdout",
     "output_type": "stream",
     "text": [
      "Cost [1.805058834099499, 0.41932456458767126, 0.014087307350374025, 0.0001692433711427714, 5.653639294561886e-05, 3.356158175112585e-05, 2.396809661747693e-05, 1.9735546402678084e-05, 1.5763080920937223e-05, 1.3486385941374477e-05, 10.794958456889965, 6.921550221291253, 3.9205335028904216, 2.0339443569756948, 1.1359513374314638, 0.5665828764235191, 0.18895635398112973, 0.03744538130653987, 0.0041888964860639834, 0.0004988327741898294, 13.936540459613047, 9.96470549480028, 6.759911915500286, 4.147051321106824, 2.2729482942453947, 1.1610517082172722]\n"
     ]
    },
    {
     "name": "stderr",
     "output_type": "stream",
     "text": [
      "Cost: 0.42:  70%|█████████████████████████████████████████████████▋                     | 7/10 [07:29<03:12, 64.25s/it]"
     ]
    },
    {
     "name": "stdout",
     "output_type": "stream",
     "text": [
      "Cost [1.805058834099499, 0.41932456458767126, 0.014087307350374025, 0.0001692433711427714, 5.653639294561886e-05, 3.356158175112585e-05, 2.396809661747693e-05, 1.9735546402678084e-05, 1.5763080920937223e-05, 1.3486385941374477e-05, 10.794958456889965, 6.921550221291253, 3.9205335028904216, 2.0339443569756948, 1.1359513374314638, 0.5665828764235191, 0.18895635398112973, 0.03744538130653987, 0.0041888964860639834, 0.0004988327741898294, 13.936540459613047, 9.96470549480028, 6.759911915500286, 4.147051321106824, 2.2729482942453947, 1.1610517082172722, 0.42251486776857794]\n"
     ]
    },
    {
     "name": "stderr",
     "output_type": "stream",
     "text": [
      "Cost: 0.07:  80%|████████████████████████████████████████████████████████▊              | 8/10 [08:33<02:08, 64.31s/it]"
     ]
    },
    {
     "name": "stdout",
     "output_type": "stream",
     "text": [
      "Cost [1.805058834099499, 0.41932456458767126, 0.014087307350374025, 0.0001692433711427714, 5.653639294561886e-05, 3.356158175112585e-05, 2.396809661747693e-05, 1.9735546402678084e-05, 1.5763080920937223e-05, 1.3486385941374477e-05, 10.794958456889965, 6.921550221291253, 3.9205335028904216, 2.0339443569756948, 1.1359513374314638, 0.5665828764235191, 0.18895635398112973, 0.03744538130653987, 0.0041888964860639834, 0.0004988327741898294, 13.936540459613047, 9.96470549480028, 6.759911915500286, 4.147051321106824, 2.2729482942453947, 1.1610517082172722, 0.42251486776857794, 0.07469555281327084]\n"
     ]
    },
    {
     "name": "stderr",
     "output_type": "stream",
     "text": [
      "Cost: 0.01:  90%|███████████████████████████████████████████████████████████████▉       | 9/10 [09:38<01:04, 64.39s/it]"
     ]
    },
    {
     "name": "stdout",
     "output_type": "stream",
     "text": [
      "Cost [1.805058834099499, 0.41932456458767126, 0.014087307350374025, 0.0001692433711427714, 5.653639294561886e-05, 3.356158175112585e-05, 2.396809661747693e-05, 1.9735546402678084e-05, 1.5763080920937223e-05, 1.3486385941374477e-05, 10.794958456889965, 6.921550221291253, 3.9205335028904216, 2.0339443569756948, 1.1359513374314638, 0.5665828764235191, 0.18895635398112973, 0.03744538130653987, 0.0041888964860639834, 0.0004988327741898294, 13.936540459613047, 9.96470549480028, 6.759911915500286, 4.147051321106824, 2.2729482942453947, 1.1610517082172722, 0.42251486776857794, 0.07469555281327084, 0.006418318407235089]\n"
     ]
    },
    {
     "name": "stderr",
     "output_type": "stream",
     "text": [
      "Cost: 0.00: 100%|██████████████████████████████████████████████████████████████████████| 10/10 [10:42<00:00, 64.23s/it]"
     ]
    },
    {
     "name": "stdout",
     "output_type": "stream",
     "text": [
      "Cost [1.805058834099499, 0.41932456458767126, 0.014087307350374025, 0.0001692433711427714, 5.653639294561886e-05, 3.356158175112585e-05, 2.396809661747693e-05, 1.9735546402678084e-05, 1.5763080920937223e-05, 1.3486385941374477e-05, 10.794958456889965, 6.921550221291253, 3.9205335028904216, 2.0339443569756948, 1.1359513374314638, 0.5665828764235191, 0.18895635398112973, 0.03744538130653987, 0.0041888964860639834, 0.0004988327741898294, 13.936540459613047, 9.96470549480028, 6.759911915500286, 4.147051321106824, 2.2729482942453947, 1.1610517082172722, 0.42251486776857794, 0.07469555281327084, 0.006418318407235089, 0.0005783703895562986]\n"
     ]
    },
    {
     "name": "stderr",
     "output_type": "stream",
     "text": [
      "\n",
      "\n",
      "Valid_Cost: 10.16:   0%|                                                                        | 0/10 [11:46<?, ?it/s]\u001b[A\n",
      "Valid_Cost: 10.16:  10%|██████                                                       | 1/10 [11:46<1:46:01, 706.80s/it]\u001b[A"
     ]
    },
    {
     "name": "stdout",
     "output_type": "stream",
     "text": [
      "Cost [12.613709885244726, 6.129279193499976, 1.9015729174187954, 0.4830742251328419, 0.059338604989321045, 0.0038545933766283057, 0.0003906240788377571, 9.15193451790838e-05, 3.919789094803865e-05, 2.5649834936594426e-05, 12.178118574525625, 8.83741414768729, 6.049341830583761, 3.717224841972516, 1.9367038000870511, 0.8429194833112358, 0.30925509649505994, 0.04688601036105282, 0.0031951087833463608, 0.0002975351746294532, 10.164771032014617]\n"
     ]
    },
    {
     "name": "stderr",
     "output_type": "stream",
     "text": [
      "\n",
      "Valid_Cost: 6.84:  10%|██████▏                                                       | 1/10 [12:51<1:46:01, 706.80s/it]\u001b[A\n",
      "Valid_Cost: 6.84:  20%|████████████▍                                                 | 2/10 [12:51<1:08:32, 514.04s/it]\u001b[A"
     ]
    },
    {
     "name": "stdout",
     "output_type": "stream",
     "text": [
      "Cost [12.613709885244726, 6.129279193499976, 1.9015729174187954, 0.4830742251328419, 0.059338604989321045, 0.0038545933766283057, 0.0003906240788377571, 9.15193451790838e-05, 3.919789094803865e-05, 2.5649834936594426e-05, 12.178118574525625, 8.83741414768729, 6.049341830583761, 3.717224841972516, 1.9367038000870511, 0.8429194833112358, 0.30925509649505994, 0.04688601036105282, 0.0031951087833463608, 0.0002975351746294532, 10.164771032014617, 6.8418420870715115]\n"
     ]
    },
    {
     "name": "stderr",
     "output_type": "stream",
     "text": [
      "\n",
      "Valid_Cost: 4.23:  20%|████████████▍                                                 | 2/10 [13:55<1:08:32, 514.04s/it]\u001b[A\n",
      "Valid_Cost: 4.23:  30%|███████████████████▏                                            | 3/10 [13:55<44:14, 379.15s/it]\u001b[A"
     ]
    },
    {
     "name": "stdout",
     "output_type": "stream",
     "text": [
      "Cost [12.613709885244726, 6.129279193499976, 1.9015729174187954, 0.4830742251328419, 0.059338604989321045, 0.0038545933766283057, 0.0003906240788377571, 9.15193451790838e-05, 3.919789094803865e-05, 2.5649834936594426e-05, 12.178118574525625, 8.83741414768729, 6.049341830583761, 3.717224841972516, 1.9367038000870511, 0.8429194833112358, 0.30925509649505994, 0.04688601036105282, 0.0031951087833463608, 0.0002975351746294532, 10.164771032014617, 6.8418420870715115, 4.228511992749954]\n"
     ]
    },
    {
     "name": "stderr",
     "output_type": "stream",
     "text": [
      "\n",
      "Valid_Cost: 2.17:  30%|███████████████████▏                                            | 3/10 [15:00<44:14, 379.15s/it]\u001b[A\n",
      "Valid_Cost: 2.17:  40%|█████████████████████████▌                                      | 4/10 [15:00<28:28, 284.77s/it]\u001b[A"
     ]
    },
    {
     "name": "stdout",
     "output_type": "stream",
     "text": [
      "Cost [12.613709885244726, 6.129279193499976, 1.9015729174187954, 0.4830742251328419, 0.059338604989321045, 0.0038545933766283057, 0.0003906240788377571, 9.15193451790838e-05, 3.919789094803865e-05, 2.5649834936594426e-05, 12.178118574525625, 8.83741414768729, 6.049341830583761, 3.717224841972516, 1.9367038000870511, 0.8429194833112358, 0.30925509649505994, 0.04688601036105282, 0.0031951087833463608, 0.0002975351746294532, 10.164771032014617, 6.8418420870715115, 4.228511992749954, 2.1664902232317886]\n"
     ]
    },
    {
     "name": "stderr",
     "output_type": "stream",
     "text": [
      "\n",
      "Valid_Cost: 0.92:  40%|█████████████████████████▌                                      | 4/10 [16:04<28:28, 284.77s/it]\u001b[A\n",
      "Valid_Cost: 0.92:  50%|████████████████████████████████                                | 5/10 [16:04<18:13, 218.65s/it]\u001b[A"
     ]
    },
    {
     "name": "stdout",
     "output_type": "stream",
     "text": [
      "Cost [12.613709885244726, 6.129279193499976, 1.9015729174187954, 0.4830742251328419, 0.059338604989321045, 0.0038545933766283057, 0.0003906240788377571, 9.15193451790838e-05, 3.919789094803865e-05, 2.5649834936594426e-05, 12.178118574525625, 8.83741414768729, 6.049341830583761, 3.717224841972516, 1.9367038000870511, 0.8429194833112358, 0.30925509649505994, 0.04688601036105282, 0.0031951087833463608, 0.0002975351746294532, 10.164771032014617, 6.8418420870715115, 4.228511992749954, 2.1664902232317886, 0.9171980347453055]\n"
     ]
    },
    {
     "name": "stderr",
     "output_type": "stream",
     "text": [
      "\n",
      "Valid_Cost: 0.30:  50%|████████████████████████████████                                | 5/10 [17:08<18:13, 218.65s/it]\u001b[A\n",
      "Valid_Cost: 0.30:  60%|██████████████████████████████████████▍                         | 6/10 [17:08<11:29, 172.31s/it]\u001b[A"
     ]
    },
    {
     "name": "stdout",
     "output_type": "stream",
     "text": [
      "Cost [12.613709885244726, 6.129279193499976, 1.9015729174187954, 0.4830742251328419, 0.059338604989321045, 0.0038545933766283057, 0.0003906240788377571, 9.15193451790838e-05, 3.919789094803865e-05, 2.5649834936594426e-05, 12.178118574525625, 8.83741414768729, 6.049341830583761, 3.717224841972516, 1.9367038000870511, 0.8429194833112358, 0.30925509649505994, 0.04688601036105282, 0.0031951087833463608, 0.0002975351746294532, 10.164771032014617, 6.8418420870715115, 4.228511992749954, 2.1664902232317886, 0.9171980347453055, 0.30422177998973543]\n"
     ]
    },
    {
     "name": "stderr",
     "output_type": "stream",
     "text": [
      "\n",
      "Valid_Cost: 0.05:  60%|██████████████████████████████████████▍                         | 6/10 [18:12<11:29, 172.31s/it]\u001b[A\n",
      "Valid_Cost: 0.05:  70%|████████████████████████████████████████████▊                   | 7/10 [18:12<06:59, 139.88s/it]\u001b[A"
     ]
    },
    {
     "name": "stdout",
     "output_type": "stream",
     "text": [
      "Cost [12.613709885244726, 6.129279193499976, 1.9015729174187954, 0.4830742251328419, 0.059338604989321045, 0.0038545933766283057, 0.0003906240788377571, 9.15193451790838e-05, 3.919789094803865e-05, 2.5649834936594426e-05, 12.178118574525625, 8.83741414768729, 6.049341830583761, 3.717224841972516, 1.9367038000870511, 0.8429194833112358, 0.30925509649505994, 0.04688601036105282, 0.0031951087833463608, 0.0002975351746294532, 10.164771032014617, 6.8418420870715115, 4.228511992749954, 2.1664902232317886, 0.9171980347453055, 0.30422177998973543, 0.04735792114029455]\n"
     ]
    },
    {
     "name": "stderr",
     "output_type": "stream",
     "text": [
      "\n",
      "Valid_Cost: 0.00:  70%|████████████████████████████████████████████▊                   | 7/10 [19:17<06:59, 139.88s/it]\u001b[A\n",
      "Valid_Cost: 0.00:  80%|███████████████████████████████████████████████████▏            | 8/10 [19:17<03:54, 117.31s/it]\u001b[A"
     ]
    },
    {
     "name": "stdout",
     "output_type": "stream",
     "text": [
      "Cost [12.613709885244726, 6.129279193499976, 1.9015729174187954, 0.4830742251328419, 0.059338604989321045, 0.0038545933766283057, 0.0003906240788377571, 9.15193451790838e-05, 3.919789094803865e-05, 2.5649834936594426e-05, 12.178118574525625, 8.83741414768729, 6.049341830583761, 3.717224841972516, 1.9367038000870511, 0.8429194833112358, 0.30925509649505994, 0.04688601036105282, 0.0031951087833463608, 0.0002975351746294532, 10.164771032014617, 6.8418420870715115, 4.228511992749954, 2.1664902232317886, 0.9171980347453055, 0.30422177998973543, 0.04735792114029455, 0.003021321679140005]\n"
     ]
    },
    {
     "name": "stderr",
     "output_type": "stream",
     "text": [
      "\n",
      "Valid_Cost: 0.00:  80%|███████████████████████████████████████████████████▏            | 8/10 [20:22<03:54, 117.31s/it]\u001b[A\n",
      "Valid_Cost: 0.00:  90%|█████████████████████████████████████████████████████████▌      | 9/10 [20:22<01:41, 101.67s/it]\u001b[A"
     ]
    },
    {
     "name": "stdout",
     "output_type": "stream",
     "text": [
      "Cost [12.613709885244726, 6.129279193499976, 1.9015729174187954, 0.4830742251328419, 0.059338604989321045, 0.0038545933766283057, 0.0003906240788377571, 9.15193451790838e-05, 3.919789094803865e-05, 2.5649834936594426e-05, 12.178118574525625, 8.83741414768729, 6.049341830583761, 3.717224841972516, 1.9367038000870511, 0.8429194833112358, 0.30925509649505994, 0.04688601036105282, 0.0031951087833463608, 0.0002975351746294532, 10.164771032014617, 6.8418420870715115, 4.228511992749954, 2.1664902232317886, 0.9171980347453055, 0.30422177998973543, 0.04735792114029455, 0.003021321679140005, 0.00022974909030712851]\n"
     ]
    },
    {
     "name": "stderr",
     "output_type": "stream",
     "text": [
      "\n",
      "Valid_Cost: 0.00:  90%|█████████████████████████████████████████████████████████▌      | 9/10 [21:25<01:41, 101.67s/it]\u001b[A\n",
      "Valid_Cost: 0.00: 100%|███████████████████████████████████████████████████████████████| 10/10 [21:25<00:00, 128.57s/it]\u001b[A"
     ]
    },
    {
     "name": "stdout",
     "output_type": "stream",
     "text": [
      "Cost [12.613709885244726, 6.129279193499976, 1.9015729174187954, 0.4830742251328419, 0.059338604989321045, 0.0038545933766283057, 0.0003906240788377571, 9.15193451790838e-05, 3.919789094803865e-05, 2.5649834936594426e-05, 12.178118574525625, 8.83741414768729, 6.049341830583761, 3.717224841972516, 1.9367038000870511, 0.8429194833112358, 0.30925509649505994, 0.04688601036105282, 0.0031951087833463608, 0.0002975351746294532, 10.164771032014617, 6.8418420870715115, 4.228511992749954, 2.1664902232317886, 0.9171980347453055, 0.30422177998973543, 0.04735792114029455, 0.003021321679140005, 0.00022974909030712851, 4.913693756712343e-05]\n"
     ]
    },
    {
     "name": "stderr",
     "output_type": "stream",
     "text": [
      "\n",
      "\n",
      "\n",
      "Test_Cost: 14.60:   0%|                                                                         | 0/10 [22:27<?, ?it/s]\u001b[A\u001b[A\n",
      "\n",
      "Test_Cost: 14.60:  10%|██████                                                       | 1/10 [22:27<3:22:05, 1347.22s/it]\u001b[A\u001b[A"
     ]
    },
    {
     "name": "stdout",
     "output_type": "stream",
     "text": [
      "Cost [17.477931487658772, 11.481349621096912, 7.2365141576138186, 4.329902826767674, 2.4760411291537143, 1.5138635182223377, 0.7073556751685137, 0.12401734248441017, 0.007844180439016798, 0.0004556797310312098, 11.286471904239823, 7.1580123306771535, 3.9571610125268046, 1.8399116118774996, 0.7802855169740726, 0.2489798442024637, 0.040478171647824725, 0.0034103101165470257, 0.0003388346063951934, 8.207387633336027e-05, 14.600696001489547]\n"
     ]
    },
    {
     "name": "stderr",
     "output_type": "stream",
     "text": [
      "\n",
      "\n",
      "Test_Cost: 9.75:  10%|██████▏                                                       | 1/10 [23:28<3:22:05, 1347.22s/it]\u001b[A\u001b[A\n",
      "\n",
      "Test_Cost: 9.75:  20%|████████████▌                                                  | 2/10 [23:28<2:08:12, 961.56s/it]\u001b[A\u001b[A"
     ]
    },
    {
     "name": "stdout",
     "output_type": "stream",
     "text": [
      "Cost [17.477931487658772, 11.481349621096912, 7.2365141576138186, 4.329902826767674, 2.4760411291537143, 1.5138635182223377, 0.7073556751685137, 0.12401734248441017, 0.007844180439016798, 0.0004556797310312098, 11.286471904239823, 7.1580123306771535, 3.9571610125268046, 1.8399116118774996, 0.7802855169740726, 0.2489798442024637, 0.040478171647824725, 0.0034103101165470257, 0.0003388346063951934, 8.207387633336027e-05, 14.600696001489547, 9.75421890186924]\n"
     ]
    },
    {
     "name": "stderr",
     "output_type": "stream",
     "text": [
      "\n",
      "\n",
      "Test_Cost: 5.94:  20%|████████████▌                                                  | 2/10 [24:30<2:08:12, 961.56s/it]\u001b[A\u001b[A\n",
      "\n",
      "Test_Cost: 5.94:  30%|██████████████████▉                                            | 3/10 [24:30<1:20:41, 691.68s/it]\u001b[A\u001b[A"
     ]
    },
    {
     "name": "stdout",
     "output_type": "stream",
     "text": [
      "Cost [17.477931487658772, 11.481349621096912, 7.2365141576138186, 4.329902826767674, 2.4760411291537143, 1.5138635182223377, 0.7073556751685137, 0.12401734248441017, 0.007844180439016798, 0.0004556797310312098, 11.286471904239823, 7.1580123306771535, 3.9571610125268046, 1.8399116118774996, 0.7802855169740726, 0.2489798442024637, 0.040478171647824725, 0.0034103101165470257, 0.0003388346063951934, 8.207387633336027e-05, 14.600696001489547, 9.75421890186924, 5.943346249809679]\n"
     ]
    },
    {
     "name": "stderr",
     "output_type": "stream",
     "text": [
      "\n",
      "\n",
      "Test_Cost: 3.10:  30%|██████████████████▉                                            | 3/10 [25:32<1:20:41, 691.68s/it]\u001b[A\u001b[A\n",
      "\n",
      "Test_Cost: 3.10:  40%|██████████████████████████                                       | 4/10 [25:32<50:16, 502.69s/it]\u001b[A\u001b[A"
     ]
    },
    {
     "name": "stdout",
     "output_type": "stream",
     "text": [
      "Cost [17.477931487658772, 11.481349621096912, 7.2365141576138186, 4.329902826767674, 2.4760411291537143, 1.5138635182223377, 0.7073556751685137, 0.12401734248441017, 0.007844180439016798, 0.0004556797310312098, 11.286471904239823, 7.1580123306771535, 3.9571610125268046, 1.8399116118774996, 0.7802855169740726, 0.2489798442024637, 0.040478171647824725, 0.0034103101165470257, 0.0003388346063951934, 8.207387633336027e-05, 14.600696001489547, 9.75421890186924, 5.943346249809679, 3.104772795184965]\n"
     ]
    },
    {
     "name": "stderr",
     "output_type": "stream",
     "text": [
      "\n",
      "\n",
      "Test_Cost: 1.30:  40%|██████████████████████████                                       | 4/10 [26:33<50:16, 502.69s/it]\u001b[A\u001b[A\n",
      "\n",
      "Test_Cost: 1.30:  50%|████████████████████████████████▌                                | 5/10 [26:33<30:51, 370.24s/it]\u001b[A\u001b[A"
     ]
    },
    {
     "name": "stdout",
     "output_type": "stream",
     "text": [
      "Cost [17.477931487658772, 11.481349621096912, 7.2365141576138186, 4.329902826767674, 2.4760411291537143, 1.5138635182223377, 0.7073556751685137, 0.12401734248441017, 0.007844180439016798, 0.0004556797310312098, 11.286471904239823, 7.1580123306771535, 3.9571610125268046, 1.8399116118774996, 0.7802855169740726, 0.2489798442024637, 0.040478171647824725, 0.0034103101165470257, 0.0003388346063951934, 8.207387633336027e-05, 14.600696001489547, 9.75421890186924, 5.943346249809679, 3.104772795184965, 1.3028420971721986]\n"
     ]
    },
    {
     "name": "stderr",
     "output_type": "stream",
     "text": [
      "\n",
      "\n",
      "Test_Cost: 0.67:  50%|████████████████████████████████▌                                | 5/10 [27:35<30:51, 370.24s/it]\u001b[A\u001b[A\n",
      "\n",
      "Test_Cost: 0.67:  60%|███████████████████████████████████████                          | 6/10 [27:35<18:31, 277.75s/it]\u001b[A\u001b[A"
     ]
    },
    {
     "name": "stdout",
     "output_type": "stream",
     "text": [
      "Cost [17.477931487658772, 11.481349621096912, 7.2365141576138186, 4.329902826767674, 2.4760411291537143, 1.5138635182223377, 0.7073556751685137, 0.12401734248441017, 0.007844180439016798, 0.0004556797310312098, 11.286471904239823, 7.1580123306771535, 3.9571610125268046, 1.8399116118774996, 0.7802855169740726, 0.2489798442024637, 0.040478171647824725, 0.0034103101165470257, 0.0003388346063951934, 8.207387633336027e-05, 14.600696001489547, 9.75421890186924, 5.943346249809679, 3.104772795184965, 1.3028420971721986, 0.6716637475518982]\n"
     ]
    },
    {
     "name": "stderr",
     "output_type": "stream",
     "text": [
      "\n",
      "\n",
      "Test_Cost: 0.17:  60%|███████████████████████████████████████                          | 6/10 [28:37<18:31, 277.75s/it]\u001b[A\u001b[A\n",
      "\n",
      "Test_Cost: 0.17:  70%|█████████████████████████████████████████████▌                   | 7/10 [28:37<10:38, 212.93s/it]\u001b[A\u001b[A"
     ]
    },
    {
     "name": "stdout",
     "output_type": "stream",
     "text": [
      "Cost [17.477931487658772, 11.481349621096912, 7.2365141576138186, 4.329902826767674, 2.4760411291537143, 1.5138635182223377, 0.7073556751685137, 0.12401734248441017, 0.007844180439016798, 0.0004556797310312098, 11.286471904239823, 7.1580123306771535, 3.9571610125268046, 1.8399116118774996, 0.7802855169740726, 0.2489798442024637, 0.040478171647824725, 0.0034103101165470257, 0.0003388346063951934, 8.207387633336027e-05, 14.600696001489547, 9.75421890186924, 5.943346249809679, 3.104772795184965, 1.3028420971721986, 0.6716637475518982, 0.17394469785564953]\n"
     ]
    },
    {
     "name": "stderr",
     "output_type": "stream",
     "text": [
      "\n",
      "\n",
      "Test_Cost: 0.01:  70%|█████████████████████████████████████████████▌                   | 7/10 [29:39<10:38, 212.93s/it]\u001b[A\u001b[A\n",
      "\n",
      "Test_Cost: 0.01:  80%|████████████████████████████████████████████████████             | 8/10 [29:39<05:35, 167.59s/it]\u001b[A\u001b[A"
     ]
    },
    {
     "name": "stdout",
     "output_type": "stream",
     "text": [
      "Cost [17.477931487658772, 11.481349621096912, 7.2365141576138186, 4.329902826767674, 2.4760411291537143, 1.5138635182223377, 0.7073556751685137, 0.12401734248441017, 0.007844180439016798, 0.0004556797310312098, 11.286471904239823, 7.1580123306771535, 3.9571610125268046, 1.8399116118774996, 0.7802855169740726, 0.2489798442024637, 0.040478171647824725, 0.0034103101165470257, 0.0003388346063951934, 8.207387633336027e-05, 14.600696001489547, 9.75421890186924, 5.943346249809679, 3.104772795184965, 1.3028420971721986, 0.6716637475518982, 0.17394469785564953, 0.013044275982573123]\n"
     ]
    },
    {
     "name": "stderr",
     "output_type": "stream",
     "text": [
      "\n",
      "\n",
      "Test_Cost: 0.00:  80%|████████████████████████████████████████████████████             | 8/10 [30:41<05:35, 167.59s/it]\u001b[A\u001b[A\n",
      "\n",
      "Test_Cost: 0.00:  90%|██████████████████████████████████████████████████████████▌      | 9/10 [30:41<02:15, 135.96s/it]\u001b[A\u001b[A"
     ]
    },
    {
     "name": "stdout",
     "output_type": "stream",
     "text": [
      "Cost [17.477931487658772, 11.481349621096912, 7.2365141576138186, 4.329902826767674, 2.4760411291537143, 1.5138635182223377, 0.7073556751685137, 0.12401734248441017, 0.007844180439016798, 0.0004556797310312098, 11.286471904239823, 7.1580123306771535, 3.9571610125268046, 1.8399116118774996, 0.7802855169740726, 0.2489798442024637, 0.040478171647824725, 0.0034103101165470257, 0.0003388346063951934, 8.207387633336027e-05, 14.600696001489547, 9.75421890186924, 5.943346249809679, 3.104772795184965, 1.3028420971721986, 0.6716637475518982, 0.17394469785564953, 0.013044275982573123, 0.00042176041655823655]\n"
     ]
    },
    {
     "name": "stderr",
     "output_type": "stream",
     "text": [
      "\n",
      "\n",
      "Test_Cost: 0.00:  90%|██████████████████████████████████████████████████████████▌      | 9/10 [31:43<02:15, 135.96s/it]\u001b[A\u001b[A\n",
      "\n",
      "Test_Cost: 0.00: 100%|████████████████████████████████████████████████████████████████| 10/10 [31:43<00:00, 190.31s/it]\u001b[A\u001b[A\n",
      "  0%|                                                                                           | 0/10 [00:00<?, ?it/s]\n",
      "  0%|                                                                                           | 0/10 [00:00<?, ?it/s]\u001b[A\n",
      "\n",
      "  0%|                                                                                           | 0/10 [00:00<?, ?it/s]\u001b[A\u001b[A"
     ]
    },
    {
     "name": "stdout",
     "output_type": "stream",
     "text": [
      "Cost [17.477931487658772, 11.481349621096912, 7.2365141576138186, 4.329902826767674, 2.4760411291537143, 1.5138635182223377, 0.7073556751685137, 0.12401734248441017, 0.007844180439016798, 0.0004556797310312098, 11.286471904239823, 7.1580123306771535, 3.9571610125268046, 1.8399116118774996, 0.7802855169740726, 0.2489798442024637, 0.040478171647824725, 0.0034103101165470257, 0.0003388346063951934, 8.207387633336027e-05, 14.600696001489547, 9.75421890186924, 5.943346249809679, 3.104772795184965, 1.3028420971721986, 0.6716637475518982, 0.17394469785564953, 0.013044275982573123, 0.00042176041655823655, 5.277390877793245e-05]\n"
     ]
    },
    {
     "name": "stderr",
     "output_type": "stream",
     "text": [
      "Cost: 12.84:  10%|███████                                                               | 1/10 [01:01<09:17, 61.97s/it]"
     ]
    },
    {
     "name": "stdout",
     "output_type": "stream",
     "text": [
      "Cost [1.805058834099499, 0.41932456458767126, 0.014087307350374025, 0.0001692433711427714, 5.653639294561886e-05, 3.356158175112585e-05, 2.396809661747693e-05, 1.9735546402678084e-05, 1.5763080920937223e-05, 1.3486385941374477e-05, 10.794958456889965, 6.921550221291253, 3.9205335028904216, 2.0339443569756948, 1.1359513374314638, 0.5665828764235191, 0.18895635398112973, 0.03744538130653987, 0.0041888964860639834, 0.0004988327741898294, 13.936540459613047, 9.96470549480028, 6.759911915500286, 4.147051321106824, 2.2729482942453947, 1.1610517082172722, 0.42251486776857794, 0.07469555281327084, 0.006418318407235089, 0.0005783703895562986, 12.836280793449864]\n"
     ]
    },
    {
     "name": "stderr",
     "output_type": "stream",
     "text": [
      "Cost: 8.20:  20%|██████████████▏                                                        | 2/10 [02:03<08:15, 61.96s/it]"
     ]
    },
    {
     "name": "stdout",
     "output_type": "stream",
     "text": [
      "Cost [1.805058834099499, 0.41932456458767126, 0.014087307350374025, 0.0001692433711427714, 5.653639294561886e-05, 3.356158175112585e-05, 2.396809661747693e-05, 1.9735546402678084e-05, 1.5763080920937223e-05, 1.3486385941374477e-05, 10.794958456889965, 6.921550221291253, 3.9205335028904216, 2.0339443569756948, 1.1359513374314638, 0.5665828764235191, 0.18895635398112973, 0.03744538130653987, 0.0041888964860639834, 0.0004988327741898294, 13.936540459613047, 9.96470549480028, 6.759911915500286, 4.147051321106824, 2.2729482942453947, 1.1610517082172722, 0.42251486776857794, 0.07469555281327084, 0.006418318407235089, 0.0005783703895562986, 12.836280793449864, 8.198480580402592]\n"
     ]
    },
    {
     "name": "stderr",
     "output_type": "stream",
     "text": [
      "Cost: 4.71:  30%|█████████████████████▎                                                 | 3/10 [03:05<07:13, 61.98s/it]"
     ]
    },
    {
     "name": "stdout",
     "output_type": "stream",
     "text": [
      "Cost [1.805058834099499, 0.41932456458767126, 0.014087307350374025, 0.0001692433711427714, 5.653639294561886e-05, 3.356158175112585e-05, 2.396809661747693e-05, 1.9735546402678084e-05, 1.5763080920937223e-05, 1.3486385941374477e-05, 10.794958456889965, 6.921550221291253, 3.9205335028904216, 2.0339443569756948, 1.1359513374314638, 0.5665828764235191, 0.18895635398112973, 0.03744538130653987, 0.0041888964860639834, 0.0004988327741898294, 13.936540459613047, 9.96470549480028, 6.759911915500286, 4.147051321106824, 2.2729482942453947, 1.1610517082172722, 0.42251486776857794, 0.07469555281327084, 0.006418318407235089, 0.0005783703895562986, 12.836280793449864, 8.198480580402592, 4.708526150373516]\n"
     ]
    },
    {
     "name": "stderr",
     "output_type": "stream",
     "text": [
      "Cost: 2.43:  40%|████████████████████████████▍                                          | 4/10 [04:08<06:12, 62.01s/it]"
     ]
    },
    {
     "name": "stdout",
     "output_type": "stream",
     "text": [
      "Cost [1.805058834099499, 0.41932456458767126, 0.014087307350374025, 0.0001692433711427714, 5.653639294561886e-05, 3.356158175112585e-05, 2.396809661747693e-05, 1.9735546402678084e-05, 1.5763080920937223e-05, 1.3486385941374477e-05, 10.794958456889965, 6.921550221291253, 3.9205335028904216, 2.0339443569756948, 1.1359513374314638, 0.5665828764235191, 0.18895635398112973, 0.03744538130653987, 0.0041888964860639834, 0.0004988327741898294, 13.936540459613047, 9.96470549480028, 6.759911915500286, 4.147051321106824, 2.2729482942453947, 1.1610517082172722, 0.42251486776857794, 0.07469555281327084, 0.006418318407235089, 0.0005783703895562986, 12.836280793449864, 8.198480580402592, 4.708526150373516, 2.427440691808707]\n"
     ]
    },
    {
     "name": "stderr",
     "output_type": "stream",
     "text": [
      "Cost: 1.26:  50%|███████████████████████████████████▌                                   | 5/10 [05:09<05:09, 61.96s/it]"
     ]
    },
    {
     "name": "stdout",
     "output_type": "stream",
     "text": [
      "Cost [1.805058834099499, 0.41932456458767126, 0.014087307350374025, 0.0001692433711427714, 5.653639294561886e-05, 3.356158175112585e-05, 2.396809661747693e-05, 1.9735546402678084e-05, 1.5763080920937223e-05, 1.3486385941374477e-05, 10.794958456889965, 6.921550221291253, 3.9205335028904216, 2.0339443569756948, 1.1359513374314638, 0.5665828764235191, 0.18895635398112973, 0.03744538130653987, 0.0041888964860639834, 0.0004988327741898294, 13.936540459613047, 9.96470549480028, 6.759911915500286, 4.147051321106824, 2.2729482942453947, 1.1610517082172722, 0.42251486776857794, 0.07469555281327084, 0.006418318407235089, 0.0005783703895562986, 12.836280793449864, 8.198480580402592, 4.708526150373516, 2.427440691808707, 1.259752148916097]\n"
     ]
    },
    {
     "name": "stderr",
     "output_type": "stream",
     "text": [
      "Cost: 0.71:  60%|██████████████████████████████████████████▌                            | 6/10 [06:11<04:07, 61.97s/it]"
     ]
    },
    {
     "name": "stdout",
     "output_type": "stream",
     "text": [
      "Cost [1.805058834099499, 0.41932456458767126, 0.014087307350374025, 0.0001692433711427714, 5.653639294561886e-05, 3.356158175112585e-05, 2.396809661747693e-05, 1.9735546402678084e-05, 1.5763080920937223e-05, 1.3486385941374477e-05, 10.794958456889965, 6.921550221291253, 3.9205335028904216, 2.0339443569756948, 1.1359513374314638, 0.5665828764235191, 0.18895635398112973, 0.03744538130653987, 0.0041888964860639834, 0.0004988327741898294, 13.936540459613047, 9.96470549480028, 6.759911915500286, 4.147051321106824, 2.2729482942453947, 1.1610517082172722, 0.42251486776857794, 0.07469555281327084, 0.006418318407235089, 0.0005783703895562986, 12.836280793449864, 8.198480580402592, 4.708526150373516, 2.427440691808707, 1.259752148916097, 0.7081402542711223]\n"
     ]
    },
    {
     "name": "stderr",
     "output_type": "stream",
     "text": [
      "Cost: 0.18:  70%|█████████████████████████████████████████████████▋                     | 7/10 [07:13<03:06, 62.02s/it]"
     ]
    },
    {
     "name": "stdout",
     "output_type": "stream",
     "text": [
      "Cost [1.805058834099499, 0.41932456458767126, 0.014087307350374025, 0.0001692433711427714, 5.653639294561886e-05, 3.356158175112585e-05, 2.396809661747693e-05, 1.9735546402678084e-05, 1.5763080920937223e-05, 1.3486385941374477e-05, 10.794958456889965, 6.921550221291253, 3.9205335028904216, 2.0339443569756948, 1.1359513374314638, 0.5665828764235191, 0.18895635398112973, 0.03744538130653987, 0.0041888964860639834, 0.0004988327741898294, 13.936540459613047, 9.96470549480028, 6.759911915500286, 4.147051321106824, 2.2729482942453947, 1.1610517082172722, 0.42251486776857794, 0.07469555281327084, 0.006418318407235089, 0.0005783703895562986, 12.836280793449864, 8.198480580402592, 4.708526150373516, 2.427440691808707, 1.259752148916097, 0.7081402542711223, 0.18073413084663914]\n"
     ]
    },
    {
     "name": "stderr",
     "output_type": "stream",
     "text": [
      "Cost: 0.01:  80%|████████████████████████████████████████████████████████▊              | 8/10 [08:16<02:04, 62.06s/it]"
     ]
    },
    {
     "name": "stdout",
     "output_type": "stream",
     "text": [
      "Cost [1.805058834099499, 0.41932456458767126, 0.014087307350374025, 0.0001692433711427714, 5.653639294561886e-05, 3.356158175112585e-05, 2.396809661747693e-05, 1.9735546402678084e-05, 1.5763080920937223e-05, 1.3486385941374477e-05, 10.794958456889965, 6.921550221291253, 3.9205335028904216, 2.0339443569756948, 1.1359513374314638, 0.5665828764235191, 0.18895635398112973, 0.03744538130653987, 0.0041888964860639834, 0.0004988327741898294, 13.936540459613047, 9.96470549480028, 6.759911915500286, 4.147051321106824, 2.2729482942453947, 1.1610517082172722, 0.42251486776857794, 0.07469555281327084, 0.006418318407235089, 0.0005783703895562986, 12.836280793449864, 8.198480580402592, 4.708526150373516, 2.427440691808707, 1.259752148916097, 0.7081402542711223, 0.18073413084663914, 0.010133898370896953]\n"
     ]
    },
    {
     "name": "stderr",
     "output_type": "stream",
     "text": [
      "Cost: 0.00:  90%|███████████████████████████████████████████████████████████████▉       | 9/10 [09:17<01:01, 61.97s/it]"
     ]
    },
    {
     "name": "stdout",
     "output_type": "stream",
     "text": [
      "Cost [1.805058834099499, 0.41932456458767126, 0.014087307350374025, 0.0001692433711427714, 5.653639294561886e-05, 3.356158175112585e-05, 2.396809661747693e-05, 1.9735546402678084e-05, 1.5763080920937223e-05, 1.3486385941374477e-05, 10.794958456889965, 6.921550221291253, 3.9205335028904216, 2.0339443569756948, 1.1359513374314638, 0.5665828764235191, 0.18895635398112973, 0.03744538130653987, 0.0041888964860639834, 0.0004988327741898294, 13.936540459613047, 9.96470549480028, 6.759911915500286, 4.147051321106824, 2.2729482942453947, 1.1610517082172722, 0.42251486776857794, 0.07469555281327084, 0.006418318407235089, 0.0005783703895562986, 12.836280793449864, 8.198480580402592, 4.708526150373516, 2.427440691808707, 1.259752148916097, 0.7081402542711223, 0.18073413084663914, 0.010133898370896953, 0.00024371080452472945]\n"
     ]
    },
    {
     "name": "stderr",
     "output_type": "stream",
     "text": [
      "Cost: 0.00: 100%|██████████████████████████████████████████████████████████████████████| 10/10 [10:19<00:00, 61.99s/it]"
     ]
    },
    {
     "name": "stdout",
     "output_type": "stream",
     "text": [
      "Cost [1.805058834099499, 0.41932456458767126, 0.014087307350374025, 0.0001692433711427714, 5.653639294561886e-05, 3.356158175112585e-05, 2.396809661747693e-05, 1.9735546402678084e-05, 1.5763080920937223e-05, 1.3486385941374477e-05, 10.794958456889965, 6.921550221291253, 3.9205335028904216, 2.0339443569756948, 1.1359513374314638, 0.5665828764235191, 0.18895635398112973, 0.03744538130653987, 0.0041888964860639834, 0.0004988327741898294, 13.936540459613047, 9.96470549480028, 6.759911915500286, 4.147051321106824, 2.2729482942453947, 1.1610517082172722, 0.42251486776857794, 0.07469555281327084, 0.006418318407235089, 0.0005783703895562986, 12.836280793449864, 8.198480580402592, 4.708526150373516, 2.427440691808707, 1.259752148916097, 0.7081402542711223, 0.18073413084663914, 0.010133898370896953, 0.00024371080452472945, 2.753302081775263e-05]\n"
     ]
    },
    {
     "name": "stderr",
     "output_type": "stream",
     "text": [
      "\n",
      "\n",
      "Valid_Cost: 12.51:   0%|                                                                        | 0/10 [11:23<?, ?it/s]\u001b[A\n",
      "Valid_Cost: 12.51:  10%|██████                                                       | 1/10 [11:23<1:42:33, 683.69s/it]\u001b[A"
     ]
    },
    {
     "name": "stdout",
     "output_type": "stream",
     "text": [
      "Cost [12.613709885244726, 6.129279193499976, 1.9015729174187954, 0.4830742251328419, 0.059338604989321045, 0.0038545933766283057, 0.0003906240788377571, 9.15193451790838e-05, 3.919789094803865e-05, 2.5649834936594426e-05, 12.178118574525625, 8.83741414768729, 6.049341830583761, 3.717224841972516, 1.9367038000870511, 0.8429194833112358, 0.30925509649505994, 0.04688601036105282, 0.0031951087833463608, 0.0002975351746294532, 10.164771032014617, 6.8418420870715115, 4.228511992749954, 2.1664902232317886, 0.9171980347453055, 0.30422177998973543, 0.04735792114029455, 0.003021321679140005, 0.00022974909030712851, 4.913693756712343e-05, 12.514925977767167]\n"
     ]
    },
    {
     "name": "stderr",
     "output_type": "stream",
     "text": [
      "\n",
      "Valid_Cost: 7.30:  10%|██████▏                                                       | 1/10 [12:25<1:42:33, 683.69s/it]\u001b[A\n",
      "Valid_Cost: 7.30:  20%|████████████▍                                                 | 2/10 [12:25<1:06:17, 497.24s/it]\u001b[A"
     ]
    },
    {
     "name": "stdout",
     "output_type": "stream",
     "text": [
      "Cost [12.613709885244726, 6.129279193499976, 1.9015729174187954, 0.4830742251328419, 0.059338604989321045, 0.0038545933766283057, 0.0003906240788377571, 9.15193451790838e-05, 3.919789094803865e-05, 2.5649834936594426e-05, 12.178118574525625, 8.83741414768729, 6.049341830583761, 3.717224841972516, 1.9367038000870511, 0.8429194833112358, 0.30925509649505994, 0.04688601036105282, 0.0031951087833463608, 0.0002975351746294532, 10.164771032014617, 6.8418420870715115, 4.228511992749954, 2.1664902232317886, 0.9171980347453055, 0.30422177998973543, 0.04735792114029455, 0.003021321679140005, 0.00022974909030712851, 4.913693756712343e-05, 12.514925977767167, 7.29940279102362]\n"
     ]
    },
    {
     "name": "stderr",
     "output_type": "stream",
     "text": [
      "\n",
      "Valid_Cost: 3.73:  20%|████████████▍                                                 | 2/10 [13:27<1:06:17, 497.24s/it]\u001b[A\n",
      "Valid_Cost: 3.73:  30%|███████████████████▏                                            | 3/10 [13:27<42:46, 366.63s/it]\u001b[A"
     ]
    },
    {
     "name": "stdout",
     "output_type": "stream",
     "text": [
      "Cost [12.613709885244726, 6.129279193499976, 1.9015729174187954, 0.4830742251328419, 0.059338604989321045, 0.0038545933766283057, 0.0003906240788377571, 9.15193451790838e-05, 3.919789094803865e-05, 2.5649834936594426e-05, 12.178118574525625, 8.83741414768729, 6.049341830583761, 3.717224841972516, 1.9367038000870511, 0.8429194833112358, 0.30925509649505994, 0.04688601036105282, 0.0031951087833463608, 0.0002975351746294532, 10.164771032014617, 6.8418420870715115, 4.228511992749954, 2.1664902232317886, 0.9171980347453055, 0.30422177998973543, 0.04735792114029455, 0.003021321679140005, 0.00022974909030712851, 4.913693756712343e-05, 12.514925977767167, 7.29940279102362, 3.7328417861479157]\n"
     ]
    },
    {
     "name": "stderr",
     "output_type": "stream",
     "text": [
      "\n",
      "Valid_Cost: 1.86:  30%|███████████████████▏                                            | 3/10 [14:29<42:46, 366.63s/it]\u001b[A\n",
      "Valid_Cost: 1.86:  40%|█████████████████████████▌                                      | 4/10 [14:29<27:31, 275.29s/it]\u001b[A"
     ]
    },
    {
     "name": "stdout",
     "output_type": "stream",
     "text": [
      "Cost [12.613709885244726, 6.129279193499976, 1.9015729174187954, 0.4830742251328419, 0.059338604989321045, 0.0038545933766283057, 0.0003906240788377571, 9.15193451790838e-05, 3.919789094803865e-05, 2.5649834936594426e-05, 12.178118574525625, 8.83741414768729, 6.049341830583761, 3.717224841972516, 1.9367038000870511, 0.8429194833112358, 0.30925509649505994, 0.04688601036105282, 0.0031951087833463608, 0.0002975351746294532, 10.164771032014617, 6.8418420870715115, 4.228511992749954, 2.1664902232317886, 0.9171980347453055, 0.30422177998973543, 0.04735792114029455, 0.003021321679140005, 0.00022974909030712851, 4.913693756712343e-05, 12.514925977767167, 7.29940279102362, 3.7328417861479157, 1.8574271610449287]\n"
     ]
    },
    {
     "name": "stderr",
     "output_type": "stream",
     "text": [
      "\n",
      "Valid_Cost: 1.25:  40%|█████████████████████████▌                                      | 4/10 [15:32<27:31, 275.29s/it]\u001b[A\n",
      "Valid_Cost: 1.25:  50%|████████████████████████████████                                | 5/10 [15:32<17:36, 211.36s/it]\u001b[A"
     ]
    },
    {
     "name": "stdout",
     "output_type": "stream",
     "text": [
      "Cost [12.613709885244726, 6.129279193499976, 1.9015729174187954, 0.4830742251328419, 0.059338604989321045, 0.0038545933766283057, 0.0003906240788377571, 9.15193451790838e-05, 3.919789094803865e-05, 2.5649834936594426e-05, 12.178118574525625, 8.83741414768729, 6.049341830583761, 3.717224841972516, 1.9367038000870511, 0.8429194833112358, 0.30925509649505994, 0.04688601036105282, 0.0031951087833463608, 0.0002975351746294532, 10.164771032014617, 6.8418420870715115, 4.228511992749954, 2.1664902232317886, 0.9171980347453055, 0.30422177998973543, 0.04735792114029455, 0.003021321679140005, 0.00022974909030712851, 4.913693756712343e-05, 12.514925977767167, 7.29940279102362, 3.7328417861479157, 1.8574271610449287, 1.2512844870644253]\n"
     ]
    },
    {
     "name": "stderr",
     "output_type": "stream",
     "text": [
      "\n",
      "Valid_Cost: 0.75:  50%|████████████████████████████████                                | 5/10 [16:34<17:36, 211.36s/it]\u001b[A\n",
      "Valid_Cost: 0.75:  60%|██████████████████████████████████████▍                         | 6/10 [16:34<11:06, 166.68s/it]\u001b[A"
     ]
    },
    {
     "name": "stdout",
     "output_type": "stream",
     "text": [
      "Cost [12.613709885244726, 6.129279193499976, 1.9015729174187954, 0.4830742251328419, 0.059338604989321045, 0.0038545933766283057, 0.0003906240788377571, 9.15193451790838e-05, 3.919789094803865e-05, 2.5649834936594426e-05, 12.178118574525625, 8.83741414768729, 6.049341830583761, 3.717224841972516, 1.9367038000870511, 0.8429194833112358, 0.30925509649505994, 0.04688601036105282, 0.0031951087833463608, 0.0002975351746294532, 10.164771032014617, 6.8418420870715115, 4.228511992749954, 2.1664902232317886, 0.9171980347453055, 0.30422177998973543, 0.04735792114029455, 0.003021321679140005, 0.00022974909030712851, 4.913693756712343e-05, 12.514925977767167, 7.29940279102362, 3.7328417861479157, 1.8574271610449287, 1.2512844870644253, 0.74797770705636]\n"
     ]
    },
    {
     "name": "stderr",
     "output_type": "stream",
     "text": [
      "\n",
      "Valid_Cost: 0.20:  60%|██████████████████████████████████████▍                         | 6/10 [17:36<11:06, 166.68s/it]\u001b[A\n",
      "Valid_Cost: 0.20:  70%|████████████████████████████████████████████▊                   | 7/10 [17:36<06:45, 135.33s/it]\u001b[A"
     ]
    },
    {
     "name": "stdout",
     "output_type": "stream",
     "text": [
      "Cost [12.613709885244726, 6.129279193499976, 1.9015729174187954, 0.4830742251328419, 0.059338604989321045, 0.0038545933766283057, 0.0003906240788377571, 9.15193451790838e-05, 3.919789094803865e-05, 2.5649834936594426e-05, 12.178118574525625, 8.83741414768729, 6.049341830583761, 3.717224841972516, 1.9367038000870511, 0.8429194833112358, 0.30925509649505994, 0.04688601036105282, 0.0031951087833463608, 0.0002975351746294532, 10.164771032014617, 6.8418420870715115, 4.228511992749954, 2.1664902232317886, 0.9171980347453055, 0.30422177998973543, 0.04735792114029455, 0.003021321679140005, 0.00022974909030712851, 4.913693756712343e-05, 12.514925977767167, 7.29940279102362, 3.7328417861479157, 1.8574271610449287, 1.2512844870644253, 0.74797770705636, 0.19659836765481745]\n"
     ]
    },
    {
     "name": "stderr",
     "output_type": "stream",
     "text": [
      "\n",
      "Valid_Cost: 0.01:  70%|████████████████████████████████████████████▊                   | 7/10 [18:38<06:45, 135.33s/it]\u001b[A\n",
      "Valid_Cost: 0.01:  80%|███████████████████████████████████████████████████▏            | 8/10 [18:38<03:46, 113.27s/it]\u001b[A"
     ]
    },
    {
     "name": "stdout",
     "output_type": "stream",
     "text": [
      "Cost [12.613709885244726, 6.129279193499976, 1.9015729174187954, 0.4830742251328419, 0.059338604989321045, 0.0038545933766283057, 0.0003906240788377571, 9.15193451790838e-05, 3.919789094803865e-05, 2.5649834936594426e-05, 12.178118574525625, 8.83741414768729, 6.049341830583761, 3.717224841972516, 1.9367038000870511, 0.8429194833112358, 0.30925509649505994, 0.04688601036105282, 0.0031951087833463608, 0.0002975351746294532, 10.164771032014617, 6.8418420870715115, 4.228511992749954, 2.1664902232317886, 0.9171980347453055, 0.30422177998973543, 0.04735792114029455, 0.003021321679140005, 0.00022974909030712851, 4.913693756712343e-05, 12.514925977767167, 7.29940279102362, 3.7328417861479157, 1.8574271610449287, 1.2512844870644253, 0.74797770705636, 0.19659836765481745, 0.01166647408039311]\n"
     ]
    },
    {
     "name": "stderr",
     "output_type": "stream",
     "text": [
      "\n",
      "Valid_Cost: 0.00:  80%|███████████████████████████████████████████████████▏            | 8/10 [19:45<03:46, 113.27s/it]\u001b[A\n",
      "Valid_Cost: 0.00:  90%|██████████████████████████████████████████████████████████▌      | 9/10 [19:45<01:39, 99.39s/it]\u001b[A"
     ]
    },
    {
     "name": "stdout",
     "output_type": "stream",
     "text": [
      "Cost [12.613709885244726, 6.129279193499976, 1.9015729174187954, 0.4830742251328419, 0.059338604989321045, 0.0038545933766283057, 0.0003906240788377571, 9.15193451790838e-05, 3.919789094803865e-05, 2.5649834936594426e-05, 12.178118574525625, 8.83741414768729, 6.049341830583761, 3.717224841972516, 1.9367038000870511, 0.8429194833112358, 0.30925509649505994, 0.04688601036105282, 0.0031951087833463608, 0.0002975351746294532, 10.164771032014617, 6.8418420870715115, 4.228511992749954, 2.1664902232317886, 0.9171980347453055, 0.30422177998973543, 0.04735792114029455, 0.003021321679140005, 0.00022974909030712851, 4.913693756712343e-05, 12.514925977767167, 7.29940279102362, 3.7328417861479157, 1.8574271610449287, 1.2512844870644253, 0.74797770705636, 0.19659836765481745, 0.01166647408039311, 0.00030943374139103246]\n"
     ]
    },
    {
     "name": "stderr",
     "output_type": "stream",
     "text": [
      "\n",
      "Valid_Cost: 0.00:  90%|██████████████████████████████████████████████████████████▌      | 9/10 [20:51<01:39, 99.39s/it]\u001b[A\n",
      "Valid_Cost: 0.00: 100%|███████████████████████████████████████████████████████████████| 10/10 [20:51<00:00, 125.20s/it]\u001b[A"
     ]
    },
    {
     "name": "stdout",
     "output_type": "stream",
     "text": [
      "Cost [12.613709885244726, 6.129279193499976, 1.9015729174187954, 0.4830742251328419, 0.059338604989321045, 0.0038545933766283057, 0.0003906240788377571, 9.15193451790838e-05, 3.919789094803865e-05, 2.5649834936594426e-05, 12.178118574525625, 8.83741414768729, 6.049341830583761, 3.717224841972516, 1.9367038000870511, 0.8429194833112358, 0.30925509649505994, 0.04688601036105282, 0.0031951087833463608, 0.0002975351746294532, 10.164771032014617, 6.8418420870715115, 4.228511992749954, 2.1664902232317886, 0.9171980347453055, 0.30422177998973543, 0.04735792114029455, 0.003021321679140005, 0.00022974909030712851, 4.913693756712343e-05, 12.514925977767167, 7.29940279102362, 3.7328417861479157, 1.8574271610449287, 1.2512844870644253, 0.74797770705636, 0.19659836765481745, 0.01166647408039311, 0.00030943374139103246, 2.9783938119770803e-05]\n"
     ]
    },
    {
     "name": "stderr",
     "output_type": "stream",
     "text": [
      "\n",
      "\n",
      "\n",
      "Test_Cost: 14.97:   0%|                                                                         | 0/10 [21:57<?, ?it/s]\u001b[A\u001b[A\n",
      "\n",
      "Test_Cost: 14.97:  10%|██████                                                       | 1/10 [21:57<3:17:35, 1317.29s/it]\u001b[A\u001b[A"
     ]
    },
    {
     "name": "stdout",
     "output_type": "stream",
     "text": [
      "Cost [17.477931487658772, 11.481349621096912, 7.2365141576138186, 4.329902826767674, 2.4760411291537143, 1.5138635182223377, 0.7073556751685137, 0.12401734248441017, 0.007844180439016798, 0.0004556797310312098, 11.286471904239823, 7.1580123306771535, 3.9571610125268046, 1.8399116118774996, 0.7802855169740726, 0.2489798442024637, 0.040478171647824725, 0.0034103101165470257, 0.0003388346063951934, 8.207387633336027e-05, 14.600696001489547, 9.75421890186924, 5.943346249809679, 3.104772795184965, 1.3028420971721986, 0.6716637475518982, 0.17394469785564953, 0.013044275982573123, 0.00042176041655823655, 5.277390877793245e-05, 14.972619765065867]\n"
     ]
    },
    {
     "name": "stderr",
     "output_type": "stream",
     "text": [
      "\n",
      "\n",
      "Test_Cost: 9.16:  10%|██████▏                                                       | 1/10 [22:59<3:17:35, 1317.29s/it]\u001b[A\u001b[A\n",
      "\n",
      "Test_Cost: 9.16:  20%|████████████▌                                                  | 2/10 [22:59<2:05:26, 940.82s/it]\u001b[A\u001b[A"
     ]
    },
    {
     "name": "stdout",
     "output_type": "stream",
     "text": [
      "Cost [17.477931487658772, 11.481349621096912, 7.2365141576138186, 4.329902826767674, 2.4760411291537143, 1.5138635182223377, 0.7073556751685137, 0.12401734248441017, 0.007844180439016798, 0.0004556797310312098, 11.286471904239823, 7.1580123306771535, 3.9571610125268046, 1.8399116118774996, 0.7802855169740726, 0.2489798442024637, 0.040478171647824725, 0.0034103101165470257, 0.0003388346063951934, 8.207387633336027e-05, 14.600696001489547, 9.75421890186924, 5.943346249809679, 3.104772795184965, 1.3028420971721986, 0.6716637475518982, 0.17394469785564953, 0.013044275982573123, 0.00042176041655823655, 5.277390877793245e-05, 14.972619765065867, 9.155213669572213]\n"
     ]
    },
    {
     "name": "stderr",
     "output_type": "stream",
     "text": [
      "\n",
      "\n",
      "Test_Cost: 4.90:  20%|████████████▌                                                  | 2/10 [24:01<2:05:26, 940.82s/it]\u001b[A\u001b[A\n",
      "\n",
      "Test_Cost: 4.90:  30%|██████████████████▉                                            | 3/10 [24:01<1:19:00, 677.27s/it]\u001b[A\u001b[A"
     ]
    },
    {
     "name": "stdout",
     "output_type": "stream",
     "text": [
      "Cost [17.477931487658772, 11.481349621096912, 7.2365141576138186, 4.329902826767674, 2.4760411291537143, 1.5138635182223377, 0.7073556751685137, 0.12401734248441017, 0.007844180439016798, 0.0004556797310312098, 11.286471904239823, 7.1580123306771535, 3.9571610125268046, 1.8399116118774996, 0.7802855169740726, 0.2489798442024637, 0.040478171647824725, 0.0034103101165470257, 0.0003388346063951934, 8.207387633336027e-05, 14.600696001489547, 9.75421890186924, 5.943346249809679, 3.104772795184965, 1.3028420971721986, 0.6716637475518982, 0.17394469785564953, 0.013044275982573123, 0.00042176041655823655, 5.277390877793245e-05, 14.972619765065867, 9.155213669572213, 4.903756139238905]\n"
     ]
    },
    {
     "name": "stderr",
     "output_type": "stream",
     "text": [
      "\n",
      "\n",
      "Test_Cost: 2.24:  30%|██████████████████▉                                            | 3/10 [25:03<1:19:00, 677.27s/it]\u001b[A\u001b[A\n",
      "\n",
      "Test_Cost: 2.24:  40%|██████████████████████████                                       | 4/10 [25:03<49:16, 492.68s/it]\u001b[A\u001b[A"
     ]
    },
    {
     "name": "stdout",
     "output_type": "stream",
     "text": [
      "Cost [17.477931487658772, 11.481349621096912, 7.2365141576138186, 4.329902826767674, 2.4760411291537143, 1.5138635182223377, 0.7073556751685137, 0.12401734248441017, 0.007844180439016798, 0.0004556797310312098, 11.286471904239823, 7.1580123306771535, 3.9571610125268046, 1.8399116118774996, 0.7802855169740726, 0.2489798442024637, 0.040478171647824725, 0.0034103101165470257, 0.0003388346063951934, 8.207387633336027e-05, 14.600696001489547, 9.75421890186924, 5.943346249809679, 3.104772795184965, 1.3028420971721986, 0.6716637475518982, 0.17394469785564953, 0.013044275982573123, 0.00042176041655823655, 5.277390877793245e-05, 14.972619765065867, 9.155213669572213, 4.903756139238905, 2.2431711694723395]\n"
     ]
    },
    {
     "name": "stderr",
     "output_type": "stream",
     "text": [
      "\n",
      "\n",
      "Test_Cost: 1.22:  40%|██████████████████████████                                       | 4/10 [26:06<49:16, 492.68s/it]\u001b[A\u001b[A\n",
      "\n",
      "Test_Cost: 1.22:  50%|████████████████████████████████▌                                | 5/10 [26:06<30:17, 363.58s/it]\u001b[A\u001b[A"
     ]
    },
    {
     "name": "stdout",
     "output_type": "stream",
     "text": [
      "Cost [17.477931487658772, 11.481349621096912, 7.2365141576138186, 4.329902826767674, 2.4760411291537143, 1.5138635182223377, 0.7073556751685137, 0.12401734248441017, 0.007844180439016798, 0.0004556797310312098, 11.286471904239823, 7.1580123306771535, 3.9571610125268046, 1.8399116118774996, 0.7802855169740726, 0.2489798442024637, 0.040478171647824725, 0.0034103101165470257, 0.0003388346063951934, 8.207387633336027e-05, 14.600696001489547, 9.75421890186924, 5.943346249809679, 3.104772795184965, 1.3028420971721986, 0.6716637475518982, 0.17394469785564953, 0.013044275982573123, 0.00042176041655823655, 5.277390877793245e-05, 14.972619765065867, 9.155213669572213, 4.903756139238905, 2.2431711694723395, 1.2247738678146751]\n"
     ]
    },
    {
     "name": "stderr",
     "output_type": "stream",
     "text": [
      "\n",
      "\n",
      "Test_Cost: 0.63:  50%|████████████████████████████████▌                                | 5/10 [27:08<30:17, 363.58s/it]\u001b[A\u001b[A\n",
      "\n",
      "Test_Cost: 0.63:  60%|███████████████████████████████████████                          | 6/10 [27:08<18:12, 273.14s/it]\u001b[A\u001b[A"
     ]
    },
    {
     "name": "stdout",
     "output_type": "stream",
     "text": [
      "Cost [17.477931487658772, 11.481349621096912, 7.2365141576138186, 4.329902826767674, 2.4760411291537143, 1.5138635182223377, 0.7073556751685137, 0.12401734248441017, 0.007844180439016798, 0.0004556797310312098, 11.286471904239823, 7.1580123306771535, 3.9571610125268046, 1.8399116118774996, 0.7802855169740726, 0.2489798442024637, 0.040478171647824725, 0.0034103101165470257, 0.0003388346063951934, 8.207387633336027e-05, 14.600696001489547, 9.75421890186924, 5.943346249809679, 3.104772795184965, 1.3028420971721986, 0.6716637475518982, 0.17394469785564953, 0.013044275982573123, 0.00042176041655823655, 5.277390877793245e-05, 14.972619765065867, 9.155213669572213, 4.903756139238905, 2.2431711694723395, 1.2247738678146751, 0.6327003039336754]\n"
     ]
    },
    {
     "name": "stderr",
     "output_type": "stream",
     "text": [
      "\n",
      "\n",
      "Test_Cost: 0.13:  60%|███████████████████████████████████████                          | 6/10 [28:10<18:12, 273.14s/it]\u001b[A\u001b[A\n",
      "\n",
      "Test_Cost: 0.13:  70%|█████████████████████████████████████████████▌                   | 7/10 [28:10<10:29, 209.94s/it]\u001b[A\u001b[A"
     ]
    },
    {
     "name": "stdout",
     "output_type": "stream",
     "text": [
      "Cost [17.477931487658772, 11.481349621096912, 7.2365141576138186, 4.329902826767674, 2.4760411291537143, 1.5138635182223377, 0.7073556751685137, 0.12401734248441017, 0.007844180439016798, 0.0004556797310312098, 11.286471904239823, 7.1580123306771535, 3.9571610125268046, 1.8399116118774996, 0.7802855169740726, 0.2489798442024637, 0.040478171647824725, 0.0034103101165470257, 0.0003388346063951934, 8.207387633336027e-05, 14.600696001489547, 9.75421890186924, 5.943346249809679, 3.104772795184965, 1.3028420971721986, 0.6716637475518982, 0.17394469785564953, 0.013044275982573123, 0.00042176041655823655, 5.277390877793245e-05, 14.972619765065867, 9.155213669572213, 4.903756139238905, 2.2431711694723395, 1.2247738678146751, 0.6327003039336754, 0.13385226554640417]\n"
     ]
    },
    {
     "name": "stderr",
     "output_type": "stream",
     "text": [
      "\n",
      "\n",
      "Test_Cost: 0.01:  70%|█████████████████████████████████████████████▌                   | 7/10 [29:16<10:29, 209.94s/it]\u001b[A\u001b[A\n",
      "\n",
      "Test_Cost: 0.01:  80%|████████████████████████████████████████████████████             | 8/10 [29:16<05:33, 166.72s/it]\u001b[A\u001b[A"
     ]
    },
    {
     "name": "stdout",
     "output_type": "stream",
     "text": [
      "Cost [17.477931487658772, 11.481349621096912, 7.2365141576138186, 4.329902826767674, 2.4760411291537143, 1.5138635182223377, 0.7073556751685137, 0.12401734248441017, 0.007844180439016798, 0.0004556797310312098, 11.286471904239823, 7.1580123306771535, 3.9571610125268046, 1.8399116118774996, 0.7802855169740726, 0.2489798442024637, 0.040478171647824725, 0.0034103101165470257, 0.0003388346063951934, 8.207387633336027e-05, 14.600696001489547, 9.75421890186924, 5.943346249809679, 3.104772795184965, 1.3028420971721986, 0.6716637475518982, 0.17394469785564953, 0.013044275982573123, 0.00042176041655823655, 5.277390877793245e-05, 14.972619765065867, 9.155213669572213, 4.903756139238905, 2.2431711694723395, 1.2247738678146751, 0.6327003039336754, 0.13385226554640417, 0.006069226684909263]\n"
     ]
    },
    {
     "name": "stderr",
     "output_type": "stream",
     "text": [
      "\n",
      "\n",
      "Test_Cost: 0.00:  80%|████████████████████████████████████████████████████             | 8/10 [30:23<05:33, 166.72s/it]\u001b[A\u001b[A\n",
      "\n",
      "Test_Cost: 0.00:  90%|██████████████████████████████████████████████████████████▌      | 9/10 [30:23<02:16, 136.58s/it]\u001b[A\u001b[A"
     ]
    },
    {
     "name": "stdout",
     "output_type": "stream",
     "text": [
      "Cost [17.477931487658772, 11.481349621096912, 7.2365141576138186, 4.329902826767674, 2.4760411291537143, 1.5138635182223377, 0.7073556751685137, 0.12401734248441017, 0.007844180439016798, 0.0004556797310312098, 11.286471904239823, 7.1580123306771535, 3.9571610125268046, 1.8399116118774996, 0.7802855169740726, 0.2489798442024637, 0.040478171647824725, 0.0034103101165470257, 0.0003388346063951934, 8.207387633336027e-05, 14.600696001489547, 9.75421890186924, 5.943346249809679, 3.104772795184965, 1.3028420971721986, 0.6716637475518982, 0.17394469785564953, 0.013044275982573123, 0.00042176041655823655, 5.277390877793245e-05, 14.972619765065867, 9.155213669572213, 4.903756139238905, 2.2431711694723395, 1.2247738678146751, 0.6327003039336754, 0.13385226554640417, 0.006069226684909263, 0.00017053570314741042]\n"
     ]
    },
    {
     "name": "stderr",
     "output_type": "stream",
     "text": [
      "\n",
      "\n",
      "Test_Cost: 0.00:  90%|██████████████████████████████████████████████████████████▌      | 9/10 [31:29<02:16, 136.58s/it]\u001b[A\u001b[A\n",
      "\n",
      "Test_Cost: 0.00: 100%|████████████████████████████████████████████████████████████████| 10/10 [31:29<00:00, 188.93s/it]\u001b[A\u001b[A\n",
      "  0%|                                                                                           | 0/10 [00:00<?, ?it/s]\n",
      "  0%|                                                                                           | 0/10 [00:00<?, ?it/s]\u001b[A\n",
      "\n",
      "  0%|                                                                                           | 0/10 [00:00<?, ?it/s]\u001b[A\u001b[A"
     ]
    },
    {
     "name": "stdout",
     "output_type": "stream",
     "text": [
      "Cost [17.477931487658772, 11.481349621096912, 7.2365141576138186, 4.329902826767674, 2.4760411291537143, 1.5138635182223377, 0.7073556751685137, 0.12401734248441017, 0.007844180439016798, 0.0004556797310312098, 11.286471904239823, 7.1580123306771535, 3.9571610125268046, 1.8399116118774996, 0.7802855169740726, 0.2489798442024637, 0.040478171647824725, 0.0034103101165470257, 0.0003388346063951934, 8.207387633336027e-05, 14.600696001489547, 9.75421890186924, 5.943346249809679, 3.104772795184965, 1.3028420971721986, 0.6716637475518982, 0.17394469785564953, 0.013044275982573123, 0.00042176041655823655, 5.277390877793245e-05, 14.972619765065867, 9.155213669572213, 4.903756139238905, 2.2431711694723395, 1.2247738678146751, 0.6327003039336754, 0.13385226554640417, 0.006069226684909263, 0.00017053570314741042, 1.8954303310665997e-05]\n"
     ]
    },
    {
     "name": "stderr",
     "output_type": "stream",
     "text": [
      "Cost: 15.01:  10%|███████                                                               | 1/10 [01:07<10:08, 67.59s/it]"
     ]
    },
    {
     "name": "stdout",
     "output_type": "stream",
     "text": [
      "Cost [1.805058834099499, 0.41932456458767126, 0.014087307350374025, 0.0001692433711427714, 5.653639294561886e-05, 3.356158175112585e-05, 2.396809661747693e-05, 1.9735546402678084e-05, 1.5763080920937223e-05, 1.3486385941374477e-05, 10.794958456889965, 6.921550221291253, 3.9205335028904216, 2.0339443569756948, 1.1359513374314638, 0.5665828764235191, 0.18895635398112973, 0.03744538130653987, 0.0041888964860639834, 0.0004988327741898294, 13.936540459613047, 9.96470549480028, 6.759911915500286, 4.147051321106824, 2.2729482942453947, 1.1610517082172722, 0.42251486776857794, 0.07469555281327084, 0.006418318407235089, 0.0005783703895562986, 12.836280793449864, 8.198480580402592, 4.708526150373516, 2.427440691808707, 1.259752148916097, 0.7081402542711223, 0.18073413084663914, 0.010133898370896953, 0.00024371080452472945, 2.753302081775263e-05, 15.011368842088576]\n"
     ]
    },
    {
     "name": "stderr",
     "output_type": "stream",
     "text": [
      "Cost: 9.18:  20%|██████████████▏                                                        | 2/10 [02:18<09:09, 68.71s/it]"
     ]
    },
    {
     "name": "stdout",
     "output_type": "stream",
     "text": [
      "Cost [1.805058834099499, 0.41932456458767126, 0.014087307350374025, 0.0001692433711427714, 5.653639294561886e-05, 3.356158175112585e-05, 2.396809661747693e-05, 1.9735546402678084e-05, 1.5763080920937223e-05, 1.3486385941374477e-05, 10.794958456889965, 6.921550221291253, 3.9205335028904216, 2.0339443569756948, 1.1359513374314638, 0.5665828764235191, 0.18895635398112973, 0.03744538130653987, 0.0041888964860639834, 0.0004988327741898294, 13.936540459613047, 9.96470549480028, 6.759911915500286, 4.147051321106824, 2.2729482942453947, 1.1610517082172722, 0.42251486776857794, 0.07469555281327084, 0.006418318407235089, 0.0005783703895562986, 12.836280793449864, 8.198480580402592, 4.708526150373516, 2.427440691808707, 1.259752148916097, 0.7081402542711223, 0.18073413084663914, 0.010133898370896953, 0.00024371080452472945, 2.753302081775263e-05, 15.011368842088576, 9.177649407984147]\n"
     ]
    },
    {
     "name": "stderr",
     "output_type": "stream",
     "text": [
      "Cost: 5.02:  30%|█████████████████████▎                                                 | 3/10 [03:26<07:59, 68.49s/it]"
     ]
    },
    {
     "name": "stdout",
     "output_type": "stream",
     "text": [
      "Cost [1.805058834099499, 0.41932456458767126, 0.014087307350374025, 0.0001692433711427714, 5.653639294561886e-05, 3.356158175112585e-05, 2.396809661747693e-05, 1.9735546402678084e-05, 1.5763080920937223e-05, 1.3486385941374477e-05, 10.794958456889965, 6.921550221291253, 3.9205335028904216, 2.0339443569756948, 1.1359513374314638, 0.5665828764235191, 0.18895635398112973, 0.03744538130653987, 0.0041888964860639834, 0.0004988327741898294, 13.936540459613047, 9.96470549480028, 6.759911915500286, 4.147051321106824, 2.2729482942453947, 1.1610517082172722, 0.42251486776857794, 0.07469555281327084, 0.006418318407235089, 0.0005783703895562986, 12.836280793449864, 8.198480580402592, 4.708526150373516, 2.427440691808707, 1.259752148916097, 0.7081402542711223, 0.18073413084663914, 0.010133898370896953, 0.00024371080452472945, 2.753302081775263e-05, 15.011368842088576, 9.177649407984147, 5.024211633891435]\n"
     ]
    },
    {
     "name": "stderr",
     "output_type": "stream",
     "text": [
      "Cost: 2.33:  40%|████████████████████████████▍                                          | 4/10 [04:32<06:45, 67.50s/it]"
     ]
    },
    {
     "name": "stdout",
     "output_type": "stream",
     "text": [
      "Cost [1.805058834099499, 0.41932456458767126, 0.014087307350374025, 0.0001692433711427714, 5.653639294561886e-05, 3.356158175112585e-05, 2.396809661747693e-05, 1.9735546402678084e-05, 1.5763080920937223e-05, 1.3486385941374477e-05, 10.794958456889965, 6.921550221291253, 3.9205335028904216, 2.0339443569756948, 1.1359513374314638, 0.5665828764235191, 0.18895635398112973, 0.03744538130653987, 0.0041888964860639834, 0.0004988327741898294, 13.936540459613047, 9.96470549480028, 6.759911915500286, 4.147051321106824, 2.2729482942453947, 1.1610517082172722, 0.42251486776857794, 0.07469555281327084, 0.006418318407235089, 0.0005783703895562986, 12.836280793449864, 8.198480580402592, 4.708526150373516, 2.427440691808707, 1.259752148916097, 0.7081402542711223, 0.18073413084663914, 0.010133898370896953, 0.00024371080452472945, 2.753302081775263e-05, 15.011368842088576, 9.177649407984147, 5.024211633891435, 2.325921674059211]\n"
     ]
    },
    {
     "name": "stderr",
     "output_type": "stream",
     "text": [
      "Cost: 1.18:  50%|███████████████████████████████████▌                                   | 5/10 [05:39<05:36, 67.35s/it]"
     ]
    },
    {
     "name": "stdout",
     "output_type": "stream",
     "text": [
      "Cost [1.805058834099499, 0.41932456458767126, 0.014087307350374025, 0.0001692433711427714, 5.653639294561886e-05, 3.356158175112585e-05, 2.396809661747693e-05, 1.9735546402678084e-05, 1.5763080920937223e-05, 1.3486385941374477e-05, 10.794958456889965, 6.921550221291253, 3.9205335028904216, 2.0339443569756948, 1.1359513374314638, 0.5665828764235191, 0.18895635398112973, 0.03744538130653987, 0.0041888964860639834, 0.0004988327741898294, 13.936540459613047, 9.96470549480028, 6.759911915500286, 4.147051321106824, 2.2729482942453947, 1.1610517082172722, 0.42251486776857794, 0.07469555281327084, 0.006418318407235089, 0.0005783703895562986, 12.836280793449864, 8.198480580402592, 4.708526150373516, 2.427440691808707, 1.259752148916097, 0.7081402542711223, 0.18073413084663914, 0.010133898370896953, 0.00024371080452472945, 2.753302081775263e-05, 15.011368842088576, 9.177649407984147, 5.024211633891435, 2.325921674059211, 1.181703919301214]\n"
     ]
    },
    {
     "name": "stderr",
     "output_type": "stream",
     "text": [
      "Cost: 1.11:  60%|██████████████████████████████████████████▌                            | 6/10 [06:46<04:28, 67.23s/it]"
     ]
    },
    {
     "name": "stdout",
     "output_type": "stream",
     "text": [
      "Cost [1.805058834099499, 0.41932456458767126, 0.014087307350374025, 0.0001692433711427714, 5.653639294561886e-05, 3.356158175112585e-05, 2.396809661747693e-05, 1.9735546402678084e-05, 1.5763080920937223e-05, 1.3486385941374477e-05, 10.794958456889965, 6.921550221291253, 3.9205335028904216, 2.0339443569756948, 1.1359513374314638, 0.5665828764235191, 0.18895635398112973, 0.03744538130653987, 0.0041888964860639834, 0.0004988327741898294, 13.936540459613047, 9.96470549480028, 6.759911915500286, 4.147051321106824, 2.2729482942453947, 1.1610517082172722, 0.42251486776857794, 0.07469555281327084, 0.006418318407235089, 0.0005783703895562986, 12.836280793449864, 8.198480580402592, 4.708526150373516, 2.427440691808707, 1.259752148916097, 0.7081402542711223, 0.18073413084663914, 0.010133898370896953, 0.00024371080452472945, 2.753302081775263e-05, 15.011368842088576, 9.177649407984147, 5.024211633891435, 2.325921674059211, 1.181703919301214, 1.1140912177270343]\n"
     ]
    },
    {
     "name": "stderr",
     "output_type": "stream",
     "text": [
      "Cost: 0.47:  70%|█████████████████████████████████████████████████▋                     | 7/10 [07:51<03:20, 66.76s/it]"
     ]
    },
    {
     "name": "stdout",
     "output_type": "stream",
     "text": [
      "Cost [1.805058834099499, 0.41932456458767126, 0.014087307350374025, 0.0001692433711427714, 5.653639294561886e-05, 3.356158175112585e-05, 2.396809661747693e-05, 1.9735546402678084e-05, 1.5763080920937223e-05, 1.3486385941374477e-05, 10.794958456889965, 6.921550221291253, 3.9205335028904216, 2.0339443569756948, 1.1359513374314638, 0.5665828764235191, 0.18895635398112973, 0.03744538130653987, 0.0041888964860639834, 0.0004988327741898294, 13.936540459613047, 9.96470549480028, 6.759911915500286, 4.147051321106824, 2.2729482942453947, 1.1610517082172722, 0.42251486776857794, 0.07469555281327084, 0.006418318407235089, 0.0005783703895562986, 12.836280793449864, 8.198480580402592, 4.708526150373516, 2.427440691808707, 1.259752148916097, 0.7081402542711223, 0.18073413084663914, 0.010133898370896953, 0.00024371080452472945, 2.753302081775263e-05, 15.011368842088576, 9.177649407984147, 5.024211633891435, 2.325921674059211, 1.181703919301214, 1.1140912177270343, 0.47171258927469695]\n"
     ]
    },
    {
     "name": "stderr",
     "output_type": "stream",
     "text": [
      "Cost: 0.09:  80%|████████████████████████████████████████████████████████▊              | 8/10 [08:57<02:13, 66.57s/it]"
     ]
    },
    {
     "name": "stdout",
     "output_type": "stream",
     "text": [
      "Cost [1.805058834099499, 0.41932456458767126, 0.014087307350374025, 0.0001692433711427714, 5.653639294561886e-05, 3.356158175112585e-05, 2.396809661747693e-05, 1.9735546402678084e-05, 1.5763080920937223e-05, 1.3486385941374477e-05, 10.794958456889965, 6.921550221291253, 3.9205335028904216, 2.0339443569756948, 1.1359513374314638, 0.5665828764235191, 0.18895635398112973, 0.03744538130653987, 0.0041888964860639834, 0.0004988327741898294, 13.936540459613047, 9.96470549480028, 6.759911915500286, 4.147051321106824, 2.2729482942453947, 1.1610517082172722, 0.42251486776857794, 0.07469555281327084, 0.006418318407235089, 0.0005783703895562986, 12.836280793449864, 8.198480580402592, 4.708526150373516, 2.427440691808707, 1.259752148916097, 0.7081402542711223, 0.18073413084663914, 0.010133898370896953, 0.00024371080452472945, 2.753302081775263e-05, 15.011368842088576, 9.177649407984147, 5.024211633891435, 2.325921674059211, 1.181703919301214, 1.1140912177270343, 0.47171258927469695, 0.08954736188171877]\n"
     ]
    },
    {
     "name": "stderr",
     "output_type": "stream",
     "text": [
      "Cost: 0.00:  90%|███████████████████████████████████████████████████████████████▉       | 9/10 [10:03<01:06, 66.39s/it]"
     ]
    },
    {
     "name": "stdout",
     "output_type": "stream",
     "text": [
      "Cost [1.805058834099499, 0.41932456458767126, 0.014087307350374025, 0.0001692433711427714, 5.653639294561886e-05, 3.356158175112585e-05, 2.396809661747693e-05, 1.9735546402678084e-05, 1.5763080920937223e-05, 1.3486385941374477e-05, 10.794958456889965, 6.921550221291253, 3.9205335028904216, 2.0339443569756948, 1.1359513374314638, 0.5665828764235191, 0.18895635398112973, 0.03744538130653987, 0.0041888964860639834, 0.0004988327741898294, 13.936540459613047, 9.96470549480028, 6.759911915500286, 4.147051321106824, 2.2729482942453947, 1.1610517082172722, 0.42251486776857794, 0.07469555281327084, 0.006418318407235089, 0.0005783703895562986, 12.836280793449864, 8.198480580402592, 4.708526150373516, 2.427440691808707, 1.259752148916097, 0.7081402542711223, 0.18073413084663914, 0.010133898370896953, 0.00024371080452472945, 2.753302081775263e-05, 15.011368842088576, 9.177649407984147, 5.024211633891435, 2.325921674059211, 1.181703919301214, 1.1140912177270343, 0.47171258927469695, 0.08954736188171877, 0.004429907390258706]\n"
     ]
    },
    {
     "name": "stderr",
     "output_type": "stream",
     "text": [
      "Cost: 0.00: 100%|██████████████████████████████████████████████████████████████████████| 10/10 [11:10<00:00, 67.02s/it]"
     ]
    },
    {
     "name": "stdout",
     "output_type": "stream",
     "text": [
      "Cost [1.805058834099499, 0.41932456458767126, 0.014087307350374025, 0.0001692433711427714, 5.653639294561886e-05, 3.356158175112585e-05, 2.396809661747693e-05, 1.9735546402678084e-05, 1.5763080920937223e-05, 1.3486385941374477e-05, 10.794958456889965, 6.921550221291253, 3.9205335028904216, 2.0339443569756948, 1.1359513374314638, 0.5665828764235191, 0.18895635398112973, 0.03744538130653987, 0.0041888964860639834, 0.0004988327741898294, 13.936540459613047, 9.96470549480028, 6.759911915500286, 4.147051321106824, 2.2729482942453947, 1.1610517082172722, 0.42251486776857794, 0.07469555281327084, 0.006418318407235089, 0.0005783703895562986, 12.836280793449864, 8.198480580402592, 4.708526150373516, 2.427440691808707, 1.259752148916097, 0.7081402542711223, 0.18073413084663914, 0.010133898370896953, 0.00024371080452472945, 2.753302081775263e-05, 15.011368842088576, 9.177649407984147, 5.024211633891435, 2.325921674059211, 1.181703919301214, 1.1140912177270343, 0.47171258927469695, 0.08954736188171877, 0.004429907390258706, 0.00017133434837629153]\n"
     ]
    },
    {
     "name": "stderr",
     "output_type": "stream",
     "text": [
      "\n",
      "\n",
      "Valid_Cost: 13.64:   0%|                                                                        | 0/10 [12:16<?, ?it/s]\u001b[A\n",
      "Valid_Cost: 13.64:  10%|██████                                                       | 1/10 [12:16<1:50:31, 736.84s/it]\u001b[A"
     ]
    },
    {
     "name": "stdout",
     "output_type": "stream",
     "text": [
      "Cost [12.613709885244726, 6.129279193499976, 1.9015729174187954, 0.4830742251328419, 0.059338604989321045, 0.0038545933766283057, 0.0003906240788377571, 9.15193451790838e-05, 3.919789094803865e-05, 2.5649834936594426e-05, 12.178118574525625, 8.83741414768729, 6.049341830583761, 3.717224841972516, 1.9367038000870511, 0.8429194833112358, 0.30925509649505994, 0.04688601036105282, 0.0031951087833463608, 0.0002975351746294532, 10.164771032014617, 6.8418420870715115, 4.228511992749954, 2.1664902232317886, 0.9171980347453055, 0.30422177998973543, 0.04735792114029455, 0.003021321679140005, 0.00022974909030712851, 4.913693756712343e-05, 12.514925977767167, 7.29940279102362, 3.7328417861479157, 1.8574271610449287, 1.2512844870644253, 0.74797770705636, 0.19659836765481745, 0.01166647408039311, 0.00030943374139103246, 2.9783938119770803e-05, 13.64446580618679]\n"
     ]
    },
    {
     "name": "stderr",
     "output_type": "stream",
     "text": [
      "\n",
      "Valid_Cost: 8.57:  10%|██████▏                                                       | 1/10 [13:22<1:50:31, 736.84s/it]\u001b[A\n",
      "Valid_Cost: 8.57:  20%|████████████▍                                                 | 2/10 [13:22<1:11:23, 535.45s/it]\u001b[A"
     ]
    },
    {
     "name": "stdout",
     "output_type": "stream",
     "text": [
      "Cost [12.613709885244726, 6.129279193499976, 1.9015729174187954, 0.4830742251328419, 0.059338604989321045, 0.0038545933766283057, 0.0003906240788377571, 9.15193451790838e-05, 3.919789094803865e-05, 2.5649834936594426e-05, 12.178118574525625, 8.83741414768729, 6.049341830583761, 3.717224841972516, 1.9367038000870511, 0.8429194833112358, 0.30925509649505994, 0.04688601036105282, 0.0031951087833463608, 0.0002975351746294532, 10.164771032014617, 6.8418420870715115, 4.228511992749954, 2.1664902232317886, 0.9171980347453055, 0.30422177998973543, 0.04735792114029455, 0.003021321679140005, 0.00022974909030712851, 4.913693756712343e-05, 12.514925977767167, 7.29940279102362, 3.7328417861479157, 1.8574271610449287, 1.2512844870644253, 0.74797770705636, 0.19659836765481745, 0.01166647408039311, 0.00030943374139103246, 2.9783938119770803e-05, 13.64446580618679, 8.573609685349934]\n"
     ]
    },
    {
     "name": "stderr",
     "output_type": "stream",
     "text": [
      "\n",
      "Valid_Cost: 4.77:  20%|████████████▍                                                 | 2/10 [14:28<1:11:23, 535.45s/it]\u001b[A\n",
      "Valid_Cost: 4.77:  30%|███████████████████▏                                            | 3/10 [14:28<46:03, 394.76s/it]\u001b[A"
     ]
    },
    {
     "name": "stdout",
     "output_type": "stream",
     "text": [
      "Cost [12.613709885244726, 6.129279193499976, 1.9015729174187954, 0.4830742251328419, 0.059338604989321045, 0.0038545933766283057, 0.0003906240788377571, 9.15193451790838e-05, 3.919789094803865e-05, 2.5649834936594426e-05, 12.178118574525625, 8.83741414768729, 6.049341830583761, 3.717224841972516, 1.9367038000870511, 0.8429194833112358, 0.30925509649505994, 0.04688601036105282, 0.0031951087833463608, 0.0002975351746294532, 10.164771032014617, 6.8418420870715115, 4.228511992749954, 2.1664902232317886, 0.9171980347453055, 0.30422177998973543, 0.04735792114029455, 0.003021321679140005, 0.00022974909030712851, 4.913693756712343e-05, 12.514925977767167, 7.29940279102362, 3.7328417861479157, 1.8574271610449287, 1.2512844870644253, 0.74797770705636, 0.19659836765481745, 0.01166647408039311, 0.00030943374139103246, 2.9783938119770803e-05, 13.64446580618679, 8.573609685349934, 4.771710095712352]\n"
     ]
    },
    {
     "name": "stderr",
     "output_type": "stream",
     "text": [
      "\n",
      "Valid_Cost: 2.32:  30%|███████████████████▏                                            | 3/10 [15:40<46:03, 394.76s/it]\u001b[A\n",
      "Valid_Cost: 2.32:  40%|█████████████████████████▌                                      | 4/10 [15:40<29:46, 297.73s/it]\u001b[A"
     ]
    },
    {
     "name": "stdout",
     "output_type": "stream",
     "text": [
      "Cost [12.613709885244726, 6.129279193499976, 1.9015729174187954, 0.4830742251328419, 0.059338604989321045, 0.0038545933766283057, 0.0003906240788377571, 9.15193451790838e-05, 3.919789094803865e-05, 2.5649834936594426e-05, 12.178118574525625, 8.83741414768729, 6.049341830583761, 3.717224841972516, 1.9367038000870511, 0.8429194833112358, 0.30925509649505994, 0.04688601036105282, 0.0031951087833463608, 0.0002975351746294532, 10.164771032014617, 6.8418420870715115, 4.228511992749954, 2.1664902232317886, 0.9171980347453055, 0.30422177998973543, 0.04735792114029455, 0.003021321679140005, 0.00022974909030712851, 4.913693756712343e-05, 12.514925977767167, 7.29940279102362, 3.7328417861479157, 1.8574271610449287, 1.2512844870644253, 0.74797770705636, 0.19659836765481745, 0.01166647408039311, 0.00030943374139103246, 2.9783938119770803e-05, 13.64446580618679, 8.573609685349934, 4.771710095712352, 2.3176120400710842]\n"
     ]
    },
    {
     "name": "stderr",
     "output_type": "stream",
     "text": [
      "\n",
      "Valid_Cost: 1.31:  40%|█████████████████████████▌                                      | 4/10 [16:47<29:46, 297.73s/it]\u001b[A\n",
      "Valid_Cost: 1.31:  50%|████████████████████████████████                                | 5/10 [16:47<19:02, 228.54s/it]\u001b[A"
     ]
    },
    {
     "name": "stdout",
     "output_type": "stream",
     "text": [
      "Cost [12.613709885244726, 6.129279193499976, 1.9015729174187954, 0.4830742251328419, 0.059338604989321045, 0.0038545933766283057, 0.0003906240788377571, 9.15193451790838e-05, 3.919789094803865e-05, 2.5649834936594426e-05, 12.178118574525625, 8.83741414768729, 6.049341830583761, 3.717224841972516, 1.9367038000870511, 0.8429194833112358, 0.30925509649505994, 0.04688601036105282, 0.0031951087833463608, 0.0002975351746294532, 10.164771032014617, 6.8418420870715115, 4.228511992749954, 2.1664902232317886, 0.9171980347453055, 0.30422177998973543, 0.04735792114029455, 0.003021321679140005, 0.00022974909030712851, 4.913693756712343e-05, 12.514925977767167, 7.29940279102362, 3.7328417861479157, 1.8574271610449287, 1.2512844870644253, 0.74797770705636, 0.19659836765481745, 0.01166647408039311, 0.00030943374139103246, 2.9783938119770803e-05, 13.64446580618679, 8.573609685349934, 4.771710095712352, 2.3176120400710842, 1.3147699935605954]\n"
     ]
    },
    {
     "name": "stderr",
     "output_type": "stream",
     "text": [
      "\n",
      "Valid_Cost: 1.22:  50%|████████████████████████████████                                | 5/10 [17:52<19:02, 228.54s/it]\u001b[A\n",
      "Valid_Cost: 1.22:  60%|██████████████████████████████████████▍                         | 6/10 [17:52<11:58, 179.52s/it]\u001b[A"
     ]
    },
    {
     "name": "stdout",
     "output_type": "stream",
     "text": [
      "Cost [12.613709885244726, 6.129279193499976, 1.9015729174187954, 0.4830742251328419, 0.059338604989321045, 0.0038545933766283057, 0.0003906240788377571, 9.15193451790838e-05, 3.919789094803865e-05, 2.5649834936594426e-05, 12.178118574525625, 8.83741414768729, 6.049341830583761, 3.717224841972516, 1.9367038000870511, 0.8429194833112358, 0.30925509649505994, 0.04688601036105282, 0.0031951087833463608, 0.0002975351746294532, 10.164771032014617, 6.8418420870715115, 4.228511992749954, 2.1664902232317886, 0.9171980347453055, 0.30422177998973543, 0.04735792114029455, 0.003021321679140005, 0.00022974909030712851, 4.913693756712343e-05, 12.514925977767167, 7.29940279102362, 3.7328417861479157, 1.8574271610449287, 1.2512844870644253, 0.74797770705636, 0.19659836765481745, 0.01166647408039311, 0.00030943374139103246, 2.9783938119770803e-05, 13.64446580618679, 8.573609685349934, 4.771710095712352, 2.3176120400710842, 1.3147699935605954, 1.2236189226704695]\n"
     ]
    },
    {
     "name": "stderr",
     "output_type": "stream",
     "text": [
      "\n",
      "Valid_Cost: 0.67:  60%|██████████████████████████████████████▍                         | 6/10 [19:01<11:58, 179.52s/it]\u001b[A\n",
      "Valid_Cost: 0.67:  70%|████████████████████████████████████████████▊                   | 7/10 [19:01<07:19, 146.44s/it]\u001b[A"
     ]
    },
    {
     "name": "stdout",
     "output_type": "stream",
     "text": [
      "Cost [12.613709885244726, 6.129279193499976, 1.9015729174187954, 0.4830742251328419, 0.059338604989321045, 0.0038545933766283057, 0.0003906240788377571, 9.15193451790838e-05, 3.919789094803865e-05, 2.5649834936594426e-05, 12.178118574525625, 8.83741414768729, 6.049341830583761, 3.717224841972516, 1.9367038000870511, 0.8429194833112358, 0.30925509649505994, 0.04688601036105282, 0.0031951087833463608, 0.0002975351746294532, 10.164771032014617, 6.8418420870715115, 4.228511992749954, 2.1664902232317886, 0.9171980347453055, 0.30422177998973543, 0.04735792114029455, 0.003021321679140005, 0.00022974909030712851, 4.913693756712343e-05, 12.514925977767167, 7.29940279102362, 3.7328417861479157, 1.8574271610449287, 1.2512844870644253, 0.74797770705636, 0.19659836765481745, 0.01166647408039311, 0.00030943374139103246, 2.9783938119770803e-05, 13.64446580618679, 8.573609685349934, 4.771710095712352, 2.3176120400710842, 1.3147699935605954, 1.2236189226704695, 0.667521883160358]\n"
     ]
    },
    {
     "name": "stderr",
     "output_type": "stream",
     "text": [
      "\n",
      "Valid_Cost: 0.23:  70%|████████████████████████████████████████████▊                   | 7/10 [20:15<07:19, 146.44s/it]\u001b[A\n",
      "Valid_Cost: 0.23:  80%|███████████████████████████████████████████████████▏            | 8/10 [20:15<04:09, 124.55s/it]\u001b[A"
     ]
    },
    {
     "name": "stdout",
     "output_type": "stream",
     "text": [
      "Cost [12.613709885244726, 6.129279193499976, 1.9015729174187954, 0.4830742251328419, 0.059338604989321045, 0.0038545933766283057, 0.0003906240788377571, 9.15193451790838e-05, 3.919789094803865e-05, 2.5649834936594426e-05, 12.178118574525625, 8.83741414768729, 6.049341830583761, 3.717224841972516, 1.9367038000870511, 0.8429194833112358, 0.30925509649505994, 0.04688601036105282, 0.0031951087833463608, 0.0002975351746294532, 10.164771032014617, 6.8418420870715115, 4.228511992749954, 2.1664902232317886, 0.9171980347453055, 0.30422177998973543, 0.04735792114029455, 0.003021321679140005, 0.00022974909030712851, 4.913693756712343e-05, 12.514925977767167, 7.29940279102362, 3.7328417861479157, 1.8574271610449287, 1.2512844870644253, 0.74797770705636, 0.19659836765481745, 0.01166647408039311, 0.00030943374139103246, 2.9783938119770803e-05, 13.64446580618679, 8.573609685349934, 4.771710095712352, 2.3176120400710842, 1.3147699935605954, 1.2236189226704695, 0.667521883160358, 0.23163752914868802]\n"
     ]
    },
    {
     "name": "stderr",
     "output_type": "stream",
     "text": [
      "\n",
      "Valid_Cost: 0.03:  80%|███████████████████████████████████████████████████▏            | 8/10 [21:24<04:09, 124.55s/it]\u001b[A\n",
      "Valid_Cost: 0.03:  90%|█████████████████████████████████████████████████████████▌      | 9/10 [21:24<01:47, 107.90s/it]\u001b[A"
     ]
    },
    {
     "name": "stdout",
     "output_type": "stream",
     "text": [
      "Cost [12.613709885244726, 6.129279193499976, 1.9015729174187954, 0.4830742251328419, 0.059338604989321045, 0.0038545933766283057, 0.0003906240788377571, 9.15193451790838e-05, 3.919789094803865e-05, 2.5649834936594426e-05, 12.178118574525625, 8.83741414768729, 6.049341830583761, 3.717224841972516, 1.9367038000870511, 0.8429194833112358, 0.30925509649505994, 0.04688601036105282, 0.0031951087833463608, 0.0002975351746294532, 10.164771032014617, 6.8418420870715115, 4.228511992749954, 2.1664902232317886, 0.9171980347453055, 0.30422177998973543, 0.04735792114029455, 0.003021321679140005, 0.00022974909030712851, 4.913693756712343e-05, 12.514925977767167, 7.29940279102362, 3.7328417861479157, 1.8574271610449287, 1.2512844870644253, 0.74797770705636, 0.19659836765481745, 0.01166647408039311, 0.00030943374139103246, 2.9783938119770803e-05, 13.64446580618679, 8.573609685349934, 4.771710095712352, 2.3176120400710842, 1.3147699935605954, 1.2236189226704695, 0.667521883160358, 0.23163752914868802, 0.027726625673225976]\n"
     ]
    },
    {
     "name": "stderr",
     "output_type": "stream",
     "text": [
      "\n",
      "Valid_Cost: 0.00:  90%|█████████████████████████████████████████████████████████▌      | 9/10 [22:32<01:47, 107.90s/it]\u001b[A\n",
      "Valid_Cost: 0.00: 100%|███████████████████████████████████████████████████████████████| 10/10 [22:32<00:00, 135.30s/it]\u001b[A"
     ]
    },
    {
     "name": "stdout",
     "output_type": "stream",
     "text": [
      "Cost [12.613709885244726, 6.129279193499976, 1.9015729174187954, 0.4830742251328419, 0.059338604989321045, 0.0038545933766283057, 0.0003906240788377571, 9.15193451790838e-05, 3.919789094803865e-05, 2.5649834936594426e-05, 12.178118574525625, 8.83741414768729, 6.049341830583761, 3.717224841972516, 1.9367038000870511, 0.8429194833112358, 0.30925509649505994, 0.04688601036105282, 0.0031951087833463608, 0.0002975351746294532, 10.164771032014617, 6.8418420870715115, 4.228511992749954, 2.1664902232317886, 0.9171980347453055, 0.30422177998973543, 0.04735792114029455, 0.003021321679140005, 0.00022974909030712851, 4.913693756712343e-05, 12.514925977767167, 7.29940279102362, 3.7328417861479157, 1.8574271610449287, 1.2512844870644253, 0.74797770705636, 0.19659836765481745, 0.01166647408039311, 0.00030943374139103246, 2.9783938119770803e-05, 13.64446580618679, 8.573609685349934, 4.771710095712352, 2.3176120400710842, 1.3147699935605954, 1.2236189226704695, 0.667521883160358, 0.23163752914868802, 0.027726625673225976, 0.001240131038953828]\n"
     ]
    },
    {
     "name": "stderr",
     "output_type": "stream",
     "text": [
      "\n",
      "\n",
      "\n",
      "Test_Cost: 16.56:   0%|                                                                         | 0/10 [23:43<?, ?it/s]\u001b[A\u001b[A\n",
      "\n",
      "Test_Cost: 16.56:  10%|██████                                                       | 1/10 [23:43<3:33:28, 1423.15s/it]\u001b[A\u001b[A"
     ]
    },
    {
     "name": "stdout",
     "output_type": "stream",
     "text": [
      "Cost [17.477931487658772, 11.481349621096912, 7.2365141576138186, 4.329902826767674, 2.4760411291537143, 1.5138635182223377, 0.7073556751685137, 0.12401734248441017, 0.007844180439016798, 0.0004556797310312098, 11.286471904239823, 7.1580123306771535, 3.9571610125268046, 1.8399116118774996, 0.7802855169740726, 0.2489798442024637, 0.040478171647824725, 0.0034103101165470257, 0.0003388346063951934, 8.207387633336027e-05, 14.600696001489547, 9.75421890186924, 5.943346249809679, 3.104772795184965, 1.3028420971721986, 0.6716637475518982, 0.17394469785564953, 0.013044275982573123, 0.00042176041655823655, 5.277390877793245e-05, 14.972619765065867, 9.155213669572213, 4.903756139238905, 2.2431711694723395, 1.2247738678146751, 0.6327003039336754, 0.13385226554640417, 0.006069226684909263, 0.00017053570314741042, 1.8954303310665997e-05, 16.557461094319603]\n"
     ]
    },
    {
     "name": "stderr",
     "output_type": "stream",
     "text": [
      "\n",
      "\n",
      "Test_Cost: 10.31:  10%|██████                                                       | 1/10 [24:58<3:33:28, 1423.15s/it]\u001b[A\u001b[A\n",
      "\n",
      "Test_Cost: 10.31:  20%|████████████▏                                                | 2/10 [24:58<2:15:50, 1018.80s/it]\u001b[A\u001b[A"
     ]
    },
    {
     "name": "stdout",
     "output_type": "stream",
     "text": [
      "Cost [17.477931487658772, 11.481349621096912, 7.2365141576138186, 4.329902826767674, 2.4760411291537143, 1.5138635182223377, 0.7073556751685137, 0.12401734248441017, 0.007844180439016798, 0.0004556797310312098, 11.286471904239823, 7.1580123306771535, 3.9571610125268046, 1.8399116118774996, 0.7802855169740726, 0.2489798442024637, 0.040478171647824725, 0.0034103101165470257, 0.0003388346063951934, 8.207387633336027e-05, 14.600696001489547, 9.75421890186924, 5.943346249809679, 3.104772795184965, 1.3028420971721986, 0.6716637475518982, 0.17394469785564953, 0.013044275982573123, 0.00042176041655823655, 5.277390877793245e-05, 14.972619765065867, 9.155213669572213, 4.903756139238905, 2.2431711694723395, 1.2247738678146751, 0.6327003039336754, 0.13385226554640417, 0.006069226684909263, 0.00017053570314741042, 1.8954303310665997e-05, 16.557461094319603, 10.312316690749679]\n"
     ]
    },
    {
     "name": "stderr",
     "output_type": "stream",
     "text": [
      "\n",
      "\n",
      "Test_Cost: 5.81:  20%|████████████▍                                                 | 2/10 [26:15<2:15:50, 1018.80s/it]\u001b[A\u001b[A\n",
      "\n",
      "Test_Cost: 5.81:  30%|██████████████████▉                                            | 3/10 [26:15<1:25:54, 736.34s/it]\u001b[A\u001b[A"
     ]
    },
    {
     "name": "stdout",
     "output_type": "stream",
     "text": [
      "Cost [17.477931487658772, 11.481349621096912, 7.2365141576138186, 4.329902826767674, 2.4760411291537143, 1.5138635182223377, 0.7073556751685137, 0.12401734248441017, 0.007844180439016798, 0.0004556797310312098, 11.286471904239823, 7.1580123306771535, 3.9571610125268046, 1.8399116118774996, 0.7802855169740726, 0.2489798442024637, 0.040478171647824725, 0.0034103101165470257, 0.0003388346063951934, 8.207387633336027e-05, 14.600696001489547, 9.75421890186924, 5.943346249809679, 3.104772795184965, 1.3028420971721986, 0.6716637475518982, 0.17394469785564953, 0.013044275982573123, 0.00042176041655823655, 5.277390877793245e-05, 14.972619765065867, 9.155213669572213, 4.903756139238905, 2.2431711694723395, 1.2247738678146751, 0.6327003039336754, 0.13385226554640417, 0.006069226684909263, 0.00017053570314741042, 1.8954303310665997e-05, 16.557461094319603, 10.312316690749679, 5.807679969784163]\n"
     ]
    },
    {
     "name": "stderr",
     "output_type": "stream",
     "text": [
      "\n",
      "\n",
      "Test_Cost: 2.98:  30%|██████████████████▉                                            | 3/10 [27:23<1:25:54, 736.34s/it]\u001b[A\u001b[A\n",
      "\n",
      "Test_Cost: 2.98:  40%|██████████████████████████                                       | 4/10 [27:23<53:34, 535.82s/it]\u001b[A\u001b[A"
     ]
    },
    {
     "name": "stdout",
     "output_type": "stream",
     "text": [
      "Cost [17.477931487658772, 11.481349621096912, 7.2365141576138186, 4.329902826767674, 2.4760411291537143, 1.5138635182223377, 0.7073556751685137, 0.12401734248441017, 0.007844180439016798, 0.0004556797310312098, 11.286471904239823, 7.1580123306771535, 3.9571610125268046, 1.8399116118774996, 0.7802855169740726, 0.2489798442024637, 0.040478171647824725, 0.0034103101165470257, 0.0003388346063951934, 8.207387633336027e-05, 14.600696001489547, 9.75421890186924, 5.943346249809679, 3.104772795184965, 1.3028420971721986, 0.6716637475518982, 0.17394469785564953, 0.013044275982573123, 0.00042176041655823655, 5.277390877793245e-05, 14.972619765065867, 9.155213669572213, 4.903756139238905, 2.2431711694723395, 1.2247738678146751, 0.6327003039336754, 0.13385226554640417, 0.006069226684909263, 0.00017053570314741042, 1.8954303310665997e-05, 16.557461094319603, 10.312316690749679, 5.807679969784163, 2.978874251521571]\n"
     ]
    },
    {
     "name": "stderr",
     "output_type": "stream",
     "text": [
      "\n",
      "\n",
      "Test_Cost: 1.55:  40%|██████████████████████████                                       | 4/10 [28:36<53:34, 535.82s/it]\u001b[A\u001b[A\n",
      "\n",
      "Test_Cost: 1.55:  50%|████████████████████████████████▌                                | 5/10 [28:36<33:04, 396.89s/it]\u001b[A\u001b[A"
     ]
    },
    {
     "name": "stdout",
     "output_type": "stream",
     "text": [
      "Cost [17.477931487658772, 11.481349621096912, 7.2365141576138186, 4.329902826767674, 2.4760411291537143, 1.5138635182223377, 0.7073556751685137, 0.12401734248441017, 0.007844180439016798, 0.0004556797310312098, 11.286471904239823, 7.1580123306771535, 3.9571610125268046, 1.8399116118774996, 0.7802855169740726, 0.2489798442024637, 0.040478171647824725, 0.0034103101165470257, 0.0003388346063951934, 8.207387633336027e-05, 14.600696001489547, 9.75421890186924, 5.943346249809679, 3.104772795184965, 1.3028420971721986, 0.6716637475518982, 0.17394469785564953, 0.013044275982573123, 0.00042176041655823655, 5.277390877793245e-05, 14.972619765065867, 9.155213669572213, 4.903756139238905, 2.2431711694723395, 1.2247738678146751, 0.6327003039336754, 0.13385226554640417, 0.006069226684909263, 0.00017053570314741042, 1.8954303310665997e-05, 16.557461094319603, 10.312316690749679, 5.807679969784163, 2.978874251521571, 1.5495151527915902]\n"
     ]
    },
    {
     "name": "stderr",
     "output_type": "stream",
     "text": [
      "\n",
      "\n",
      "Test_Cost: 1.35:  50%|████████████████████████████████▌                                | 5/10 [29:44<33:04, 396.89s/it]\u001b[A\u001b[A\n",
      "\n",
      "Test_Cost: 1.35:  60%|███████████████████████████████████████                          | 6/10 [29:44<19:53, 298.38s/it]\u001b[A\u001b[A"
     ]
    },
    {
     "name": "stdout",
     "output_type": "stream",
     "text": [
      "Cost [17.477931487658772, 11.481349621096912, 7.2365141576138186, 4.329902826767674, 2.4760411291537143, 1.5138635182223377, 0.7073556751685137, 0.12401734248441017, 0.007844180439016798, 0.0004556797310312098, 11.286471904239823, 7.1580123306771535, 3.9571610125268046, 1.8399116118774996, 0.7802855169740726, 0.2489798442024637, 0.040478171647824725, 0.0034103101165470257, 0.0003388346063951934, 8.207387633336027e-05, 14.600696001489547, 9.75421890186924, 5.943346249809679, 3.104772795184965, 1.3028420971721986, 0.6716637475518982, 0.17394469785564953, 0.013044275982573123, 0.00042176041655823655, 5.277390877793245e-05, 14.972619765065867, 9.155213669572213, 4.903756139238905, 2.2431711694723395, 1.2247738678146751, 0.6327003039336754, 0.13385226554640417, 0.006069226684909263, 0.00017053570314741042, 1.8954303310665997e-05, 16.557461094319603, 10.312316690749679, 5.807679969784163, 2.978874251521571, 1.5495151527915902, 1.351094254483115]\n"
     ]
    },
    {
     "name": "stderr",
     "output_type": "stream",
     "text": [
      "\n",
      "\n",
      "Test_Cost: 0.79:  60%|███████████████████████████████████████                          | 6/10 [30:56<19:53, 298.38s/it]\u001b[A\u001b[A\n",
      "\n",
      "Test_Cost: 0.79:  70%|█████████████████████████████████████████████▌                   | 7/10 [30:56<11:30, 230.30s/it]\u001b[A\u001b[A"
     ]
    },
    {
     "name": "stdout",
     "output_type": "stream",
     "text": [
      "Cost [17.477931487658772, 11.481349621096912, 7.2365141576138186, 4.329902826767674, 2.4760411291537143, 1.5138635182223377, 0.7073556751685137, 0.12401734248441017, 0.007844180439016798, 0.0004556797310312098, 11.286471904239823, 7.1580123306771535, 3.9571610125268046, 1.8399116118774996, 0.7802855169740726, 0.2489798442024637, 0.040478171647824725, 0.0034103101165470257, 0.0003388346063951934, 8.207387633336027e-05, 14.600696001489547, 9.75421890186924, 5.943346249809679, 3.104772795184965, 1.3028420971721986, 0.6716637475518982, 0.17394469785564953, 0.013044275982573123, 0.00042176041655823655, 5.277390877793245e-05, 14.972619765065867, 9.155213669572213, 4.903756139238905, 2.2431711694723395, 1.2247738678146751, 0.6327003039336754, 0.13385226554640417, 0.006069226684909263, 0.00017053570314741042, 1.8954303310665997e-05, 16.557461094319603, 10.312316690749679, 5.807679969784163, 2.978874251521571, 1.5495151527915902, 1.351094254483115, 0.7920496809535496]\n"
     ]
    },
    {
     "name": "stderr",
     "output_type": "stream",
     "text": [
      "\n",
      "\n",
      "Test_Cost: 0.26:  70%|█████████████████████████████████████████████▌                   | 7/10 [32:01<11:30, 230.30s/it]\u001b[A\u001b[A\n",
      "\n",
      "Test_Cost: 0.26:  80%|████████████████████████████████████████████████████             | 8/10 [32:01<06:01, 180.71s/it]\u001b[A\u001b[A"
     ]
    },
    {
     "name": "stdout",
     "output_type": "stream",
     "text": [
      "Cost [17.477931487658772, 11.481349621096912, 7.2365141576138186, 4.329902826767674, 2.4760411291537143, 1.5138635182223377, 0.7073556751685137, 0.12401734248441017, 0.007844180439016798, 0.0004556797310312098, 11.286471904239823, 7.1580123306771535, 3.9571610125268046, 1.8399116118774996, 0.7802855169740726, 0.2489798442024637, 0.040478171647824725, 0.0034103101165470257, 0.0003388346063951934, 8.207387633336027e-05, 14.600696001489547, 9.75421890186924, 5.943346249809679, 3.104772795184965, 1.3028420971721986, 0.6716637475518982, 0.17394469785564953, 0.013044275982573123, 0.00042176041655823655, 5.277390877793245e-05, 14.972619765065867, 9.155213669572213, 4.903756139238905, 2.2431711694723395, 1.2247738678146751, 0.6327003039336754, 0.13385226554640417, 0.006069226684909263, 0.00017053570314741042, 1.8954303310665997e-05, 16.557461094319603, 10.312316690749679, 5.807679969784163, 2.978874251521571, 1.5495151527915902, 1.351094254483115, 0.7920496809535496, 0.2575269765176783]\n"
     ]
    },
    {
     "name": "stderr",
     "output_type": "stream",
     "text": [
      "\n",
      "\n",
      "Test_Cost: 0.02:  80%|████████████████████████████████████████████████████             | 8/10 [33:08<06:01, 180.71s/it]\u001b[A\u001b[A\n",
      "\n",
      "Test_Cost: 0.02:  90%|██████████████████████████████████████████████████████████▌      | 9/10 [33:08<02:26, 146.78s/it]\u001b[A\u001b[A"
     ]
    },
    {
     "name": "stdout",
     "output_type": "stream",
     "text": [
      "Cost [17.477931487658772, 11.481349621096912, 7.2365141576138186, 4.329902826767674, 2.4760411291537143, 1.5138635182223377, 0.7073556751685137, 0.12401734248441017, 0.007844180439016798, 0.0004556797310312098, 11.286471904239823, 7.1580123306771535, 3.9571610125268046, 1.8399116118774996, 0.7802855169740726, 0.2489798442024637, 0.040478171647824725, 0.0034103101165470257, 0.0003388346063951934, 8.207387633336027e-05, 14.600696001489547, 9.75421890186924, 5.943346249809679, 3.104772795184965, 1.3028420971721986, 0.6716637475518982, 0.17394469785564953, 0.013044275982573123, 0.00042176041655823655, 5.277390877793245e-05, 14.972619765065867, 9.155213669572213, 4.903756139238905, 2.2431711694723395, 1.2247738678146751, 0.6327003039336754, 0.13385226554640417, 0.006069226684909263, 0.00017053570314741042, 1.8954303310665997e-05, 16.557461094319603, 10.312316690749679, 5.807679969784163, 2.978874251521571, 1.5495151527915902, 1.351094254483115, 0.7920496809535496, 0.2575269765176783, 0.022406656313162774]\n"
     ]
    },
    {
     "name": "stderr",
     "output_type": "stream",
     "text": [
      "\n",
      "\n",
      "Test_Cost: 0.00:  90%|██████████████████████████████████████████████████████████▌      | 9/10 [34:14<02:26, 146.78s/it]\u001b[A\u001b[A\n",
      "\n",
      "Test_Cost: 0.00: 100%|████████████████████████████████████████████████████████████████| 10/10 [34:14<00:00, 205.41s/it]\u001b[A\u001b[A\n",
      "  0%|                                                                                           | 0/10 [00:00<?, ?it/s]\n",
      "  0%|                                                                                           | 0/10 [00:00<?, ?it/s]\u001b[A\n",
      "\n",
      "  0%|                                                                                           | 0/10 [00:00<?, ?it/s]\u001b[A\u001b[A"
     ]
    },
    {
     "name": "stdout",
     "output_type": "stream",
     "text": [
      "Cost [17.477931487658772, 11.481349621096912, 7.2365141576138186, 4.329902826767674, 2.4760411291537143, 1.5138635182223377, 0.7073556751685137, 0.12401734248441017, 0.007844180439016798, 0.0004556797310312098, 11.286471904239823, 7.1580123306771535, 3.9571610125268046, 1.8399116118774996, 0.7802855169740726, 0.2489798442024637, 0.040478171647824725, 0.0034103101165470257, 0.0003388346063951934, 8.207387633336027e-05, 14.600696001489547, 9.75421890186924, 5.943346249809679, 3.104772795184965, 1.3028420971721986, 0.6716637475518982, 0.17394469785564953, 0.013044275982573123, 0.00042176041655823655, 5.277390877793245e-05, 14.972619765065867, 9.155213669572213, 4.903756139238905, 2.2431711694723395, 1.2247738678146751, 0.6327003039336754, 0.13385226554640417, 0.006069226684909263, 0.00017053570314741042, 1.8954303310665997e-05, 16.557461094319603, 10.312316690749679, 5.807679969784163, 2.978874251521571, 1.5495151527915902, 1.351094254483115, 0.7920496809535496, 0.2575269765176783, 0.022406656313162774, 0.0005332186390589695]\n"
     ]
    },
    {
     "name": "stderr",
     "output_type": "stream",
     "text": [
      "Cost: 13.29:  10%|███████                                                               | 1/10 [01:05<09:46, 65.17s/it]"
     ]
    },
    {
     "name": "stdout",
     "output_type": "stream",
     "text": [
      "Cost [1.805058834099499, 0.41932456458767126, 0.014087307350374025, 0.0001692433711427714, 5.653639294561886e-05, 3.356158175112585e-05, 2.396809661747693e-05, 1.9735546402678084e-05, 1.5763080920937223e-05, 1.3486385941374477e-05, 10.794958456889965, 6.921550221291253, 3.9205335028904216, 2.0339443569756948, 1.1359513374314638, 0.5665828764235191, 0.18895635398112973, 0.03744538130653987, 0.0041888964860639834, 0.0004988327741898294, 13.936540459613047, 9.96470549480028, 6.759911915500286, 4.147051321106824, 2.2729482942453947, 1.1610517082172722, 0.42251486776857794, 0.07469555281327084, 0.006418318407235089, 0.0005783703895562986, 12.836280793449864, 8.198480580402592, 4.708526150373516, 2.427440691808707, 1.259752148916097, 0.7081402542711223, 0.18073413084663914, 0.010133898370896953, 0.00024371080452472945, 2.753302081775263e-05, 15.011368842088576, 9.177649407984147, 5.024211633891435, 2.325921674059211, 1.181703919301214, 1.1140912177270343, 0.47171258927469695, 0.08954736188171877, 0.004429907390258706, 0.00017133434837629153, 13.292524588274912]\n"
     ]
    },
    {
     "name": "stderr",
     "output_type": "stream",
     "text": [
      "Cost: 8.30:  20%|██████████████▏                                                        | 2/10 [02:09<08:39, 65.00s/it]"
     ]
    },
    {
     "name": "stdout",
     "output_type": "stream",
     "text": [
      "Cost [1.805058834099499, 0.41932456458767126, 0.014087307350374025, 0.0001692433711427714, 5.653639294561886e-05, 3.356158175112585e-05, 2.396809661747693e-05, 1.9735546402678084e-05, 1.5763080920937223e-05, 1.3486385941374477e-05, 10.794958456889965, 6.921550221291253, 3.9205335028904216, 2.0339443569756948, 1.1359513374314638, 0.5665828764235191, 0.18895635398112973, 0.03744538130653987, 0.0041888964860639834, 0.0004988327741898294, 13.936540459613047, 9.96470549480028, 6.759911915500286, 4.147051321106824, 2.2729482942453947, 1.1610517082172722, 0.42251486776857794, 0.07469555281327084, 0.006418318407235089, 0.0005783703895562986, 12.836280793449864, 8.198480580402592, 4.708526150373516, 2.427440691808707, 1.259752148916097, 0.7081402542711223, 0.18073413084663914, 0.010133898370896953, 0.00024371080452472945, 2.753302081775263e-05, 15.011368842088576, 9.177649407984147, 5.024211633891435, 2.325921674059211, 1.181703919301214, 1.1140912177270343, 0.47171258927469695, 0.08954736188171877, 0.004429907390258706, 0.00017133434837629153, 13.292524588274912, 8.297900140272375]\n"
     ]
    },
    {
     "name": "stderr",
     "output_type": "stream",
     "text": [
      "Cost: 4.58:  30%|█████████████████████▎                                                 | 3/10 [03:12<07:29, 64.26s/it]"
     ]
    },
    {
     "name": "stdout",
     "output_type": "stream",
     "text": [
      "Cost [1.805058834099499, 0.41932456458767126, 0.014087307350374025, 0.0001692433711427714, 5.653639294561886e-05, 3.356158175112585e-05, 2.396809661747693e-05, 1.9735546402678084e-05, 1.5763080920937223e-05, 1.3486385941374477e-05, 10.794958456889965, 6.921550221291253, 3.9205335028904216, 2.0339443569756948, 1.1359513374314638, 0.5665828764235191, 0.18895635398112973, 0.03744538130653987, 0.0041888964860639834, 0.0004988327741898294, 13.936540459613047, 9.96470549480028, 6.759911915500286, 4.147051321106824, 2.2729482942453947, 1.1610517082172722, 0.42251486776857794, 0.07469555281327084, 0.006418318407235089, 0.0005783703895562986, 12.836280793449864, 8.198480580402592, 4.708526150373516, 2.427440691808707, 1.259752148916097, 0.7081402542711223, 0.18073413084663914, 0.010133898370896953, 0.00024371080452472945, 2.753302081775263e-05, 15.011368842088576, 9.177649407984147, 5.024211633891435, 2.325921674059211, 1.181703919301214, 1.1140912177270343, 0.47171258927469695, 0.08954736188171877, 0.004429907390258706, 0.00017133434837629153, 13.292524588274912, 8.297900140272375, 4.582539758350406]\n"
     ]
    },
    {
     "name": "stderr",
     "output_type": "stream",
     "text": [
      "Cost: 2.27:  40%|████████████████████████████▍                                          | 4/10 [04:29<06:48, 68.10s/it]"
     ]
    },
    {
     "name": "stdout",
     "output_type": "stream",
     "text": [
      "Cost [1.805058834099499, 0.41932456458767126, 0.014087307350374025, 0.0001692433711427714, 5.653639294561886e-05, 3.356158175112585e-05, 2.396809661747693e-05, 1.9735546402678084e-05, 1.5763080920937223e-05, 1.3486385941374477e-05, 10.794958456889965, 6.921550221291253, 3.9205335028904216, 2.0339443569756948, 1.1359513374314638, 0.5665828764235191, 0.18895635398112973, 0.03744538130653987, 0.0041888964860639834, 0.0004988327741898294, 13.936540459613047, 9.96470549480028, 6.759911915500286, 4.147051321106824, 2.2729482942453947, 1.1610517082172722, 0.42251486776857794, 0.07469555281327084, 0.006418318407235089, 0.0005783703895562986, 12.836280793449864, 8.198480580402592, 4.708526150373516, 2.427440691808707, 1.259752148916097, 0.7081402542711223, 0.18073413084663914, 0.010133898370896953, 0.00024371080452472945, 2.753302081775263e-05, 15.011368842088576, 9.177649407984147, 5.024211633891435, 2.325921674059211, 1.181703919301214, 1.1140912177270343, 0.47171258927469695, 0.08954736188171877, 0.004429907390258706, 0.00017133434837629153, 13.292524588274912, 8.297900140272375, 4.582539758350406, 2.2713491107232695]\n"
     ]
    },
    {
     "name": "stderr",
     "output_type": "stream",
     "text": [
      "Cost: 1.24:  50%|███████████████████████████████████▌                                   | 5/10 [05:50<06:00, 72.01s/it]"
     ]
    },
    {
     "name": "stdout",
     "output_type": "stream",
     "text": [
      "Cost [1.805058834099499, 0.41932456458767126, 0.014087307350374025, 0.0001692433711427714, 5.653639294561886e-05, 3.356158175112585e-05, 2.396809661747693e-05, 1.9735546402678084e-05, 1.5763080920937223e-05, 1.3486385941374477e-05, 10.794958456889965, 6.921550221291253, 3.9205335028904216, 2.0339443569756948, 1.1359513374314638, 0.5665828764235191, 0.18895635398112973, 0.03744538130653987, 0.0041888964860639834, 0.0004988327741898294, 13.936540459613047, 9.96470549480028, 6.759911915500286, 4.147051321106824, 2.2729482942453947, 1.1610517082172722, 0.42251486776857794, 0.07469555281327084, 0.006418318407235089, 0.0005783703895562986, 12.836280793449864, 8.198480580402592, 4.708526150373516, 2.427440691808707, 1.259752148916097, 0.7081402542711223, 0.18073413084663914, 0.010133898370896953, 0.00024371080452472945, 2.753302081775263e-05, 15.011368842088576, 9.177649407984147, 5.024211633891435, 2.325921674059211, 1.181703919301214, 1.1140912177270343, 0.47171258927469695, 0.08954736188171877, 0.004429907390258706, 0.00017133434837629153, 13.292524588274912, 8.297900140272375, 4.582539758350406, 2.2713491107232695, 1.2404167320554749]\n"
     ]
    },
    {
     "name": "stderr",
     "output_type": "stream",
     "text": [
      "Cost: 1.22:  60%|██████████████████████████████████████████▌                            | 6/10 [07:05<04:51, 72.82s/it]"
     ]
    },
    {
     "name": "stdout",
     "output_type": "stream",
     "text": [
      "Cost [1.805058834099499, 0.41932456458767126, 0.014087307350374025, 0.0001692433711427714, 5.653639294561886e-05, 3.356158175112585e-05, 2.396809661747693e-05, 1.9735546402678084e-05, 1.5763080920937223e-05, 1.3486385941374477e-05, 10.794958456889965, 6.921550221291253, 3.9205335028904216, 2.0339443569756948, 1.1359513374314638, 0.5665828764235191, 0.18895635398112973, 0.03744538130653987, 0.0041888964860639834, 0.0004988327741898294, 13.936540459613047, 9.96470549480028, 6.759911915500286, 4.147051321106824, 2.2729482942453947, 1.1610517082172722, 0.42251486776857794, 0.07469555281327084, 0.006418318407235089, 0.0005783703895562986, 12.836280793449864, 8.198480580402592, 4.708526150373516, 2.427440691808707, 1.259752148916097, 0.7081402542711223, 0.18073413084663914, 0.010133898370896953, 0.00024371080452472945, 2.753302081775263e-05, 15.011368842088576, 9.177649407984147, 5.024211633891435, 2.325921674059211, 1.181703919301214, 1.1140912177270343, 0.47171258927469695, 0.08954736188171877, 0.004429907390258706, 0.00017133434837629153, 13.292524588274912, 8.297900140272375, 4.582539758350406, 2.2713491107232695, 1.2404167320554749, 1.2194040529415546]\n"
     ]
    },
    {
     "name": "stderr",
     "output_type": "stream",
     "text": [
      "Cost: 0.63:  70%|█████████████████████████████████████████████████▋                     | 7/10 [08:14<03:35, 71.80s/it]"
     ]
    },
    {
     "name": "stdout",
     "output_type": "stream",
     "text": [
      "Cost [1.805058834099499, 0.41932456458767126, 0.014087307350374025, 0.0001692433711427714, 5.653639294561886e-05, 3.356158175112585e-05, 2.396809661747693e-05, 1.9735546402678084e-05, 1.5763080920937223e-05, 1.3486385941374477e-05, 10.794958456889965, 6.921550221291253, 3.9205335028904216, 2.0339443569756948, 1.1359513374314638, 0.5665828764235191, 0.18895635398112973, 0.03744538130653987, 0.0041888964860639834, 0.0004988327741898294, 13.936540459613047, 9.96470549480028, 6.759911915500286, 4.147051321106824, 2.2729482942453947, 1.1610517082172722, 0.42251486776857794, 0.07469555281327084, 0.006418318407235089, 0.0005783703895562986, 12.836280793449864, 8.198480580402592, 4.708526150373516, 2.427440691808707, 1.259752148916097, 0.7081402542711223, 0.18073413084663914, 0.010133898370896953, 0.00024371080452472945, 2.753302081775263e-05, 15.011368842088576, 9.177649407984147, 5.024211633891435, 2.325921674059211, 1.181703919301214, 1.1140912177270343, 0.47171258927469695, 0.08954736188171877, 0.004429907390258706, 0.00017133434837629153, 13.292524588274912, 8.297900140272375, 4.582539758350406, 2.2713491107232695, 1.2404167320554749, 1.2194040529415546, 0.6275092268187233]\n"
     ]
    },
    {
     "name": "stderr",
     "output_type": "stream",
     "text": [
      "Cost: 0.21:  80%|████████████████████████████████████████████████████████▊              | 8/10 [09:32<02:26, 73.49s/it]"
     ]
    },
    {
     "name": "stdout",
     "output_type": "stream",
     "text": [
      "Cost [1.805058834099499, 0.41932456458767126, 0.014087307350374025, 0.0001692433711427714, 5.653639294561886e-05, 3.356158175112585e-05, 2.396809661747693e-05, 1.9735546402678084e-05, 1.5763080920937223e-05, 1.3486385941374477e-05, 10.794958456889965, 6.921550221291253, 3.9205335028904216, 2.0339443569756948, 1.1359513374314638, 0.5665828764235191, 0.18895635398112973, 0.03744538130653987, 0.0041888964860639834, 0.0004988327741898294, 13.936540459613047, 9.96470549480028, 6.759911915500286, 4.147051321106824, 2.2729482942453947, 1.1610517082172722, 0.42251486776857794, 0.07469555281327084, 0.006418318407235089, 0.0005783703895562986, 12.836280793449864, 8.198480580402592, 4.708526150373516, 2.427440691808707, 1.259752148916097, 0.7081402542711223, 0.18073413084663914, 0.010133898370896953, 0.00024371080452472945, 2.753302081775263e-05, 15.011368842088576, 9.177649407984147, 5.024211633891435, 2.325921674059211, 1.181703919301214, 1.1140912177270343, 0.47171258927469695, 0.08954736188171877, 0.004429907390258706, 0.00017133434837629153, 13.292524588274912, 8.297900140272375, 4.582539758350406, 2.2713491107232695, 1.2404167320554749, 1.2194040529415546, 0.6275092268187233, 0.20654841465783322]\n"
     ]
    },
    {
     "name": "stderr",
     "output_type": "stream",
     "text": [
      "Cost: 0.03:  90%|███████████████████████████████████████████████████████████████▉       | 9/10 [10:44<01:13, 73.27s/it]"
     ]
    },
    {
     "name": "stdout",
     "output_type": "stream",
     "text": [
      "Cost [1.805058834099499, 0.41932456458767126, 0.014087307350374025, 0.0001692433711427714, 5.653639294561886e-05, 3.356158175112585e-05, 2.396809661747693e-05, 1.9735546402678084e-05, 1.5763080920937223e-05, 1.3486385941374477e-05, 10.794958456889965, 6.921550221291253, 3.9205335028904216, 2.0339443569756948, 1.1359513374314638, 0.5665828764235191, 0.18895635398112973, 0.03744538130653987, 0.0041888964860639834, 0.0004988327741898294, 13.936540459613047, 9.96470549480028, 6.759911915500286, 4.147051321106824, 2.2729482942453947, 1.1610517082172722, 0.42251486776857794, 0.07469555281327084, 0.006418318407235089, 0.0005783703895562986, 12.836280793449864, 8.198480580402592, 4.708526150373516, 2.427440691808707, 1.259752148916097, 0.7081402542711223, 0.18073413084663914, 0.010133898370896953, 0.00024371080452472945, 2.753302081775263e-05, 15.011368842088576, 9.177649407984147, 5.024211633891435, 2.325921674059211, 1.181703919301214, 1.1140912177270343, 0.47171258927469695, 0.08954736188171877, 0.004429907390258706, 0.00017133434837629153, 13.292524588274912, 8.297900140272375, 4.582539758350406, 2.2713491107232695, 1.2404167320554749, 1.2194040529415546, 0.6275092268187233, 0.20654841465783322, 0.026026025442601127]\n"
     ]
    },
    {
     "name": "stderr",
     "output_type": "stream",
     "text": [
      "Cost: 0.00: 100%|██████████████████████████████████████████████████████████████████████| 10/10 [12:16<00:00, 73.68s/it]"
     ]
    },
    {
     "name": "stdout",
     "output_type": "stream",
     "text": [
      "Cost [1.805058834099499, 0.41932456458767126, 0.014087307350374025, 0.0001692433711427714, 5.653639294561886e-05, 3.356158175112585e-05, 2.396809661747693e-05, 1.9735546402678084e-05, 1.5763080920937223e-05, 1.3486385941374477e-05, 10.794958456889965, 6.921550221291253, 3.9205335028904216, 2.0339443569756948, 1.1359513374314638, 0.5665828764235191, 0.18895635398112973, 0.03744538130653987, 0.0041888964860639834, 0.0004988327741898294, 13.936540459613047, 9.96470549480028, 6.759911915500286, 4.147051321106824, 2.2729482942453947, 1.1610517082172722, 0.42251486776857794, 0.07469555281327084, 0.006418318407235089, 0.0005783703895562986, 12.836280793449864, 8.198480580402592, 4.708526150373516, 2.427440691808707, 1.259752148916097, 0.7081402542711223, 0.18073413084663914, 0.010133898370896953, 0.00024371080452472945, 2.753302081775263e-05, 15.011368842088576, 9.177649407984147, 5.024211633891435, 2.325921674059211, 1.181703919301214, 1.1140912177270343, 0.47171258927469695, 0.08954736188171877, 0.004429907390258706, 0.00017133434837629153, 13.292524588274912, 8.297900140272375, 4.582539758350406, 2.2713491107232695, 1.2404167320554749, 1.2194040529415546, 0.6275092268187233, 0.20654841465783322, 0.026026025442601127, 0.0012835155330387063]\n"
     ]
    },
    {
     "name": "stderr",
     "output_type": "stream",
     "text": [
      "\n",
      "\n",
      "Valid_Cost: 12.73:   0%|                                                                        | 0/10 [13:43<?, ?it/s]\u001b[A\n",
      "Valid_Cost: 12.73:  10%|██████                                                       | 1/10 [13:43<2:03:33, 823.70s/it]\u001b[A"
     ]
    },
    {
     "name": "stdout",
     "output_type": "stream",
     "text": [
      "Cost [12.613709885244726, 6.129279193499976, 1.9015729174187954, 0.4830742251328419, 0.059338604989321045, 0.0038545933766283057, 0.0003906240788377571, 9.15193451790838e-05, 3.919789094803865e-05, 2.5649834936594426e-05, 12.178118574525625, 8.83741414768729, 6.049341830583761, 3.717224841972516, 1.9367038000870511, 0.8429194833112358, 0.30925509649505994, 0.04688601036105282, 0.0031951087833463608, 0.0002975351746294532, 10.164771032014617, 6.8418420870715115, 4.228511992749954, 2.1664902232317886, 0.9171980347453055, 0.30422177998973543, 0.04735792114029455, 0.003021321679140005, 0.00022974909030712851, 4.913693756712343e-05, 12.514925977767167, 7.29940279102362, 3.7328417861479157, 1.8574271610449287, 1.2512844870644253, 0.74797770705636, 0.19659836765481745, 0.01166647408039311, 0.00030943374139103246, 2.9783938119770803e-05, 13.64446580618679, 8.573609685349934, 4.771710095712352, 2.3176120400710842, 1.3147699935605954, 1.2236189226704695, 0.667521883160358, 0.23163752914868802, 0.027726625673225976, 0.001240131038953828, 12.730051211658536]\n"
     ]
    },
    {
     "name": "stderr",
     "output_type": "stream",
     "text": [
      "\n",
      "Valid_Cost: 7.93:  10%|██████▏                                                       | 1/10 [15:04<2:03:33, 823.70s/it]\u001b[A\n",
      "Valid_Cost: 7.93:  20%|████████████▍                                                 | 2/10 [15:04<1:20:07, 600.92s/it]\u001b[A"
     ]
    },
    {
     "name": "stdout",
     "output_type": "stream",
     "text": [
      "Cost [12.613709885244726, 6.129279193499976, 1.9015729174187954, 0.4830742251328419, 0.059338604989321045, 0.0038545933766283057, 0.0003906240788377571, 9.15193451790838e-05, 3.919789094803865e-05, 2.5649834936594426e-05, 12.178118574525625, 8.83741414768729, 6.049341830583761, 3.717224841972516, 1.9367038000870511, 0.8429194833112358, 0.30925509649505994, 0.04688601036105282, 0.0031951087833463608, 0.0002975351746294532, 10.164771032014617, 6.8418420870715115, 4.228511992749954, 2.1664902232317886, 0.9171980347453055, 0.30422177998973543, 0.04735792114029455, 0.003021321679140005, 0.00022974909030712851, 4.913693756712343e-05, 12.514925977767167, 7.29940279102362, 3.7328417861479157, 1.8574271610449287, 1.2512844870644253, 0.74797770705636, 0.19659836765481745, 0.01166647408039311, 0.00030943374139103246, 2.9783938119770803e-05, 13.64446580618679, 8.573609685349934, 4.771710095712352, 2.3176120400710842, 1.3147699935605954, 1.2236189226704695, 0.667521883160358, 0.23163752914868802, 0.027726625673225976, 0.001240131038953828, 12.730051211658536, 7.930390974243899]\n"
     ]
    },
    {
     "name": "stderr",
     "output_type": "stream",
     "text": [
      "\n",
      "Valid_Cost: 4.52:  20%|████████████▍                                                 | 2/10 [16:15<1:20:07, 600.92s/it]\u001b[A\n",
      "Valid_Cost: 4.52:  30%|███████████████████▏                                            | 3/10 [16:15<51:33, 441.92s/it]\u001b[A"
     ]
    },
    {
     "name": "stdout",
     "output_type": "stream",
     "text": [
      "Cost [12.613709885244726, 6.129279193499976, 1.9015729174187954, 0.4830742251328419, 0.059338604989321045, 0.0038545933766283057, 0.0003906240788377571, 9.15193451790838e-05, 3.919789094803865e-05, 2.5649834936594426e-05, 12.178118574525625, 8.83741414768729, 6.049341830583761, 3.717224841972516, 1.9367038000870511, 0.8429194833112358, 0.30925509649505994, 0.04688601036105282, 0.0031951087833463608, 0.0002975351746294532, 10.164771032014617, 6.8418420870715115, 4.228511992749954, 2.1664902232317886, 0.9171980347453055, 0.30422177998973543, 0.04735792114029455, 0.003021321679140005, 0.00022974909030712851, 4.913693756712343e-05, 12.514925977767167, 7.29940279102362, 3.7328417861479157, 1.8574271610449287, 1.2512844870644253, 0.74797770705636, 0.19659836765481745, 0.01166647408039311, 0.00030943374139103246, 2.9783938119770803e-05, 13.64446580618679, 8.573609685349934, 4.771710095712352, 2.3176120400710842, 1.3147699935605954, 1.2236189226704695, 0.667521883160358, 0.23163752914868802, 0.027726625673225976, 0.001240131038953828, 12.730051211658536, 7.930390974243899, 4.515109807553686]\n"
     ]
    },
    {
     "name": "stderr",
     "output_type": "stream",
     "text": [
      "\n",
      "Valid_Cost: 2.38:  30%|███████████████████▏                                            | 3/10 [17:25<51:33, 441.92s/it]\u001b[A\n",
      "Valid_Cost: 2.38:  40%|█████████████████████████▌                                      | 4/10 [17:25<33:01, 330.22s/it]\u001b[A"
     ]
    },
    {
     "name": "stdout",
     "output_type": "stream",
     "text": [
      "Cost [12.613709885244726, 6.129279193499976, 1.9015729174187954, 0.4830742251328419, 0.059338604989321045, 0.0038545933766283057, 0.0003906240788377571, 9.15193451790838e-05, 3.919789094803865e-05, 2.5649834936594426e-05, 12.178118574525625, 8.83741414768729, 6.049341830583761, 3.717224841972516, 1.9367038000870511, 0.8429194833112358, 0.30925509649505994, 0.04688601036105282, 0.0031951087833463608, 0.0002975351746294532, 10.164771032014617, 6.8418420870715115, 4.228511992749954, 2.1664902232317886, 0.9171980347453055, 0.30422177998973543, 0.04735792114029455, 0.003021321679140005, 0.00022974909030712851, 4.913693756712343e-05, 12.514925977767167, 7.29940279102362, 3.7328417861479157, 1.8574271610449287, 1.2512844870644253, 0.74797770705636, 0.19659836765481745, 0.01166647408039311, 0.00030943374139103246, 2.9783938119770803e-05, 13.64446580618679, 8.573609685349934, 4.771710095712352, 2.3176120400710842, 1.3147699935605954, 1.2236189226704695, 0.667521883160358, 0.23163752914868802, 0.027726625673225976, 0.001240131038953828, 12.730051211658536, 7.930390974243899, 4.515109807553686, 2.3758921410602225]\n"
     ]
    },
    {
     "name": "stderr",
     "output_type": "stream",
     "text": [
      "\n",
      "Valid_Cost: 1.30:  40%|█████████████████████████▌                                      | 4/10 [18:34<33:01, 330.22s/it]\u001b[A\n",
      "Valid_Cost: 1.30:  50%|████████████████████████████████                                | 5/10 [18:34<20:59, 251.81s/it]\u001b[A"
     ]
    },
    {
     "name": "stdout",
     "output_type": "stream",
     "text": [
      "Cost [12.613709885244726, 6.129279193499976, 1.9015729174187954, 0.4830742251328419, 0.059338604989321045, 0.0038545933766283057, 0.0003906240788377571, 9.15193451790838e-05, 3.919789094803865e-05, 2.5649834936594426e-05, 12.178118574525625, 8.83741414768729, 6.049341830583761, 3.717224841972516, 1.9367038000870511, 0.8429194833112358, 0.30925509649505994, 0.04688601036105282, 0.0031951087833463608, 0.0002975351746294532, 10.164771032014617, 6.8418420870715115, 4.228511992749954, 2.1664902232317886, 0.9171980347453055, 0.30422177998973543, 0.04735792114029455, 0.003021321679140005, 0.00022974909030712851, 4.913693756712343e-05, 12.514925977767167, 7.29940279102362, 3.7328417861479157, 1.8574271610449287, 1.2512844870644253, 0.74797770705636, 0.19659836765481745, 0.01166647408039311, 0.00030943374139103246, 2.9783938119770803e-05, 13.64446580618679, 8.573609685349934, 4.771710095712352, 2.3176120400710842, 1.3147699935605954, 1.2236189226704695, 0.667521883160358, 0.23163752914868802, 0.027726625673225976, 0.001240131038953828, 12.730051211658536, 7.930390974243899, 4.515109807553686, 2.3758921410602225, 1.297510735432644]\n"
     ]
    },
    {
     "name": "stderr",
     "output_type": "stream",
     "text": [
      "\n",
      "Valid_Cost: 1.24:  50%|████████████████████████████████                                | 5/10 [19:43<20:59, 251.81s/it]\u001b[A\n",
      "Valid_Cost: 1.24:  60%|██████████████████████████████████████▍                         | 6/10 [19:43<13:08, 197.14s/it]\u001b[A"
     ]
    },
    {
     "name": "stdout",
     "output_type": "stream",
     "text": [
      "Cost [12.613709885244726, 6.129279193499976, 1.9015729174187954, 0.4830742251328419, 0.059338604989321045, 0.0038545933766283057, 0.0003906240788377571, 9.15193451790838e-05, 3.919789094803865e-05, 2.5649834936594426e-05, 12.178118574525625, 8.83741414768729, 6.049341830583761, 3.717224841972516, 1.9367038000870511, 0.8429194833112358, 0.30925509649505994, 0.04688601036105282, 0.0031951087833463608, 0.0002975351746294532, 10.164771032014617, 6.8418420870715115, 4.228511992749954, 2.1664902232317886, 0.9171980347453055, 0.30422177998973543, 0.04735792114029455, 0.003021321679140005, 0.00022974909030712851, 4.913693756712343e-05, 12.514925977767167, 7.29940279102362, 3.7328417861479157, 1.8574271610449287, 1.2512844870644253, 0.74797770705636, 0.19659836765481745, 0.01166647408039311, 0.00030943374139103246, 2.9783938119770803e-05, 13.64446580618679, 8.573609685349934, 4.771710095712352, 2.3176120400710842, 1.3147699935605954, 1.2236189226704695, 0.667521883160358, 0.23163752914868802, 0.027726625673225976, 0.001240131038953828, 12.730051211658536, 7.930390974243899, 4.515109807553686, 2.3758921410602225, 1.297510735432644, 1.2396234186141042]\n"
     ]
    },
    {
     "name": "stderr",
     "output_type": "stream",
     "text": [
      "\n",
      "Valid_Cost: 0.68:  60%|██████████████████████████████████████▍                         | 6/10 [20:51<13:08, 197.14s/it]\u001b[A\n",
      "Valid_Cost: 0.68:  70%|████████████████████████████████████████████▊                   | 7/10 [20:51<07:54, 158.25s/it]\u001b[A"
     ]
    },
    {
     "name": "stdout",
     "output_type": "stream",
     "text": [
      "Cost [12.613709885244726, 6.129279193499976, 1.9015729174187954, 0.4830742251328419, 0.059338604989321045, 0.0038545933766283057, 0.0003906240788377571, 9.15193451790838e-05, 3.919789094803865e-05, 2.5649834936594426e-05, 12.178118574525625, 8.83741414768729, 6.049341830583761, 3.717224841972516, 1.9367038000870511, 0.8429194833112358, 0.30925509649505994, 0.04688601036105282, 0.0031951087833463608, 0.0002975351746294532, 10.164771032014617, 6.8418420870715115, 4.228511992749954, 2.1664902232317886, 0.9171980347453055, 0.30422177998973543, 0.04735792114029455, 0.003021321679140005, 0.00022974909030712851, 4.913693756712343e-05, 12.514925977767167, 7.29940279102362, 3.7328417861479157, 1.8574271610449287, 1.2512844870644253, 0.74797770705636, 0.19659836765481745, 0.01166647408039311, 0.00030943374139103246, 2.9783938119770803e-05, 13.64446580618679, 8.573609685349934, 4.771710095712352, 2.3176120400710842, 1.3147699935605954, 1.2236189226704695, 0.667521883160358, 0.23163752914868802, 0.027726625673225976, 0.001240131038953828, 12.730051211658536, 7.930390974243899, 4.515109807553686, 2.3758921410602225, 1.297510735432644, 1.2396234186141042, 0.6761851602217582]\n"
     ]
    },
    {
     "name": "stderr",
     "output_type": "stream",
     "text": [
      "\n",
      "Valid_Cost: 0.26:  70%|████████████████████████████████████████████▊                   | 7/10 [22:03<07:54, 158.25s/it]\u001b[A\n",
      "Valid_Cost: 0.26:  80%|███████████████████████████████████████████████████▏            | 8/10 [22:03<04:25, 132.60s/it]\u001b[A"
     ]
    },
    {
     "name": "stdout",
     "output_type": "stream",
     "text": [
      "Cost [12.613709885244726, 6.129279193499976, 1.9015729174187954, 0.4830742251328419, 0.059338604989321045, 0.0038545933766283057, 0.0003906240788377571, 9.15193451790838e-05, 3.919789094803865e-05, 2.5649834936594426e-05, 12.178118574525625, 8.83741414768729, 6.049341830583761, 3.717224841972516, 1.9367038000870511, 0.8429194833112358, 0.30925509649505994, 0.04688601036105282, 0.0031951087833463608, 0.0002975351746294532, 10.164771032014617, 6.8418420870715115, 4.228511992749954, 2.1664902232317886, 0.9171980347453055, 0.30422177998973543, 0.04735792114029455, 0.003021321679140005, 0.00022974909030712851, 4.913693756712343e-05, 12.514925977767167, 7.29940279102362, 3.7328417861479157, 1.8574271610449287, 1.2512844870644253, 0.74797770705636, 0.19659836765481745, 0.01166647408039311, 0.00030943374139103246, 2.9783938119770803e-05, 13.64446580618679, 8.573609685349934, 4.771710095712352, 2.3176120400710842, 1.3147699935605954, 1.2236189226704695, 0.667521883160358, 0.23163752914868802, 0.027726625673225976, 0.001240131038953828, 12.730051211658536, 7.930390974243899, 4.515109807553686, 2.3758921410602225, 1.297510735432644, 1.2396234186141042, 0.6761851602217582, 0.2584246883956613]\n"
     ]
    },
    {
     "name": "stderr",
     "output_type": "stream",
     "text": [
      "\n",
      "Valid_Cost: 0.04:  80%|███████████████████████████████████████████████████▏            | 8/10 [23:15<04:25, 132.60s/it]\u001b[A\n",
      "Valid_Cost: 0.04:  90%|█████████████████████████████████████████████████████████▌      | 9/10 [23:15<01:54, 114.35s/it]\u001b[A"
     ]
    },
    {
     "name": "stdout",
     "output_type": "stream",
     "text": [
      "Cost [12.613709885244726, 6.129279193499976, 1.9015729174187954, 0.4830742251328419, 0.059338604989321045, 0.0038545933766283057, 0.0003906240788377571, 9.15193451790838e-05, 3.919789094803865e-05, 2.5649834936594426e-05, 12.178118574525625, 8.83741414768729, 6.049341830583761, 3.717224841972516, 1.9367038000870511, 0.8429194833112358, 0.30925509649505994, 0.04688601036105282, 0.0031951087833463608, 0.0002975351746294532, 10.164771032014617, 6.8418420870715115, 4.228511992749954, 2.1664902232317886, 0.9171980347453055, 0.30422177998973543, 0.04735792114029455, 0.003021321679140005, 0.00022974909030712851, 4.913693756712343e-05, 12.514925977767167, 7.29940279102362, 3.7328417861479157, 1.8574271610449287, 1.2512844870644253, 0.74797770705636, 0.19659836765481745, 0.01166647408039311, 0.00030943374139103246, 2.9783938119770803e-05, 13.64446580618679, 8.573609685349934, 4.771710095712352, 2.3176120400710842, 1.3147699935605954, 1.2236189226704695, 0.667521883160358, 0.23163752914868802, 0.027726625673225976, 0.001240131038953828, 12.730051211658536, 7.930390974243899, 4.515109807553686, 2.3758921410602225, 1.297510735432644, 1.2396234186141042, 0.6761851602217582, 0.2584246883956613, 0.038007945093754436]\n"
     ]
    },
    {
     "name": "stderr",
     "output_type": "stream",
     "text": [
      "\n",
      "Valid_Cost: 0.00:  90%|█████████████████████████████████████████████████████████▌      | 9/10 [24:23<01:54, 114.35s/it]\u001b[A\n",
      "Valid_Cost: 0.00: 100%|███████████████████████████████████████████████████████████████| 10/10 [24:23<00:00, 146.34s/it]\u001b[A"
     ]
    },
    {
     "name": "stdout",
     "output_type": "stream",
     "text": [
      "Cost [12.613709885244726, 6.129279193499976, 1.9015729174187954, 0.4830742251328419, 0.059338604989321045, 0.0038545933766283057, 0.0003906240788377571, 9.15193451790838e-05, 3.919789094803865e-05, 2.5649834936594426e-05, 12.178118574525625, 8.83741414768729, 6.049341830583761, 3.717224841972516, 1.9367038000870511, 0.8429194833112358, 0.30925509649505994, 0.04688601036105282, 0.0031951087833463608, 0.0002975351746294532, 10.164771032014617, 6.8418420870715115, 4.228511992749954, 2.1664902232317886, 0.9171980347453055, 0.30422177998973543, 0.04735792114029455, 0.003021321679140005, 0.00022974909030712851, 4.913693756712343e-05, 12.514925977767167, 7.29940279102362, 3.7328417861479157, 1.8574271610449287, 1.2512844870644253, 0.74797770705636, 0.19659836765481745, 0.01166647408039311, 0.00030943374139103246, 2.9783938119770803e-05, 13.64446580618679, 8.573609685349934, 4.771710095712352, 2.3176120400710842, 1.3147699935605954, 1.2236189226704695, 0.667521883160358, 0.23163752914868802, 0.027726625673225976, 0.001240131038953828, 12.730051211658536, 7.930390974243899, 4.515109807553686, 2.3758921410602225, 1.297510735432644, 1.2396234186141042, 0.6761851602217582, 0.2584246883956613, 0.038007945093754436, 0.002053185179447755]\n"
     ]
    },
    {
     "name": "stderr",
     "output_type": "stream",
     "text": [
      "\n",
      "\n",
      "\n",
      "Test_Cost: 15.40:   0%|                                                                         | 0/10 [25:33<?, ?it/s]\u001b[A\u001b[A\n",
      "\n",
      "Test_Cost: 15.40:  10%|██████                                                       | 1/10 [25:33<3:49:57, 1533.10s/it]\u001b[A\u001b[A"
     ]
    },
    {
     "name": "stdout",
     "output_type": "stream",
     "text": [
      "Cost [17.477931487658772, 11.481349621096912, 7.2365141576138186, 4.329902826767674, 2.4760411291537143, 1.5138635182223377, 0.7073556751685137, 0.12401734248441017, 0.007844180439016798, 0.0004556797310312098, 11.286471904239823, 7.1580123306771535, 3.9571610125268046, 1.8399116118774996, 0.7802855169740726, 0.2489798442024637, 0.040478171647824725, 0.0034103101165470257, 0.0003388346063951934, 8.207387633336027e-05, 14.600696001489547, 9.75421890186924, 5.943346249809679, 3.104772795184965, 1.3028420971721986, 0.6716637475518982, 0.17394469785564953, 0.013044275982573123, 0.00042176041655823655, 5.277390877793245e-05, 14.972619765065867, 9.155213669572213, 4.903756139238905, 2.2431711694723395, 1.2247738678146751, 0.6327003039336754, 0.13385226554640417, 0.006069226684909263, 0.00017053570314741042, 1.8954303310665997e-05, 16.557461094319603, 10.312316690749679, 5.807679969784163, 2.978874251521571, 1.5495151527915902, 1.351094254483115, 0.7920496809535496, 0.2575269765176783, 0.022406656313162774, 0.0005332186390589695, 15.40174981656828]\n"
     ]
    },
    {
     "name": "stderr",
     "output_type": "stream",
     "text": [
      "\n",
      "\n",
      "Test_Cost: 10.22:  10%|██████                                                       | 1/10 [27:02<3:49:57, 1533.10s/it]\u001b[A\u001b[A\n",
      "\n",
      "Test_Cost: 10.22:  20%|████████████▏                                                | 2/10 [27:02<2:26:40, 1100.04s/it]\u001b[A\u001b[A"
     ]
    },
    {
     "name": "stdout",
     "output_type": "stream",
     "text": [
      "Cost [17.477931487658772, 11.481349621096912, 7.2365141576138186, 4.329902826767674, 2.4760411291537143, 1.5138635182223377, 0.7073556751685137, 0.12401734248441017, 0.007844180439016798, 0.0004556797310312098, 11.286471904239823, 7.1580123306771535, 3.9571610125268046, 1.8399116118774996, 0.7802855169740726, 0.2489798442024637, 0.040478171647824725, 0.0034103101165470257, 0.0003388346063951934, 8.207387633336027e-05, 14.600696001489547, 9.75421890186924, 5.943346249809679, 3.104772795184965, 1.3028420971721986, 0.6716637475518982, 0.17394469785564953, 0.013044275982573123, 0.00042176041655823655, 5.277390877793245e-05, 14.972619765065867, 9.155213669572213, 4.903756139238905, 2.2431711694723395, 1.2247738678146751, 0.6327003039336754, 0.13385226554640417, 0.006069226684909263, 0.00017053570314741042, 1.8954303310665997e-05, 16.557461094319603, 10.312316690749679, 5.807679969784163, 2.978874251521571, 1.5495151527915902, 1.351094254483115, 0.7920496809535496, 0.2575269765176783, 0.022406656313162774, 0.0005332186390589695, 15.40174981656828, 10.218580874295357]\n"
     ]
    },
    {
     "name": "stderr",
     "output_type": "stream",
     "text": [
      "\n",
      "\n",
      "Test_Cost: 6.19:  20%|████████████▍                                                 | 2/10 [28:13<2:26:40, 1100.04s/it]\u001b[A\u001b[A\n",
      "\n",
      "Test_Cost: 6.19:  30%|██████████████████▉                                            | 3/10 [28:13<1:32:18, 791.15s/it]\u001b[A\u001b[A"
     ]
    },
    {
     "name": "stdout",
     "output_type": "stream",
     "text": [
      "Cost [17.477931487658772, 11.481349621096912, 7.2365141576138186, 4.329902826767674, 2.4760411291537143, 1.5138635182223377, 0.7073556751685137, 0.12401734248441017, 0.007844180439016798, 0.0004556797310312098, 11.286471904239823, 7.1580123306771535, 3.9571610125268046, 1.8399116118774996, 0.7802855169740726, 0.2489798442024637, 0.040478171647824725, 0.0034103101165470257, 0.0003388346063951934, 8.207387633336027e-05, 14.600696001489547, 9.75421890186924, 5.943346249809679, 3.104772795184965, 1.3028420971721986, 0.6716637475518982, 0.17394469785564953, 0.013044275982573123, 0.00042176041655823655, 5.277390877793245e-05, 14.972619765065867, 9.155213669572213, 4.903756139238905, 2.2431711694723395, 1.2247738678146751, 0.6327003039336754, 0.13385226554640417, 0.006069226684909263, 0.00017053570314741042, 1.8954303310665997e-05, 16.557461094319603, 10.312316690749679, 5.807679969784163, 2.978874251521571, 1.5495151527915902, 1.351094254483115, 0.7920496809535496, 0.2575269765176783, 0.022406656313162774, 0.0005332186390589695, 15.40174981656828, 10.218580874295357, 6.19277725864181]\n"
     ]
    },
    {
     "name": "stderr",
     "output_type": "stream",
     "text": [
      "\n",
      "\n",
      "Test_Cost: 3.39:  30%|██████████████████▉                                            | 3/10 [29:14<1:32:18, 791.15s/it]\u001b[A\u001b[A\n",
      "\n",
      "Test_Cost: 3.39:  40%|██████████████████████████                                       | 4/10 [29:14<57:12, 572.16s/it]\u001b[A\u001b[A"
     ]
    },
    {
     "name": "stdout",
     "output_type": "stream",
     "text": [
      "Cost [17.477931487658772, 11.481349621096912, 7.2365141576138186, 4.329902826767674, 2.4760411291537143, 1.5138635182223377, 0.7073556751685137, 0.12401734248441017, 0.007844180439016798, 0.0004556797310312098, 11.286471904239823, 7.1580123306771535, 3.9571610125268046, 1.8399116118774996, 0.7802855169740726, 0.2489798442024637, 0.040478171647824725, 0.0034103101165470257, 0.0003388346063951934, 8.207387633336027e-05, 14.600696001489547, 9.75421890186924, 5.943346249809679, 3.104772795184965, 1.3028420971721986, 0.6716637475518982, 0.17394469785564953, 0.013044275982573123, 0.00042176041655823655, 5.277390877793245e-05, 14.972619765065867, 9.155213669572213, 4.903756139238905, 2.2431711694723395, 1.2247738678146751, 0.6327003039336754, 0.13385226554640417, 0.006069226684909263, 0.00017053570314741042, 1.8954303310665997e-05, 16.557461094319603, 10.312316690749679, 5.807679969784163, 2.978874251521571, 1.5495151527915902, 1.351094254483115, 0.7920496809535496, 0.2575269765176783, 0.022406656313162774, 0.0005332186390589695, 15.40174981656828, 10.218580874295357, 6.19277725864181, 3.3933050781409753]\n"
     ]
    },
    {
     "name": "stderr",
     "output_type": "stream",
     "text": [
      "\n",
      "\n",
      "Test_Cost: 1.71:  40%|██████████████████████████                                       | 4/10 [30:15<57:12, 572.16s/it]\u001b[A\u001b[A\n",
      "\n",
      "Test_Cost: 1.71:  50%|████████████████████████████████▌                                | 5/10 [30:15<34:53, 418.79s/it]\u001b[A\u001b[A"
     ]
    },
    {
     "name": "stdout",
     "output_type": "stream",
     "text": [
      "Cost [17.477931487658772, 11.481349621096912, 7.2365141576138186, 4.329902826767674, 2.4760411291537143, 1.5138635182223377, 0.7073556751685137, 0.12401734248441017, 0.007844180439016798, 0.0004556797310312098, 11.286471904239823, 7.1580123306771535, 3.9571610125268046, 1.8399116118774996, 0.7802855169740726, 0.2489798442024637, 0.040478171647824725, 0.0034103101165470257, 0.0003388346063951934, 8.207387633336027e-05, 14.600696001489547, 9.75421890186924, 5.943346249809679, 3.104772795184965, 1.3028420971721986, 0.6716637475518982, 0.17394469785564953, 0.013044275982573123, 0.00042176041655823655, 5.277390877793245e-05, 14.972619765065867, 9.155213669572213, 4.903756139238905, 2.2431711694723395, 1.2247738678146751, 0.6327003039336754, 0.13385226554640417, 0.006069226684909263, 0.00017053570314741042, 1.8954303310665997e-05, 16.557461094319603, 10.312316690749679, 5.807679969784163, 2.978874251521571, 1.5495151527915902, 1.351094254483115, 0.7920496809535496, 0.2575269765176783, 0.022406656313162774, 0.0005332186390589695, 15.40174981656828, 10.218580874295357, 6.19277725864181, 3.3933050781409753, 1.7065973026773404]\n"
     ]
    },
    {
     "name": "stderr",
     "output_type": "stream",
     "text": [
      "\n",
      "\n",
      "Test_Cost: 1.38:  50%|████████████████████████████████▌                                | 5/10 [31:26<34:53, 418.79s/it]\u001b[A\u001b[A\n",
      "\n",
      "Test_Cost: 1.38:  60%|███████████████████████████████████████                          | 6/10 [31:26<20:57, 314.47s/it]\u001b[A\u001b[A"
     ]
    },
    {
     "name": "stdout",
     "output_type": "stream",
     "text": [
      "Cost [17.477931487658772, 11.481349621096912, 7.2365141576138186, 4.329902826767674, 2.4760411291537143, 1.5138635182223377, 0.7073556751685137, 0.12401734248441017, 0.007844180439016798, 0.0004556797310312098, 11.286471904239823, 7.1580123306771535, 3.9571610125268046, 1.8399116118774996, 0.7802855169740726, 0.2489798442024637, 0.040478171647824725, 0.0034103101165470257, 0.0003388346063951934, 8.207387633336027e-05, 14.600696001489547, 9.75421890186924, 5.943346249809679, 3.104772795184965, 1.3028420971721986, 0.6716637475518982, 0.17394469785564953, 0.013044275982573123, 0.00042176041655823655, 5.277390877793245e-05, 14.972619765065867, 9.155213669572213, 4.903756139238905, 2.2431711694723395, 1.2247738678146751, 0.6327003039336754, 0.13385226554640417, 0.006069226684909263, 0.00017053570314741042, 1.8954303310665997e-05, 16.557461094319603, 10.312316690749679, 5.807679969784163, 2.978874251521571, 1.5495151527915902, 1.351094254483115, 0.7920496809535496, 0.2575269765176783, 0.022406656313162774, 0.0005332186390589695, 15.40174981656828, 10.218580874295357, 6.19277725864181, 3.3933050781409753, 1.7065973026773404, 1.3837499965627784]\n"
     ]
    },
    {
     "name": "stderr",
     "output_type": "stream",
     "text": [
      "\n",
      "\n",
      "Test_Cost: 0.95:  60%|███████████████████████████████████████                          | 6/10 [32:44<20:57, 314.47s/it]\u001b[A\u001b[A\n",
      "\n",
      "Test_Cost: 0.95:  70%|█████████████████████████████████████████████▌                   | 7/10 [32:44<12:10, 243.65s/it]\u001b[A\u001b[A"
     ]
    },
    {
     "name": "stdout",
     "output_type": "stream",
     "text": [
      "Cost [17.477931487658772, 11.481349621096912, 7.2365141576138186, 4.329902826767674, 2.4760411291537143, 1.5138635182223377, 0.7073556751685137, 0.12401734248441017, 0.007844180439016798, 0.0004556797310312098, 11.286471904239823, 7.1580123306771535, 3.9571610125268046, 1.8399116118774996, 0.7802855169740726, 0.2489798442024637, 0.040478171647824725, 0.0034103101165470257, 0.0003388346063951934, 8.207387633336027e-05, 14.600696001489547, 9.75421890186924, 5.943346249809679, 3.104772795184965, 1.3028420971721986, 0.6716637475518982, 0.17394469785564953, 0.013044275982573123, 0.00042176041655823655, 5.277390877793245e-05, 14.972619765065867, 9.155213669572213, 4.903756139238905, 2.2431711694723395, 1.2247738678146751, 0.6327003039336754, 0.13385226554640417, 0.006069226684909263, 0.00017053570314741042, 1.8954303310665997e-05, 16.557461094319603, 10.312316690749679, 5.807679969784163, 2.978874251521571, 1.5495151527915902, 1.351094254483115, 0.7920496809535496, 0.2575269765176783, 0.022406656313162774, 0.0005332186390589695, 15.40174981656828, 10.218580874295357, 6.19277725864181, 3.3933050781409753, 1.7065973026773404, 1.3837499965627784, 0.9491881593391612]\n"
     ]
    },
    {
     "name": "stderr",
     "output_type": "stream",
     "text": [
      "\n",
      "\n",
      "Test_Cost: 0.50:  70%|█████████████████████████████████████████████▌                   | 7/10 [34:03<12:10, 243.65s/it]\u001b[A\u001b[A\n",
      "\n",
      "Test_Cost: 0.50:  80%|████████████████████████████████████████████████████             | 8/10 [34:03<06:28, 194.16s/it]\u001b[A\u001b[A"
     ]
    },
    {
     "name": "stdout",
     "output_type": "stream",
     "text": [
      "Cost [17.477931487658772, 11.481349621096912, 7.2365141576138186, 4.329902826767674, 2.4760411291537143, 1.5138635182223377, 0.7073556751685137, 0.12401734248441017, 0.007844180439016798, 0.0004556797310312098, 11.286471904239823, 7.1580123306771535, 3.9571610125268046, 1.8399116118774996, 0.7802855169740726, 0.2489798442024637, 0.040478171647824725, 0.0034103101165470257, 0.0003388346063951934, 8.207387633336027e-05, 14.600696001489547, 9.75421890186924, 5.943346249809679, 3.104772795184965, 1.3028420971721986, 0.6716637475518982, 0.17394469785564953, 0.013044275982573123, 0.00042176041655823655, 5.277390877793245e-05, 14.972619765065867, 9.155213669572213, 4.903756139238905, 2.2431711694723395, 1.2247738678146751, 0.6327003039336754, 0.13385226554640417, 0.006069226684909263, 0.00017053570314741042, 1.8954303310665997e-05, 16.557461094319603, 10.312316690749679, 5.807679969784163, 2.978874251521571, 1.5495151527915902, 1.351094254483115, 0.7920496809535496, 0.2575269765176783, 0.022406656313162774, 0.0005332186390589695, 15.40174981656828, 10.218580874295357, 6.19277725864181, 3.3933050781409753, 1.7065973026773404, 1.3837499965627784, 0.9491881593391612, 0.499905723050728]\n"
     ]
    },
    {
     "name": "stderr",
     "output_type": "stream",
     "text": [
      "\n",
      "\n",
      "Test_Cost: 0.10:  80%|████████████████████████████████████████████████████             | 8/10 [35:18<06:28, 194.16s/it]\u001b[A\u001b[A\n",
      "\n",
      "Test_Cost: 0.10:  90%|██████████████████████████████████████████████████████████▌      | 9/10 [35:18<02:38, 158.45s/it]\u001b[A\u001b[A"
     ]
    },
    {
     "name": "stdout",
     "output_type": "stream",
     "text": [
      "Cost [17.477931487658772, 11.481349621096912, 7.2365141576138186, 4.329902826767674, 2.4760411291537143, 1.5138635182223377, 0.7073556751685137, 0.12401734248441017, 0.007844180439016798, 0.0004556797310312098, 11.286471904239823, 7.1580123306771535, 3.9571610125268046, 1.8399116118774996, 0.7802855169740726, 0.2489798442024637, 0.040478171647824725, 0.0034103101165470257, 0.0003388346063951934, 8.207387633336027e-05, 14.600696001489547, 9.75421890186924, 5.943346249809679, 3.104772795184965, 1.3028420971721986, 0.6716637475518982, 0.17394469785564953, 0.013044275982573123, 0.00042176041655823655, 5.277390877793245e-05, 14.972619765065867, 9.155213669572213, 4.903756139238905, 2.2431711694723395, 1.2247738678146751, 0.6327003039336754, 0.13385226554640417, 0.006069226684909263, 0.00017053570314741042, 1.8954303310665997e-05, 16.557461094319603, 10.312316690749679, 5.807679969784163, 2.978874251521571, 1.5495151527915902, 1.351094254483115, 0.7920496809535496, 0.2575269765176783, 0.022406656313162774, 0.0005332186390589695, 15.40174981656828, 10.218580874295357, 6.19277725864181, 3.3933050781409753, 1.7065973026773404, 1.3837499965627784, 0.9491881593391612, 0.499905723050728, 0.1043395868721518]\n"
     ]
    },
    {
     "name": "stderr",
     "output_type": "stream",
     "text": [
      "\n",
      "\n",
      "Test_Cost: 0.01:  90%|██████████████████████████████████████████████████████████▌      | 9/10 [36:31<02:38, 158.45s/it]\u001b[A\u001b[A\n",
      "\n",
      "Test_Cost: 0.01: 100%|████████████████████████████████████████████████████████████████| 10/10 [36:31<00:00, 219.13s/it]\u001b[A\u001b[A\n",
      "  0%|                                                                                           | 0/10 [00:00<?, ?it/s]\n",
      "  0%|                                                                                           | 0/10 [00:00<?, ?it/s]\u001b[A\n",
      "\n",
      "  0%|                                                                                           | 0/10 [00:00<?, ?it/s]\u001b[A\u001b[A"
     ]
    },
    {
     "name": "stdout",
     "output_type": "stream",
     "text": [
      "Cost [17.477931487658772, 11.481349621096912, 7.2365141576138186, 4.329902826767674, 2.4760411291537143, 1.5138635182223377, 0.7073556751685137, 0.12401734248441017, 0.007844180439016798, 0.0004556797310312098, 11.286471904239823, 7.1580123306771535, 3.9571610125268046, 1.8399116118774996, 0.7802855169740726, 0.2489798442024637, 0.040478171647824725, 0.0034103101165470257, 0.0003388346063951934, 8.207387633336027e-05, 14.600696001489547, 9.75421890186924, 5.943346249809679, 3.104772795184965, 1.3028420971721986, 0.6716637475518982, 0.17394469785564953, 0.013044275982573123, 0.00042176041655823655, 5.277390877793245e-05, 14.972619765065867, 9.155213669572213, 4.903756139238905, 2.2431711694723395, 1.2247738678146751, 0.6327003039336754, 0.13385226554640417, 0.006069226684909263, 0.00017053570314741042, 1.8954303310665997e-05, 16.557461094319603, 10.312316690749679, 5.807679969784163, 2.978874251521571, 1.5495151527915902, 1.351094254483115, 0.7920496809535496, 0.2575269765176783, 0.022406656313162774, 0.0005332186390589695, 15.40174981656828, 10.218580874295357, 6.19277725864181, 3.3933050781409753, 1.7065973026773404, 1.3837499965627784, 0.9491881593391612, 0.499905723050728, 0.1043395868721518, 0.006274060456623387]\n"
     ]
    },
    {
     "name": "stderr",
     "output_type": "stream",
     "text": [
      "Cost: 12.29:  10%|███████                                                               | 1/10 [01:08<10:15, 68.38s/it]"
     ]
    },
    {
     "name": "stdout",
     "output_type": "stream",
     "text": [
      "Cost [1.805058834099499, 0.41932456458767126, 0.014087307350374025, 0.0001692433711427714, 5.653639294561886e-05, 3.356158175112585e-05, 2.396809661747693e-05, 1.9735546402678084e-05, 1.5763080920937223e-05, 1.3486385941374477e-05, 10.794958456889965, 6.921550221291253, 3.9205335028904216, 2.0339443569756948, 1.1359513374314638, 0.5665828764235191, 0.18895635398112973, 0.03744538130653987, 0.0041888964860639834, 0.0004988327741898294, 13.936540459613047, 9.96470549480028, 6.759911915500286, 4.147051321106824, 2.2729482942453947, 1.1610517082172722, 0.42251486776857794, 0.07469555281327084, 0.006418318407235089, 0.0005783703895562986, 12.836280793449864, 8.198480580402592, 4.708526150373516, 2.427440691808707, 1.259752148916097, 0.7081402542711223, 0.18073413084663914, 0.010133898370896953, 0.00024371080452472945, 2.753302081775263e-05, 15.011368842088576, 9.177649407984147, 5.024211633891435, 2.325921674059211, 1.181703919301214, 1.1140912177270343, 0.47171258927469695, 0.08954736188171877, 0.004429907390258706, 0.00017133434837629153, 13.292524588274912, 8.297900140272375, 4.582539758350406, 2.2713491107232695, 1.2404167320554749, 1.2194040529415546, 0.6275092268187233, 0.20654841465783322, 0.026026025442601127, 0.0012835155330387063, 12.287818623110558]\n"
     ]
    },
    {
     "name": "stderr",
     "output_type": "stream",
     "text": [
      "Cost: 7.71:  20%|██████████████▏                                                        | 2/10 [02:18<09:10, 68.75s/it]"
     ]
    },
    {
     "name": "stdout",
     "output_type": "stream",
     "text": [
      "Cost [1.805058834099499, 0.41932456458767126, 0.014087307350374025, 0.0001692433711427714, 5.653639294561886e-05, 3.356158175112585e-05, 2.396809661747693e-05, 1.9735546402678084e-05, 1.5763080920937223e-05, 1.3486385941374477e-05, 10.794958456889965, 6.921550221291253, 3.9205335028904216, 2.0339443569756948, 1.1359513374314638, 0.5665828764235191, 0.18895635398112973, 0.03744538130653987, 0.0041888964860639834, 0.0004988327741898294, 13.936540459613047, 9.96470549480028, 6.759911915500286, 4.147051321106824, 2.2729482942453947, 1.1610517082172722, 0.42251486776857794, 0.07469555281327084, 0.006418318407235089, 0.0005783703895562986, 12.836280793449864, 8.198480580402592, 4.708526150373516, 2.427440691808707, 1.259752148916097, 0.7081402542711223, 0.18073413084663914, 0.010133898370896953, 0.00024371080452472945, 2.753302081775263e-05, 15.011368842088576, 9.177649407984147, 5.024211633891435, 2.325921674059211, 1.181703919301214, 1.1140912177270343, 0.47171258927469695, 0.08954736188171877, 0.004429907390258706, 0.00017133434837629153, 13.292524588274912, 8.297900140272375, 4.582539758350406, 2.2713491107232695, 1.2404167320554749, 1.2194040529415546, 0.6275092268187233, 0.20654841465783322, 0.026026025442601127, 0.0012835155330387063, 12.287818623110558, 7.710051264928435]\n"
     ]
    },
    {
     "name": "stderr",
     "output_type": "stream",
     "text": [
      "Cost: 4.29:  30%|█████████████████████▎                                                 | 3/10 [03:35<08:19, 71.32s/it]"
     ]
    },
    {
     "name": "stdout",
     "output_type": "stream",
     "text": [
      "Cost [1.805058834099499, 0.41932456458767126, 0.014087307350374025, 0.0001692433711427714, 5.653639294561886e-05, 3.356158175112585e-05, 2.396809661747693e-05, 1.9735546402678084e-05, 1.5763080920937223e-05, 1.3486385941374477e-05, 10.794958456889965, 6.921550221291253, 3.9205335028904216, 2.0339443569756948, 1.1359513374314638, 0.5665828764235191, 0.18895635398112973, 0.03744538130653987, 0.0041888964860639834, 0.0004988327741898294, 13.936540459613047, 9.96470549480028, 6.759911915500286, 4.147051321106824, 2.2729482942453947, 1.1610517082172722, 0.42251486776857794, 0.07469555281327084, 0.006418318407235089, 0.0005783703895562986, 12.836280793449864, 8.198480580402592, 4.708526150373516, 2.427440691808707, 1.259752148916097, 0.7081402542711223, 0.18073413084663914, 0.010133898370896953, 0.00024371080452472945, 2.753302081775263e-05, 15.011368842088576, 9.177649407984147, 5.024211633891435, 2.325921674059211, 1.181703919301214, 1.1140912177270343, 0.47171258927469695, 0.08954736188171877, 0.004429907390258706, 0.00017133434837629153, 13.292524588274912, 8.297900140272375, 4.582539758350406, 2.2713491107232695, 1.2404167320554749, 1.2194040529415546, 0.6275092268187233, 0.20654841465783322, 0.026026025442601127, 0.0012835155330387063, 12.287818623110558, 7.710051264928435, 4.288059028755361]\n"
     ]
    },
    {
     "name": "stderr",
     "output_type": "stream",
     "text": [
      "Cost: 2.16:  40%|████████████████████████████▍                                          | 4/10 [04:51<07:16, 72.70s/it]"
     ]
    },
    {
     "name": "stdout",
     "output_type": "stream",
     "text": [
      "Cost [1.805058834099499, 0.41932456458767126, 0.014087307350374025, 0.0001692433711427714, 5.653639294561886e-05, 3.356158175112585e-05, 2.396809661747693e-05, 1.9735546402678084e-05, 1.5763080920937223e-05, 1.3486385941374477e-05, 10.794958456889965, 6.921550221291253, 3.9205335028904216, 2.0339443569756948, 1.1359513374314638, 0.5665828764235191, 0.18895635398112973, 0.03744538130653987, 0.0041888964860639834, 0.0004988327741898294, 13.936540459613047, 9.96470549480028, 6.759911915500286, 4.147051321106824, 2.2729482942453947, 1.1610517082172722, 0.42251486776857794, 0.07469555281327084, 0.006418318407235089, 0.0005783703895562986, 12.836280793449864, 8.198480580402592, 4.708526150373516, 2.427440691808707, 1.259752148916097, 0.7081402542711223, 0.18073413084663914, 0.010133898370896953, 0.00024371080452472945, 2.753302081775263e-05, 15.011368842088576, 9.177649407984147, 5.024211633891435, 2.325921674059211, 1.181703919301214, 1.1140912177270343, 0.47171258927469695, 0.08954736188171877, 0.004429907390258706, 0.00017133434837629153, 13.292524588274912, 8.297900140272375, 4.582539758350406, 2.2713491107232695, 1.2404167320554749, 1.2194040529415546, 0.6275092268187233, 0.20654841465783322, 0.026026025442601127, 0.0012835155330387063, 12.287818623110558, 7.710051264928435, 4.288059028755361, 2.15842572744059]\n"
     ]
    },
    {
     "name": "stderr",
     "output_type": "stream",
     "text": [
      "Cost: 1.19:  50%|███████████████████████████████████▌                                   | 5/10 [06:12<06:16, 75.36s/it]"
     ]
    },
    {
     "name": "stdout",
     "output_type": "stream",
     "text": [
      "Cost [1.805058834099499, 0.41932456458767126, 0.014087307350374025, 0.0001692433711427714, 5.653639294561886e-05, 3.356158175112585e-05, 2.396809661747693e-05, 1.9735546402678084e-05, 1.5763080920937223e-05, 1.3486385941374477e-05, 10.794958456889965, 6.921550221291253, 3.9205335028904216, 2.0339443569756948, 1.1359513374314638, 0.5665828764235191, 0.18895635398112973, 0.03744538130653987, 0.0041888964860639834, 0.0004988327741898294, 13.936540459613047, 9.96470549480028, 6.759911915500286, 4.147051321106824, 2.2729482942453947, 1.1610517082172722, 0.42251486776857794, 0.07469555281327084, 0.006418318407235089, 0.0005783703895562986, 12.836280793449864, 8.198480580402592, 4.708526150373516, 2.427440691808707, 1.259752148916097, 0.7081402542711223, 0.18073413084663914, 0.010133898370896953, 0.00024371080452472945, 2.753302081775263e-05, 15.011368842088576, 9.177649407984147, 5.024211633891435, 2.325921674059211, 1.181703919301214, 1.1140912177270343, 0.47171258927469695, 0.08954736188171877, 0.004429907390258706, 0.00017133434837629153, 13.292524588274912, 8.297900140272375, 4.582539758350406, 2.2713491107232695, 1.2404167320554749, 1.2194040529415546, 0.6275092268187233, 0.20654841465783322, 0.026026025442601127, 0.0012835155330387063, 12.287818623110558, 7.710051264928435, 4.288059028755361, 2.15842572744059, 1.1948799725858645]\n"
     ]
    },
    {
     "name": "stderr",
     "output_type": "stream",
     "text": [
      "Cost: 1.33:  60%|██████████████████████████████████████████▌                            | 6/10 [07:26<04:59, 74.85s/it]"
     ]
    },
    {
     "name": "stdout",
     "output_type": "stream",
     "text": [
      "Cost [1.805058834099499, 0.41932456458767126, 0.014087307350374025, 0.0001692433711427714, 5.653639294561886e-05, 3.356158175112585e-05, 2.396809661747693e-05, 1.9735546402678084e-05, 1.5763080920937223e-05, 1.3486385941374477e-05, 10.794958456889965, 6.921550221291253, 3.9205335028904216, 2.0339443569756948, 1.1359513374314638, 0.5665828764235191, 0.18895635398112973, 0.03744538130653987, 0.0041888964860639834, 0.0004988327741898294, 13.936540459613047, 9.96470549480028, 6.759911915500286, 4.147051321106824, 2.2729482942453947, 1.1610517082172722, 0.42251486776857794, 0.07469555281327084, 0.006418318407235089, 0.0005783703895562986, 12.836280793449864, 8.198480580402592, 4.708526150373516, 2.427440691808707, 1.259752148916097, 0.7081402542711223, 0.18073413084663914, 0.010133898370896953, 0.00024371080452472945, 2.753302081775263e-05, 15.011368842088576, 9.177649407984147, 5.024211633891435, 2.325921674059211, 1.181703919301214, 1.1140912177270343, 0.47171258927469695, 0.08954736188171877, 0.004429907390258706, 0.00017133434837629153, 13.292524588274912, 8.297900140272375, 4.582539758350406, 2.2713491107232695, 1.2404167320554749, 1.2194040529415546, 0.6275092268187233, 0.20654841465783322, 0.026026025442601127, 0.0012835155330387063, 12.287818623110558, 7.710051264928435, 4.288059028755361, 2.15842572744059, 1.1948799725858645, 1.3301560352305617]\n"
     ]
    },
    {
     "name": "stderr",
     "output_type": "stream",
     "text": [
      "Cost: 0.68:  70%|█████████████████████████████████████████████████▋                     | 7/10 [08:40<03:43, 74.48s/it]"
     ]
    },
    {
     "name": "stdout",
     "output_type": "stream",
     "text": [
      "Cost [1.805058834099499, 0.41932456458767126, 0.014087307350374025, 0.0001692433711427714, 5.653639294561886e-05, 3.356158175112585e-05, 2.396809661747693e-05, 1.9735546402678084e-05, 1.5763080920937223e-05, 1.3486385941374477e-05, 10.794958456889965, 6.921550221291253, 3.9205335028904216, 2.0339443569756948, 1.1359513374314638, 0.5665828764235191, 0.18895635398112973, 0.03744538130653987, 0.0041888964860639834, 0.0004988327741898294, 13.936540459613047, 9.96470549480028, 6.759911915500286, 4.147051321106824, 2.2729482942453947, 1.1610517082172722, 0.42251486776857794, 0.07469555281327084, 0.006418318407235089, 0.0005783703895562986, 12.836280793449864, 8.198480580402592, 4.708526150373516, 2.427440691808707, 1.259752148916097, 0.7081402542711223, 0.18073413084663914, 0.010133898370896953, 0.00024371080452472945, 2.753302081775263e-05, 15.011368842088576, 9.177649407984147, 5.024211633891435, 2.325921674059211, 1.181703919301214, 1.1140912177270343, 0.47171258927469695, 0.08954736188171877, 0.004429907390258706, 0.00017133434837629153, 13.292524588274912, 8.297900140272375, 4.582539758350406, 2.2713491107232695, 1.2404167320554749, 1.2194040529415546, 0.6275092268187233, 0.20654841465783322, 0.026026025442601127, 0.0012835155330387063, 12.287818623110558, 7.710051264928435, 4.288059028755361, 2.15842572744059, 1.1948799725858645, 1.3301560352305617, 0.679574145385976]\n"
     ]
    },
    {
     "name": "stderr",
     "output_type": "stream",
     "text": [
      "Cost: 0.24:  80%|████████████████████████████████████████████████████████▊              | 8/10 [09:49<02:25, 72.95s/it]"
     ]
    },
    {
     "name": "stdout",
     "output_type": "stream",
     "text": [
      "Cost [1.805058834099499, 0.41932456458767126, 0.014087307350374025, 0.0001692433711427714, 5.653639294561886e-05, 3.356158175112585e-05, 2.396809661747693e-05, 1.9735546402678084e-05, 1.5763080920937223e-05, 1.3486385941374477e-05, 10.794958456889965, 6.921550221291253, 3.9205335028904216, 2.0339443569756948, 1.1359513374314638, 0.5665828764235191, 0.18895635398112973, 0.03744538130653987, 0.0041888964860639834, 0.0004988327741898294, 13.936540459613047, 9.96470549480028, 6.759911915500286, 4.147051321106824, 2.2729482942453947, 1.1610517082172722, 0.42251486776857794, 0.07469555281327084, 0.006418318407235089, 0.0005783703895562986, 12.836280793449864, 8.198480580402592, 4.708526150373516, 2.427440691808707, 1.259752148916097, 0.7081402542711223, 0.18073413084663914, 0.010133898370896953, 0.00024371080452472945, 2.753302081775263e-05, 15.011368842088576, 9.177649407984147, 5.024211633891435, 2.325921674059211, 1.181703919301214, 1.1140912177270343, 0.47171258927469695, 0.08954736188171877, 0.004429907390258706, 0.00017133434837629153, 13.292524588274912, 8.297900140272375, 4.582539758350406, 2.2713491107232695, 1.2404167320554749, 1.2194040529415546, 0.6275092268187233, 0.20654841465783322, 0.026026025442601127, 0.0012835155330387063, 12.287818623110558, 7.710051264928435, 4.288059028755361, 2.15842572744059, 1.1948799725858645, 1.3301560352305617, 0.679574145385976, 0.23561134817165577]\n"
     ]
    },
    {
     "name": "stderr",
     "output_type": "stream",
     "text": [
      "Cost: 0.03:  90%|███████████████████████████████████████████████████████████████▉       | 9/10 [11:04<01:13, 73.49s/it]"
     ]
    },
    {
     "name": "stdout",
     "output_type": "stream",
     "text": [
      "Cost [1.805058834099499, 0.41932456458767126, 0.014087307350374025, 0.0001692433711427714, 5.653639294561886e-05, 3.356158175112585e-05, 2.396809661747693e-05, 1.9735546402678084e-05, 1.5763080920937223e-05, 1.3486385941374477e-05, 10.794958456889965, 6.921550221291253, 3.9205335028904216, 2.0339443569756948, 1.1359513374314638, 0.5665828764235191, 0.18895635398112973, 0.03744538130653987, 0.0041888964860639834, 0.0004988327741898294, 13.936540459613047, 9.96470549480028, 6.759911915500286, 4.147051321106824, 2.2729482942453947, 1.1610517082172722, 0.42251486776857794, 0.07469555281327084, 0.006418318407235089, 0.0005783703895562986, 12.836280793449864, 8.198480580402592, 4.708526150373516, 2.427440691808707, 1.259752148916097, 0.7081402542711223, 0.18073413084663914, 0.010133898370896953, 0.00024371080452472945, 2.753302081775263e-05, 15.011368842088576, 9.177649407984147, 5.024211633891435, 2.325921674059211, 1.181703919301214, 1.1140912177270343, 0.47171258927469695, 0.08954736188171877, 0.004429907390258706, 0.00017133434837629153, 13.292524588274912, 8.297900140272375, 4.582539758350406, 2.2713491107232695, 1.2404167320554749, 1.2194040529415546, 0.6275092268187233, 0.20654841465783322, 0.026026025442601127, 0.0012835155330387063, 12.287818623110558, 7.710051264928435, 4.288059028755361, 2.15842572744059, 1.1948799725858645, 1.3301560352305617, 0.679574145385976, 0.23561134817165577, 0.030131376885300903]\n"
     ]
    },
    {
     "name": "stderr",
     "output_type": "stream",
     "text": [
      "Cost: 0.00: 100%|██████████████████████████████████████████████████████████████████████| 10/10 [12:11<00:00, 73.11s/it]"
     ]
    },
    {
     "name": "stdout",
     "output_type": "stream",
     "text": [
      "Cost [1.805058834099499, 0.41932456458767126, 0.014087307350374025, 0.0001692433711427714, 5.653639294561886e-05, 3.356158175112585e-05, 2.396809661747693e-05, 1.9735546402678084e-05, 1.5763080920937223e-05, 1.3486385941374477e-05, 10.794958456889965, 6.921550221291253, 3.9205335028904216, 2.0339443569756948, 1.1359513374314638, 0.5665828764235191, 0.18895635398112973, 0.03744538130653987, 0.0041888964860639834, 0.0004988327741898294, 13.936540459613047, 9.96470549480028, 6.759911915500286, 4.147051321106824, 2.2729482942453947, 1.1610517082172722, 0.42251486776857794, 0.07469555281327084, 0.006418318407235089, 0.0005783703895562986, 12.836280793449864, 8.198480580402592, 4.708526150373516, 2.427440691808707, 1.259752148916097, 0.7081402542711223, 0.18073413084663914, 0.010133898370896953, 0.00024371080452472945, 2.753302081775263e-05, 15.011368842088576, 9.177649407984147, 5.024211633891435, 2.325921674059211, 1.181703919301214, 1.1140912177270343, 0.47171258927469695, 0.08954736188171877, 0.004429907390258706, 0.00017133434837629153, 13.292524588274912, 8.297900140272375, 4.582539758350406, 2.2713491107232695, 1.2404167320554749, 1.2194040529415546, 0.6275092268187233, 0.20654841465783322, 0.026026025442601127, 0.0012835155330387063, 12.287818623110558, 7.710051264928435, 4.288059028755361, 2.15842572744059, 1.1948799725858645, 1.3301560352305617, 0.679574145385976, 0.23561134817165577, 0.030131376885300903, 0.0014876702216375373]\n"
     ]
    },
    {
     "name": "stderr",
     "output_type": "stream",
     "text": [
      "\n",
      "\n",
      "Valid_Cost: 13.56:   0%|                                                                        | 0/10 [13:20<?, ?it/s]\u001b[A\n",
      "Valid_Cost: 13.56:  10%|██████                                                       | 1/10 [13:20<2:00:02, 800.25s/it]\u001b[A"
     ]
    },
    {
     "name": "stdout",
     "output_type": "stream",
     "text": [
      "Cost [12.613709885244726, 6.129279193499976, 1.9015729174187954, 0.4830742251328419, 0.059338604989321045, 0.0038545933766283057, 0.0003906240788377571, 9.15193451790838e-05, 3.919789094803865e-05, 2.5649834936594426e-05, 12.178118574525625, 8.83741414768729, 6.049341830583761, 3.717224841972516, 1.9367038000870511, 0.8429194833112358, 0.30925509649505994, 0.04688601036105282, 0.0031951087833463608, 0.0002975351746294532, 10.164771032014617, 6.8418420870715115, 4.228511992749954, 2.1664902232317886, 0.9171980347453055, 0.30422177998973543, 0.04735792114029455, 0.003021321679140005, 0.00022974909030712851, 4.913693756712343e-05, 12.514925977767167, 7.29940279102362, 3.7328417861479157, 1.8574271610449287, 1.2512844870644253, 0.74797770705636, 0.19659836765481745, 0.01166647408039311, 0.00030943374139103246, 2.9783938119770803e-05, 13.64446580618679, 8.573609685349934, 4.771710095712352, 2.3176120400710842, 1.3147699935605954, 1.2236189226704695, 0.667521883160358, 0.23163752914868802, 0.027726625673225976, 0.001240131038953828, 12.730051211658536, 7.930390974243899, 4.515109807553686, 2.3758921410602225, 1.297510735432644, 1.2396234186141042, 0.6761851602217582, 0.2584246883956613, 0.038007945093754436, 0.002053185179447755, 13.5582630073804]\n"
     ]
    },
    {
     "name": "stderr",
     "output_type": "stream",
     "text": [
      "\n",
      "Valid_Cost: 8.82:  10%|██████▏                                                       | 1/10 [14:38<2:00:02, 800.25s/it]\u001b[A\n",
      "Valid_Cost: 8.82:  20%|████████████▍                                                 | 2/10 [14:38<1:17:48, 583.55s/it]\u001b[A"
     ]
    },
    {
     "name": "stdout",
     "output_type": "stream",
     "text": [
      "Cost [12.613709885244726, 6.129279193499976, 1.9015729174187954, 0.4830742251328419, 0.059338604989321045, 0.0038545933766283057, 0.0003906240788377571, 9.15193451790838e-05, 3.919789094803865e-05, 2.5649834936594426e-05, 12.178118574525625, 8.83741414768729, 6.049341830583761, 3.717224841972516, 1.9367038000870511, 0.8429194833112358, 0.30925509649505994, 0.04688601036105282, 0.0031951087833463608, 0.0002975351746294532, 10.164771032014617, 6.8418420870715115, 4.228511992749954, 2.1664902232317886, 0.9171980347453055, 0.30422177998973543, 0.04735792114029455, 0.003021321679140005, 0.00022974909030712851, 4.913693756712343e-05, 12.514925977767167, 7.29940279102362, 3.7328417861479157, 1.8574271610449287, 1.2512844870644253, 0.74797770705636, 0.19659836765481745, 0.01166647408039311, 0.00030943374139103246, 2.9783938119770803e-05, 13.64446580618679, 8.573609685349934, 4.771710095712352, 2.3176120400710842, 1.3147699935605954, 1.2236189226704695, 0.667521883160358, 0.23163752914868802, 0.027726625673225976, 0.001240131038953828, 12.730051211658536, 7.930390974243899, 4.515109807553686, 2.3758921410602225, 1.297510735432644, 1.2396234186141042, 0.6761851602217582, 0.2584246883956613, 0.038007945093754436, 0.002053185179447755, 13.5582630073804, 8.815424995846875]\n"
     ]
    },
    {
     "name": "stderr",
     "output_type": "stream",
     "text": [
      "\n",
      "Valid_Cost: 5.13:  20%|████████████▍                                                 | 2/10 [15:57<1:17:48, 583.55s/it]\u001b[A\n",
      "Valid_Cost: 5.13:  30%|███████████████████▏                                            | 3/10 [15:57<50:25, 432.19s/it]\u001b[A"
     ]
    },
    {
     "name": "stdout",
     "output_type": "stream",
     "text": [
      "Cost [12.613709885244726, 6.129279193499976, 1.9015729174187954, 0.4830742251328419, 0.059338604989321045, 0.0038545933766283057, 0.0003906240788377571, 9.15193451790838e-05, 3.919789094803865e-05, 2.5649834936594426e-05, 12.178118574525625, 8.83741414768729, 6.049341830583761, 3.717224841972516, 1.9367038000870511, 0.8429194833112358, 0.30925509649505994, 0.04688601036105282, 0.0031951087833463608, 0.0002975351746294532, 10.164771032014617, 6.8418420870715115, 4.228511992749954, 2.1664902232317886, 0.9171980347453055, 0.30422177998973543, 0.04735792114029455, 0.003021321679140005, 0.00022974909030712851, 4.913693756712343e-05, 12.514925977767167, 7.29940279102362, 3.7328417861479157, 1.8574271610449287, 1.2512844870644253, 0.74797770705636, 0.19659836765481745, 0.01166647408039311, 0.00030943374139103246, 2.9783938119770803e-05, 13.64446580618679, 8.573609685349934, 4.771710095712352, 2.3176120400710842, 1.3147699935605954, 1.2236189226704695, 0.667521883160358, 0.23163752914868802, 0.027726625673225976, 0.001240131038953828, 12.730051211658536, 7.930390974243899, 4.515109807553686, 2.3758921410602225, 1.297510735432644, 1.2396234186141042, 0.6761851602217582, 0.2584246883956613, 0.038007945093754436, 0.002053185179447755, 13.5582630073804, 8.815424995846875, 5.130528549478459]\n"
     ]
    },
    {
     "name": "stderr",
     "output_type": "stream",
     "text": [
      "\n",
      "Valid_Cost: 2.64:  30%|███████████████████▏                                            | 3/10 [17:06<50:25, 432.19s/it]\u001b[A\n",
      "Valid_Cost: 2.64:  40%|█████████████████████████▌                                      | 4/10 [17:06<32:19, 323.20s/it]\u001b[A"
     ]
    },
    {
     "name": "stdout",
     "output_type": "stream",
     "text": [
      "Cost [12.613709885244726, 6.129279193499976, 1.9015729174187954, 0.4830742251328419, 0.059338604989321045, 0.0038545933766283057, 0.0003906240788377571, 9.15193451790838e-05, 3.919789094803865e-05, 2.5649834936594426e-05, 12.178118574525625, 8.83741414768729, 6.049341830583761, 3.717224841972516, 1.9367038000870511, 0.8429194833112358, 0.30925509649505994, 0.04688601036105282, 0.0031951087833463608, 0.0002975351746294532, 10.164771032014617, 6.8418420870715115, 4.228511992749954, 2.1664902232317886, 0.9171980347453055, 0.30422177998973543, 0.04735792114029455, 0.003021321679140005, 0.00022974909030712851, 4.913693756712343e-05, 12.514925977767167, 7.29940279102362, 3.7328417861479157, 1.8574271610449287, 1.2512844870644253, 0.74797770705636, 0.19659836765481745, 0.01166647408039311, 0.00030943374139103246, 2.9783938119770803e-05, 13.64446580618679, 8.573609685349934, 4.771710095712352, 2.3176120400710842, 1.3147699935605954, 1.2236189226704695, 0.667521883160358, 0.23163752914868802, 0.027726625673225976, 0.001240131038953828, 12.730051211658536, 7.930390974243899, 4.515109807553686, 2.3758921410602225, 1.297510735432644, 1.2396234186141042, 0.6761851602217582, 0.2584246883956613, 0.038007945093754436, 0.002053185179447755, 13.5582630073804, 8.815424995846875, 5.130528549478459, 2.6353227660896206]\n"
     ]
    },
    {
     "name": "stderr",
     "output_type": "stream",
     "text": [
      "\n",
      "Valid_Cost: 1.36:  40%|█████████████████████████▌                                      | 4/10 [18:23<32:19, 323.20s/it]\u001b[A\n",
      "Valid_Cost: 1.36:  50%|████████████████████████████████                                | 5/10 [18:23<20:47, 249.52s/it]\u001b[A"
     ]
    },
    {
     "name": "stdout",
     "output_type": "stream",
     "text": [
      "Cost [12.613709885244726, 6.129279193499976, 1.9015729174187954, 0.4830742251328419, 0.059338604989321045, 0.0038545933766283057, 0.0003906240788377571, 9.15193451790838e-05, 3.919789094803865e-05, 2.5649834936594426e-05, 12.178118574525625, 8.83741414768729, 6.049341830583761, 3.717224841972516, 1.9367038000870511, 0.8429194833112358, 0.30925509649505994, 0.04688601036105282, 0.0031951087833463608, 0.0002975351746294532, 10.164771032014617, 6.8418420870715115, 4.228511992749954, 2.1664902232317886, 0.9171980347453055, 0.30422177998973543, 0.04735792114029455, 0.003021321679140005, 0.00022974909030712851, 4.913693756712343e-05, 12.514925977767167, 7.29940279102362, 3.7328417861479157, 1.8574271610449287, 1.2512844870644253, 0.74797770705636, 0.19659836765481745, 0.01166647408039311, 0.00030943374139103246, 2.9783938119770803e-05, 13.64446580618679, 8.573609685349934, 4.771710095712352, 2.3176120400710842, 1.3147699935605954, 1.2236189226704695, 0.667521883160358, 0.23163752914868802, 0.027726625673225976, 0.001240131038953828, 12.730051211658536, 7.930390974243899, 4.515109807553686, 2.3758921410602225, 1.297510735432644, 1.2396234186141042, 0.6761851602217582, 0.2584246883956613, 0.038007945093754436, 0.002053185179447755, 13.5582630073804, 8.815424995846875, 5.130528549478459, 2.6353227660896206, 1.3644164180726939]\n"
     ]
    },
    {
     "name": "stderr",
     "output_type": "stream",
     "text": [
      "\n",
      "Valid_Cost: 1.39:  50%|████████████████████████████████                                | 5/10 [19:24<20:47, 249.52s/it]\u001b[A\n",
      "Valid_Cost: 1.39:  60%|██████████████████████████████████████▍                         | 6/10 [19:24<12:52, 193.01s/it]\u001b[A"
     ]
    },
    {
     "name": "stdout",
     "output_type": "stream",
     "text": [
      "Cost [12.613709885244726, 6.129279193499976, 1.9015729174187954, 0.4830742251328419, 0.059338604989321045, 0.0038545933766283057, 0.0003906240788377571, 9.15193451790838e-05, 3.919789094803865e-05, 2.5649834936594426e-05, 12.178118574525625, 8.83741414768729, 6.049341830583761, 3.717224841972516, 1.9367038000870511, 0.8429194833112358, 0.30925509649505994, 0.04688601036105282, 0.0031951087833463608, 0.0002975351746294532, 10.164771032014617, 6.8418420870715115, 4.228511992749954, 2.1664902232317886, 0.9171980347453055, 0.30422177998973543, 0.04735792114029455, 0.003021321679140005, 0.00022974909030712851, 4.913693756712343e-05, 12.514925977767167, 7.29940279102362, 3.7328417861479157, 1.8574271610449287, 1.2512844870644253, 0.74797770705636, 0.19659836765481745, 0.01166647408039311, 0.00030943374139103246, 2.9783938119770803e-05, 13.64446580618679, 8.573609685349934, 4.771710095712352, 2.3176120400710842, 1.3147699935605954, 1.2236189226704695, 0.667521883160358, 0.23163752914868802, 0.027726625673225976, 0.001240131038953828, 12.730051211658536, 7.930390974243899, 4.515109807553686, 2.3758921410602225, 1.297510735432644, 1.2396234186141042, 0.6761851602217582, 0.2584246883956613, 0.038007945093754436, 0.002053185179447755, 13.5582630073804, 8.815424995846875, 5.130528549478459, 2.6353227660896206, 1.3644164180726939, 1.3896577298544164]\n"
     ]
    },
    {
     "name": "stderr",
     "output_type": "stream",
     "text": [
      "\n",
      "Valid_Cost: 0.79:  60%|██████████████████████████████████████▍                         | 6/10 [20:25<12:52, 193.01s/it]\u001b[A\n",
      "Valid_Cost: 0.79:  70%|████████████████████████████████████████████▊                   | 7/10 [20:25<07:40, 153.39s/it]\u001b[A"
     ]
    },
    {
     "name": "stdout",
     "output_type": "stream",
     "text": [
      "Cost [12.613709885244726, 6.129279193499976, 1.9015729174187954, 0.4830742251328419, 0.059338604989321045, 0.0038545933766283057, 0.0003906240788377571, 9.15193451790838e-05, 3.919789094803865e-05, 2.5649834936594426e-05, 12.178118574525625, 8.83741414768729, 6.049341830583761, 3.717224841972516, 1.9367038000870511, 0.8429194833112358, 0.30925509649505994, 0.04688601036105282, 0.0031951087833463608, 0.0002975351746294532, 10.164771032014617, 6.8418420870715115, 4.228511992749954, 2.1664902232317886, 0.9171980347453055, 0.30422177998973543, 0.04735792114029455, 0.003021321679140005, 0.00022974909030712851, 4.913693756712343e-05, 12.514925977767167, 7.29940279102362, 3.7328417861479157, 1.8574271610449287, 1.2512844870644253, 0.74797770705636, 0.19659836765481745, 0.01166647408039311, 0.00030943374139103246, 2.9783938119770803e-05, 13.64446580618679, 8.573609685349934, 4.771710095712352, 2.3176120400710842, 1.3147699935605954, 1.2236189226704695, 0.667521883160358, 0.23163752914868802, 0.027726625673225976, 0.001240131038953828, 12.730051211658536, 7.930390974243899, 4.515109807553686, 2.3758921410602225, 1.297510735432644, 1.2396234186141042, 0.6761851602217582, 0.2584246883956613, 0.038007945093754436, 0.002053185179447755, 13.5582630073804, 8.815424995846875, 5.130528549478459, 2.6353227660896206, 1.3644164180726939, 1.3896577298544164, 0.7859347179135893]\n"
     ]
    },
    {
     "name": "stderr",
     "output_type": "stream",
     "text": [
      "\n",
      "Valid_Cost: 0.33:  70%|████████████████████████████████████████████▊                   | 7/10 [21:27<07:40, 153.39s/it]\u001b[A\n",
      "Valid_Cost: 0.33:  80%|███████████████████████████████████████████████████▏            | 8/10 [21:27<04:11, 125.83s/it]\u001b[A"
     ]
    },
    {
     "name": "stdout",
     "output_type": "stream",
     "text": [
      "Cost [12.613709885244726, 6.129279193499976, 1.9015729174187954, 0.4830742251328419, 0.059338604989321045, 0.0038545933766283057, 0.0003906240788377571, 9.15193451790838e-05, 3.919789094803865e-05, 2.5649834936594426e-05, 12.178118574525625, 8.83741414768729, 6.049341830583761, 3.717224841972516, 1.9367038000870511, 0.8429194833112358, 0.30925509649505994, 0.04688601036105282, 0.0031951087833463608, 0.0002975351746294532, 10.164771032014617, 6.8418420870715115, 4.228511992749954, 2.1664902232317886, 0.9171980347453055, 0.30422177998973543, 0.04735792114029455, 0.003021321679140005, 0.00022974909030712851, 4.913693756712343e-05, 12.514925977767167, 7.29940279102362, 3.7328417861479157, 1.8574271610449287, 1.2512844870644253, 0.74797770705636, 0.19659836765481745, 0.01166647408039311, 0.00030943374139103246, 2.9783938119770803e-05, 13.64446580618679, 8.573609685349934, 4.771710095712352, 2.3176120400710842, 1.3147699935605954, 1.2236189226704695, 0.667521883160358, 0.23163752914868802, 0.027726625673225976, 0.001240131038953828, 12.730051211658536, 7.930390974243899, 4.515109807553686, 2.3758921410602225, 1.297510735432644, 1.2396234186141042, 0.6761851602217582, 0.2584246883956613, 0.038007945093754436, 0.002053185179447755, 13.5582630073804, 8.815424995846875, 5.130528549478459, 2.6353227660896206, 1.3644164180726939, 1.3896577298544164, 0.7859347179135893, 0.33211278043545694]\n"
     ]
    },
    {
     "name": "stderr",
     "output_type": "stream",
     "text": [
      "\n",
      "Valid_Cost: 0.04:  80%|███████████████████████████████████████████████████▏            | 8/10 [22:28<04:11, 125.83s/it]\u001b[A\n",
      "Valid_Cost: 0.04:  90%|█████████████████████████████████████████████████████████▌      | 9/10 [22:28<01:46, 106.49s/it]\u001b[A"
     ]
    },
    {
     "name": "stdout",
     "output_type": "stream",
     "text": [
      "Cost [12.613709885244726, 6.129279193499976, 1.9015729174187954, 0.4830742251328419, 0.059338604989321045, 0.0038545933766283057, 0.0003906240788377571, 9.15193451790838e-05, 3.919789094803865e-05, 2.5649834936594426e-05, 12.178118574525625, 8.83741414768729, 6.049341830583761, 3.717224841972516, 1.9367038000870511, 0.8429194833112358, 0.30925509649505994, 0.04688601036105282, 0.0031951087833463608, 0.0002975351746294532, 10.164771032014617, 6.8418420870715115, 4.228511992749954, 2.1664902232317886, 0.9171980347453055, 0.30422177998973543, 0.04735792114029455, 0.003021321679140005, 0.00022974909030712851, 4.913693756712343e-05, 12.514925977767167, 7.29940279102362, 3.7328417861479157, 1.8574271610449287, 1.2512844870644253, 0.74797770705636, 0.19659836765481745, 0.01166647408039311, 0.00030943374139103246, 2.9783938119770803e-05, 13.64446580618679, 8.573609685349934, 4.771710095712352, 2.3176120400710842, 1.3147699935605954, 1.2236189226704695, 0.667521883160358, 0.23163752914868802, 0.027726625673225976, 0.001240131038953828, 12.730051211658536, 7.930390974243899, 4.515109807553686, 2.3758921410602225, 1.297510735432644, 1.2396234186141042, 0.6761851602217582, 0.2584246883956613, 0.038007945093754436, 0.002053185179447755, 13.5582630073804, 8.815424995846875, 5.130528549478459, 2.6353227660896206, 1.3644164180726939, 1.3896577298544164, 0.7859347179135893, 0.33211278043545694, 0.04386177284685975]\n"
     ]
    },
    {
     "name": "stderr",
     "output_type": "stream",
     "text": [
      "\n",
      "Valid_Cost: 0.00:  90%|█████████████████████████████████████████████████████████▌      | 9/10 [23:29<01:46, 106.49s/it]\u001b[A\n",
      "Valid_Cost: 0.00: 100%|███████████████████████████████████████████████████████████████| 10/10 [23:29<00:00, 140.96s/it]\u001b[A"
     ]
    },
    {
     "name": "stdout",
     "output_type": "stream",
     "text": [
      "Cost [12.613709885244726, 6.129279193499976, 1.9015729174187954, 0.4830742251328419, 0.059338604989321045, 0.0038545933766283057, 0.0003906240788377571, 9.15193451790838e-05, 3.919789094803865e-05, 2.5649834936594426e-05, 12.178118574525625, 8.83741414768729, 6.049341830583761, 3.717224841972516, 1.9367038000870511, 0.8429194833112358, 0.30925509649505994, 0.04688601036105282, 0.0031951087833463608, 0.0002975351746294532, 10.164771032014617, 6.8418420870715115, 4.228511992749954, 2.1664902232317886, 0.9171980347453055, 0.30422177998973543, 0.04735792114029455, 0.003021321679140005, 0.00022974909030712851, 4.913693756712343e-05, 12.514925977767167, 7.29940279102362, 3.7328417861479157, 1.8574271610449287, 1.2512844870644253, 0.74797770705636, 0.19659836765481745, 0.01166647408039311, 0.00030943374139103246, 2.9783938119770803e-05, 13.64446580618679, 8.573609685349934, 4.771710095712352, 2.3176120400710842, 1.3147699935605954, 1.2236189226704695, 0.667521883160358, 0.23163752914868802, 0.027726625673225976, 0.001240131038953828, 12.730051211658536, 7.930390974243899, 4.515109807553686, 2.3758921410602225, 1.297510735432644, 1.2396234186141042, 0.6761851602217582, 0.2584246883956613, 0.038007945093754436, 0.002053185179447755, 13.5582630073804, 8.815424995846875, 5.130528549478459, 2.6353227660896206, 1.3644164180726939, 1.3896577298544164, 0.7859347179135893, 0.33211278043545694, 0.04386177284685975, 0.001649375367116993]\n"
     ]
    },
    {
     "name": "stderr",
     "output_type": "stream",
     "text": [
      "\n",
      "\n",
      "\n",
      "Test_Cost: 18.12:   0%|                                                                         | 0/10 [24:31<?, ?it/s]\u001b[A\u001b[A\n",
      "\n",
      "Test_Cost: 18.12:  10%|██████                                                       | 1/10 [24:31<3:40:39, 1471.06s/it]\u001b[A\u001b[A"
     ]
    },
    {
     "name": "stdout",
     "output_type": "stream",
     "text": [
      "Cost [17.477931487658772, 11.481349621096912, 7.2365141576138186, 4.329902826767674, 2.4760411291537143, 1.5138635182223377, 0.7073556751685137, 0.12401734248441017, 0.007844180439016798, 0.0004556797310312098, 11.286471904239823, 7.1580123306771535, 3.9571610125268046, 1.8399116118774996, 0.7802855169740726, 0.2489798442024637, 0.040478171647824725, 0.0034103101165470257, 0.0003388346063951934, 8.207387633336027e-05, 14.600696001489547, 9.75421890186924, 5.943346249809679, 3.104772795184965, 1.3028420971721986, 0.6716637475518982, 0.17394469785564953, 0.013044275982573123, 0.00042176041655823655, 5.277390877793245e-05, 14.972619765065867, 9.155213669572213, 4.903756139238905, 2.2431711694723395, 1.2247738678146751, 0.6327003039336754, 0.13385226554640417, 0.006069226684909263, 0.00017053570314741042, 1.8954303310665997e-05, 16.557461094319603, 10.312316690749679, 5.807679969784163, 2.978874251521571, 1.5495151527915902, 1.351094254483115, 0.7920496809535496, 0.2575269765176783, 0.022406656313162774, 0.0005332186390589695, 15.40174981656828, 10.218580874295357, 6.19277725864181, 3.3933050781409753, 1.7065973026773404, 1.3837499965627784, 0.9491881593391612, 0.499905723050728, 0.1043395868721518, 0.006274060456623387, 18.123430148273588]\n"
     ]
    },
    {
     "name": "stderr",
     "output_type": "stream",
     "text": [
      "\n",
      "\n",
      "Test_Cost: 11.46:  10%|██████                                                       | 1/10 [25:32<3:40:39, 1471.06s/it]\u001b[A\u001b[A\n",
      "\n",
      "Test_Cost: 11.46:  20%|████████████▏                                                | 2/10 [25:32<2:19:44, 1048.12s/it]\u001b[A\u001b[A"
     ]
    },
    {
     "name": "stdout",
     "output_type": "stream",
     "text": [
      "Cost [17.477931487658772, 11.481349621096912, 7.2365141576138186, 4.329902826767674, 2.4760411291537143, 1.5138635182223377, 0.7073556751685137, 0.12401734248441017, 0.007844180439016798, 0.0004556797310312098, 11.286471904239823, 7.1580123306771535, 3.9571610125268046, 1.8399116118774996, 0.7802855169740726, 0.2489798442024637, 0.040478171647824725, 0.0034103101165470257, 0.0003388346063951934, 8.207387633336027e-05, 14.600696001489547, 9.75421890186924, 5.943346249809679, 3.104772795184965, 1.3028420971721986, 0.6716637475518982, 0.17394469785564953, 0.013044275982573123, 0.00042176041655823655, 5.277390877793245e-05, 14.972619765065867, 9.155213669572213, 4.903756139238905, 2.2431711694723395, 1.2247738678146751, 0.6327003039336754, 0.13385226554640417, 0.006069226684909263, 0.00017053570314741042, 1.8954303310665997e-05, 16.557461094319603, 10.312316690749679, 5.807679969784163, 2.978874251521571, 1.5495151527915902, 1.351094254483115, 0.7920496809535496, 0.2575269765176783, 0.022406656313162774, 0.0005332186390589695, 15.40174981656828, 10.218580874295357, 6.19277725864181, 3.3933050781409753, 1.7065973026773404, 1.3837499965627784, 0.9491881593391612, 0.499905723050728, 0.1043395868721518, 0.006274060456623387, 18.123430148273588, 11.458900403303865]\n"
     ]
    },
    {
     "name": "stderr",
     "output_type": "stream",
     "text": [
      "\n",
      "\n",
      "Test_Cost: 6.55:  20%|████████████▍                                                 | 2/10 [26:33<2:19:44, 1048.12s/it]\u001b[A\u001b[A\n",
      "\n",
      "Test_Cost: 6.55:  30%|██████████████████▉                                            | 3/10 [26:33<1:27:43, 751.91s/it]\u001b[A\u001b[A"
     ]
    },
    {
     "name": "stdout",
     "output_type": "stream",
     "text": [
      "Cost [17.477931487658772, 11.481349621096912, 7.2365141576138186, 4.329902826767674, 2.4760411291537143, 1.5138635182223377, 0.7073556751685137, 0.12401734248441017, 0.007844180439016798, 0.0004556797310312098, 11.286471904239823, 7.1580123306771535, 3.9571610125268046, 1.8399116118774996, 0.7802855169740726, 0.2489798442024637, 0.040478171647824725, 0.0034103101165470257, 0.0003388346063951934, 8.207387633336027e-05, 14.600696001489547, 9.75421890186924, 5.943346249809679, 3.104772795184965, 1.3028420971721986, 0.6716637475518982, 0.17394469785564953, 0.013044275982573123, 0.00042176041655823655, 5.277390877793245e-05, 14.972619765065867, 9.155213669572213, 4.903756139238905, 2.2431711694723395, 1.2247738678146751, 0.6327003039336754, 0.13385226554640417, 0.006069226684909263, 0.00017053570314741042, 1.8954303310665997e-05, 16.557461094319603, 10.312316690749679, 5.807679969784163, 2.978874251521571, 1.5495151527915902, 1.351094254483115, 0.7920496809535496, 0.2575269765176783, 0.022406656313162774, 0.0005332186390589695, 15.40174981656828, 10.218580874295357, 6.19277725864181, 3.3933050781409753, 1.7065973026773404, 1.3837499965627784, 0.9491881593391612, 0.499905723050728, 0.1043395868721518, 0.006274060456623387, 18.123430148273588, 11.458900403303865, 6.549573953358018]\n"
     ]
    },
    {
     "name": "stderr",
     "output_type": "stream",
     "text": [
      "\n",
      "\n",
      "Test_Cost: 3.33:  30%|██████████████████▉                                            | 3/10 [27:34<1:27:43, 751.91s/it]\u001b[A\u001b[A\n",
      "\n",
      "Test_Cost: 3.33:  40%|██████████████████████████                                       | 4/10 [27:34<54:27, 544.66s/it]\u001b[A\u001b[A"
     ]
    },
    {
     "name": "stdout",
     "output_type": "stream",
     "text": [
      "Cost [17.477931487658772, 11.481349621096912, 7.2365141576138186, 4.329902826767674, 2.4760411291537143, 1.5138635182223377, 0.7073556751685137, 0.12401734248441017, 0.007844180439016798, 0.0004556797310312098, 11.286471904239823, 7.1580123306771535, 3.9571610125268046, 1.8399116118774996, 0.7802855169740726, 0.2489798442024637, 0.040478171647824725, 0.0034103101165470257, 0.0003388346063951934, 8.207387633336027e-05, 14.600696001489547, 9.75421890186924, 5.943346249809679, 3.104772795184965, 1.3028420971721986, 0.6716637475518982, 0.17394469785564953, 0.013044275982573123, 0.00042176041655823655, 5.277390877793245e-05, 14.972619765065867, 9.155213669572213, 4.903756139238905, 2.2431711694723395, 1.2247738678146751, 0.6327003039336754, 0.13385226554640417, 0.006069226684909263, 0.00017053570314741042, 1.8954303310665997e-05, 16.557461094319603, 10.312316690749679, 5.807679969784163, 2.978874251521571, 1.5495151527915902, 1.351094254483115, 0.7920496809535496, 0.2575269765176783, 0.022406656313162774, 0.0005332186390589695, 15.40174981656828, 10.218580874295357, 6.19277725864181, 3.3933050781409753, 1.7065973026773404, 1.3837499965627784, 0.9491881593391612, 0.499905723050728, 0.1043395868721518, 0.006274060456623387, 18.123430148273588, 11.458900403303865, 6.549573953358018, 3.325961171360774]\n"
     ]
    },
    {
     "name": "stderr",
     "output_type": "stream",
     "text": [
      "\n",
      "\n",
      "Test_Cost: 1.68:  40%|██████████████████████████                                       | 4/10 [28:35<54:27, 544.66s/it]\u001b[A\u001b[A\n",
      "\n",
      "Test_Cost: 1.68:  50%|████████████████████████████████▌                                | 5/10 [28:35<33:17, 399.54s/it]\u001b[A\u001b[A"
     ]
    },
    {
     "name": "stdout",
     "output_type": "stream",
     "text": [
      "Cost [17.477931487658772, 11.481349621096912, 7.2365141576138186, 4.329902826767674, 2.4760411291537143, 1.5138635182223377, 0.7073556751685137, 0.12401734248441017, 0.007844180439016798, 0.0004556797310312098, 11.286471904239823, 7.1580123306771535, 3.9571610125268046, 1.8399116118774996, 0.7802855169740726, 0.2489798442024637, 0.040478171647824725, 0.0034103101165470257, 0.0003388346063951934, 8.207387633336027e-05, 14.600696001489547, 9.75421890186924, 5.943346249809679, 3.104772795184965, 1.3028420971721986, 0.6716637475518982, 0.17394469785564953, 0.013044275982573123, 0.00042176041655823655, 5.277390877793245e-05, 14.972619765065867, 9.155213669572213, 4.903756139238905, 2.2431711694723395, 1.2247738678146751, 0.6327003039336754, 0.13385226554640417, 0.006069226684909263, 0.00017053570314741042, 1.8954303310665997e-05, 16.557461094319603, 10.312316690749679, 5.807679969784163, 2.978874251521571, 1.5495151527915902, 1.351094254483115, 0.7920496809535496, 0.2575269765176783, 0.022406656313162774, 0.0005332186390589695, 15.40174981656828, 10.218580874295357, 6.19277725864181, 3.3933050781409753, 1.7065973026773404, 1.3837499965627784, 0.9491881593391612, 0.499905723050728, 0.1043395868721518, 0.006274060456623387, 18.123430148273588, 11.458900403303865, 6.549573953358018, 3.325961171360774, 1.677488759919609]\n"
     ]
    },
    {
     "name": "stderr",
     "output_type": "stream",
     "text": [
      "\n",
      "\n",
      "Test_Cost: 1.41:  50%|████████████████████████████████▌                                | 5/10 [29:36<33:17, 399.54s/it]\u001b[A\u001b[A\n",
      "\n",
      "Test_Cost: 1.41:  60%|███████████████████████████████████████                          | 6/10 [29:36<19:51, 297.98s/it]\u001b[A\u001b[A"
     ]
    },
    {
     "name": "stdout",
     "output_type": "stream",
     "text": [
      "Cost [17.477931487658772, 11.481349621096912, 7.2365141576138186, 4.329902826767674, 2.4760411291537143, 1.5138635182223377, 0.7073556751685137, 0.12401734248441017, 0.007844180439016798, 0.0004556797310312098, 11.286471904239823, 7.1580123306771535, 3.9571610125268046, 1.8399116118774996, 0.7802855169740726, 0.2489798442024637, 0.040478171647824725, 0.0034103101165470257, 0.0003388346063951934, 8.207387633336027e-05, 14.600696001489547, 9.75421890186924, 5.943346249809679, 3.104772795184965, 1.3028420971721986, 0.6716637475518982, 0.17394469785564953, 0.013044275982573123, 0.00042176041655823655, 5.277390877793245e-05, 14.972619765065867, 9.155213669572213, 4.903756139238905, 2.2431711694723395, 1.2247738678146751, 0.6327003039336754, 0.13385226554640417, 0.006069226684909263, 0.00017053570314741042, 1.8954303310665997e-05, 16.557461094319603, 10.312316690749679, 5.807679969784163, 2.978874251521571, 1.5495151527915902, 1.351094254483115, 0.7920496809535496, 0.2575269765176783, 0.022406656313162774, 0.0005332186390589695, 15.40174981656828, 10.218580874295357, 6.19277725864181, 3.3933050781409753, 1.7065973026773404, 1.3837499965627784, 0.9491881593391612, 0.499905723050728, 0.1043395868721518, 0.006274060456623387, 18.123430148273588, 11.458900403303865, 6.549573953358018, 3.325961171360774, 1.677488759919609, 1.4107234813832696]\n"
     ]
    },
    {
     "name": "stderr",
     "output_type": "stream",
     "text": [
      "\n",
      "\n",
      "Test_Cost: 0.90:  60%|███████████████████████████████████████                          | 6/10 [30:37<19:51, 297.98s/it]\u001b[A\u001b[A\n",
      "\n",
      "Test_Cost: 0.90:  70%|█████████████████████████████████████████████▌                   | 7/10 [30:37<11:20, 226.92s/it]\u001b[A\u001b[A"
     ]
    },
    {
     "name": "stdout",
     "output_type": "stream",
     "text": [
      "Cost [17.477931487658772, 11.481349621096912, 7.2365141576138186, 4.329902826767674, 2.4760411291537143, 1.5138635182223377, 0.7073556751685137, 0.12401734248441017, 0.007844180439016798, 0.0004556797310312098, 11.286471904239823, 7.1580123306771535, 3.9571610125268046, 1.8399116118774996, 0.7802855169740726, 0.2489798442024637, 0.040478171647824725, 0.0034103101165470257, 0.0003388346063951934, 8.207387633336027e-05, 14.600696001489547, 9.75421890186924, 5.943346249809679, 3.104772795184965, 1.3028420971721986, 0.6716637475518982, 0.17394469785564953, 0.013044275982573123, 0.00042176041655823655, 5.277390877793245e-05, 14.972619765065867, 9.155213669572213, 4.903756139238905, 2.2431711694723395, 1.2247738678146751, 0.6327003039336754, 0.13385226554640417, 0.006069226684909263, 0.00017053570314741042, 1.8954303310665997e-05, 16.557461094319603, 10.312316690749679, 5.807679969784163, 2.978874251521571, 1.5495151527915902, 1.351094254483115, 0.7920496809535496, 0.2575269765176783, 0.022406656313162774, 0.0005332186390589695, 15.40174981656828, 10.218580874295357, 6.19277725864181, 3.3933050781409753, 1.7065973026773404, 1.3837499965627784, 0.9491881593391612, 0.499905723050728, 0.1043395868721518, 0.006274060456623387, 18.123430148273588, 11.458900403303865, 6.549573953358018, 3.325961171360774, 1.677488759919609, 1.4107234813832696, 0.8985648211830274]\n"
     ]
    },
    {
     "name": "stderr",
     "output_type": "stream",
     "text": [
      "\n",
      "\n",
      "Test_Cost: 0.25:  70%|█████████████████████████████████████████████▌                   | 7/10 [31:38<11:20, 226.92s/it]\u001b[A\u001b[A\n",
      "\n",
      "Test_Cost: 0.25:  80%|████████████████████████████████████████████████████             | 8/10 [31:38<05:54, 177.23s/it]\u001b[A\u001b[A"
     ]
    },
    {
     "name": "stdout",
     "output_type": "stream",
     "text": [
      "Cost [17.477931487658772, 11.481349621096912, 7.2365141576138186, 4.329902826767674, 2.4760411291537143, 1.5138635182223377, 0.7073556751685137, 0.12401734248441017, 0.007844180439016798, 0.0004556797310312098, 11.286471904239823, 7.1580123306771535, 3.9571610125268046, 1.8399116118774996, 0.7802855169740726, 0.2489798442024637, 0.040478171647824725, 0.0034103101165470257, 0.0003388346063951934, 8.207387633336027e-05, 14.600696001489547, 9.75421890186924, 5.943346249809679, 3.104772795184965, 1.3028420971721986, 0.6716637475518982, 0.17394469785564953, 0.013044275982573123, 0.00042176041655823655, 5.277390877793245e-05, 14.972619765065867, 9.155213669572213, 4.903756139238905, 2.2431711694723395, 1.2247738678146751, 0.6327003039336754, 0.13385226554640417, 0.006069226684909263, 0.00017053570314741042, 1.8954303310665997e-05, 16.557461094319603, 10.312316690749679, 5.807679969784163, 2.978874251521571, 1.5495151527915902, 1.351094254483115, 0.7920496809535496, 0.2575269765176783, 0.022406656313162774, 0.0005332186390589695, 15.40174981656828, 10.218580874295357, 6.19277725864181, 3.3933050781409753, 1.7065973026773404, 1.3837499965627784, 0.9491881593391612, 0.499905723050728, 0.1043395868721518, 0.006274060456623387, 18.123430148273588, 11.458900403303865, 6.549573953358018, 3.325961171360774, 1.677488759919609, 1.4107234813832696, 0.8985648211830274, 0.2547668961196521]\n"
     ]
    },
    {
     "name": "stderr",
     "output_type": "stream",
     "text": [
      "\n",
      "\n",
      "Test_Cost: 0.02:  80%|████████████████████████████████████████████████████             | 8/10 [32:39<05:54, 177.23s/it]\u001b[A\u001b[A\n",
      "\n",
      "Test_Cost: 0.02:  90%|██████████████████████████████████████████████████████████▌      | 9/10 [32:39<02:22, 142.34s/it]\u001b[A\u001b[A"
     ]
    },
    {
     "name": "stdout",
     "output_type": "stream",
     "text": [
      "Cost [17.477931487658772, 11.481349621096912, 7.2365141576138186, 4.329902826767674, 2.4760411291537143, 1.5138635182223377, 0.7073556751685137, 0.12401734248441017, 0.007844180439016798, 0.0004556797310312098, 11.286471904239823, 7.1580123306771535, 3.9571610125268046, 1.8399116118774996, 0.7802855169740726, 0.2489798442024637, 0.040478171647824725, 0.0034103101165470257, 0.0003388346063951934, 8.207387633336027e-05, 14.600696001489547, 9.75421890186924, 5.943346249809679, 3.104772795184965, 1.3028420971721986, 0.6716637475518982, 0.17394469785564953, 0.013044275982573123, 0.00042176041655823655, 5.277390877793245e-05, 14.972619765065867, 9.155213669572213, 4.903756139238905, 2.2431711694723395, 1.2247738678146751, 0.6327003039336754, 0.13385226554640417, 0.006069226684909263, 0.00017053570314741042, 1.8954303310665997e-05, 16.557461094319603, 10.312316690749679, 5.807679969784163, 2.978874251521571, 1.5495151527915902, 1.351094254483115, 0.7920496809535496, 0.2575269765176783, 0.022406656313162774, 0.0005332186390589695, 15.40174981656828, 10.218580874295357, 6.19277725864181, 3.3933050781409753, 1.7065973026773404, 1.3837499965627784, 0.9491881593391612, 0.499905723050728, 0.1043395868721518, 0.006274060456623387, 18.123430148273588, 11.458900403303865, 6.549573953358018, 3.325961171360774, 1.677488759919609, 1.4107234813832696, 0.8985648211830274, 0.2547668961196521, 0.016730105095166207]\n"
     ]
    },
    {
     "name": "stderr",
     "output_type": "stream",
     "text": [
      "\n",
      "\n",
      "Test_Cost: 0.00:  90%|██████████████████████████████████████████████████████████▌      | 9/10 [33:40<02:22, 142.34s/it]\u001b[A\u001b[A\n",
      "\n",
      "Test_Cost: 0.00: 100%|████████████████████████████████████████████████████████████████| 10/10 [33:40<00:00, 202.05s/it]\u001b[A\u001b[A\n",
      "  0%|                                                                                           | 0/10 [00:00<?, ?it/s]\n",
      "  0%|                                                                                           | 0/10 [00:00<?, ?it/s]\u001b[A\n",
      "\n",
      "  0%|                                                                                           | 0/10 [00:00<?, ?it/s]\u001b[A\u001b[A"
     ]
    },
    {
     "name": "stdout",
     "output_type": "stream",
     "text": [
      "Cost [17.477931487658772, 11.481349621096912, 7.2365141576138186, 4.329902826767674, 2.4760411291537143, 1.5138635182223377, 0.7073556751685137, 0.12401734248441017, 0.007844180439016798, 0.0004556797310312098, 11.286471904239823, 7.1580123306771535, 3.9571610125268046, 1.8399116118774996, 0.7802855169740726, 0.2489798442024637, 0.040478171647824725, 0.0034103101165470257, 0.0003388346063951934, 8.207387633336027e-05, 14.600696001489547, 9.75421890186924, 5.943346249809679, 3.104772795184965, 1.3028420971721986, 0.6716637475518982, 0.17394469785564953, 0.013044275982573123, 0.00042176041655823655, 5.277390877793245e-05, 14.972619765065867, 9.155213669572213, 4.903756139238905, 2.2431711694723395, 1.2247738678146751, 0.6327003039336754, 0.13385226554640417, 0.006069226684909263, 0.00017053570314741042, 1.8954303310665997e-05, 16.557461094319603, 10.312316690749679, 5.807679969784163, 2.978874251521571, 1.5495151527915902, 1.351094254483115, 0.7920496809535496, 0.2575269765176783, 0.022406656313162774, 0.0005332186390589695, 15.40174981656828, 10.218580874295357, 6.19277725864181, 3.3933050781409753, 1.7065973026773404, 1.3837499965627784, 0.9491881593391612, 0.499905723050728, 0.1043395868721518, 0.006274060456623387, 18.123430148273588, 11.458900403303865, 6.549573953358018, 3.325961171360774, 1.677488759919609, 1.4107234813832696, 0.8985648211830274, 0.2547668961196521, 0.016730105095166207, 0.000328545286842944]\n"
     ]
    },
    {
     "name": "stderr",
     "output_type": "stream",
     "text": [
      "Cost: 14.29:  10%|███████                                                               | 1/10 [01:00<09:08, 60.99s/it]"
     ]
    },
    {
     "name": "stdout",
     "output_type": "stream",
     "text": [
      "Cost [1.805058834099499, 0.41932456458767126, 0.014087307350374025, 0.0001692433711427714, 5.653639294561886e-05, 3.356158175112585e-05, 2.396809661747693e-05, 1.9735546402678084e-05, 1.5763080920937223e-05, 1.3486385941374477e-05, 10.794958456889965, 6.921550221291253, 3.9205335028904216, 2.0339443569756948, 1.1359513374314638, 0.5665828764235191, 0.18895635398112973, 0.03744538130653987, 0.0041888964860639834, 0.0004988327741898294, 13.936540459613047, 9.96470549480028, 6.759911915500286, 4.147051321106824, 2.2729482942453947, 1.1610517082172722, 0.42251486776857794, 0.07469555281327084, 0.006418318407235089, 0.0005783703895562986, 12.836280793449864, 8.198480580402592, 4.708526150373516, 2.427440691808707, 1.259752148916097, 0.7081402542711223, 0.18073413084663914, 0.010133898370896953, 0.00024371080452472945, 2.753302081775263e-05, 15.011368842088576, 9.177649407984147, 5.024211633891435, 2.325921674059211, 1.181703919301214, 1.1140912177270343, 0.47171258927469695, 0.08954736188171877, 0.004429907390258706, 0.00017133434837629153, 13.292524588274912, 8.297900140272375, 4.582539758350406, 2.2713491107232695, 1.2404167320554749, 1.2194040529415546, 0.6275092268187233, 0.20654841465783322, 0.026026025442601127, 0.0012835155330387063, 12.287818623110558, 7.710051264928435, 4.288059028755361, 2.15842572744059, 1.1948799725858645, 1.3301560352305617, 0.679574145385976, 0.23561134817165577, 0.030131376885300903, 0.0014876702216375373, 14.289533075951674]\n"
     ]
    },
    {
     "name": "stderr",
     "output_type": "stream",
     "text": [
      "Cost: 8.63:  20%|██████████████▏                                                        | 2/10 [02:01<08:07, 60.97s/it]"
     ]
    },
    {
     "name": "stdout",
     "output_type": "stream",
     "text": [
      "Cost [1.805058834099499, 0.41932456458767126, 0.014087307350374025, 0.0001692433711427714, 5.653639294561886e-05, 3.356158175112585e-05, 2.396809661747693e-05, 1.9735546402678084e-05, 1.5763080920937223e-05, 1.3486385941374477e-05, 10.794958456889965, 6.921550221291253, 3.9205335028904216, 2.0339443569756948, 1.1359513374314638, 0.5665828764235191, 0.18895635398112973, 0.03744538130653987, 0.0041888964860639834, 0.0004988327741898294, 13.936540459613047, 9.96470549480028, 6.759911915500286, 4.147051321106824, 2.2729482942453947, 1.1610517082172722, 0.42251486776857794, 0.07469555281327084, 0.006418318407235089, 0.0005783703895562986, 12.836280793449864, 8.198480580402592, 4.708526150373516, 2.427440691808707, 1.259752148916097, 0.7081402542711223, 0.18073413084663914, 0.010133898370896953, 0.00024371080452472945, 2.753302081775263e-05, 15.011368842088576, 9.177649407984147, 5.024211633891435, 2.325921674059211, 1.181703919301214, 1.1140912177270343, 0.47171258927469695, 0.08954736188171877, 0.004429907390258706, 0.00017133434837629153, 13.292524588274912, 8.297900140272375, 4.582539758350406, 2.2713491107232695, 1.2404167320554749, 1.2194040529415546, 0.6275092268187233, 0.20654841465783322, 0.026026025442601127, 0.0012835155330387063, 12.287818623110558, 7.710051264928435, 4.288059028755361, 2.15842572744059, 1.1948799725858645, 1.3301560352305617, 0.679574145385976, 0.23561134817165577, 0.030131376885300903, 0.0014876702216375373, 14.289533075951674, 8.632586967588402]\n"
     ]
    },
    {
     "name": "stderr",
     "output_type": "stream",
     "text": [
      "Cost: 4.58:  30%|█████████████████████▎                                                 | 3/10 [03:02<07:06, 60.94s/it]"
     ]
    },
    {
     "name": "stdout",
     "output_type": "stream",
     "text": [
      "Cost [1.805058834099499, 0.41932456458767126, 0.014087307350374025, 0.0001692433711427714, 5.653639294561886e-05, 3.356158175112585e-05, 2.396809661747693e-05, 1.9735546402678084e-05, 1.5763080920937223e-05, 1.3486385941374477e-05, 10.794958456889965, 6.921550221291253, 3.9205335028904216, 2.0339443569756948, 1.1359513374314638, 0.5665828764235191, 0.18895635398112973, 0.03744538130653987, 0.0041888964860639834, 0.0004988327741898294, 13.936540459613047, 9.96470549480028, 6.759911915500286, 4.147051321106824, 2.2729482942453947, 1.1610517082172722, 0.42251486776857794, 0.07469555281327084, 0.006418318407235089, 0.0005783703895562986, 12.836280793449864, 8.198480580402592, 4.708526150373516, 2.427440691808707, 1.259752148916097, 0.7081402542711223, 0.18073413084663914, 0.010133898370896953, 0.00024371080452472945, 2.753302081775263e-05, 15.011368842088576, 9.177649407984147, 5.024211633891435, 2.325921674059211, 1.181703919301214, 1.1140912177270343, 0.47171258927469695, 0.08954736188171877, 0.004429907390258706, 0.00017133434837629153, 13.292524588274912, 8.297900140272375, 4.582539758350406, 2.2713491107232695, 1.2404167320554749, 1.2194040529415546, 0.6275092268187233, 0.20654841465783322, 0.026026025442601127, 0.0012835155330387063, 12.287818623110558, 7.710051264928435, 4.288059028755361, 2.15842572744059, 1.1948799725858645, 1.3301560352305617, 0.679574145385976, 0.23561134817165577, 0.030131376885300903, 0.0014876702216375373, 14.289533075951674, 8.632586967588402, 4.584496287750888]\n"
     ]
    },
    {
     "name": "stderr",
     "output_type": "stream",
     "text": [
      "Cost: 2.06:  40%|████████████████████████████▍                                          | 4/10 [04:06<06:11, 61.89s/it]"
     ]
    },
    {
     "name": "stdout",
     "output_type": "stream",
     "text": [
      "Cost [1.805058834099499, 0.41932456458767126, 0.014087307350374025, 0.0001692433711427714, 5.653639294561886e-05, 3.356158175112585e-05, 2.396809661747693e-05, 1.9735546402678084e-05, 1.5763080920937223e-05, 1.3486385941374477e-05, 10.794958456889965, 6.921550221291253, 3.9205335028904216, 2.0339443569756948, 1.1359513374314638, 0.5665828764235191, 0.18895635398112973, 0.03744538130653987, 0.0041888964860639834, 0.0004988327741898294, 13.936540459613047, 9.96470549480028, 6.759911915500286, 4.147051321106824, 2.2729482942453947, 1.1610517082172722, 0.42251486776857794, 0.07469555281327084, 0.006418318407235089, 0.0005783703895562986, 12.836280793449864, 8.198480580402592, 4.708526150373516, 2.427440691808707, 1.259752148916097, 0.7081402542711223, 0.18073413084663914, 0.010133898370896953, 0.00024371080452472945, 2.753302081775263e-05, 15.011368842088576, 9.177649407984147, 5.024211633891435, 2.325921674059211, 1.181703919301214, 1.1140912177270343, 0.47171258927469695, 0.08954736188171877, 0.004429907390258706, 0.00017133434837629153, 13.292524588274912, 8.297900140272375, 4.582539758350406, 2.2713491107232695, 1.2404167320554749, 1.2194040529415546, 0.6275092268187233, 0.20654841465783322, 0.026026025442601127, 0.0012835155330387063, 12.287818623110558, 7.710051264928435, 4.288059028755361, 2.15842572744059, 1.1948799725858645, 1.3301560352305617, 0.679574145385976, 0.23561134817165577, 0.030131376885300903, 0.0014876702216375373, 14.289533075951674, 8.632586967588402, 4.584496287750888, 2.0564677517783267]\n"
     ]
    },
    {
     "name": "stderr",
     "output_type": "stream",
     "text": [
      "Cost: 1.14:  50%|███████████████████████████████████▌                                   | 5/10 [05:10<05:12, 62.42s/it]"
     ]
    },
    {
     "name": "stdout",
     "output_type": "stream",
     "text": [
      "Cost [1.805058834099499, 0.41932456458767126, 0.014087307350374025, 0.0001692433711427714, 5.653639294561886e-05, 3.356158175112585e-05, 2.396809661747693e-05, 1.9735546402678084e-05, 1.5763080920937223e-05, 1.3486385941374477e-05, 10.794958456889965, 6.921550221291253, 3.9205335028904216, 2.0339443569756948, 1.1359513374314638, 0.5665828764235191, 0.18895635398112973, 0.03744538130653987, 0.0041888964860639834, 0.0004988327741898294, 13.936540459613047, 9.96470549480028, 6.759911915500286, 4.147051321106824, 2.2729482942453947, 1.1610517082172722, 0.42251486776857794, 0.07469555281327084, 0.006418318407235089, 0.0005783703895562986, 12.836280793449864, 8.198480580402592, 4.708526150373516, 2.427440691808707, 1.259752148916097, 0.7081402542711223, 0.18073413084663914, 0.010133898370896953, 0.00024371080452472945, 2.753302081775263e-05, 15.011368842088576, 9.177649407984147, 5.024211633891435, 2.325921674059211, 1.181703919301214, 1.1140912177270343, 0.47171258927469695, 0.08954736188171877, 0.004429907390258706, 0.00017133434837629153, 13.292524588274912, 8.297900140272375, 4.582539758350406, 2.2713491107232695, 1.2404167320554749, 1.2194040529415546, 0.6275092268187233, 0.20654841465783322, 0.026026025442601127, 0.0012835155330387063, 12.287818623110558, 7.710051264928435, 4.288059028755361, 2.15842572744059, 1.1948799725858645, 1.3301560352305617, 0.679574145385976, 0.23561134817165577, 0.030131376885300903, 0.0014876702216375373, 14.289533075951674, 8.632586967588402, 4.584496287750888, 2.0564677517783267, 1.141020264885779]\n"
     ]
    },
    {
     "name": "stderr",
     "output_type": "stream",
     "text": [
      "Cost: 0.81:  60%|██████████████████████████████████████████▌                            | 6/10 [06:14<04:11, 62.90s/it]"
     ]
    },
    {
     "name": "stdout",
     "output_type": "stream",
     "text": [
      "Cost [1.805058834099499, 0.41932456458767126, 0.014087307350374025, 0.0001692433711427714, 5.653639294561886e-05, 3.356158175112585e-05, 2.396809661747693e-05, 1.9735546402678084e-05, 1.5763080920937223e-05, 1.3486385941374477e-05, 10.794958456889965, 6.921550221291253, 3.9205335028904216, 2.0339443569756948, 1.1359513374314638, 0.5665828764235191, 0.18895635398112973, 0.03744538130653987, 0.0041888964860639834, 0.0004988327741898294, 13.936540459613047, 9.96470549480028, 6.759911915500286, 4.147051321106824, 2.2729482942453947, 1.1610517082172722, 0.42251486776857794, 0.07469555281327084, 0.006418318407235089, 0.0005783703895562986, 12.836280793449864, 8.198480580402592, 4.708526150373516, 2.427440691808707, 1.259752148916097, 0.7081402542711223, 0.18073413084663914, 0.010133898370896953, 0.00024371080452472945, 2.753302081775263e-05, 15.011368842088576, 9.177649407984147, 5.024211633891435, 2.325921674059211, 1.181703919301214, 1.1140912177270343, 0.47171258927469695, 0.08954736188171877, 0.004429907390258706, 0.00017133434837629153, 13.292524588274912, 8.297900140272375, 4.582539758350406, 2.2713491107232695, 1.2404167320554749, 1.2194040529415546, 0.6275092268187233, 0.20654841465783322, 0.026026025442601127, 0.0012835155330387063, 12.287818623110558, 7.710051264928435, 4.288059028755361, 2.15842572744059, 1.1948799725858645, 1.3301560352305617, 0.679574145385976, 0.23561134817165577, 0.030131376885300903, 0.0014876702216375373, 14.289533075951674, 8.632586967588402, 4.584496287750888, 2.0564677517783267, 1.141020264885779, 0.8081337307855044]\n"
     ]
    },
    {
     "name": "stderr",
     "output_type": "stream",
     "text": [
      "Cost: 0.36:  70%|█████████████████████████████████████████████████▋                     | 7/10 [07:18<03:09, 63.22s/it]"
     ]
    },
    {
     "name": "stdout",
     "output_type": "stream",
     "text": [
      "Cost [1.805058834099499, 0.41932456458767126, 0.014087307350374025, 0.0001692433711427714, 5.653639294561886e-05, 3.356158175112585e-05, 2.396809661747693e-05, 1.9735546402678084e-05, 1.5763080920937223e-05, 1.3486385941374477e-05, 10.794958456889965, 6.921550221291253, 3.9205335028904216, 2.0339443569756948, 1.1359513374314638, 0.5665828764235191, 0.18895635398112973, 0.03744538130653987, 0.0041888964860639834, 0.0004988327741898294, 13.936540459613047, 9.96470549480028, 6.759911915500286, 4.147051321106824, 2.2729482942453947, 1.1610517082172722, 0.42251486776857794, 0.07469555281327084, 0.006418318407235089, 0.0005783703895562986, 12.836280793449864, 8.198480580402592, 4.708526150373516, 2.427440691808707, 1.259752148916097, 0.7081402542711223, 0.18073413084663914, 0.010133898370896953, 0.00024371080452472945, 2.753302081775263e-05, 15.011368842088576, 9.177649407984147, 5.024211633891435, 2.325921674059211, 1.181703919301214, 1.1140912177270343, 0.47171258927469695, 0.08954736188171877, 0.004429907390258706, 0.00017133434837629153, 13.292524588274912, 8.297900140272375, 4.582539758350406, 2.2713491107232695, 1.2404167320554749, 1.2194040529415546, 0.6275092268187233, 0.20654841465783322, 0.026026025442601127, 0.0012835155330387063, 12.287818623110558, 7.710051264928435, 4.288059028755361, 2.15842572744059, 1.1948799725858645, 1.3301560352305617, 0.679574145385976, 0.23561134817165577, 0.030131376885300903, 0.0014876702216375373, 14.289533075951674, 8.632586967588402, 4.584496287750888, 2.0564677517783267, 1.141020264885779, 0.8081337307855044, 0.35556584390926516]\n"
     ]
    },
    {
     "name": "stderr",
     "output_type": "stream",
     "text": [
      "Cost: 0.07:  80%|████████████████████████████████████████████████████████▊              | 8/10 [08:22<02:07, 63.52s/it]"
     ]
    },
    {
     "name": "stdout",
     "output_type": "stream",
     "text": [
      "Cost [1.805058834099499, 0.41932456458767126, 0.014087307350374025, 0.0001692433711427714, 5.653639294561886e-05, 3.356158175112585e-05, 2.396809661747693e-05, 1.9735546402678084e-05, 1.5763080920937223e-05, 1.3486385941374477e-05, 10.794958456889965, 6.921550221291253, 3.9205335028904216, 2.0339443569756948, 1.1359513374314638, 0.5665828764235191, 0.18895635398112973, 0.03744538130653987, 0.0041888964860639834, 0.0004988327741898294, 13.936540459613047, 9.96470549480028, 6.759911915500286, 4.147051321106824, 2.2729482942453947, 1.1610517082172722, 0.42251486776857794, 0.07469555281327084, 0.006418318407235089, 0.0005783703895562986, 12.836280793449864, 8.198480580402592, 4.708526150373516, 2.427440691808707, 1.259752148916097, 0.7081402542711223, 0.18073413084663914, 0.010133898370896953, 0.00024371080452472945, 2.753302081775263e-05, 15.011368842088576, 9.177649407984147, 5.024211633891435, 2.325921674059211, 1.181703919301214, 1.1140912177270343, 0.47171258927469695, 0.08954736188171877, 0.004429907390258706, 0.00017133434837629153, 13.292524588274912, 8.297900140272375, 4.582539758350406, 2.2713491107232695, 1.2404167320554749, 1.2194040529415546, 0.6275092268187233, 0.20654841465783322, 0.026026025442601127, 0.0012835155330387063, 12.287818623110558, 7.710051264928435, 4.288059028755361, 2.15842572744059, 1.1948799725858645, 1.3301560352305617, 0.679574145385976, 0.23561134817165577, 0.030131376885300903, 0.0014876702216375373, 14.289533075951674, 8.632586967588402, 4.584496287750888, 2.0564677517783267, 1.141020264885779, 0.8081337307855044, 0.35556584390926516, 0.07341349271519054]\n"
     ]
    },
    {
     "name": "stderr",
     "output_type": "stream",
     "text": [
      "Cost: 0.01:  90%|███████████████████████████████████████████████████████████████▉       | 9/10 [09:26<01:03, 63.59s/it]"
     ]
    },
    {
     "name": "stdout",
     "output_type": "stream",
     "text": [
      "Cost [1.805058834099499, 0.41932456458767126, 0.014087307350374025, 0.0001692433711427714, 5.653639294561886e-05, 3.356158175112585e-05, 2.396809661747693e-05, 1.9735546402678084e-05, 1.5763080920937223e-05, 1.3486385941374477e-05, 10.794958456889965, 6.921550221291253, 3.9205335028904216, 2.0339443569756948, 1.1359513374314638, 0.5665828764235191, 0.18895635398112973, 0.03744538130653987, 0.0041888964860639834, 0.0004988327741898294, 13.936540459613047, 9.96470549480028, 6.759911915500286, 4.147051321106824, 2.2729482942453947, 1.1610517082172722, 0.42251486776857794, 0.07469555281327084, 0.006418318407235089, 0.0005783703895562986, 12.836280793449864, 8.198480580402592, 4.708526150373516, 2.427440691808707, 1.259752148916097, 0.7081402542711223, 0.18073413084663914, 0.010133898370896953, 0.00024371080452472945, 2.753302081775263e-05, 15.011368842088576, 9.177649407984147, 5.024211633891435, 2.325921674059211, 1.181703919301214, 1.1140912177270343, 0.47171258927469695, 0.08954736188171877, 0.004429907390258706, 0.00017133434837629153, 13.292524588274912, 8.297900140272375, 4.582539758350406, 2.2713491107232695, 1.2404167320554749, 1.2194040529415546, 0.6275092268187233, 0.20654841465783322, 0.026026025442601127, 0.0012835155330387063, 12.287818623110558, 7.710051264928435, 4.288059028755361, 2.15842572744059, 1.1948799725858645, 1.3301560352305617, 0.679574145385976, 0.23561134817165577, 0.030131376885300903, 0.0014876702216375373, 14.289533075951674, 8.632586967588402, 4.584496287750888, 2.0564677517783267, 1.141020264885779, 0.8081337307855044, 0.35556584390926516, 0.07341349271519054, 0.006498318720014233]\n"
     ]
    },
    {
     "name": "stderr",
     "output_type": "stream",
     "text": [
      "Cost: 0.00: 100%|██████████████████████████████████████████████████████████████████████| 10/10 [10:30<00:00, 63.09s/it]"
     ]
    },
    {
     "name": "stdout",
     "output_type": "stream",
     "text": [
      "Cost [1.805058834099499, 0.41932456458767126, 0.014087307350374025, 0.0001692433711427714, 5.653639294561886e-05, 3.356158175112585e-05, 2.396809661747693e-05, 1.9735546402678084e-05, 1.5763080920937223e-05, 1.3486385941374477e-05, 10.794958456889965, 6.921550221291253, 3.9205335028904216, 2.0339443569756948, 1.1359513374314638, 0.5665828764235191, 0.18895635398112973, 0.03744538130653987, 0.0041888964860639834, 0.0004988327741898294, 13.936540459613047, 9.96470549480028, 6.759911915500286, 4.147051321106824, 2.2729482942453947, 1.1610517082172722, 0.42251486776857794, 0.07469555281327084, 0.006418318407235089, 0.0005783703895562986, 12.836280793449864, 8.198480580402592, 4.708526150373516, 2.427440691808707, 1.259752148916097, 0.7081402542711223, 0.18073413084663914, 0.010133898370896953, 0.00024371080452472945, 2.753302081775263e-05, 15.011368842088576, 9.177649407984147, 5.024211633891435, 2.325921674059211, 1.181703919301214, 1.1140912177270343, 0.47171258927469695, 0.08954736188171877, 0.004429907390258706, 0.00017133434837629153, 13.292524588274912, 8.297900140272375, 4.582539758350406, 2.2713491107232695, 1.2404167320554749, 1.2194040529415546, 0.6275092268187233, 0.20654841465783322, 0.026026025442601127, 0.0012835155330387063, 12.287818623110558, 7.710051264928435, 4.288059028755361, 2.15842572744059, 1.1948799725858645, 1.3301560352305617, 0.679574145385976, 0.23561134817165577, 0.030131376885300903, 0.0014876702216375373, 14.289533075951674, 8.632586967588402, 4.584496287750888, 2.0564677517783267, 1.141020264885779, 0.8081337307855044, 0.35556584390926516, 0.07341349271519054, 0.006498318720014233, 0.00033485312301873775]\n"
     ]
    },
    {
     "name": "stderr",
     "output_type": "stream",
     "text": [
      "\n",
      "\n",
      "Valid_Cost: 13.53:   0%|                                                                        | 0/10 [11:35<?, ?it/s]\u001b[A\n",
      "Valid_Cost: 13.53:  10%|██████                                                       | 1/10 [11:35<1:44:17, 695.23s/it]\u001b[A"
     ]
    },
    {
     "name": "stdout",
     "output_type": "stream",
     "text": [
      "Cost [12.613709885244726, 6.129279193499976, 1.9015729174187954, 0.4830742251328419, 0.059338604989321045, 0.0038545933766283057, 0.0003906240788377571, 9.15193451790838e-05, 3.919789094803865e-05, 2.5649834936594426e-05, 12.178118574525625, 8.83741414768729, 6.049341830583761, 3.717224841972516, 1.9367038000870511, 0.8429194833112358, 0.30925509649505994, 0.04688601036105282, 0.0031951087833463608, 0.0002975351746294532, 10.164771032014617, 6.8418420870715115, 4.228511992749954, 2.1664902232317886, 0.9171980347453055, 0.30422177998973543, 0.04735792114029455, 0.003021321679140005, 0.00022974909030712851, 4.913693756712343e-05, 12.514925977767167, 7.29940279102362, 3.7328417861479157, 1.8574271610449287, 1.2512844870644253, 0.74797770705636, 0.19659836765481745, 0.01166647408039311, 0.00030943374139103246, 2.9783938119770803e-05, 13.64446580618679, 8.573609685349934, 4.771710095712352, 2.3176120400710842, 1.3147699935605954, 1.2236189226704695, 0.667521883160358, 0.23163752914868802, 0.027726625673225976, 0.001240131038953828, 12.730051211658536, 7.930390974243899, 4.515109807553686, 2.3758921410602225, 1.297510735432644, 1.2396234186141042, 0.6761851602217582, 0.2584246883956613, 0.038007945093754436, 0.002053185179447755, 13.5582630073804, 8.815424995846875, 5.130528549478459, 2.6353227660896206, 1.3644164180726939, 1.3896577298544164, 0.7859347179135893, 0.33211278043545694, 0.04386177284685975, 0.001649375367116993, 13.527380603582033]\n"
     ]
    },
    {
     "name": "stderr",
     "output_type": "stream",
     "text": [
      "\n",
      "Valid_Cost: 8.86:  10%|██████▏                                                       | 1/10 [12:40<1:44:17, 695.23s/it]\u001b[A\n",
      "Valid_Cost: 8.86:  20%|████████████▍                                                 | 2/10 [12:40<1:07:29, 506.13s/it]\u001b[A"
     ]
    },
    {
     "name": "stdout",
     "output_type": "stream",
     "text": [
      "Cost [12.613709885244726, 6.129279193499976, 1.9015729174187954, 0.4830742251328419, 0.059338604989321045, 0.0038545933766283057, 0.0003906240788377571, 9.15193451790838e-05, 3.919789094803865e-05, 2.5649834936594426e-05, 12.178118574525625, 8.83741414768729, 6.049341830583761, 3.717224841972516, 1.9367038000870511, 0.8429194833112358, 0.30925509649505994, 0.04688601036105282, 0.0031951087833463608, 0.0002975351746294532, 10.164771032014617, 6.8418420870715115, 4.228511992749954, 2.1664902232317886, 0.9171980347453055, 0.30422177998973543, 0.04735792114029455, 0.003021321679140005, 0.00022974909030712851, 4.913693756712343e-05, 12.514925977767167, 7.29940279102362, 3.7328417861479157, 1.8574271610449287, 1.2512844870644253, 0.74797770705636, 0.19659836765481745, 0.01166647408039311, 0.00030943374139103246, 2.9783938119770803e-05, 13.64446580618679, 8.573609685349934, 4.771710095712352, 2.3176120400710842, 1.3147699935605954, 1.2236189226704695, 0.667521883160358, 0.23163752914868802, 0.027726625673225976, 0.001240131038953828, 12.730051211658536, 7.930390974243899, 4.515109807553686, 2.3758921410602225, 1.297510735432644, 1.2396234186141042, 0.6761851602217582, 0.2584246883956613, 0.038007945093754436, 0.002053185179447755, 13.5582630073804, 8.815424995846875, 5.130528549478459, 2.6353227660896206, 1.3644164180726939, 1.3896577298544164, 0.7859347179135893, 0.33211278043545694, 0.04386177284685975, 0.001649375367116993, 13.527380603582033, 8.861295823654743]\n"
     ]
    },
    {
     "name": "stderr",
     "output_type": "stream",
     "text": [
      "\n",
      "Valid_Cost: 5.36:  20%|████████████▍                                                 | 2/10 [13:44<1:07:29, 506.13s/it]\u001b[A\n",
      "Valid_Cost: 5.36:  30%|███████████████████▏                                            | 3/10 [13:44<43:34, 373.50s/it]\u001b[A"
     ]
    },
    {
     "name": "stdout",
     "output_type": "stream",
     "text": [
      "Cost [12.613709885244726, 6.129279193499976, 1.9015729174187954, 0.4830742251328419, 0.059338604989321045, 0.0038545933766283057, 0.0003906240788377571, 9.15193451790838e-05, 3.919789094803865e-05, 2.5649834936594426e-05, 12.178118574525625, 8.83741414768729, 6.049341830583761, 3.717224841972516, 1.9367038000870511, 0.8429194833112358, 0.30925509649505994, 0.04688601036105282, 0.0031951087833463608, 0.0002975351746294532, 10.164771032014617, 6.8418420870715115, 4.228511992749954, 2.1664902232317886, 0.9171980347453055, 0.30422177998973543, 0.04735792114029455, 0.003021321679140005, 0.00022974909030712851, 4.913693756712343e-05, 12.514925977767167, 7.29940279102362, 3.7328417861479157, 1.8574271610449287, 1.2512844870644253, 0.74797770705636, 0.19659836765481745, 0.01166647408039311, 0.00030943374139103246, 2.9783938119770803e-05, 13.64446580618679, 8.573609685349934, 4.771710095712352, 2.3176120400710842, 1.3147699935605954, 1.2236189226704695, 0.667521883160358, 0.23163752914868802, 0.027726625673225976, 0.001240131038953828, 12.730051211658536, 7.930390974243899, 4.515109807553686, 2.3758921410602225, 1.297510735432644, 1.2396234186141042, 0.6761851602217582, 0.2584246883956613, 0.038007945093754436, 0.002053185179447755, 13.5582630073804, 8.815424995846875, 5.130528549478459, 2.6353227660896206, 1.3644164180726939, 1.3896577298544164, 0.7859347179135893, 0.33211278043545694, 0.04386177284685975, 0.001649375367116993, 13.527380603582033, 8.861295823654743, 5.361946023978778]\n"
     ]
    },
    {
     "name": "stderr",
     "output_type": "stream",
     "text": [
      "\n",
      "Valid_Cost: 2.94:  30%|███████████████████▏                                            | 3/10 [14:45<43:34, 373.50s/it]\u001b[A\n",
      "Valid_Cost: 2.94:  40%|█████████████████████████▌                                      | 4/10 [14:45<27:58, 279.80s/it]\u001b[A"
     ]
    },
    {
     "name": "stdout",
     "output_type": "stream",
     "text": [
      "Cost [12.613709885244726, 6.129279193499976, 1.9015729174187954, 0.4830742251328419, 0.059338604989321045, 0.0038545933766283057, 0.0003906240788377571, 9.15193451790838e-05, 3.919789094803865e-05, 2.5649834936594426e-05, 12.178118574525625, 8.83741414768729, 6.049341830583761, 3.717224841972516, 1.9367038000870511, 0.8429194833112358, 0.30925509649505994, 0.04688601036105282, 0.0031951087833463608, 0.0002975351746294532, 10.164771032014617, 6.8418420870715115, 4.228511992749954, 2.1664902232317886, 0.9171980347453055, 0.30422177998973543, 0.04735792114029455, 0.003021321679140005, 0.00022974909030712851, 4.913693756712343e-05, 12.514925977767167, 7.29940279102362, 3.7328417861479157, 1.8574271610449287, 1.2512844870644253, 0.74797770705636, 0.19659836765481745, 0.01166647408039311, 0.00030943374139103246, 2.9783938119770803e-05, 13.64446580618679, 8.573609685349934, 4.771710095712352, 2.3176120400710842, 1.3147699935605954, 1.2236189226704695, 0.667521883160358, 0.23163752914868802, 0.027726625673225976, 0.001240131038953828, 12.730051211658536, 7.930390974243899, 4.515109807553686, 2.3758921410602225, 1.297510735432644, 1.2396234186141042, 0.6761851602217582, 0.2584246883956613, 0.038007945093754436, 0.002053185179447755, 13.5582630073804, 8.815424995846875, 5.130528549478459, 2.6353227660896206, 1.3644164180726939, 1.3896577298544164, 0.7859347179135893, 0.33211278043545694, 0.04386177284685975, 0.001649375367116993, 13.527380603582033, 8.861295823654743, 5.361946023978778, 2.941880335751567]\n"
     ]
    },
    {
     "name": "stderr",
     "output_type": "stream",
     "text": [
      "\n",
      "Valid_Cost: 1.52:  40%|█████████████████████████▌                                      | 4/10 [15:46<27:58, 279.80s/it]\u001b[A\n",
      "Valid_Cost: 1.52:  50%|████████████████████████████████                                | 5/10 [15:46<17:51, 214.21s/it]\u001b[A"
     ]
    },
    {
     "name": "stdout",
     "output_type": "stream",
     "text": [
      "Cost [12.613709885244726, 6.129279193499976, 1.9015729174187954, 0.4830742251328419, 0.059338604989321045, 0.0038545933766283057, 0.0003906240788377571, 9.15193451790838e-05, 3.919789094803865e-05, 2.5649834936594426e-05, 12.178118574525625, 8.83741414768729, 6.049341830583761, 3.717224841972516, 1.9367038000870511, 0.8429194833112358, 0.30925509649505994, 0.04688601036105282, 0.0031951087833463608, 0.0002975351746294532, 10.164771032014617, 6.8418420870715115, 4.228511992749954, 2.1664902232317886, 0.9171980347453055, 0.30422177998973543, 0.04735792114029455, 0.003021321679140005, 0.00022974909030712851, 4.913693756712343e-05, 12.514925977767167, 7.29940279102362, 3.7328417861479157, 1.8574271610449287, 1.2512844870644253, 0.74797770705636, 0.19659836765481745, 0.01166647408039311, 0.00030943374139103246, 2.9783938119770803e-05, 13.64446580618679, 8.573609685349934, 4.771710095712352, 2.3176120400710842, 1.3147699935605954, 1.2236189226704695, 0.667521883160358, 0.23163752914868802, 0.027726625673225976, 0.001240131038953828, 12.730051211658536, 7.930390974243899, 4.515109807553686, 2.3758921410602225, 1.297510735432644, 1.2396234186141042, 0.6761851602217582, 0.2584246883956613, 0.038007945093754436, 0.002053185179447755, 13.5582630073804, 8.815424995846875, 5.130528549478459, 2.6353227660896206, 1.3644164180726939, 1.3896577298544164, 0.7859347179135893, 0.33211278043545694, 0.04386177284685975, 0.001649375367116993, 13.527380603582033, 8.861295823654743, 5.361946023978778, 2.941880335751567, 1.517011534116002]\n"
     ]
    },
    {
     "name": "stderr",
     "output_type": "stream",
     "text": [
      "\n",
      "Valid_Cost: 0.93:  50%|████████████████████████████████                                | 5/10 [16:47<17:51, 214.21s/it]\u001b[A\n",
      "Valid_Cost: 0.93:  60%|██████████████████████████████████████▍                         | 6/10 [16:47<11:12, 168.13s/it]\u001b[A"
     ]
    },
    {
     "name": "stdout",
     "output_type": "stream",
     "text": [
      "Cost [12.613709885244726, 6.129279193499976, 1.9015729174187954, 0.4830742251328419, 0.059338604989321045, 0.0038545933766283057, 0.0003906240788377571, 9.15193451790838e-05, 3.919789094803865e-05, 2.5649834936594426e-05, 12.178118574525625, 8.83741414768729, 6.049341830583761, 3.717224841972516, 1.9367038000870511, 0.8429194833112358, 0.30925509649505994, 0.04688601036105282, 0.0031951087833463608, 0.0002975351746294532, 10.164771032014617, 6.8418420870715115, 4.228511992749954, 2.1664902232317886, 0.9171980347453055, 0.30422177998973543, 0.04735792114029455, 0.003021321679140005, 0.00022974909030712851, 4.913693756712343e-05, 12.514925977767167, 7.29940279102362, 3.7328417861479157, 1.8574271610449287, 1.2512844870644253, 0.74797770705636, 0.19659836765481745, 0.01166647408039311, 0.00030943374139103246, 2.9783938119770803e-05, 13.64446580618679, 8.573609685349934, 4.771710095712352, 2.3176120400710842, 1.3147699935605954, 1.2236189226704695, 0.667521883160358, 0.23163752914868802, 0.027726625673225976, 0.001240131038953828, 12.730051211658536, 7.930390974243899, 4.515109807553686, 2.3758921410602225, 1.297510735432644, 1.2396234186141042, 0.6761851602217582, 0.2584246883956613, 0.038007945093754436, 0.002053185179447755, 13.5582630073804, 8.815424995846875, 5.130528549478459, 2.6353227660896206, 1.3644164180726939, 1.3896577298544164, 0.7859347179135893, 0.33211278043545694, 0.04386177284685975, 0.001649375367116993, 13.527380603582033, 8.861295823654743, 5.361946023978778, 2.941880335751567, 1.517011534116002, 0.9347163370578417]\n"
     ]
    },
    {
     "name": "stderr",
     "output_type": "stream",
     "text": [
      "\n",
      "Valid_Cost: 0.56:  60%|██████████████████████████████████████▍                         | 6/10 [17:48<11:12, 168.13s/it]\u001b[A\n",
      "Valid_Cost: 0.56:  70%|████████████████████████████████████████████▊                   | 7/10 [17:48<06:48, 136.03s/it]\u001b[A"
     ]
    },
    {
     "name": "stdout",
     "output_type": "stream",
     "text": [
      "Cost [12.613709885244726, 6.129279193499976, 1.9015729174187954, 0.4830742251328419, 0.059338604989321045, 0.0038545933766283057, 0.0003906240788377571, 9.15193451790838e-05, 3.919789094803865e-05, 2.5649834936594426e-05, 12.178118574525625, 8.83741414768729, 6.049341830583761, 3.717224841972516, 1.9367038000870511, 0.8429194833112358, 0.30925509649505994, 0.04688601036105282, 0.0031951087833463608, 0.0002975351746294532, 10.164771032014617, 6.8418420870715115, 4.228511992749954, 2.1664902232317886, 0.9171980347453055, 0.30422177998973543, 0.04735792114029455, 0.003021321679140005, 0.00022974909030712851, 4.913693756712343e-05, 12.514925977767167, 7.29940279102362, 3.7328417861479157, 1.8574271610449287, 1.2512844870644253, 0.74797770705636, 0.19659836765481745, 0.01166647408039311, 0.00030943374139103246, 2.9783938119770803e-05, 13.64446580618679, 8.573609685349934, 4.771710095712352, 2.3176120400710842, 1.3147699935605954, 1.2236189226704695, 0.667521883160358, 0.23163752914868802, 0.027726625673225976, 0.001240131038953828, 12.730051211658536, 7.930390974243899, 4.515109807553686, 2.3758921410602225, 1.297510735432644, 1.2396234186141042, 0.6761851602217582, 0.2584246883956613, 0.038007945093754436, 0.002053185179447755, 13.5582630073804, 8.815424995846875, 5.130528549478459, 2.6353227660896206, 1.3644164180726939, 1.3896577298544164, 0.7859347179135893, 0.33211278043545694, 0.04386177284685975, 0.001649375367116993, 13.527380603582033, 8.861295823654743, 5.361946023978778, 2.941880335751567, 1.517011534116002, 0.9347163370578417, 0.5632160956220061]\n"
     ]
    },
    {
     "name": "stderr",
     "output_type": "stream",
     "text": [
      "\n",
      "Valid_Cost: 0.17:  70%|████████████████████████████████████████████▊                   | 7/10 [18:51<06:48, 136.03s/it]\u001b[A\n",
      "Valid_Cost: 0.17:  80%|███████████████████████████████████████████████████▏            | 8/10 [18:51<03:48, 114.25s/it]\u001b[A"
     ]
    },
    {
     "name": "stdout",
     "output_type": "stream",
     "text": [
      "Cost [12.613709885244726, 6.129279193499976, 1.9015729174187954, 0.4830742251328419, 0.059338604989321045, 0.0038545933766283057, 0.0003906240788377571, 9.15193451790838e-05, 3.919789094803865e-05, 2.5649834936594426e-05, 12.178118574525625, 8.83741414768729, 6.049341830583761, 3.717224841972516, 1.9367038000870511, 0.8429194833112358, 0.30925509649505994, 0.04688601036105282, 0.0031951087833463608, 0.0002975351746294532, 10.164771032014617, 6.8418420870715115, 4.228511992749954, 2.1664902232317886, 0.9171980347453055, 0.30422177998973543, 0.04735792114029455, 0.003021321679140005, 0.00022974909030712851, 4.913693756712343e-05, 12.514925977767167, 7.29940279102362, 3.7328417861479157, 1.8574271610449287, 1.2512844870644253, 0.74797770705636, 0.19659836765481745, 0.01166647408039311, 0.00030943374139103246, 2.9783938119770803e-05, 13.64446580618679, 8.573609685349934, 4.771710095712352, 2.3176120400710842, 1.3147699935605954, 1.2236189226704695, 0.667521883160358, 0.23163752914868802, 0.027726625673225976, 0.001240131038953828, 12.730051211658536, 7.930390974243899, 4.515109807553686, 2.3758921410602225, 1.297510735432644, 1.2396234186141042, 0.6761851602217582, 0.2584246883956613, 0.038007945093754436, 0.002053185179447755, 13.5582630073804, 8.815424995846875, 5.130528549478459, 2.6353227660896206, 1.3644164180726939, 1.3896577298544164, 0.7859347179135893, 0.33211278043545694, 0.04386177284685975, 0.001649375367116993, 13.527380603582033, 8.861295823654743, 5.361946023978778, 2.941880335751567, 1.517011534116002, 0.9347163370578417, 0.5632160956220061, 0.17224839980365825]\n"
     ]
    },
    {
     "name": "stderr",
     "output_type": "stream",
     "text": [
      "\n",
      "Valid_Cost: 0.02:  80%|███████████████████████████████████████████████████▏            | 8/10 [19:52<03:48, 114.25s/it]\u001b[A\n",
      "Valid_Cost: 0.02:  90%|██████████████████████████████████████████████████████████▌      | 9/10 [19:52<01:38, 98.34s/it]\u001b[A"
     ]
    },
    {
     "name": "stdout",
     "output_type": "stream",
     "text": [
      "Cost [12.613709885244726, 6.129279193499976, 1.9015729174187954, 0.4830742251328419, 0.059338604989321045, 0.0038545933766283057, 0.0003906240788377571, 9.15193451790838e-05, 3.919789094803865e-05, 2.5649834936594426e-05, 12.178118574525625, 8.83741414768729, 6.049341830583761, 3.717224841972516, 1.9367038000870511, 0.8429194833112358, 0.30925509649505994, 0.04688601036105282, 0.0031951087833463608, 0.0002975351746294532, 10.164771032014617, 6.8418420870715115, 4.228511992749954, 2.1664902232317886, 0.9171980347453055, 0.30422177998973543, 0.04735792114029455, 0.003021321679140005, 0.00022974909030712851, 4.913693756712343e-05, 12.514925977767167, 7.29940279102362, 3.7328417861479157, 1.8574271610449287, 1.2512844870644253, 0.74797770705636, 0.19659836765481745, 0.01166647408039311, 0.00030943374139103246, 2.9783938119770803e-05, 13.64446580618679, 8.573609685349934, 4.771710095712352, 2.3176120400710842, 1.3147699935605954, 1.2236189226704695, 0.667521883160358, 0.23163752914868802, 0.027726625673225976, 0.001240131038953828, 12.730051211658536, 7.930390974243899, 4.515109807553686, 2.3758921410602225, 1.297510735432644, 1.2396234186141042, 0.6761851602217582, 0.2584246883956613, 0.038007945093754436, 0.002053185179447755, 13.5582630073804, 8.815424995846875, 5.130528549478459, 2.6353227660896206, 1.3644164180726939, 1.3896577298544164, 0.7859347179135893, 0.33211278043545694, 0.04386177284685975, 0.001649375367116993, 13.527380603582033, 8.861295823654743, 5.361946023978778, 2.941880335751567, 1.517011534116002, 0.9347163370578417, 0.5632160956220061, 0.17224839980365825, 0.018015064533062567]\n"
     ]
    },
    {
     "name": "stderr",
     "output_type": "stream",
     "text": [
      "\n",
      "Valid_Cost: 0.00:  90%|██████████████████████████████████████████████████████████▌      | 9/10 [20:54<01:38, 98.34s/it]\u001b[A\n",
      "Valid_Cost: 0.00: 100%|███████████████████████████████████████████████████████████████| 10/10 [20:54<00:00, 125.40s/it]\u001b[A"
     ]
    },
    {
     "name": "stdout",
     "output_type": "stream",
     "text": [
      "Cost [12.613709885244726, 6.129279193499976, 1.9015729174187954, 0.4830742251328419, 0.059338604989321045, 0.0038545933766283057, 0.0003906240788377571, 9.15193451790838e-05, 3.919789094803865e-05, 2.5649834936594426e-05, 12.178118574525625, 8.83741414768729, 6.049341830583761, 3.717224841972516, 1.9367038000870511, 0.8429194833112358, 0.30925509649505994, 0.04688601036105282, 0.0031951087833463608, 0.0002975351746294532, 10.164771032014617, 6.8418420870715115, 4.228511992749954, 2.1664902232317886, 0.9171980347453055, 0.30422177998973543, 0.04735792114029455, 0.003021321679140005, 0.00022974909030712851, 4.913693756712343e-05, 12.514925977767167, 7.29940279102362, 3.7328417861479157, 1.8574271610449287, 1.2512844870644253, 0.74797770705636, 0.19659836765481745, 0.01166647408039311, 0.00030943374139103246, 2.9783938119770803e-05, 13.64446580618679, 8.573609685349934, 4.771710095712352, 2.3176120400710842, 1.3147699935605954, 1.2236189226704695, 0.667521883160358, 0.23163752914868802, 0.027726625673225976, 0.001240131038953828, 12.730051211658536, 7.930390974243899, 4.515109807553686, 2.3758921410602225, 1.297510735432644, 1.2396234186141042, 0.6761851602217582, 0.2584246883956613, 0.038007945093754436, 0.002053185179447755, 13.5582630073804, 8.815424995846875, 5.130528549478459, 2.6353227660896206, 1.3644164180726939, 1.3896577298544164, 0.7859347179135893, 0.33211278043545694, 0.04386177284685975, 0.001649375367116993, 13.527380603582033, 8.861295823654743, 5.361946023978778, 2.941880335751567, 1.517011534116002, 0.9347163370578417, 0.5632160956220061, 0.17224839980365825, 0.018015064533062567, 0.0007256451661008234]\n"
     ]
    },
    {
     "name": "stderr",
     "output_type": "stream",
     "text": [
      "\n",
      "\n",
      "\n",
      "Test_Cost: 19.24:   0%|                                                                         | 0/10 [21:55<?, ?it/s]\u001b[A\u001b[A\n",
      "\n",
      "Test_Cost: 19.24:  10%|██████                                                       | 1/10 [21:55<3:17:20, 1315.66s/it]\u001b[A\u001b[A"
     ]
    },
    {
     "name": "stdout",
     "output_type": "stream",
     "text": [
      "Cost [17.477931487658772, 11.481349621096912, 7.2365141576138186, 4.329902826767674, 2.4760411291537143, 1.5138635182223377, 0.7073556751685137, 0.12401734248441017, 0.007844180439016798, 0.0004556797310312098, 11.286471904239823, 7.1580123306771535, 3.9571610125268046, 1.8399116118774996, 0.7802855169740726, 0.2489798442024637, 0.040478171647824725, 0.0034103101165470257, 0.0003388346063951934, 8.207387633336027e-05, 14.600696001489547, 9.75421890186924, 5.943346249809679, 3.104772795184965, 1.3028420971721986, 0.6716637475518982, 0.17394469785564953, 0.013044275982573123, 0.00042176041655823655, 5.277390877793245e-05, 14.972619765065867, 9.155213669572213, 4.903756139238905, 2.2431711694723395, 1.2247738678146751, 0.6327003039336754, 0.13385226554640417, 0.006069226684909263, 0.00017053570314741042, 1.8954303310665997e-05, 16.557461094319603, 10.312316690749679, 5.807679969784163, 2.978874251521571, 1.5495151527915902, 1.351094254483115, 0.7920496809535496, 0.2575269765176783, 0.022406656313162774, 0.0005332186390589695, 15.40174981656828, 10.218580874295357, 6.19277725864181, 3.3933050781409753, 1.7065973026773404, 1.3837499965627784, 0.9491881593391612, 0.499905723050728, 0.1043395868721518, 0.006274060456623387, 18.123430148273588, 11.458900403303865, 6.549573953358018, 3.325961171360774, 1.677488759919609, 1.4107234813832696, 0.8985648211830274, 0.2547668961196521, 0.016730105095166207, 0.000328545286842944, 19.2408271536545]\n"
     ]
    },
    {
     "name": "stderr",
     "output_type": "stream",
     "text": [
      "\n",
      "\n",
      "Test_Cost: 13.06:  10%|██████                                                       | 1/10 [22:56<3:17:20, 1315.66s/it]\u001b[A\u001b[A\n",
      "\n",
      "Test_Cost: 13.06:  20%|████████████▍                                                 | 2/10 [22:56<2:05:14, 939.26s/it]\u001b[A\u001b[A"
     ]
    },
    {
     "name": "stdout",
     "output_type": "stream",
     "text": [
      "Cost [17.477931487658772, 11.481349621096912, 7.2365141576138186, 4.329902826767674, 2.4760411291537143, 1.5138635182223377, 0.7073556751685137, 0.12401734248441017, 0.007844180439016798, 0.0004556797310312098, 11.286471904239823, 7.1580123306771535, 3.9571610125268046, 1.8399116118774996, 0.7802855169740726, 0.2489798442024637, 0.040478171647824725, 0.0034103101165470257, 0.0003388346063951934, 8.207387633336027e-05, 14.600696001489547, 9.75421890186924, 5.943346249809679, 3.104772795184965, 1.3028420971721986, 0.6716637475518982, 0.17394469785564953, 0.013044275982573123, 0.00042176041655823655, 5.277390877793245e-05, 14.972619765065867, 9.155213669572213, 4.903756139238905, 2.2431711694723395, 1.2247738678146751, 0.6327003039336754, 0.13385226554640417, 0.006069226684909263, 0.00017053570314741042, 1.8954303310665997e-05, 16.557461094319603, 10.312316690749679, 5.807679969784163, 2.978874251521571, 1.5495151527915902, 1.351094254483115, 0.7920496809535496, 0.2575269765176783, 0.022406656313162774, 0.0005332186390589695, 15.40174981656828, 10.218580874295357, 6.19277725864181, 3.3933050781409753, 1.7065973026773404, 1.3837499965627784, 0.9491881593391612, 0.499905723050728, 0.1043395868721518, 0.006274060456623387, 18.123430148273588, 11.458900403303865, 6.549573953358018, 3.325961171360774, 1.677488759919609, 1.4107234813832696, 0.8985648211830274, 0.2547668961196521, 0.016730105095166207, 0.000328545286842944, 19.2408271536545, 13.059669414211465]\n"
     ]
    },
    {
     "name": "stderr",
     "output_type": "stream",
     "text": [
      "\n",
      "\n",
      "Test_Cost: 8.37:  20%|████████████▌                                                  | 2/10 [23:58<2:05:14, 939.26s/it]\u001b[A\u001b[A\n",
      "\n",
      "Test_Cost: 8.37:  30%|██████████████████▉                                            | 3/10 [23:58<1:18:52, 676.02s/it]\u001b[A\u001b[A"
     ]
    },
    {
     "name": "stdout",
     "output_type": "stream",
     "text": [
      "Cost [17.477931487658772, 11.481349621096912, 7.2365141576138186, 4.329902826767674, 2.4760411291537143, 1.5138635182223377, 0.7073556751685137, 0.12401734248441017, 0.007844180439016798, 0.0004556797310312098, 11.286471904239823, 7.1580123306771535, 3.9571610125268046, 1.8399116118774996, 0.7802855169740726, 0.2489798442024637, 0.040478171647824725, 0.0034103101165470257, 0.0003388346063951934, 8.207387633336027e-05, 14.600696001489547, 9.75421890186924, 5.943346249809679, 3.104772795184965, 1.3028420971721986, 0.6716637475518982, 0.17394469785564953, 0.013044275982573123, 0.00042176041655823655, 5.277390877793245e-05, 14.972619765065867, 9.155213669572213, 4.903756139238905, 2.2431711694723395, 1.2247738678146751, 0.6327003039336754, 0.13385226554640417, 0.006069226684909263, 0.00017053570314741042, 1.8954303310665997e-05, 16.557461094319603, 10.312316690749679, 5.807679969784163, 2.978874251521571, 1.5495151527915902, 1.351094254483115, 0.7920496809535496, 0.2575269765176783, 0.022406656313162774, 0.0005332186390589695, 15.40174981656828, 10.218580874295357, 6.19277725864181, 3.3933050781409753, 1.7065973026773404, 1.3837499965627784, 0.9491881593391612, 0.499905723050728, 0.1043395868721518, 0.006274060456623387, 18.123430148273588, 11.458900403303865, 6.549573953358018, 3.325961171360774, 1.677488759919609, 1.4107234813832696, 0.8985648211830274, 0.2547668961196521, 0.016730105095166207, 0.000328545286842944, 19.2408271536545, 13.059669414211465, 8.365699146889028]\n"
     ]
    },
    {
     "name": "stderr",
     "output_type": "stream",
     "text": [
      "\n",
      "\n",
      "Test_Cost: 4.94:  30%|██████████████████▉                                            | 3/10 [24:59<1:18:52, 676.02s/it]\u001b[A\u001b[A\n",
      "\n",
      "Test_Cost: 4.94:  40%|██████████████████████████                                       | 4/10 [24:59<49:09, 491.53s/it]\u001b[A\u001b[A"
     ]
    },
    {
     "name": "stdout",
     "output_type": "stream",
     "text": [
      "Cost [17.477931487658772, 11.481349621096912, 7.2365141576138186, 4.329902826767674, 2.4760411291537143, 1.5138635182223377, 0.7073556751685137, 0.12401734248441017, 0.007844180439016798, 0.0004556797310312098, 11.286471904239823, 7.1580123306771535, 3.9571610125268046, 1.8399116118774996, 0.7802855169740726, 0.2489798442024637, 0.040478171647824725, 0.0034103101165470257, 0.0003388346063951934, 8.207387633336027e-05, 14.600696001489547, 9.75421890186924, 5.943346249809679, 3.104772795184965, 1.3028420971721986, 0.6716637475518982, 0.17394469785564953, 0.013044275982573123, 0.00042176041655823655, 5.277390877793245e-05, 14.972619765065867, 9.155213669572213, 4.903756139238905, 2.2431711694723395, 1.2247738678146751, 0.6327003039336754, 0.13385226554640417, 0.006069226684909263, 0.00017053570314741042, 1.8954303310665997e-05, 16.557461094319603, 10.312316690749679, 5.807679969784163, 2.978874251521571, 1.5495151527915902, 1.351094254483115, 0.7920496809535496, 0.2575269765176783, 0.022406656313162774, 0.0005332186390589695, 15.40174981656828, 10.218580874295357, 6.19277725864181, 3.3933050781409753, 1.7065973026773404, 1.3837499965627784, 0.9491881593391612, 0.499905723050728, 0.1043395868721518, 0.006274060456623387, 18.123430148273588, 11.458900403303865, 6.549573953358018, 3.325961171360774, 1.677488759919609, 1.4107234813832696, 0.8985648211830274, 0.2547668961196521, 0.016730105095166207, 0.000328545286842944, 19.2408271536545, 13.059669414211465, 8.365699146889028, 4.943414085856317]\n"
     ]
    },
    {
     "name": "stderr",
     "output_type": "stream",
     "text": [
      "\n",
      "\n",
      "Test_Cost: 2.60:  40%|██████████████████████████                                       | 4/10 [26:01<49:09, 491.53s/it]\u001b[A\u001b[A\n",
      "\n",
      "Test_Cost: 2.60:  50%|████████████████████████████████▌                                | 5/10 [26:01<30:12, 362.53s/it]\u001b[A\u001b[A"
     ]
    },
    {
     "name": "stdout",
     "output_type": "stream",
     "text": [
      "Cost [17.477931487658772, 11.481349621096912, 7.2365141576138186, 4.329902826767674, 2.4760411291537143, 1.5138635182223377, 0.7073556751685137, 0.12401734248441017, 0.007844180439016798, 0.0004556797310312098, 11.286471904239823, 7.1580123306771535, 3.9571610125268046, 1.8399116118774996, 0.7802855169740726, 0.2489798442024637, 0.040478171647824725, 0.0034103101165470257, 0.0003388346063951934, 8.207387633336027e-05, 14.600696001489547, 9.75421890186924, 5.943346249809679, 3.104772795184965, 1.3028420971721986, 0.6716637475518982, 0.17394469785564953, 0.013044275982573123, 0.00042176041655823655, 5.277390877793245e-05, 14.972619765065867, 9.155213669572213, 4.903756139238905, 2.2431711694723395, 1.2247738678146751, 0.6327003039336754, 0.13385226554640417, 0.006069226684909263, 0.00017053570314741042, 1.8954303310665997e-05, 16.557461094319603, 10.312316690749679, 5.807679969784163, 2.978874251521571, 1.5495151527915902, 1.351094254483115, 0.7920496809535496, 0.2575269765176783, 0.022406656313162774, 0.0005332186390589695, 15.40174981656828, 10.218580874295357, 6.19277725864181, 3.3933050781409753, 1.7065973026773404, 1.3837499965627784, 0.9491881593391612, 0.499905723050728, 0.1043395868721518, 0.006274060456623387, 18.123430148273588, 11.458900403303865, 6.549573953358018, 3.325961171360774, 1.677488759919609, 1.4107234813832696, 0.8985648211830274, 0.2547668961196521, 0.016730105095166207, 0.000328545286842944, 19.2408271536545, 13.059669414211465, 8.365699146889028, 4.943414085856317, 2.5987458980692235]\n"
     ]
    },
    {
     "name": "stderr",
     "output_type": "stream",
     "text": [
      "\n",
      "\n",
      "Test_Cost: 1.39:  50%|████████████████████████████████▌                                | 5/10 [27:02<30:12, 362.53s/it]\u001b[A\u001b[A\n",
      "\n",
      "Test_Cost: 1.39:  60%|███████████████████████████████████████                          | 6/10 [27:02<18:08, 272.14s/it]\u001b[A\u001b[A"
     ]
    },
    {
     "name": "stdout",
     "output_type": "stream",
     "text": [
      "Cost [17.477931487658772, 11.481349621096912, 7.2365141576138186, 4.329902826767674, 2.4760411291537143, 1.5138635182223377, 0.7073556751685137, 0.12401734248441017, 0.007844180439016798, 0.0004556797310312098, 11.286471904239823, 7.1580123306771535, 3.9571610125268046, 1.8399116118774996, 0.7802855169740726, 0.2489798442024637, 0.040478171647824725, 0.0034103101165470257, 0.0003388346063951934, 8.207387633336027e-05, 14.600696001489547, 9.75421890186924, 5.943346249809679, 3.104772795184965, 1.3028420971721986, 0.6716637475518982, 0.17394469785564953, 0.013044275982573123, 0.00042176041655823655, 5.277390877793245e-05, 14.972619765065867, 9.155213669572213, 4.903756139238905, 2.2431711694723395, 1.2247738678146751, 0.6327003039336754, 0.13385226554640417, 0.006069226684909263, 0.00017053570314741042, 1.8954303310665997e-05, 16.557461094319603, 10.312316690749679, 5.807679969784163, 2.978874251521571, 1.5495151527915902, 1.351094254483115, 0.7920496809535496, 0.2575269765176783, 0.022406656313162774, 0.0005332186390589695, 15.40174981656828, 10.218580874295357, 6.19277725864181, 3.3933050781409753, 1.7065973026773404, 1.3837499965627784, 0.9491881593391612, 0.499905723050728, 0.1043395868721518, 0.006274060456623387, 18.123430148273588, 11.458900403303865, 6.549573953358018, 3.325961171360774, 1.677488759919609, 1.4107234813832696, 0.8985648211830274, 0.2547668961196521, 0.016730105095166207, 0.000328545286842944, 19.2408271536545, 13.059669414211465, 8.365699146889028, 4.943414085856317, 2.5987458980692235, 1.3941490719866367]\n"
     ]
    },
    {
     "name": "stderr",
     "output_type": "stream",
     "text": [
      "\n",
      "\n",
      "Test_Cost: 1.52:  60%|███████████████████████████████████████                          | 6/10 [28:03<18:08, 272.14s/it]\u001b[A\u001b[A\n",
      "\n",
      "Test_Cost: 1.52:  70%|█████████████████████████████████████████████▌                   | 7/10 [28:03<10:26, 208.91s/it]\u001b[A\u001b[A"
     ]
    },
    {
     "name": "stdout",
     "output_type": "stream",
     "text": [
      "Cost [17.477931487658772, 11.481349621096912, 7.2365141576138186, 4.329902826767674, 2.4760411291537143, 1.5138635182223377, 0.7073556751685137, 0.12401734248441017, 0.007844180439016798, 0.0004556797310312098, 11.286471904239823, 7.1580123306771535, 3.9571610125268046, 1.8399116118774996, 0.7802855169740726, 0.2489798442024637, 0.040478171647824725, 0.0034103101165470257, 0.0003388346063951934, 8.207387633336027e-05, 14.600696001489547, 9.75421890186924, 5.943346249809679, 3.104772795184965, 1.3028420971721986, 0.6716637475518982, 0.17394469785564953, 0.013044275982573123, 0.00042176041655823655, 5.277390877793245e-05, 14.972619765065867, 9.155213669572213, 4.903756139238905, 2.2431711694723395, 1.2247738678146751, 0.6327003039336754, 0.13385226554640417, 0.006069226684909263, 0.00017053570314741042, 1.8954303310665997e-05, 16.557461094319603, 10.312316690749679, 5.807679969784163, 2.978874251521571, 1.5495151527915902, 1.351094254483115, 0.7920496809535496, 0.2575269765176783, 0.022406656313162774, 0.0005332186390589695, 15.40174981656828, 10.218580874295357, 6.19277725864181, 3.3933050781409753, 1.7065973026773404, 1.3837499965627784, 0.9491881593391612, 0.499905723050728, 0.1043395868721518, 0.006274060456623387, 18.123430148273588, 11.458900403303865, 6.549573953358018, 3.325961171360774, 1.677488759919609, 1.4107234813832696, 0.8985648211830274, 0.2547668961196521, 0.016730105095166207, 0.000328545286842944, 19.2408271536545, 13.059669414211465, 8.365699146889028, 4.943414085856317, 2.5987458980692235, 1.3941490719866367, 1.5176441375444867]\n"
     ]
    },
    {
     "name": "stderr",
     "output_type": "stream",
     "text": [
      "\n",
      "\n",
      "Test_Cost: 0.77:  70%|█████████████████████████████████████████████▌                   | 7/10 [29:04<10:26, 208.91s/it]\u001b[A\u001b[A\n",
      "\n",
      "Test_Cost: 0.77:  80%|████████████████████████████████████████████████████             | 8/10 [29:04<05:29, 164.59s/it]\u001b[A\u001b[A"
     ]
    },
    {
     "name": "stdout",
     "output_type": "stream",
     "text": [
      "Cost [17.477931487658772, 11.481349621096912, 7.2365141576138186, 4.329902826767674, 2.4760411291537143, 1.5138635182223377, 0.7073556751685137, 0.12401734248441017, 0.007844180439016798, 0.0004556797310312098, 11.286471904239823, 7.1580123306771535, 3.9571610125268046, 1.8399116118774996, 0.7802855169740726, 0.2489798442024637, 0.040478171647824725, 0.0034103101165470257, 0.0003388346063951934, 8.207387633336027e-05, 14.600696001489547, 9.75421890186924, 5.943346249809679, 3.104772795184965, 1.3028420971721986, 0.6716637475518982, 0.17394469785564953, 0.013044275982573123, 0.00042176041655823655, 5.277390877793245e-05, 14.972619765065867, 9.155213669572213, 4.903756139238905, 2.2431711694723395, 1.2247738678146751, 0.6327003039336754, 0.13385226554640417, 0.006069226684909263, 0.00017053570314741042, 1.8954303310665997e-05, 16.557461094319603, 10.312316690749679, 5.807679969784163, 2.978874251521571, 1.5495151527915902, 1.351094254483115, 0.7920496809535496, 0.2575269765176783, 0.022406656313162774, 0.0005332186390589695, 15.40174981656828, 10.218580874295357, 6.19277725864181, 3.3933050781409753, 1.7065973026773404, 1.3837499965627784, 0.9491881593391612, 0.499905723050728, 0.1043395868721518, 0.006274060456623387, 18.123430148273588, 11.458900403303865, 6.549573953358018, 3.325961171360774, 1.677488759919609, 1.4107234813832696, 0.8985648211830274, 0.2547668961196521, 0.016730105095166207, 0.000328545286842944, 19.2408271536545, 13.059669414211465, 8.365699146889028, 4.943414085856317, 2.5987458980692235, 1.3941490719866367, 1.5176441375444867, 0.7697824631039416]\n"
     ]
    },
    {
     "name": "stderr",
     "output_type": "stream",
     "text": [
      "\n",
      "\n",
      "Test_Cost: 0.26:  80%|████████████████████████████████████████████████████             | 8/10 [30:06<05:29, 164.59s/it]\u001b[A\u001b[A\n",
      "\n",
      "Test_Cost: 0.26:  90%|██████████████████████████████████████████████████████████▌      | 9/10 [30:06<02:13, 133.69s/it]\u001b[A\u001b[A"
     ]
    },
    {
     "name": "stdout",
     "output_type": "stream",
     "text": [
      "Cost [17.477931487658772, 11.481349621096912, 7.2365141576138186, 4.329902826767674, 2.4760411291537143, 1.5138635182223377, 0.7073556751685137, 0.12401734248441017, 0.007844180439016798, 0.0004556797310312098, 11.286471904239823, 7.1580123306771535, 3.9571610125268046, 1.8399116118774996, 0.7802855169740726, 0.2489798442024637, 0.040478171647824725, 0.0034103101165470257, 0.0003388346063951934, 8.207387633336027e-05, 14.600696001489547, 9.75421890186924, 5.943346249809679, 3.104772795184965, 1.3028420971721986, 0.6716637475518982, 0.17394469785564953, 0.013044275982573123, 0.00042176041655823655, 5.277390877793245e-05, 14.972619765065867, 9.155213669572213, 4.903756139238905, 2.2431711694723395, 1.2247738678146751, 0.6327003039336754, 0.13385226554640417, 0.006069226684909263, 0.00017053570314741042, 1.8954303310665997e-05, 16.557461094319603, 10.312316690749679, 5.807679969784163, 2.978874251521571, 1.5495151527915902, 1.351094254483115, 0.7920496809535496, 0.2575269765176783, 0.022406656313162774, 0.0005332186390589695, 15.40174981656828, 10.218580874295357, 6.19277725864181, 3.3933050781409753, 1.7065973026773404, 1.3837499965627784, 0.9491881593391612, 0.499905723050728, 0.1043395868721518, 0.006274060456623387, 18.123430148273588, 11.458900403303865, 6.549573953358018, 3.325961171360774, 1.677488759919609, 1.4107234813832696, 0.8985648211830274, 0.2547668961196521, 0.016730105095166207, 0.000328545286842944, 19.2408271536545, 13.059669414211465, 8.365699146889028, 4.943414085856317, 2.5987458980692235, 1.3941490719866367, 1.5176441375444867, 0.7697824631039416, 0.25675035514300687]\n"
     ]
    },
    {
     "name": "stderr",
     "output_type": "stream",
     "text": [
      "\n",
      "\n",
      "Test_Cost: 0.02:  90%|██████████████████████████████████████████████████████████▌      | 9/10 [31:07<02:13, 133.69s/it]\u001b[A\u001b[A\n",
      "\n",
      "Test_Cost: 0.02: 100%|████████████████████████████████████████████████████████████████| 10/10 [31:07<00:00, 186.73s/it]\u001b[A\u001b[A\n",
      "  0%|                                                                                           | 0/10 [00:00<?, ?it/s]\n",
      "  0%|                                                                                           | 0/10 [00:00<?, ?it/s]\u001b[A\n",
      "\n",
      "  0%|                                                                                           | 0/10 [00:00<?, ?it/s]\u001b[A\u001b[A"
     ]
    },
    {
     "name": "stdout",
     "output_type": "stream",
     "text": [
      "Cost [17.477931487658772, 11.481349621096912, 7.2365141576138186, 4.329902826767674, 2.4760411291537143, 1.5138635182223377, 0.7073556751685137, 0.12401734248441017, 0.007844180439016798, 0.0004556797310312098, 11.286471904239823, 7.1580123306771535, 3.9571610125268046, 1.8399116118774996, 0.7802855169740726, 0.2489798442024637, 0.040478171647824725, 0.0034103101165470257, 0.0003388346063951934, 8.207387633336027e-05, 14.600696001489547, 9.75421890186924, 5.943346249809679, 3.104772795184965, 1.3028420971721986, 0.6716637475518982, 0.17394469785564953, 0.013044275982573123, 0.00042176041655823655, 5.277390877793245e-05, 14.972619765065867, 9.155213669572213, 4.903756139238905, 2.2431711694723395, 1.2247738678146751, 0.6327003039336754, 0.13385226554640417, 0.006069226684909263, 0.00017053570314741042, 1.8954303310665997e-05, 16.557461094319603, 10.312316690749679, 5.807679969784163, 2.978874251521571, 1.5495151527915902, 1.351094254483115, 0.7920496809535496, 0.2575269765176783, 0.022406656313162774, 0.0005332186390589695, 15.40174981656828, 10.218580874295357, 6.19277725864181, 3.3933050781409753, 1.7065973026773404, 1.3837499965627784, 0.9491881593391612, 0.499905723050728, 0.1043395868721518, 0.006274060456623387, 18.123430148273588, 11.458900403303865, 6.549573953358018, 3.325961171360774, 1.677488759919609, 1.4107234813832696, 0.8985648211830274, 0.2547668961196521, 0.016730105095166207, 0.000328545286842944, 19.2408271536545, 13.059669414211465, 8.365699146889028, 4.943414085856317, 2.5987458980692235, 1.3941490719866367, 1.5176441375444867, 0.7697824631039416, 0.25675035514300687, 0.022526685466055487]\n"
     ]
    },
    {
     "name": "stderr",
     "output_type": "stream",
     "text": [
      "Cost: 10.59:  10%|███████                                                               | 1/10 [01:01<09:14, 61.60s/it]"
     ]
    },
    {
     "name": "stdout",
     "output_type": "stream",
     "text": [
      "Cost [1.805058834099499, 0.41932456458767126, 0.014087307350374025, 0.0001692433711427714, 5.653639294561886e-05, 3.356158175112585e-05, 2.396809661747693e-05, 1.9735546402678084e-05, 1.5763080920937223e-05, 1.3486385941374477e-05, 10.794958456889965, 6.921550221291253, 3.9205335028904216, 2.0339443569756948, 1.1359513374314638, 0.5665828764235191, 0.18895635398112973, 0.03744538130653987, 0.0041888964860639834, 0.0004988327741898294, 13.936540459613047, 9.96470549480028, 6.759911915500286, 4.147051321106824, 2.2729482942453947, 1.1610517082172722, 0.42251486776857794, 0.07469555281327084, 0.006418318407235089, 0.0005783703895562986, 12.836280793449864, 8.198480580402592, 4.708526150373516, 2.427440691808707, 1.259752148916097, 0.7081402542711223, 0.18073413084663914, 0.010133898370896953, 0.00024371080452472945, 2.753302081775263e-05, 15.011368842088576, 9.177649407984147, 5.024211633891435, 2.325921674059211, 1.181703919301214, 1.1140912177270343, 0.47171258927469695, 0.08954736188171877, 0.004429907390258706, 0.00017133434837629153, 13.292524588274912, 8.297900140272375, 4.582539758350406, 2.2713491107232695, 1.2404167320554749, 1.2194040529415546, 0.6275092268187233, 0.20654841465783322, 0.026026025442601127, 0.0012835155330387063, 12.287818623110558, 7.710051264928435, 4.288059028755361, 2.15842572744059, 1.1948799725858645, 1.3301560352305617, 0.679574145385976, 0.23561134817165577, 0.030131376885300903, 0.0014876702216375373, 14.289533075951674, 8.632586967588402, 4.584496287750888, 2.0564677517783267, 1.141020264885779, 0.8081337307855044, 0.35556584390926516, 0.07341349271519054, 0.006498318720014233, 0.00033485312301873775, 10.587068912168943]\n"
     ]
    },
    {
     "name": "stderr",
     "output_type": "stream",
     "text": [
      "Cost: 6.24:  20%|██████████████▏                                                        | 2/10 [02:02<08:11, 61.38s/it]"
     ]
    },
    {
     "name": "stdout",
     "output_type": "stream",
     "text": [
      "Cost [1.805058834099499, 0.41932456458767126, 0.014087307350374025, 0.0001692433711427714, 5.653639294561886e-05, 3.356158175112585e-05, 2.396809661747693e-05, 1.9735546402678084e-05, 1.5763080920937223e-05, 1.3486385941374477e-05, 10.794958456889965, 6.921550221291253, 3.9205335028904216, 2.0339443569756948, 1.1359513374314638, 0.5665828764235191, 0.18895635398112973, 0.03744538130653987, 0.0041888964860639834, 0.0004988327741898294, 13.936540459613047, 9.96470549480028, 6.759911915500286, 4.147051321106824, 2.2729482942453947, 1.1610517082172722, 0.42251486776857794, 0.07469555281327084, 0.006418318407235089, 0.0005783703895562986, 12.836280793449864, 8.198480580402592, 4.708526150373516, 2.427440691808707, 1.259752148916097, 0.7081402542711223, 0.18073413084663914, 0.010133898370896953, 0.00024371080452472945, 2.753302081775263e-05, 15.011368842088576, 9.177649407984147, 5.024211633891435, 2.325921674059211, 1.181703919301214, 1.1140912177270343, 0.47171258927469695, 0.08954736188171877, 0.004429907390258706, 0.00017133434837629153, 13.292524588274912, 8.297900140272375, 4.582539758350406, 2.2713491107232695, 1.2404167320554749, 1.2194040529415546, 0.6275092268187233, 0.20654841465783322, 0.026026025442601127, 0.0012835155330387063, 12.287818623110558, 7.710051264928435, 4.288059028755361, 2.15842572744059, 1.1948799725858645, 1.3301560352305617, 0.679574145385976, 0.23561134817165577, 0.030131376885300903, 0.0014876702216375373, 14.289533075951674, 8.632586967588402, 4.584496287750888, 2.0564677517783267, 1.141020264885779, 0.8081337307855044, 0.35556584390926516, 0.07341349271519054, 0.006498318720014233, 0.00033485312301873775, 10.587068912168943, 6.23957725671145]\n"
     ]
    },
    {
     "name": "stderr",
     "output_type": "stream",
     "text": [
      "Cost: 3.23:  30%|█████████████████████▎                                                 | 3/10 [03:03<07:09, 61.41s/it]"
     ]
    },
    {
     "name": "stdout",
     "output_type": "stream",
     "text": [
      "Cost [1.805058834099499, 0.41932456458767126, 0.014087307350374025, 0.0001692433711427714, 5.653639294561886e-05, 3.356158175112585e-05, 2.396809661747693e-05, 1.9735546402678084e-05, 1.5763080920937223e-05, 1.3486385941374477e-05, 10.794958456889965, 6.921550221291253, 3.9205335028904216, 2.0339443569756948, 1.1359513374314638, 0.5665828764235191, 0.18895635398112973, 0.03744538130653987, 0.0041888964860639834, 0.0004988327741898294, 13.936540459613047, 9.96470549480028, 6.759911915500286, 4.147051321106824, 2.2729482942453947, 1.1610517082172722, 0.42251486776857794, 0.07469555281327084, 0.006418318407235089, 0.0005783703895562986, 12.836280793449864, 8.198480580402592, 4.708526150373516, 2.427440691808707, 1.259752148916097, 0.7081402542711223, 0.18073413084663914, 0.010133898370896953, 0.00024371080452472945, 2.753302081775263e-05, 15.011368842088576, 9.177649407984147, 5.024211633891435, 2.325921674059211, 1.181703919301214, 1.1140912177270343, 0.47171258927469695, 0.08954736188171877, 0.004429907390258706, 0.00017133434837629153, 13.292524588274912, 8.297900140272375, 4.582539758350406, 2.2713491107232695, 1.2404167320554749, 1.2194040529415546, 0.6275092268187233, 0.20654841465783322, 0.026026025442601127, 0.0012835155330387063, 12.287818623110558, 7.710051264928435, 4.288059028755361, 2.15842572744059, 1.1948799725858645, 1.3301560352305617, 0.679574145385976, 0.23561134817165577, 0.030131376885300903, 0.0014876702216375373, 14.289533075951674, 8.632586967588402, 4.584496287750888, 2.0564677517783267, 1.141020264885779, 0.8081337307855044, 0.35556584390926516, 0.07341349271519054, 0.006498318720014233, 0.00033485312301873775, 10.587068912168943, 6.23957725671145, 3.2315171916072787]\n"
     ]
    },
    {
     "name": "stderr",
     "output_type": "stream",
     "text": [
      "Cost: 1.63:  40%|████████████████████████████▍                                          | 4/10 [04:04<06:07, 61.30s/it]"
     ]
    },
    {
     "name": "stdout",
     "output_type": "stream",
     "text": [
      "Cost [1.805058834099499, 0.41932456458767126, 0.014087307350374025, 0.0001692433711427714, 5.653639294561886e-05, 3.356158175112585e-05, 2.396809661747693e-05, 1.9735546402678084e-05, 1.5763080920937223e-05, 1.3486385941374477e-05, 10.794958456889965, 6.921550221291253, 3.9205335028904216, 2.0339443569756948, 1.1359513374314638, 0.5665828764235191, 0.18895635398112973, 0.03744538130653987, 0.0041888964860639834, 0.0004988327741898294, 13.936540459613047, 9.96470549480028, 6.759911915500286, 4.147051321106824, 2.2729482942453947, 1.1610517082172722, 0.42251486776857794, 0.07469555281327084, 0.006418318407235089, 0.0005783703895562986, 12.836280793449864, 8.198480580402592, 4.708526150373516, 2.427440691808707, 1.259752148916097, 0.7081402542711223, 0.18073413084663914, 0.010133898370896953, 0.00024371080452472945, 2.753302081775263e-05, 15.011368842088576, 9.177649407984147, 5.024211633891435, 2.325921674059211, 1.181703919301214, 1.1140912177270343, 0.47171258927469695, 0.08954736188171877, 0.004429907390258706, 0.00017133434837629153, 13.292524588274912, 8.297900140272375, 4.582539758350406, 2.2713491107232695, 1.2404167320554749, 1.2194040529415546, 0.6275092268187233, 0.20654841465783322, 0.026026025442601127, 0.0012835155330387063, 12.287818623110558, 7.710051264928435, 4.288059028755361, 2.15842572744059, 1.1948799725858645, 1.3301560352305617, 0.679574145385976, 0.23561134817165577, 0.030131376885300903, 0.0014876702216375373, 14.289533075951674, 8.632586967588402, 4.584496287750888, 2.0564677517783267, 1.141020264885779, 0.8081337307855044, 0.35556584390926516, 0.07341349271519054, 0.006498318720014233, 0.00033485312301873775, 10.587068912168943, 6.23957725671145, 3.2315171916072787, 1.6283089013618508]\n"
     ]
    },
    {
     "name": "stderr",
     "output_type": "stream",
     "text": [
      "Cost: 1.52:  50%|███████████████████████████████████▌                                   | 5/10 [05:06<05:06, 61.23s/it]"
     ]
    },
    {
     "name": "stdout",
     "output_type": "stream",
     "text": [
      "Cost [1.805058834099499, 0.41932456458767126, 0.014087307350374025, 0.0001692433711427714, 5.653639294561886e-05, 3.356158175112585e-05, 2.396809661747693e-05, 1.9735546402678084e-05, 1.5763080920937223e-05, 1.3486385941374477e-05, 10.794958456889965, 6.921550221291253, 3.9205335028904216, 2.0339443569756948, 1.1359513374314638, 0.5665828764235191, 0.18895635398112973, 0.03744538130653987, 0.0041888964860639834, 0.0004988327741898294, 13.936540459613047, 9.96470549480028, 6.759911915500286, 4.147051321106824, 2.2729482942453947, 1.1610517082172722, 0.42251486776857794, 0.07469555281327084, 0.006418318407235089, 0.0005783703895562986, 12.836280793449864, 8.198480580402592, 4.708526150373516, 2.427440691808707, 1.259752148916097, 0.7081402542711223, 0.18073413084663914, 0.010133898370896953, 0.00024371080452472945, 2.753302081775263e-05, 15.011368842088576, 9.177649407984147, 5.024211633891435, 2.325921674059211, 1.181703919301214, 1.1140912177270343, 0.47171258927469695, 0.08954736188171877, 0.004429907390258706, 0.00017133434837629153, 13.292524588274912, 8.297900140272375, 4.582539758350406, 2.2713491107232695, 1.2404167320554749, 1.2194040529415546, 0.6275092268187233, 0.20654841465783322, 0.026026025442601127, 0.0012835155330387063, 12.287818623110558, 7.710051264928435, 4.288059028755361, 2.15842572744059, 1.1948799725858645, 1.3301560352305617, 0.679574145385976, 0.23561134817165577, 0.030131376885300903, 0.0014876702216375373, 14.289533075951674, 8.632586967588402, 4.584496287750888, 2.0564677517783267, 1.141020264885779, 0.8081337307855044, 0.35556584390926516, 0.07341349271519054, 0.006498318720014233, 0.00033485312301873775, 10.587068912168943, 6.23957725671145, 3.2315171916072787, 1.6283089013618508, 1.5156333209435722]\n"
     ]
    },
    {
     "name": "stderr",
     "output_type": "stream",
     "text": [
      "Cost: 0.98:  60%|██████████████████████████████████████████▌                            | 6/10 [06:07<04:04, 61.15s/it]"
     ]
    },
    {
     "name": "stdout",
     "output_type": "stream",
     "text": [
      "Cost [1.805058834099499, 0.41932456458767126, 0.014087307350374025, 0.0001692433711427714, 5.653639294561886e-05, 3.356158175112585e-05, 2.396809661747693e-05, 1.9735546402678084e-05, 1.5763080920937223e-05, 1.3486385941374477e-05, 10.794958456889965, 6.921550221291253, 3.9205335028904216, 2.0339443569756948, 1.1359513374314638, 0.5665828764235191, 0.18895635398112973, 0.03744538130653987, 0.0041888964860639834, 0.0004988327741898294, 13.936540459613047, 9.96470549480028, 6.759911915500286, 4.147051321106824, 2.2729482942453947, 1.1610517082172722, 0.42251486776857794, 0.07469555281327084, 0.006418318407235089, 0.0005783703895562986, 12.836280793449864, 8.198480580402592, 4.708526150373516, 2.427440691808707, 1.259752148916097, 0.7081402542711223, 0.18073413084663914, 0.010133898370896953, 0.00024371080452472945, 2.753302081775263e-05, 15.011368842088576, 9.177649407984147, 5.024211633891435, 2.325921674059211, 1.181703919301214, 1.1140912177270343, 0.47171258927469695, 0.08954736188171877, 0.004429907390258706, 0.00017133434837629153, 13.292524588274912, 8.297900140272375, 4.582539758350406, 2.2713491107232695, 1.2404167320554749, 1.2194040529415546, 0.6275092268187233, 0.20654841465783322, 0.026026025442601127, 0.0012835155330387063, 12.287818623110558, 7.710051264928435, 4.288059028755361, 2.15842572744059, 1.1948799725858645, 1.3301560352305617, 0.679574145385976, 0.23561134817165577, 0.030131376885300903, 0.0014876702216375373, 14.289533075951674, 8.632586967588402, 4.584496287750888, 2.0564677517783267, 1.141020264885779, 0.8081337307855044, 0.35556584390926516, 0.07341349271519054, 0.006498318720014233, 0.00033485312301873775, 10.587068912168943, 6.23957725671145, 3.2315171916072787, 1.6283089013618508, 1.5156333209435722, 0.9843052053241201]\n"
     ]
    },
    {
     "name": "stderr",
     "output_type": "stream",
     "text": [
      "Cost: 0.53:  70%|█████████████████████████████████████████████████▋                     | 7/10 [07:08<03:03, 61.15s/it]"
     ]
    },
    {
     "name": "stdout",
     "output_type": "stream",
     "text": [
      "Cost [1.805058834099499, 0.41932456458767126, 0.014087307350374025, 0.0001692433711427714, 5.653639294561886e-05, 3.356158175112585e-05, 2.396809661747693e-05, 1.9735546402678084e-05, 1.5763080920937223e-05, 1.3486385941374477e-05, 10.794958456889965, 6.921550221291253, 3.9205335028904216, 2.0339443569756948, 1.1359513374314638, 0.5665828764235191, 0.18895635398112973, 0.03744538130653987, 0.0041888964860639834, 0.0004988327741898294, 13.936540459613047, 9.96470549480028, 6.759911915500286, 4.147051321106824, 2.2729482942453947, 1.1610517082172722, 0.42251486776857794, 0.07469555281327084, 0.006418318407235089, 0.0005783703895562986, 12.836280793449864, 8.198480580402592, 4.708526150373516, 2.427440691808707, 1.259752148916097, 0.7081402542711223, 0.18073413084663914, 0.010133898370896953, 0.00024371080452472945, 2.753302081775263e-05, 15.011368842088576, 9.177649407984147, 5.024211633891435, 2.325921674059211, 1.181703919301214, 1.1140912177270343, 0.47171258927469695, 0.08954736188171877, 0.004429907390258706, 0.00017133434837629153, 13.292524588274912, 8.297900140272375, 4.582539758350406, 2.2713491107232695, 1.2404167320554749, 1.2194040529415546, 0.6275092268187233, 0.20654841465783322, 0.026026025442601127, 0.0012835155330387063, 12.287818623110558, 7.710051264928435, 4.288059028755361, 2.15842572744059, 1.1948799725858645, 1.3301560352305617, 0.679574145385976, 0.23561134817165577, 0.030131376885300903, 0.0014876702216375373, 14.289533075951674, 8.632586967588402, 4.584496287750888, 2.0564677517783267, 1.141020264885779, 0.8081337307855044, 0.35556584390926516, 0.07341349271519054, 0.006498318720014233, 0.00033485312301873775, 10.587068912168943, 6.23957725671145, 3.2315171916072787, 1.6283089013618508, 1.5156333209435722, 0.9843052053241201, 0.5282806995194806]\n"
     ]
    },
    {
     "name": "stderr",
     "output_type": "stream",
     "text": [
      "Cost: 0.12:  80%|████████████████████████████████████████████████████████▊              | 8/10 [08:09<02:02, 61.09s/it]"
     ]
    },
    {
     "name": "stdout",
     "output_type": "stream",
     "text": [
      "Cost [1.805058834099499, 0.41932456458767126, 0.014087307350374025, 0.0001692433711427714, 5.653639294561886e-05, 3.356158175112585e-05, 2.396809661747693e-05, 1.9735546402678084e-05, 1.5763080920937223e-05, 1.3486385941374477e-05, 10.794958456889965, 6.921550221291253, 3.9205335028904216, 2.0339443569756948, 1.1359513374314638, 0.5665828764235191, 0.18895635398112973, 0.03744538130653987, 0.0041888964860639834, 0.0004988327741898294, 13.936540459613047, 9.96470549480028, 6.759911915500286, 4.147051321106824, 2.2729482942453947, 1.1610517082172722, 0.42251486776857794, 0.07469555281327084, 0.006418318407235089, 0.0005783703895562986, 12.836280793449864, 8.198480580402592, 4.708526150373516, 2.427440691808707, 1.259752148916097, 0.7081402542711223, 0.18073413084663914, 0.010133898370896953, 0.00024371080452472945, 2.753302081775263e-05, 15.011368842088576, 9.177649407984147, 5.024211633891435, 2.325921674059211, 1.181703919301214, 1.1140912177270343, 0.47171258927469695, 0.08954736188171877, 0.004429907390258706, 0.00017133434837629153, 13.292524588274912, 8.297900140272375, 4.582539758350406, 2.2713491107232695, 1.2404167320554749, 1.2194040529415546, 0.6275092268187233, 0.20654841465783322, 0.026026025442601127, 0.0012835155330387063, 12.287818623110558, 7.710051264928435, 4.288059028755361, 2.15842572744059, 1.1948799725858645, 1.3301560352305617, 0.679574145385976, 0.23561134817165577, 0.030131376885300903, 0.0014876702216375373, 14.289533075951674, 8.632586967588402, 4.584496287750888, 2.0564677517783267, 1.141020264885779, 0.8081337307855044, 0.35556584390926516, 0.07341349271519054, 0.006498318720014233, 0.00033485312301873775, 10.587068912168943, 6.23957725671145, 3.2315171916072787, 1.6283089013618508, 1.5156333209435722, 0.9843052053241201, 0.5282806995194806, 0.12294207674004427]\n"
     ]
    },
    {
     "name": "stderr",
     "output_type": "stream",
     "text": [
      "Cost: 0.01:  90%|███████████████████████████████████████████████████████████████▉       | 9/10 [09:10<01:01, 61.08s/it]"
     ]
    },
    {
     "name": "stdout",
     "output_type": "stream",
     "text": [
      "Cost [1.805058834099499, 0.41932456458767126, 0.014087307350374025, 0.0001692433711427714, 5.653639294561886e-05, 3.356158175112585e-05, 2.396809661747693e-05, 1.9735546402678084e-05, 1.5763080920937223e-05, 1.3486385941374477e-05, 10.794958456889965, 6.921550221291253, 3.9205335028904216, 2.0339443569756948, 1.1359513374314638, 0.5665828764235191, 0.18895635398112973, 0.03744538130653987, 0.0041888964860639834, 0.0004988327741898294, 13.936540459613047, 9.96470549480028, 6.759911915500286, 4.147051321106824, 2.2729482942453947, 1.1610517082172722, 0.42251486776857794, 0.07469555281327084, 0.006418318407235089, 0.0005783703895562986, 12.836280793449864, 8.198480580402592, 4.708526150373516, 2.427440691808707, 1.259752148916097, 0.7081402542711223, 0.18073413084663914, 0.010133898370896953, 0.00024371080452472945, 2.753302081775263e-05, 15.011368842088576, 9.177649407984147, 5.024211633891435, 2.325921674059211, 1.181703919301214, 1.1140912177270343, 0.47171258927469695, 0.08954736188171877, 0.004429907390258706, 0.00017133434837629153, 13.292524588274912, 8.297900140272375, 4.582539758350406, 2.2713491107232695, 1.2404167320554749, 1.2194040529415546, 0.6275092268187233, 0.20654841465783322, 0.026026025442601127, 0.0012835155330387063, 12.287818623110558, 7.710051264928435, 4.288059028755361, 2.15842572744059, 1.1948799725858645, 1.3301560352305617, 0.679574145385976, 0.23561134817165577, 0.030131376885300903, 0.0014876702216375373, 14.289533075951674, 8.632586967588402, 4.584496287750888, 2.0564677517783267, 1.141020264885779, 0.8081337307855044, 0.35556584390926516, 0.07341349271519054, 0.006498318720014233, 0.00033485312301873775, 10.587068912168943, 6.23957725671145, 3.2315171916072787, 1.6283089013618508, 1.5156333209435722, 0.9843052053241201, 0.5282806995194806, 0.12294207674004427, 0.00988383996323065]\n"
     ]
    },
    {
     "name": "stderr",
     "output_type": "stream",
     "text": [
      "Cost: 0.00: 100%|██████████████████████████████████████████████████████████████████████| 10/10 [10:11<00:00, 61.10s/it]"
     ]
    },
    {
     "name": "stdout",
     "output_type": "stream",
     "text": [
      "Cost [1.805058834099499, 0.41932456458767126, 0.014087307350374025, 0.0001692433711427714, 5.653639294561886e-05, 3.356158175112585e-05, 2.396809661747693e-05, 1.9735546402678084e-05, 1.5763080920937223e-05, 1.3486385941374477e-05, 10.794958456889965, 6.921550221291253, 3.9205335028904216, 2.0339443569756948, 1.1359513374314638, 0.5665828764235191, 0.18895635398112973, 0.03744538130653987, 0.0041888964860639834, 0.0004988327741898294, 13.936540459613047, 9.96470549480028, 6.759911915500286, 4.147051321106824, 2.2729482942453947, 1.1610517082172722, 0.42251486776857794, 0.07469555281327084, 0.006418318407235089, 0.0005783703895562986, 12.836280793449864, 8.198480580402592, 4.708526150373516, 2.427440691808707, 1.259752148916097, 0.7081402542711223, 0.18073413084663914, 0.010133898370896953, 0.00024371080452472945, 2.753302081775263e-05, 15.011368842088576, 9.177649407984147, 5.024211633891435, 2.325921674059211, 1.181703919301214, 1.1140912177270343, 0.47171258927469695, 0.08954736188171877, 0.004429907390258706, 0.00017133434837629153, 13.292524588274912, 8.297900140272375, 4.582539758350406, 2.2713491107232695, 1.2404167320554749, 1.2194040529415546, 0.6275092268187233, 0.20654841465783322, 0.026026025442601127, 0.0012835155330387063, 12.287818623110558, 7.710051264928435, 4.288059028755361, 2.15842572744059, 1.1948799725858645, 1.3301560352305617, 0.679574145385976, 0.23561134817165577, 0.030131376885300903, 0.0014876702216375373, 14.289533075951674, 8.632586967588402, 4.584496287750888, 2.0564677517783267, 1.141020264885779, 0.8081337307855044, 0.35556584390926516, 0.07341349271519054, 0.006498318720014233, 0.00033485312301873775, 10.587068912168943, 6.23957725671145, 3.2315171916072787, 1.6283089013618508, 1.5156333209435722, 0.9843052053241201, 0.5282806995194806, 0.12294207674004427, 0.00988383996323065, 0.00035202675774434803]\n"
     ]
    },
    {
     "name": "stderr",
     "output_type": "stream",
     "text": [
      "\n",
      "\n",
      "Valid_Cost: 14.16:   0%|                                                                        | 0/10 [11:12<?, ?it/s]\u001b[A\n",
      "Valid_Cost: 14.16:  10%|██████                                                       | 1/10 [11:12<1:40:50, 672.29s/it]\u001b[A"
     ]
    },
    {
     "name": "stdout",
     "output_type": "stream",
     "text": [
      "Cost [12.613709885244726, 6.129279193499976, 1.9015729174187954, 0.4830742251328419, 0.059338604989321045, 0.0038545933766283057, 0.0003906240788377571, 9.15193451790838e-05, 3.919789094803865e-05, 2.5649834936594426e-05, 12.178118574525625, 8.83741414768729, 6.049341830583761, 3.717224841972516, 1.9367038000870511, 0.8429194833112358, 0.30925509649505994, 0.04688601036105282, 0.0031951087833463608, 0.0002975351746294532, 10.164771032014617, 6.8418420870715115, 4.228511992749954, 2.1664902232317886, 0.9171980347453055, 0.30422177998973543, 0.04735792114029455, 0.003021321679140005, 0.00022974909030712851, 4.913693756712343e-05, 12.514925977767167, 7.29940279102362, 3.7328417861479157, 1.8574271610449287, 1.2512844870644253, 0.74797770705636, 0.19659836765481745, 0.01166647408039311, 0.00030943374139103246, 2.9783938119770803e-05, 13.64446580618679, 8.573609685349934, 4.771710095712352, 2.3176120400710842, 1.3147699935605954, 1.2236189226704695, 0.667521883160358, 0.23163752914868802, 0.027726625673225976, 0.001240131038953828, 12.730051211658536, 7.930390974243899, 4.515109807553686, 2.3758921410602225, 1.297510735432644, 1.2396234186141042, 0.6761851602217582, 0.2584246883956613, 0.038007945093754436, 0.002053185179447755, 13.5582630073804, 8.815424995846875, 5.130528549478459, 2.6353227660896206, 1.3644164180726939, 1.3896577298544164, 0.7859347179135893, 0.33211278043545694, 0.04386177284685975, 0.001649375367116993, 13.527380603582033, 8.861295823654743, 5.361946023978778, 2.941880335751567, 1.517011534116002, 0.9347163370578417, 0.5632160956220061, 0.17224839980365825, 0.018015064533062567, 0.0007256451661008234, 14.162789833274452]\n"
     ]
    },
    {
     "name": "stderr",
     "output_type": "stream",
     "text": [
      "\n",
      "Valid_Cost: 9.21:  10%|██████▏                                                       | 1/10 [12:13<1:40:50, 672.29s/it]\u001b[A\n",
      "Valid_Cost: 9.21:  20%|████████████▍                                                 | 2/10 [12:13<1:05:12, 489.08s/it]\u001b[A"
     ]
    },
    {
     "name": "stdout",
     "output_type": "stream",
     "text": [
      "Cost [12.613709885244726, 6.129279193499976, 1.9015729174187954, 0.4830742251328419, 0.059338604989321045, 0.0038545933766283057, 0.0003906240788377571, 9.15193451790838e-05, 3.919789094803865e-05, 2.5649834936594426e-05, 12.178118574525625, 8.83741414768729, 6.049341830583761, 3.717224841972516, 1.9367038000870511, 0.8429194833112358, 0.30925509649505994, 0.04688601036105282, 0.0031951087833463608, 0.0002975351746294532, 10.164771032014617, 6.8418420870715115, 4.228511992749954, 2.1664902232317886, 0.9171980347453055, 0.30422177998973543, 0.04735792114029455, 0.003021321679140005, 0.00022974909030712851, 4.913693756712343e-05, 12.514925977767167, 7.29940279102362, 3.7328417861479157, 1.8574271610449287, 1.2512844870644253, 0.74797770705636, 0.19659836765481745, 0.01166647408039311, 0.00030943374139103246, 2.9783938119770803e-05, 13.64446580618679, 8.573609685349934, 4.771710095712352, 2.3176120400710842, 1.3147699935605954, 1.2236189226704695, 0.667521883160358, 0.23163752914868802, 0.027726625673225976, 0.001240131038953828, 12.730051211658536, 7.930390974243899, 4.515109807553686, 2.3758921410602225, 1.297510735432644, 1.2396234186141042, 0.6761851602217582, 0.2584246883956613, 0.038007945093754436, 0.002053185179447755, 13.5582630073804, 8.815424995846875, 5.130528549478459, 2.6353227660896206, 1.3644164180726939, 1.3896577298544164, 0.7859347179135893, 0.33211278043545694, 0.04386177284685975, 0.001649375367116993, 13.527380603582033, 8.861295823654743, 5.361946023978778, 2.941880335751567, 1.517011534116002, 0.9347163370578417, 0.5632160956220061, 0.17224839980365825, 0.018015064533062567, 0.0007256451661008234, 14.162789833274452, 9.208703543078434]\n"
     ]
    },
    {
     "name": "stderr",
     "output_type": "stream",
     "text": [
      "\n",
      "Valid_Cost: 5.43:  20%|████████████▍                                                 | 2/10 [13:15<1:05:12, 489.08s/it]\u001b[A\n",
      "Valid_Cost: 5.43:  30%|███████████████████▏                                            | 3/10 [13:15<42:05, 360.76s/it]\u001b[A"
     ]
    },
    {
     "name": "stdout",
     "output_type": "stream",
     "text": [
      "Cost [12.613709885244726, 6.129279193499976, 1.9015729174187954, 0.4830742251328419, 0.059338604989321045, 0.0038545933766283057, 0.0003906240788377571, 9.15193451790838e-05, 3.919789094803865e-05, 2.5649834936594426e-05, 12.178118574525625, 8.83741414768729, 6.049341830583761, 3.717224841972516, 1.9367038000870511, 0.8429194833112358, 0.30925509649505994, 0.04688601036105282, 0.0031951087833463608, 0.0002975351746294532, 10.164771032014617, 6.8418420870715115, 4.228511992749954, 2.1664902232317886, 0.9171980347453055, 0.30422177998973543, 0.04735792114029455, 0.003021321679140005, 0.00022974909030712851, 4.913693756712343e-05, 12.514925977767167, 7.29940279102362, 3.7328417861479157, 1.8574271610449287, 1.2512844870644253, 0.74797770705636, 0.19659836765481745, 0.01166647408039311, 0.00030943374139103246, 2.9783938119770803e-05, 13.64446580618679, 8.573609685349934, 4.771710095712352, 2.3176120400710842, 1.3147699935605954, 1.2236189226704695, 0.667521883160358, 0.23163752914868802, 0.027726625673225976, 0.001240131038953828, 12.730051211658536, 7.930390974243899, 4.515109807553686, 2.3758921410602225, 1.297510735432644, 1.2396234186141042, 0.6761851602217582, 0.2584246883956613, 0.038007945093754436, 0.002053185179447755, 13.5582630073804, 8.815424995846875, 5.130528549478459, 2.6353227660896206, 1.3644164180726939, 1.3896577298544164, 0.7859347179135893, 0.33211278043545694, 0.04386177284685975, 0.001649375367116993, 13.527380603582033, 8.861295823654743, 5.361946023978778, 2.941880335751567, 1.517011534116002, 0.9347163370578417, 0.5632160956220061, 0.17224839980365825, 0.018015064533062567, 0.0007256451661008234, 14.162789833274452, 9.208703543078434, 5.434485297331754]\n"
     ]
    },
    {
     "name": "stderr",
     "output_type": "stream",
     "text": [
      "\n",
      "Valid_Cost: 2.83:  30%|███████████████████▏                                            | 3/10 [14:16<42:05, 360.76s/it]\u001b[A\n",
      "Valid_Cost: 2.83:  40%|█████████████████████████▌                                      | 4/10 [14:16<27:05, 270.88s/it]\u001b[A"
     ]
    },
    {
     "name": "stdout",
     "output_type": "stream",
     "text": [
      "Cost [12.613709885244726, 6.129279193499976, 1.9015729174187954, 0.4830742251328419, 0.059338604989321045, 0.0038545933766283057, 0.0003906240788377571, 9.15193451790838e-05, 3.919789094803865e-05, 2.5649834936594426e-05, 12.178118574525625, 8.83741414768729, 6.049341830583761, 3.717224841972516, 1.9367038000870511, 0.8429194833112358, 0.30925509649505994, 0.04688601036105282, 0.0031951087833463608, 0.0002975351746294532, 10.164771032014617, 6.8418420870715115, 4.228511992749954, 2.1664902232317886, 0.9171980347453055, 0.30422177998973543, 0.04735792114029455, 0.003021321679140005, 0.00022974909030712851, 4.913693756712343e-05, 12.514925977767167, 7.29940279102362, 3.7328417861479157, 1.8574271610449287, 1.2512844870644253, 0.74797770705636, 0.19659836765481745, 0.01166647408039311, 0.00030943374139103246, 2.9783938119770803e-05, 13.64446580618679, 8.573609685349934, 4.771710095712352, 2.3176120400710842, 1.3147699935605954, 1.2236189226704695, 0.667521883160358, 0.23163752914868802, 0.027726625673225976, 0.001240131038953828, 12.730051211658536, 7.930390974243899, 4.515109807553686, 2.3758921410602225, 1.297510735432644, 1.2396234186141042, 0.6761851602217582, 0.2584246883956613, 0.038007945093754436, 0.002053185179447755, 13.5582630073804, 8.815424995846875, 5.130528549478459, 2.6353227660896206, 1.3644164180726939, 1.3896577298544164, 0.7859347179135893, 0.33211278043545694, 0.04386177284685975, 0.001649375367116993, 13.527380603582033, 8.861295823654743, 5.361946023978778, 2.941880335751567, 1.517011534116002, 0.9347163370578417, 0.5632160956220061, 0.17224839980365825, 0.018015064533062567, 0.0007256451661008234, 14.162789833274452, 9.208703543078434, 5.434485297331754, 2.8335548521079845]\n"
     ]
    },
    {
     "name": "stderr",
     "output_type": "stream",
     "text": [
      "\n",
      "Valid_Cost: 1.37:  40%|█████████████████████████▌                                      | 4/10 [15:17<27:05, 270.88s/it]\u001b[A\n",
      "Valid_Cost: 1.37:  50%|████████████████████████████████                                | 5/10 [15:17<17:19, 207.92s/it]\u001b[A"
     ]
    },
    {
     "name": "stdout",
     "output_type": "stream",
     "text": [
      "Cost [12.613709885244726, 6.129279193499976, 1.9015729174187954, 0.4830742251328419, 0.059338604989321045, 0.0038545933766283057, 0.0003906240788377571, 9.15193451790838e-05, 3.919789094803865e-05, 2.5649834936594426e-05, 12.178118574525625, 8.83741414768729, 6.049341830583761, 3.717224841972516, 1.9367038000870511, 0.8429194833112358, 0.30925509649505994, 0.04688601036105282, 0.0031951087833463608, 0.0002975351746294532, 10.164771032014617, 6.8418420870715115, 4.228511992749954, 2.1664902232317886, 0.9171980347453055, 0.30422177998973543, 0.04735792114029455, 0.003021321679140005, 0.00022974909030712851, 4.913693756712343e-05, 12.514925977767167, 7.29940279102362, 3.7328417861479157, 1.8574271610449287, 1.2512844870644253, 0.74797770705636, 0.19659836765481745, 0.01166647408039311, 0.00030943374139103246, 2.9783938119770803e-05, 13.64446580618679, 8.573609685349934, 4.771710095712352, 2.3176120400710842, 1.3147699935605954, 1.2236189226704695, 0.667521883160358, 0.23163752914868802, 0.027726625673225976, 0.001240131038953828, 12.730051211658536, 7.930390974243899, 4.515109807553686, 2.3758921410602225, 1.297510735432644, 1.2396234186141042, 0.6761851602217582, 0.2584246883956613, 0.038007945093754436, 0.002053185179447755, 13.5582630073804, 8.815424995846875, 5.130528549478459, 2.6353227660896206, 1.3644164180726939, 1.3896577298544164, 0.7859347179135893, 0.33211278043545694, 0.04386177284685975, 0.001649375367116993, 13.527380603582033, 8.861295823654743, 5.361946023978778, 2.941880335751567, 1.517011534116002, 0.9347163370578417, 0.5632160956220061, 0.17224839980365825, 0.018015064533062567, 0.0007256451661008234, 14.162789833274452, 9.208703543078434, 5.434485297331754, 2.8335548521079845, 1.3713493356905602]\n"
     ]
    },
    {
     "name": "stderr",
     "output_type": "stream",
     "text": [
      "\n",
      "Valid_Cost: 0.99:  50%|████████████████████████████████                                | 5/10 [16:18<17:19, 207.92s/it]\u001b[A\n",
      "Valid_Cost: 0.99:  60%|██████████████████████████████████████▍                         | 6/10 [16:18<10:55, 163.89s/it]\u001b[A"
     ]
    },
    {
     "name": "stdout",
     "output_type": "stream",
     "text": [
      "Cost [12.613709885244726, 6.129279193499976, 1.9015729174187954, 0.4830742251328419, 0.059338604989321045, 0.0038545933766283057, 0.0003906240788377571, 9.15193451790838e-05, 3.919789094803865e-05, 2.5649834936594426e-05, 12.178118574525625, 8.83741414768729, 6.049341830583761, 3.717224841972516, 1.9367038000870511, 0.8429194833112358, 0.30925509649505994, 0.04688601036105282, 0.0031951087833463608, 0.0002975351746294532, 10.164771032014617, 6.8418420870715115, 4.228511992749954, 2.1664902232317886, 0.9171980347453055, 0.30422177998973543, 0.04735792114029455, 0.003021321679140005, 0.00022974909030712851, 4.913693756712343e-05, 12.514925977767167, 7.29940279102362, 3.7328417861479157, 1.8574271610449287, 1.2512844870644253, 0.74797770705636, 0.19659836765481745, 0.01166647408039311, 0.00030943374139103246, 2.9783938119770803e-05, 13.64446580618679, 8.573609685349934, 4.771710095712352, 2.3176120400710842, 1.3147699935605954, 1.2236189226704695, 0.667521883160358, 0.23163752914868802, 0.027726625673225976, 0.001240131038953828, 12.730051211658536, 7.930390974243899, 4.515109807553686, 2.3758921410602225, 1.297510735432644, 1.2396234186141042, 0.6761851602217582, 0.2584246883956613, 0.038007945093754436, 0.002053185179447755, 13.5582630073804, 8.815424995846875, 5.130528549478459, 2.6353227660896206, 1.3644164180726939, 1.3896577298544164, 0.7859347179135893, 0.33211278043545694, 0.04386177284685975, 0.001649375367116993, 13.527380603582033, 8.861295823654743, 5.361946023978778, 2.941880335751567, 1.517011534116002, 0.9347163370578417, 0.5632160956220061, 0.17224839980365825, 0.018015064533062567, 0.0007256451661008234, 14.162789833274452, 9.208703543078434, 5.434485297331754, 2.8335548521079845, 1.3713493356905602, 0.9853490474325212]\n"
     ]
    },
    {
     "name": "stderr",
     "output_type": "stream",
     "text": [
      "\n",
      "Valid_Cost: 0.56:  60%|██████████████████████████████████████▍                         | 6/10 [17:19<10:55, 163.89s/it]\u001b[A\n",
      "Valid_Cost: 0.56:  70%|████████████████████████████████████████████▊                   | 7/10 [17:19<06:39, 133.13s/it]\u001b[A"
     ]
    },
    {
     "name": "stdout",
     "output_type": "stream",
     "text": [
      "Cost [12.613709885244726, 6.129279193499976, 1.9015729174187954, 0.4830742251328419, 0.059338604989321045, 0.0038545933766283057, 0.0003906240788377571, 9.15193451790838e-05, 3.919789094803865e-05, 2.5649834936594426e-05, 12.178118574525625, 8.83741414768729, 6.049341830583761, 3.717224841972516, 1.9367038000870511, 0.8429194833112358, 0.30925509649505994, 0.04688601036105282, 0.0031951087833463608, 0.0002975351746294532, 10.164771032014617, 6.8418420870715115, 4.228511992749954, 2.1664902232317886, 0.9171980347453055, 0.30422177998973543, 0.04735792114029455, 0.003021321679140005, 0.00022974909030712851, 4.913693756712343e-05, 12.514925977767167, 7.29940279102362, 3.7328417861479157, 1.8574271610449287, 1.2512844870644253, 0.74797770705636, 0.19659836765481745, 0.01166647408039311, 0.00030943374139103246, 2.9783938119770803e-05, 13.64446580618679, 8.573609685349934, 4.771710095712352, 2.3176120400710842, 1.3147699935605954, 1.2236189226704695, 0.667521883160358, 0.23163752914868802, 0.027726625673225976, 0.001240131038953828, 12.730051211658536, 7.930390974243899, 4.515109807553686, 2.3758921410602225, 1.297510735432644, 1.2396234186141042, 0.6761851602217582, 0.2584246883956613, 0.038007945093754436, 0.002053185179447755, 13.5582630073804, 8.815424995846875, 5.130528549478459, 2.6353227660896206, 1.3644164180726939, 1.3896577298544164, 0.7859347179135893, 0.33211278043545694, 0.04386177284685975, 0.001649375367116993, 13.527380603582033, 8.861295823654743, 5.361946023978778, 2.941880335751567, 1.517011534116002, 0.9347163370578417, 0.5632160956220061, 0.17224839980365825, 0.018015064533062567, 0.0007256451661008234, 14.162789833274452, 9.208703543078434, 5.434485297331754, 2.8335548521079845, 1.3713493356905602, 0.9853490474325212, 0.5558483844407683]\n"
     ]
    },
    {
     "name": "stderr",
     "output_type": "stream",
     "text": [
      "\n",
      "Valid_Cost: 0.15:  70%|████████████████████████████████████████████▊                   | 7/10 [18:21<06:39, 133.13s/it]\u001b[A\n",
      "Valid_Cost: 0.15:  80%|███████████████████████████████████████████████████▏            | 8/10 [18:21<03:43, 111.67s/it]\u001b[A"
     ]
    },
    {
     "name": "stdout",
     "output_type": "stream",
     "text": [
      "Cost [12.613709885244726, 6.129279193499976, 1.9015729174187954, 0.4830742251328419, 0.059338604989321045, 0.0038545933766283057, 0.0003906240788377571, 9.15193451790838e-05, 3.919789094803865e-05, 2.5649834936594426e-05, 12.178118574525625, 8.83741414768729, 6.049341830583761, 3.717224841972516, 1.9367038000870511, 0.8429194833112358, 0.30925509649505994, 0.04688601036105282, 0.0031951087833463608, 0.0002975351746294532, 10.164771032014617, 6.8418420870715115, 4.228511992749954, 2.1664902232317886, 0.9171980347453055, 0.30422177998973543, 0.04735792114029455, 0.003021321679140005, 0.00022974909030712851, 4.913693756712343e-05, 12.514925977767167, 7.29940279102362, 3.7328417861479157, 1.8574271610449287, 1.2512844870644253, 0.74797770705636, 0.19659836765481745, 0.01166647408039311, 0.00030943374139103246, 2.9783938119770803e-05, 13.64446580618679, 8.573609685349934, 4.771710095712352, 2.3176120400710842, 1.3147699935605954, 1.2236189226704695, 0.667521883160358, 0.23163752914868802, 0.027726625673225976, 0.001240131038953828, 12.730051211658536, 7.930390974243899, 4.515109807553686, 2.3758921410602225, 1.297510735432644, 1.2396234186141042, 0.6761851602217582, 0.2584246883956613, 0.038007945093754436, 0.002053185179447755, 13.5582630073804, 8.815424995846875, 5.130528549478459, 2.6353227660896206, 1.3644164180726939, 1.3896577298544164, 0.7859347179135893, 0.33211278043545694, 0.04386177284685975, 0.001649375367116993, 13.527380603582033, 8.861295823654743, 5.361946023978778, 2.941880335751567, 1.517011534116002, 0.9347163370578417, 0.5632160956220061, 0.17224839980365825, 0.018015064533062567, 0.0007256451661008234, 14.162789833274452, 9.208703543078434, 5.434485297331754, 2.8335548521079845, 1.3713493356905602, 0.9853490474325212, 0.5558483844407683, 0.15448827483613106]\n"
     ]
    },
    {
     "name": "stderr",
     "output_type": "stream",
     "text": [
      "\n",
      "Valid_Cost: 0.01:  80%|███████████████████████████████████████████████████▏            | 8/10 [19:22<03:43, 111.67s/it]\u001b[A\n",
      "Valid_Cost: 0.01:  90%|██████████████████████████████████████████████████████████▌      | 9/10 [19:22<01:36, 96.51s/it]\u001b[A"
     ]
    },
    {
     "name": "stdout",
     "output_type": "stream",
     "text": [
      "Cost [12.613709885244726, 6.129279193499976, 1.9015729174187954, 0.4830742251328419, 0.059338604989321045, 0.0038545933766283057, 0.0003906240788377571, 9.15193451790838e-05, 3.919789094803865e-05, 2.5649834936594426e-05, 12.178118574525625, 8.83741414768729, 6.049341830583761, 3.717224841972516, 1.9367038000870511, 0.8429194833112358, 0.30925509649505994, 0.04688601036105282, 0.0031951087833463608, 0.0002975351746294532, 10.164771032014617, 6.8418420870715115, 4.228511992749954, 2.1664902232317886, 0.9171980347453055, 0.30422177998973543, 0.04735792114029455, 0.003021321679140005, 0.00022974909030712851, 4.913693756712343e-05, 12.514925977767167, 7.29940279102362, 3.7328417861479157, 1.8574271610449287, 1.2512844870644253, 0.74797770705636, 0.19659836765481745, 0.01166647408039311, 0.00030943374139103246, 2.9783938119770803e-05, 13.64446580618679, 8.573609685349934, 4.771710095712352, 2.3176120400710842, 1.3147699935605954, 1.2236189226704695, 0.667521883160358, 0.23163752914868802, 0.027726625673225976, 0.001240131038953828, 12.730051211658536, 7.930390974243899, 4.515109807553686, 2.3758921410602225, 1.297510735432644, 1.2396234186141042, 0.6761851602217582, 0.2584246883956613, 0.038007945093754436, 0.002053185179447755, 13.5582630073804, 8.815424995846875, 5.130528549478459, 2.6353227660896206, 1.3644164180726939, 1.3896577298544164, 0.7859347179135893, 0.33211278043545694, 0.04386177284685975, 0.001649375367116993, 13.527380603582033, 8.861295823654743, 5.361946023978778, 2.941880335751567, 1.517011534116002, 0.9347163370578417, 0.5632160956220061, 0.17224839980365825, 0.018015064533062567, 0.0007256451661008234, 14.162789833274452, 9.208703543078434, 5.434485297331754, 2.8335548521079845, 1.3713493356905602, 0.9853490474325212, 0.5558483844407683, 0.15448827483613106, 0.014339879952339112]\n"
     ]
    },
    {
     "name": "stderr",
     "output_type": "stream",
     "text": [
      "\n",
      "Valid_Cost: 0.00:  90%|██████████████████████████████████████████████████████████▌      | 9/10 [20:24<01:36, 96.51s/it]\u001b[A\n",
      "Valid_Cost: 0.00: 100%|███████████████████████████████████████████████████████████████| 10/10 [20:24<00:00, 122.42s/it]\u001b[A"
     ]
    },
    {
     "name": "stdout",
     "output_type": "stream",
     "text": [
      "Cost [12.613709885244726, 6.129279193499976, 1.9015729174187954, 0.4830742251328419, 0.059338604989321045, 0.0038545933766283057, 0.0003906240788377571, 9.15193451790838e-05, 3.919789094803865e-05, 2.5649834936594426e-05, 12.178118574525625, 8.83741414768729, 6.049341830583761, 3.717224841972516, 1.9367038000870511, 0.8429194833112358, 0.30925509649505994, 0.04688601036105282, 0.0031951087833463608, 0.0002975351746294532, 10.164771032014617, 6.8418420870715115, 4.228511992749954, 2.1664902232317886, 0.9171980347453055, 0.30422177998973543, 0.04735792114029455, 0.003021321679140005, 0.00022974909030712851, 4.913693756712343e-05, 12.514925977767167, 7.29940279102362, 3.7328417861479157, 1.8574271610449287, 1.2512844870644253, 0.74797770705636, 0.19659836765481745, 0.01166647408039311, 0.00030943374139103246, 2.9783938119770803e-05, 13.64446580618679, 8.573609685349934, 4.771710095712352, 2.3176120400710842, 1.3147699935605954, 1.2236189226704695, 0.667521883160358, 0.23163752914868802, 0.027726625673225976, 0.001240131038953828, 12.730051211658536, 7.930390974243899, 4.515109807553686, 2.3758921410602225, 1.297510735432644, 1.2396234186141042, 0.6761851602217582, 0.2584246883956613, 0.038007945093754436, 0.002053185179447755, 13.5582630073804, 8.815424995846875, 5.130528549478459, 2.6353227660896206, 1.3644164180726939, 1.3896577298544164, 0.7859347179135893, 0.33211278043545694, 0.04386177284685975, 0.001649375367116993, 13.527380603582033, 8.861295823654743, 5.361946023978778, 2.941880335751567, 1.517011534116002, 0.9347163370578417, 0.5632160956220061, 0.17224839980365825, 0.018015064533062567, 0.0007256451661008234, 14.162789833274452, 9.208703543078434, 5.434485297331754, 2.8335548521079845, 1.3713493356905602, 0.9853490474325212, 0.5558483844407683, 0.15448827483613106, 0.014339879952339112, 0.0004944759235560483]\n"
     ]
    },
    {
     "name": "stderr",
     "output_type": "stream",
     "text": [
      "\n",
      "\n",
      "\n",
      "Test_Cost: 19.15:   0%|                                                                         | 0/10 [21:25<?, ?it/s]\u001b[A\u001b[A\n",
      "\n",
      "Test_Cost: 19.15:  10%|██████                                                       | 1/10 [21:25<3:12:46, 1285.13s/it]\u001b[A\u001b[A"
     ]
    },
    {
     "name": "stdout",
     "output_type": "stream",
     "text": [
      "Cost [17.477931487658772, 11.481349621096912, 7.2365141576138186, 4.329902826767674, 2.4760411291537143, 1.5138635182223377, 0.7073556751685137, 0.12401734248441017, 0.007844180439016798, 0.0004556797310312098, 11.286471904239823, 7.1580123306771535, 3.9571610125268046, 1.8399116118774996, 0.7802855169740726, 0.2489798442024637, 0.040478171647824725, 0.0034103101165470257, 0.0003388346063951934, 8.207387633336027e-05, 14.600696001489547, 9.75421890186924, 5.943346249809679, 3.104772795184965, 1.3028420971721986, 0.6716637475518982, 0.17394469785564953, 0.013044275982573123, 0.00042176041655823655, 5.277390877793245e-05, 14.972619765065867, 9.155213669572213, 4.903756139238905, 2.2431711694723395, 1.2247738678146751, 0.6327003039336754, 0.13385226554640417, 0.006069226684909263, 0.00017053570314741042, 1.8954303310665997e-05, 16.557461094319603, 10.312316690749679, 5.807679969784163, 2.978874251521571, 1.5495151527915902, 1.351094254483115, 0.7920496809535496, 0.2575269765176783, 0.022406656313162774, 0.0005332186390589695, 15.40174981656828, 10.218580874295357, 6.19277725864181, 3.3933050781409753, 1.7065973026773404, 1.3837499965627784, 0.9491881593391612, 0.499905723050728, 0.1043395868721518, 0.006274060456623387, 18.123430148273588, 11.458900403303865, 6.549573953358018, 3.325961171360774, 1.677488759919609, 1.4107234813832696, 0.8985648211830274, 0.2547668961196521, 0.016730105095166207, 0.000328545286842944, 19.2408271536545, 13.059669414211465, 8.365699146889028, 4.943414085856317, 2.5987458980692235, 1.3941490719866367, 1.5176441375444867, 0.7697824631039416, 0.25675035514300687, 0.022526685466055487, 19.154181835283023]\n"
     ]
    },
    {
     "name": "stderr",
     "output_type": "stream",
     "text": [
      "\n",
      "\n",
      "Test_Cost: 13.08:  10%|██████                                                       | 1/10 [22:26<3:12:46, 1285.13s/it]\u001b[A\u001b[A\n",
      "\n",
      "Test_Cost: 13.08:  20%|████████████▍                                                 | 2/10 [22:26<2:02:23, 917.98s/it]\u001b[A\u001b[A"
     ]
    },
    {
     "name": "stdout",
     "output_type": "stream",
     "text": [
      "Cost [17.477931487658772, 11.481349621096912, 7.2365141576138186, 4.329902826767674, 2.4760411291537143, 1.5138635182223377, 0.7073556751685137, 0.12401734248441017, 0.007844180439016798, 0.0004556797310312098, 11.286471904239823, 7.1580123306771535, 3.9571610125268046, 1.8399116118774996, 0.7802855169740726, 0.2489798442024637, 0.040478171647824725, 0.0034103101165470257, 0.0003388346063951934, 8.207387633336027e-05, 14.600696001489547, 9.75421890186924, 5.943346249809679, 3.104772795184965, 1.3028420971721986, 0.6716637475518982, 0.17394469785564953, 0.013044275982573123, 0.00042176041655823655, 5.277390877793245e-05, 14.972619765065867, 9.155213669572213, 4.903756139238905, 2.2431711694723395, 1.2247738678146751, 0.6327003039336754, 0.13385226554640417, 0.006069226684909263, 0.00017053570314741042, 1.8954303310665997e-05, 16.557461094319603, 10.312316690749679, 5.807679969784163, 2.978874251521571, 1.5495151527915902, 1.351094254483115, 0.7920496809535496, 0.2575269765176783, 0.022406656313162774, 0.0005332186390589695, 15.40174981656828, 10.218580874295357, 6.19277725864181, 3.3933050781409753, 1.7065973026773404, 1.3837499965627784, 0.9491881593391612, 0.499905723050728, 0.1043395868721518, 0.006274060456623387, 18.123430148273588, 11.458900403303865, 6.549573953358018, 3.325961171360774, 1.677488759919609, 1.4107234813832696, 0.8985648211830274, 0.2547668961196521, 0.016730105095166207, 0.000328545286842944, 19.2408271536545, 13.059669414211465, 8.365699146889028, 4.943414085856317, 2.5987458980692235, 1.3941490719866367, 1.5176441375444867, 0.7697824631039416, 0.25675035514300687, 0.022526685466055487, 19.154181835283023, 13.080892296711623]\n"
     ]
    },
    {
     "name": "stderr",
     "output_type": "stream",
     "text": [
      "\n",
      "\n",
      "Test_Cost: 8.19:  20%|████████████▌                                                  | 2/10 [23:27<2:02:23, 917.98s/it]\u001b[A\u001b[A\n",
      "\n",
      "Test_Cost: 8.19:  30%|██████████████████▉                                            | 3/10 [23:27<1:17:06, 660.95s/it]\u001b[A\u001b[A"
     ]
    },
    {
     "name": "stdout",
     "output_type": "stream",
     "text": [
      "Cost [17.477931487658772, 11.481349621096912, 7.2365141576138186, 4.329902826767674, 2.4760411291537143, 1.5138635182223377, 0.7073556751685137, 0.12401734248441017, 0.007844180439016798, 0.0004556797310312098, 11.286471904239823, 7.1580123306771535, 3.9571610125268046, 1.8399116118774996, 0.7802855169740726, 0.2489798442024637, 0.040478171647824725, 0.0034103101165470257, 0.0003388346063951934, 8.207387633336027e-05, 14.600696001489547, 9.75421890186924, 5.943346249809679, 3.104772795184965, 1.3028420971721986, 0.6716637475518982, 0.17394469785564953, 0.013044275982573123, 0.00042176041655823655, 5.277390877793245e-05, 14.972619765065867, 9.155213669572213, 4.903756139238905, 2.2431711694723395, 1.2247738678146751, 0.6327003039336754, 0.13385226554640417, 0.006069226684909263, 0.00017053570314741042, 1.8954303310665997e-05, 16.557461094319603, 10.312316690749679, 5.807679969784163, 2.978874251521571, 1.5495151527915902, 1.351094254483115, 0.7920496809535496, 0.2575269765176783, 0.022406656313162774, 0.0005332186390589695, 15.40174981656828, 10.218580874295357, 6.19277725864181, 3.3933050781409753, 1.7065973026773404, 1.3837499965627784, 0.9491881593391612, 0.499905723050728, 0.1043395868721518, 0.006274060456623387, 18.123430148273588, 11.458900403303865, 6.549573953358018, 3.325961171360774, 1.677488759919609, 1.4107234813832696, 0.8985648211830274, 0.2547668961196521, 0.016730105095166207, 0.000328545286842944, 19.2408271536545, 13.059669414211465, 8.365699146889028, 4.943414085856317, 2.5987458980692235, 1.3941490719866367, 1.5176441375444867, 0.7697824631039416, 0.25675035514300687, 0.022526685466055487, 19.154181835283023, 13.080892296711623, 8.193166706450002]\n"
     ]
    },
    {
     "name": "stderr",
     "output_type": "stream",
     "text": [
      "\n",
      "\n",
      "Test_Cost: 4.51:  30%|██████████████████▉                                            | 3/10 [24:28<1:17:06, 660.95s/it]\u001b[A\u001b[A\n",
      "\n",
      "Test_Cost: 4.51:  40%|██████████████████████████                                       | 4/10 [24:28<48:06, 481.06s/it]\u001b[A\u001b[A"
     ]
    },
    {
     "name": "stdout",
     "output_type": "stream",
     "text": [
      "Cost [17.477931487658772, 11.481349621096912, 7.2365141576138186, 4.329902826767674, 2.4760411291537143, 1.5138635182223377, 0.7073556751685137, 0.12401734248441017, 0.007844180439016798, 0.0004556797310312098, 11.286471904239823, 7.1580123306771535, 3.9571610125268046, 1.8399116118774996, 0.7802855169740726, 0.2489798442024637, 0.040478171647824725, 0.0034103101165470257, 0.0003388346063951934, 8.207387633336027e-05, 14.600696001489547, 9.75421890186924, 5.943346249809679, 3.104772795184965, 1.3028420971721986, 0.6716637475518982, 0.17394469785564953, 0.013044275982573123, 0.00042176041655823655, 5.277390877793245e-05, 14.972619765065867, 9.155213669572213, 4.903756139238905, 2.2431711694723395, 1.2247738678146751, 0.6327003039336754, 0.13385226554640417, 0.006069226684909263, 0.00017053570314741042, 1.8954303310665997e-05, 16.557461094319603, 10.312316690749679, 5.807679969784163, 2.978874251521571, 1.5495151527915902, 1.351094254483115, 0.7920496809535496, 0.2575269765176783, 0.022406656313162774, 0.0005332186390589695, 15.40174981656828, 10.218580874295357, 6.19277725864181, 3.3933050781409753, 1.7065973026773404, 1.3837499965627784, 0.9491881593391612, 0.499905723050728, 0.1043395868721518, 0.006274060456623387, 18.123430148273588, 11.458900403303865, 6.549573953358018, 3.325961171360774, 1.677488759919609, 1.4107234813832696, 0.8985648211830274, 0.2547668961196521, 0.016730105095166207, 0.000328545286842944, 19.2408271536545, 13.059669414211465, 8.365699146889028, 4.943414085856317, 2.5987458980692235, 1.3941490719866367, 1.5176441375444867, 0.7697824631039416, 0.25675035514300687, 0.022526685466055487, 19.154181835283023, 13.080892296711623, 8.193166706450002, 4.505073218176413]\n"
     ]
    },
    {
     "name": "stderr",
     "output_type": "stream",
     "text": [
      "\n",
      "\n",
      "Test_Cost: 2.11:  40%|██████████████████████████                                       | 4/10 [25:29<48:06, 481.06s/it]\u001b[A\u001b[A\n",
      "\n",
      "Test_Cost: 2.11:  50%|████████████████████████████████▌                                | 5/10 [25:29<29:35, 355.03s/it]\u001b[A\u001b[A"
     ]
    },
    {
     "name": "stdout",
     "output_type": "stream",
     "text": [
      "Cost [17.477931487658772, 11.481349621096912, 7.2365141576138186, 4.329902826767674, 2.4760411291537143, 1.5138635182223377, 0.7073556751685137, 0.12401734248441017, 0.007844180439016798, 0.0004556797310312098, 11.286471904239823, 7.1580123306771535, 3.9571610125268046, 1.8399116118774996, 0.7802855169740726, 0.2489798442024637, 0.040478171647824725, 0.0034103101165470257, 0.0003388346063951934, 8.207387633336027e-05, 14.600696001489547, 9.75421890186924, 5.943346249809679, 3.104772795184965, 1.3028420971721986, 0.6716637475518982, 0.17394469785564953, 0.013044275982573123, 0.00042176041655823655, 5.277390877793245e-05, 14.972619765065867, 9.155213669572213, 4.903756139238905, 2.2431711694723395, 1.2247738678146751, 0.6327003039336754, 0.13385226554640417, 0.006069226684909263, 0.00017053570314741042, 1.8954303310665997e-05, 16.557461094319603, 10.312316690749679, 5.807679969784163, 2.978874251521571, 1.5495151527915902, 1.351094254483115, 0.7920496809535496, 0.2575269765176783, 0.022406656313162774, 0.0005332186390589695, 15.40174981656828, 10.218580874295357, 6.19277725864181, 3.3933050781409753, 1.7065973026773404, 1.3837499965627784, 0.9491881593391612, 0.499905723050728, 0.1043395868721518, 0.006274060456623387, 18.123430148273588, 11.458900403303865, 6.549573953358018, 3.325961171360774, 1.677488759919609, 1.4107234813832696, 0.8985648211830274, 0.2547668961196521, 0.016730105095166207, 0.000328545286842944, 19.2408271536545, 13.059669414211465, 8.365699146889028, 4.943414085856317, 2.5987458980692235, 1.3941490719866367, 1.5176441375444867, 0.7697824631039416, 0.25675035514300687, 0.022526685466055487, 19.154181835283023, 13.080892296711623, 8.193166706450002, 4.505073218176413, 2.1136434044860564]\n"
     ]
    },
    {
     "name": "stderr",
     "output_type": "stream",
     "text": [
      "\n",
      "\n",
      "Test_Cost: 1.29:  50%|████████████████████████████████▌                                | 5/10 [26:30<29:35, 355.03s/it]\u001b[A\u001b[A\n",
      "\n",
      "Test_Cost: 1.29:  60%|███████████████████████████████████████                          | 6/10 [26:30<17:47, 266.82s/it]\u001b[A\u001b[A"
     ]
    },
    {
     "name": "stdout",
     "output_type": "stream",
     "text": [
      "Cost [17.477931487658772, 11.481349621096912, 7.2365141576138186, 4.329902826767674, 2.4760411291537143, 1.5138635182223377, 0.7073556751685137, 0.12401734248441017, 0.007844180439016798, 0.0004556797310312098, 11.286471904239823, 7.1580123306771535, 3.9571610125268046, 1.8399116118774996, 0.7802855169740726, 0.2489798442024637, 0.040478171647824725, 0.0034103101165470257, 0.0003388346063951934, 8.207387633336027e-05, 14.600696001489547, 9.75421890186924, 5.943346249809679, 3.104772795184965, 1.3028420971721986, 0.6716637475518982, 0.17394469785564953, 0.013044275982573123, 0.00042176041655823655, 5.277390877793245e-05, 14.972619765065867, 9.155213669572213, 4.903756139238905, 2.2431711694723395, 1.2247738678146751, 0.6327003039336754, 0.13385226554640417, 0.006069226684909263, 0.00017053570314741042, 1.8954303310665997e-05, 16.557461094319603, 10.312316690749679, 5.807679969784163, 2.978874251521571, 1.5495151527915902, 1.351094254483115, 0.7920496809535496, 0.2575269765176783, 0.022406656313162774, 0.0005332186390589695, 15.40174981656828, 10.218580874295357, 6.19277725864181, 3.3933050781409753, 1.7065973026773404, 1.3837499965627784, 0.9491881593391612, 0.499905723050728, 0.1043395868721518, 0.006274060456623387, 18.123430148273588, 11.458900403303865, 6.549573953358018, 3.325961171360774, 1.677488759919609, 1.4107234813832696, 0.8985648211830274, 0.2547668961196521, 0.016730105095166207, 0.000328545286842944, 19.2408271536545, 13.059669414211465, 8.365699146889028, 4.943414085856317, 2.5987458980692235, 1.3941490719866367, 1.5176441375444867, 0.7697824631039416, 0.25675035514300687, 0.022526685466055487, 19.154181835283023, 13.080892296711623, 8.193166706450002, 4.505073218176413, 2.1136434044860564, 1.2920638901415038]\n"
     ]
    },
    {
     "name": "stderr",
     "output_type": "stream",
     "text": [
      "\n",
      "\n",
      "Test_Cost: 0.99:  60%|███████████████████████████████████████                          | 6/10 [27:31<17:47, 266.82s/it]\u001b[A\u001b[A\n",
      "\n",
      "Test_Cost: 0.99:  70%|█████████████████████████████████████████████▌                   | 7/10 [27:31<10:15, 205.07s/it]\u001b[A\u001b[A"
     ]
    },
    {
     "name": "stdout",
     "output_type": "stream",
     "text": [
      "Cost [17.477931487658772, 11.481349621096912, 7.2365141576138186, 4.329902826767674, 2.4760411291537143, 1.5138635182223377, 0.7073556751685137, 0.12401734248441017, 0.007844180439016798, 0.0004556797310312098, 11.286471904239823, 7.1580123306771535, 3.9571610125268046, 1.8399116118774996, 0.7802855169740726, 0.2489798442024637, 0.040478171647824725, 0.0034103101165470257, 0.0003388346063951934, 8.207387633336027e-05, 14.600696001489547, 9.75421890186924, 5.943346249809679, 3.104772795184965, 1.3028420971721986, 0.6716637475518982, 0.17394469785564953, 0.013044275982573123, 0.00042176041655823655, 5.277390877793245e-05, 14.972619765065867, 9.155213669572213, 4.903756139238905, 2.2431711694723395, 1.2247738678146751, 0.6327003039336754, 0.13385226554640417, 0.006069226684909263, 0.00017053570314741042, 1.8954303310665997e-05, 16.557461094319603, 10.312316690749679, 5.807679969784163, 2.978874251521571, 1.5495151527915902, 1.351094254483115, 0.7920496809535496, 0.2575269765176783, 0.022406656313162774, 0.0005332186390589695, 15.40174981656828, 10.218580874295357, 6.19277725864181, 3.3933050781409753, 1.7065973026773404, 1.3837499965627784, 0.9491881593391612, 0.499905723050728, 0.1043395868721518, 0.006274060456623387, 18.123430148273588, 11.458900403303865, 6.549573953358018, 3.325961171360774, 1.677488759919609, 1.4107234813832696, 0.8985648211830274, 0.2547668961196521, 0.016730105095166207, 0.000328545286842944, 19.2408271536545, 13.059669414211465, 8.365699146889028, 4.943414085856317, 2.5987458980692235, 1.3941490719866367, 1.5176441375444867, 0.7697824631039416, 0.25675035514300687, 0.022526685466055487, 19.154181835283023, 13.080892296711623, 8.193166706450002, 4.505073218176413, 2.1136434044860564, 1.2920638901415038, 0.9927796843235402]\n"
     ]
    },
    {
     "name": "stderr",
     "output_type": "stream",
     "text": [
      "\n",
      "\n",
      "Test_Cost: 0.85:  70%|█████████████████████████████████████████████▌                   | 7/10 [28:33<10:15, 205.07s/it]\u001b[A\u001b[A\n",
      "\n",
      "Test_Cost: 0.85:  80%|████████████████████████████████████████████████████             | 8/10 [28:33<05:23, 161.95s/it]\u001b[A\u001b[A"
     ]
    },
    {
     "name": "stdout",
     "output_type": "stream",
     "text": [
      "Cost [17.477931487658772, 11.481349621096912, 7.2365141576138186, 4.329902826767674, 2.4760411291537143, 1.5138635182223377, 0.7073556751685137, 0.12401734248441017, 0.007844180439016798, 0.0004556797310312098, 11.286471904239823, 7.1580123306771535, 3.9571610125268046, 1.8399116118774996, 0.7802855169740726, 0.2489798442024637, 0.040478171647824725, 0.0034103101165470257, 0.0003388346063951934, 8.207387633336027e-05, 14.600696001489547, 9.75421890186924, 5.943346249809679, 3.104772795184965, 1.3028420971721986, 0.6716637475518982, 0.17394469785564953, 0.013044275982573123, 0.00042176041655823655, 5.277390877793245e-05, 14.972619765065867, 9.155213669572213, 4.903756139238905, 2.2431711694723395, 1.2247738678146751, 0.6327003039336754, 0.13385226554640417, 0.006069226684909263, 0.00017053570314741042, 1.8954303310665997e-05, 16.557461094319603, 10.312316690749679, 5.807679969784163, 2.978874251521571, 1.5495151527915902, 1.351094254483115, 0.7920496809535496, 0.2575269765176783, 0.022406656313162774, 0.0005332186390589695, 15.40174981656828, 10.218580874295357, 6.19277725864181, 3.3933050781409753, 1.7065973026773404, 1.3837499965627784, 0.9491881593391612, 0.499905723050728, 0.1043395868721518, 0.006274060456623387, 18.123430148273588, 11.458900403303865, 6.549573953358018, 3.325961171360774, 1.677488759919609, 1.4107234813832696, 0.8985648211830274, 0.2547668961196521, 0.016730105095166207, 0.000328545286842944, 19.2408271536545, 13.059669414211465, 8.365699146889028, 4.943414085856317, 2.5987458980692235, 1.3941490719866367, 1.5176441375444867, 0.7697824631039416, 0.25675035514300687, 0.022526685466055487, 19.154181835283023, 13.080892296711623, 8.193166706450002, 4.505073218176413, 2.1136434044860564, 1.2920638901415038, 0.9927796843235402, 0.853860152232577]\n"
     ]
    },
    {
     "name": "stderr",
     "output_type": "stream",
     "text": [
      "\n",
      "\n",
      "Test_Cost: 0.22:  80%|████████████████████████████████████████████████████             | 8/10 [29:34<05:23, 161.95s/it]\u001b[A\u001b[A\n",
      "\n",
      "Test_Cost: 0.22:  90%|██████████████████████████████████████████████████████████▌      | 9/10 [29:34<02:11, 131.74s/it]\u001b[A\u001b[A"
     ]
    },
    {
     "name": "stdout",
     "output_type": "stream",
     "text": [
      "Cost [17.477931487658772, 11.481349621096912, 7.2365141576138186, 4.329902826767674, 2.4760411291537143, 1.5138635182223377, 0.7073556751685137, 0.12401734248441017, 0.007844180439016798, 0.0004556797310312098, 11.286471904239823, 7.1580123306771535, 3.9571610125268046, 1.8399116118774996, 0.7802855169740726, 0.2489798442024637, 0.040478171647824725, 0.0034103101165470257, 0.0003388346063951934, 8.207387633336027e-05, 14.600696001489547, 9.75421890186924, 5.943346249809679, 3.104772795184965, 1.3028420971721986, 0.6716637475518982, 0.17394469785564953, 0.013044275982573123, 0.00042176041655823655, 5.277390877793245e-05, 14.972619765065867, 9.155213669572213, 4.903756139238905, 2.2431711694723395, 1.2247738678146751, 0.6327003039336754, 0.13385226554640417, 0.006069226684909263, 0.00017053570314741042, 1.8954303310665997e-05, 16.557461094319603, 10.312316690749679, 5.807679969784163, 2.978874251521571, 1.5495151527915902, 1.351094254483115, 0.7920496809535496, 0.2575269765176783, 0.022406656313162774, 0.0005332186390589695, 15.40174981656828, 10.218580874295357, 6.19277725864181, 3.3933050781409753, 1.7065973026773404, 1.3837499965627784, 0.9491881593391612, 0.499905723050728, 0.1043395868721518, 0.006274060456623387, 18.123430148273588, 11.458900403303865, 6.549573953358018, 3.325961171360774, 1.677488759919609, 1.4107234813832696, 0.8985648211830274, 0.2547668961196521, 0.016730105095166207, 0.000328545286842944, 19.2408271536545, 13.059669414211465, 8.365699146889028, 4.943414085856317, 2.5987458980692235, 1.3941490719866367, 1.5176441375444867, 0.7697824631039416, 0.25675035514300687, 0.022526685466055487, 19.154181835283023, 13.080892296711623, 8.193166706450002, 4.505073218176413, 2.1136434044860564, 1.2920638901415038, 0.9927796843235402, 0.853860152232577, 0.22417929312875917]\n"
     ]
    },
    {
     "name": "stderr",
     "output_type": "stream",
     "text": [
      "\n",
      "\n",
      "Test_Cost: 0.01:  90%|██████████████████████████████████████████████████████████▌      | 9/10 [30:35<02:11, 131.74s/it]\u001b[A\u001b[A\n",
      "\n",
      "Test_Cost: 0.01: 100%|████████████████████████████████████████████████████████████████| 10/10 [30:35<00:00, 183.55s/it]\u001b[A\u001b[A\n",
      "  0%|                                                                                           | 0/10 [00:00<?, ?it/s]\n",
      "  0%|                                                                                           | 0/10 [00:00<?, ?it/s]\u001b[A\n",
      "\n",
      "  0%|                                                                                           | 0/10 [00:00<?, ?it/s]\u001b[A\u001b[A"
     ]
    },
    {
     "name": "stdout",
     "output_type": "stream",
     "text": [
      "Cost [17.477931487658772, 11.481349621096912, 7.2365141576138186, 4.329902826767674, 2.4760411291537143, 1.5138635182223377, 0.7073556751685137, 0.12401734248441017, 0.007844180439016798, 0.0004556797310312098, 11.286471904239823, 7.1580123306771535, 3.9571610125268046, 1.8399116118774996, 0.7802855169740726, 0.2489798442024637, 0.040478171647824725, 0.0034103101165470257, 0.0003388346063951934, 8.207387633336027e-05, 14.600696001489547, 9.75421890186924, 5.943346249809679, 3.104772795184965, 1.3028420971721986, 0.6716637475518982, 0.17394469785564953, 0.013044275982573123, 0.00042176041655823655, 5.277390877793245e-05, 14.972619765065867, 9.155213669572213, 4.903756139238905, 2.2431711694723395, 1.2247738678146751, 0.6327003039336754, 0.13385226554640417, 0.006069226684909263, 0.00017053570314741042, 1.8954303310665997e-05, 16.557461094319603, 10.312316690749679, 5.807679969784163, 2.978874251521571, 1.5495151527915902, 1.351094254483115, 0.7920496809535496, 0.2575269765176783, 0.022406656313162774, 0.0005332186390589695, 15.40174981656828, 10.218580874295357, 6.19277725864181, 3.3933050781409753, 1.7065973026773404, 1.3837499965627784, 0.9491881593391612, 0.499905723050728, 0.1043395868721518, 0.006274060456623387, 18.123430148273588, 11.458900403303865, 6.549573953358018, 3.325961171360774, 1.677488759919609, 1.4107234813832696, 0.8985648211830274, 0.2547668961196521, 0.016730105095166207, 0.000328545286842944, 19.2408271536545, 13.059669414211465, 8.365699146889028, 4.943414085856317, 2.5987458980692235, 1.3941490719866367, 1.5176441375444867, 0.7697824631039416, 0.25675035514300687, 0.022526685466055487, 19.154181835283023, 13.080892296711623, 8.193166706450002, 4.505073218176413, 2.1136434044860564, 1.2920638901415038, 0.9927796843235402, 0.853860152232577, 0.22417929312875917, 0.012522398905406717]\n"
     ]
    },
    {
     "name": "stderr",
     "output_type": "stream",
     "text": [
      "Cost: 12.26:  10%|███████                                                               | 1/10 [01:00<09:08, 60.93s/it]"
     ]
    },
    {
     "name": "stdout",
     "output_type": "stream",
     "text": [
      "Cost [1.805058834099499, 0.41932456458767126, 0.014087307350374025, 0.0001692433711427714, 5.653639294561886e-05, 3.356158175112585e-05, 2.396809661747693e-05, 1.9735546402678084e-05, 1.5763080920937223e-05, 1.3486385941374477e-05, 10.794958456889965, 6.921550221291253, 3.9205335028904216, 2.0339443569756948, 1.1359513374314638, 0.5665828764235191, 0.18895635398112973, 0.03744538130653987, 0.0041888964860639834, 0.0004988327741898294, 13.936540459613047, 9.96470549480028, 6.759911915500286, 4.147051321106824, 2.2729482942453947, 1.1610517082172722, 0.42251486776857794, 0.07469555281327084, 0.006418318407235089, 0.0005783703895562986, 12.836280793449864, 8.198480580402592, 4.708526150373516, 2.427440691808707, 1.259752148916097, 0.7081402542711223, 0.18073413084663914, 0.010133898370896953, 0.00024371080452472945, 2.753302081775263e-05, 15.011368842088576, 9.177649407984147, 5.024211633891435, 2.325921674059211, 1.181703919301214, 1.1140912177270343, 0.47171258927469695, 0.08954736188171877, 0.004429907390258706, 0.00017133434837629153, 13.292524588274912, 8.297900140272375, 4.582539758350406, 2.2713491107232695, 1.2404167320554749, 1.2194040529415546, 0.6275092268187233, 0.20654841465783322, 0.026026025442601127, 0.0012835155330387063, 12.287818623110558, 7.710051264928435, 4.288059028755361, 2.15842572744059, 1.1948799725858645, 1.3301560352305617, 0.679574145385976, 0.23561134817165577, 0.030131376885300903, 0.0014876702216375373, 14.289533075951674, 8.632586967588402, 4.584496287750888, 2.0564677517783267, 1.141020264885779, 0.8081337307855044, 0.35556584390926516, 0.07341349271519054, 0.006498318720014233, 0.00033485312301873775, 10.587068912168943, 6.23957725671145, 3.2315171916072787, 1.6283089013618508, 1.5156333209435722, 0.9843052053241201, 0.5282806995194806, 0.12294207674004427, 0.00988383996323065, 0.00035202675774434803, 12.255773089462624]\n"
     ]
    },
    {
     "name": "stderr",
     "output_type": "stream",
     "text": [
      "Cost: 7.06:  20%|██████████████▏                                                        | 2/10 [02:01<08:07, 60.97s/it]"
     ]
    },
    {
     "name": "stdout",
     "output_type": "stream",
     "text": [
      "Cost [1.805058834099499, 0.41932456458767126, 0.014087307350374025, 0.0001692433711427714, 5.653639294561886e-05, 3.356158175112585e-05, 2.396809661747693e-05, 1.9735546402678084e-05, 1.5763080920937223e-05, 1.3486385941374477e-05, 10.794958456889965, 6.921550221291253, 3.9205335028904216, 2.0339443569756948, 1.1359513374314638, 0.5665828764235191, 0.18895635398112973, 0.03744538130653987, 0.0041888964860639834, 0.0004988327741898294, 13.936540459613047, 9.96470549480028, 6.759911915500286, 4.147051321106824, 2.2729482942453947, 1.1610517082172722, 0.42251486776857794, 0.07469555281327084, 0.006418318407235089, 0.0005783703895562986, 12.836280793449864, 8.198480580402592, 4.708526150373516, 2.427440691808707, 1.259752148916097, 0.7081402542711223, 0.18073413084663914, 0.010133898370896953, 0.00024371080452472945, 2.753302081775263e-05, 15.011368842088576, 9.177649407984147, 5.024211633891435, 2.325921674059211, 1.181703919301214, 1.1140912177270343, 0.47171258927469695, 0.08954736188171877, 0.004429907390258706, 0.00017133434837629153, 13.292524588274912, 8.297900140272375, 4.582539758350406, 2.2713491107232695, 1.2404167320554749, 1.2194040529415546, 0.6275092268187233, 0.20654841465783322, 0.026026025442601127, 0.0012835155330387063, 12.287818623110558, 7.710051264928435, 4.288059028755361, 2.15842572744059, 1.1948799725858645, 1.3301560352305617, 0.679574145385976, 0.23561134817165577, 0.030131376885300903, 0.0014876702216375373, 14.289533075951674, 8.632586967588402, 4.584496287750888, 2.0564677517783267, 1.141020264885779, 0.8081337307855044, 0.35556584390926516, 0.07341349271519054, 0.006498318720014233, 0.00033485312301873775, 10.587068912168943, 6.23957725671145, 3.2315171916072787, 1.6283089013618508, 1.5156333209435722, 0.9843052053241201, 0.5282806995194806, 0.12294207674004427, 0.00988383996323065, 0.00035202675774434803, 12.255773089462624, 7.059068563753711]\n"
     ]
    },
    {
     "name": "stderr",
     "output_type": "stream",
     "text": [
      "Cost: 3.36:  30%|█████████████████████▎                                                 | 3/10 [03:03<07:08, 61.14s/it]"
     ]
    },
    {
     "name": "stdout",
     "output_type": "stream",
     "text": [
      "Cost [1.805058834099499, 0.41932456458767126, 0.014087307350374025, 0.0001692433711427714, 5.653639294561886e-05, 3.356158175112585e-05, 2.396809661747693e-05, 1.9735546402678084e-05, 1.5763080920937223e-05, 1.3486385941374477e-05, 10.794958456889965, 6.921550221291253, 3.9205335028904216, 2.0339443569756948, 1.1359513374314638, 0.5665828764235191, 0.18895635398112973, 0.03744538130653987, 0.0041888964860639834, 0.0004988327741898294, 13.936540459613047, 9.96470549480028, 6.759911915500286, 4.147051321106824, 2.2729482942453947, 1.1610517082172722, 0.42251486776857794, 0.07469555281327084, 0.006418318407235089, 0.0005783703895562986, 12.836280793449864, 8.198480580402592, 4.708526150373516, 2.427440691808707, 1.259752148916097, 0.7081402542711223, 0.18073413084663914, 0.010133898370896953, 0.00024371080452472945, 2.753302081775263e-05, 15.011368842088576, 9.177649407984147, 5.024211633891435, 2.325921674059211, 1.181703919301214, 1.1140912177270343, 0.47171258927469695, 0.08954736188171877, 0.004429907390258706, 0.00017133434837629153, 13.292524588274912, 8.297900140272375, 4.582539758350406, 2.2713491107232695, 1.2404167320554749, 1.2194040529415546, 0.6275092268187233, 0.20654841465783322, 0.026026025442601127, 0.0012835155330387063, 12.287818623110558, 7.710051264928435, 4.288059028755361, 2.15842572744059, 1.1948799725858645, 1.3301560352305617, 0.679574145385976, 0.23561134817165577, 0.030131376885300903, 0.0014876702216375373, 14.289533075951674, 8.632586967588402, 4.584496287750888, 2.0564677517783267, 1.141020264885779, 0.8081337307855044, 0.35556584390926516, 0.07341349271519054, 0.006498318720014233, 0.00033485312301873775, 10.587068912168943, 6.23957725671145, 3.2315171916072787, 1.6283089013618508, 1.5156333209435722, 0.9843052053241201, 0.5282806995194806, 0.12294207674004427, 0.00988383996323065, 0.00035202675774434803, 12.255773089462624, 7.059068563753711, 3.3594200311412106]\n"
     ]
    },
    {
     "name": "stderr",
     "output_type": "stream",
     "text": [
      "Cost: 1.54:  40%|████████████████████████████▍                                          | 4/10 [04:04<06:07, 61.19s/it]"
     ]
    },
    {
     "name": "stdout",
     "output_type": "stream",
     "text": [
      "Cost [1.805058834099499, 0.41932456458767126, 0.014087307350374025, 0.0001692433711427714, 5.653639294561886e-05, 3.356158175112585e-05, 2.396809661747693e-05, 1.9735546402678084e-05, 1.5763080920937223e-05, 1.3486385941374477e-05, 10.794958456889965, 6.921550221291253, 3.9205335028904216, 2.0339443569756948, 1.1359513374314638, 0.5665828764235191, 0.18895635398112973, 0.03744538130653987, 0.0041888964860639834, 0.0004988327741898294, 13.936540459613047, 9.96470549480028, 6.759911915500286, 4.147051321106824, 2.2729482942453947, 1.1610517082172722, 0.42251486776857794, 0.07469555281327084, 0.006418318407235089, 0.0005783703895562986, 12.836280793449864, 8.198480580402592, 4.708526150373516, 2.427440691808707, 1.259752148916097, 0.7081402542711223, 0.18073413084663914, 0.010133898370896953, 0.00024371080452472945, 2.753302081775263e-05, 15.011368842088576, 9.177649407984147, 5.024211633891435, 2.325921674059211, 1.181703919301214, 1.1140912177270343, 0.47171258927469695, 0.08954736188171877, 0.004429907390258706, 0.00017133434837629153, 13.292524588274912, 8.297900140272375, 4.582539758350406, 2.2713491107232695, 1.2404167320554749, 1.2194040529415546, 0.6275092268187233, 0.20654841465783322, 0.026026025442601127, 0.0012835155330387063, 12.287818623110558, 7.710051264928435, 4.288059028755361, 2.15842572744059, 1.1948799725858645, 1.3301560352305617, 0.679574145385976, 0.23561134817165577, 0.030131376885300903, 0.0014876702216375373, 14.289533075951674, 8.632586967588402, 4.584496287750888, 2.0564677517783267, 1.141020264885779, 0.8081337307855044, 0.35556584390926516, 0.07341349271519054, 0.006498318720014233, 0.00033485312301873775, 10.587068912168943, 6.23957725671145, 3.2315171916072787, 1.6283089013618508, 1.5156333209435722, 0.9843052053241201, 0.5282806995194806, 0.12294207674004427, 0.00988383996323065, 0.00035202675774434803, 12.255773089462624, 7.059068563753711, 3.3594200311412106, 1.5377932732823576]\n"
     ]
    },
    {
     "name": "stderr",
     "output_type": "stream",
     "text": [
      "Cost: 1.79:  50%|███████████████████████████████████▌                                   | 5/10 [05:05<05:05, 61.06s/it]"
     ]
    },
    {
     "name": "stdout",
     "output_type": "stream",
     "text": [
      "Cost [1.805058834099499, 0.41932456458767126, 0.014087307350374025, 0.0001692433711427714, 5.653639294561886e-05, 3.356158175112585e-05, 2.396809661747693e-05, 1.9735546402678084e-05, 1.5763080920937223e-05, 1.3486385941374477e-05, 10.794958456889965, 6.921550221291253, 3.9205335028904216, 2.0339443569756948, 1.1359513374314638, 0.5665828764235191, 0.18895635398112973, 0.03744538130653987, 0.0041888964860639834, 0.0004988327741898294, 13.936540459613047, 9.96470549480028, 6.759911915500286, 4.147051321106824, 2.2729482942453947, 1.1610517082172722, 0.42251486776857794, 0.07469555281327084, 0.006418318407235089, 0.0005783703895562986, 12.836280793449864, 8.198480580402592, 4.708526150373516, 2.427440691808707, 1.259752148916097, 0.7081402542711223, 0.18073413084663914, 0.010133898370896953, 0.00024371080452472945, 2.753302081775263e-05, 15.011368842088576, 9.177649407984147, 5.024211633891435, 2.325921674059211, 1.181703919301214, 1.1140912177270343, 0.47171258927469695, 0.08954736188171877, 0.004429907390258706, 0.00017133434837629153, 13.292524588274912, 8.297900140272375, 4.582539758350406, 2.2713491107232695, 1.2404167320554749, 1.2194040529415546, 0.6275092268187233, 0.20654841465783322, 0.026026025442601127, 0.0012835155330387063, 12.287818623110558, 7.710051264928435, 4.288059028755361, 2.15842572744059, 1.1948799725858645, 1.3301560352305617, 0.679574145385976, 0.23561134817165577, 0.030131376885300903, 0.0014876702216375373, 14.289533075951674, 8.632586967588402, 4.584496287750888, 2.0564677517783267, 1.141020264885779, 0.8081337307855044, 0.35556584390926516, 0.07341349271519054, 0.006498318720014233, 0.00033485312301873775, 10.587068912168943, 6.23957725671145, 3.2315171916072787, 1.6283089013618508, 1.5156333209435722, 0.9843052053241201, 0.5282806995194806, 0.12294207674004427, 0.00988383996323065, 0.00035202675774434803, 12.255773089462624, 7.059068563753711, 3.3594200311412106, 1.5377932732823576, 1.7912232363832041]\n"
     ]
    },
    {
     "name": "stderr",
     "output_type": "stream",
     "text": [
      "Cost: 1.14:  60%|██████████████████████████████████████████▌                            | 6/10 [06:06<04:04, 61.12s/it]"
     ]
    },
    {
     "name": "stdout",
     "output_type": "stream",
     "text": [
      "Cost [1.805058834099499, 0.41932456458767126, 0.014087307350374025, 0.0001692433711427714, 5.653639294561886e-05, 3.356158175112585e-05, 2.396809661747693e-05, 1.9735546402678084e-05, 1.5763080920937223e-05, 1.3486385941374477e-05, 10.794958456889965, 6.921550221291253, 3.9205335028904216, 2.0339443569756948, 1.1359513374314638, 0.5665828764235191, 0.18895635398112973, 0.03744538130653987, 0.0041888964860639834, 0.0004988327741898294, 13.936540459613047, 9.96470549480028, 6.759911915500286, 4.147051321106824, 2.2729482942453947, 1.1610517082172722, 0.42251486776857794, 0.07469555281327084, 0.006418318407235089, 0.0005783703895562986, 12.836280793449864, 8.198480580402592, 4.708526150373516, 2.427440691808707, 1.259752148916097, 0.7081402542711223, 0.18073413084663914, 0.010133898370896953, 0.00024371080452472945, 2.753302081775263e-05, 15.011368842088576, 9.177649407984147, 5.024211633891435, 2.325921674059211, 1.181703919301214, 1.1140912177270343, 0.47171258927469695, 0.08954736188171877, 0.004429907390258706, 0.00017133434837629153, 13.292524588274912, 8.297900140272375, 4.582539758350406, 2.2713491107232695, 1.2404167320554749, 1.2194040529415546, 0.6275092268187233, 0.20654841465783322, 0.026026025442601127, 0.0012835155330387063, 12.287818623110558, 7.710051264928435, 4.288059028755361, 2.15842572744059, 1.1948799725858645, 1.3301560352305617, 0.679574145385976, 0.23561134817165577, 0.030131376885300903, 0.0014876702216375373, 14.289533075951674, 8.632586967588402, 4.584496287750888, 2.0564677517783267, 1.141020264885779, 0.8081337307855044, 0.35556584390926516, 0.07341349271519054, 0.006498318720014233, 0.00033485312301873775, 10.587068912168943, 6.23957725671145, 3.2315171916072787, 1.6283089013618508, 1.5156333209435722, 0.9843052053241201, 0.5282806995194806, 0.12294207674004427, 0.00988383996323065, 0.00035202675774434803, 12.255773089462624, 7.059068563753711, 3.3594200311412106, 1.5377932732823576, 1.7912232363832041, 1.1358950794215714]\n"
     ]
    },
    {
     "name": "stderr",
     "output_type": "stream",
     "text": [
      "Cost: 0.78:  70%|█████████████████████████████████████████████████▋                     | 7/10 [07:07<03:03, 61.02s/it]"
     ]
    },
    {
     "name": "stdout",
     "output_type": "stream",
     "text": [
      "Cost [1.805058834099499, 0.41932456458767126, 0.014087307350374025, 0.0001692433711427714, 5.653639294561886e-05, 3.356158175112585e-05, 2.396809661747693e-05, 1.9735546402678084e-05, 1.5763080920937223e-05, 1.3486385941374477e-05, 10.794958456889965, 6.921550221291253, 3.9205335028904216, 2.0339443569756948, 1.1359513374314638, 0.5665828764235191, 0.18895635398112973, 0.03744538130653987, 0.0041888964860639834, 0.0004988327741898294, 13.936540459613047, 9.96470549480028, 6.759911915500286, 4.147051321106824, 2.2729482942453947, 1.1610517082172722, 0.42251486776857794, 0.07469555281327084, 0.006418318407235089, 0.0005783703895562986, 12.836280793449864, 8.198480580402592, 4.708526150373516, 2.427440691808707, 1.259752148916097, 0.7081402542711223, 0.18073413084663914, 0.010133898370896953, 0.00024371080452472945, 2.753302081775263e-05, 15.011368842088576, 9.177649407984147, 5.024211633891435, 2.325921674059211, 1.181703919301214, 1.1140912177270343, 0.47171258927469695, 0.08954736188171877, 0.004429907390258706, 0.00017133434837629153, 13.292524588274912, 8.297900140272375, 4.582539758350406, 2.2713491107232695, 1.2404167320554749, 1.2194040529415546, 0.6275092268187233, 0.20654841465783322, 0.026026025442601127, 0.0012835155330387063, 12.287818623110558, 7.710051264928435, 4.288059028755361, 2.15842572744059, 1.1948799725858645, 1.3301560352305617, 0.679574145385976, 0.23561134817165577, 0.030131376885300903, 0.0014876702216375373, 14.289533075951674, 8.632586967588402, 4.584496287750888, 2.0564677517783267, 1.141020264885779, 0.8081337307855044, 0.35556584390926516, 0.07341349271519054, 0.006498318720014233, 0.00033485312301873775, 10.587068912168943, 6.23957725671145, 3.2315171916072787, 1.6283089013618508, 1.5156333209435722, 0.9843052053241201, 0.5282806995194806, 0.12294207674004427, 0.00988383996323065, 0.00035202675774434803, 12.255773089462624, 7.059068563753711, 3.3594200311412106, 1.5377932732823576, 1.7912232363832041, 1.1358950794215714, 0.7811979236707706]\n"
     ]
    },
    {
     "name": "stderr",
     "output_type": "stream",
     "text": [
      "Cost: 0.27:  80%|████████████████████████████████████████████████████████▊              | 8/10 [08:08<02:02, 61.08s/it]"
     ]
    },
    {
     "name": "stdout",
     "output_type": "stream",
     "text": [
      "Cost [1.805058834099499, 0.41932456458767126, 0.014087307350374025, 0.0001692433711427714, 5.653639294561886e-05, 3.356158175112585e-05, 2.396809661747693e-05, 1.9735546402678084e-05, 1.5763080920937223e-05, 1.3486385941374477e-05, 10.794958456889965, 6.921550221291253, 3.9205335028904216, 2.0339443569756948, 1.1359513374314638, 0.5665828764235191, 0.18895635398112973, 0.03744538130653987, 0.0041888964860639834, 0.0004988327741898294, 13.936540459613047, 9.96470549480028, 6.759911915500286, 4.147051321106824, 2.2729482942453947, 1.1610517082172722, 0.42251486776857794, 0.07469555281327084, 0.006418318407235089, 0.0005783703895562986, 12.836280793449864, 8.198480580402592, 4.708526150373516, 2.427440691808707, 1.259752148916097, 0.7081402542711223, 0.18073413084663914, 0.010133898370896953, 0.00024371080452472945, 2.753302081775263e-05, 15.011368842088576, 9.177649407984147, 5.024211633891435, 2.325921674059211, 1.181703919301214, 1.1140912177270343, 0.47171258927469695, 0.08954736188171877, 0.004429907390258706, 0.00017133434837629153, 13.292524588274912, 8.297900140272375, 4.582539758350406, 2.2713491107232695, 1.2404167320554749, 1.2194040529415546, 0.6275092268187233, 0.20654841465783322, 0.026026025442601127, 0.0012835155330387063, 12.287818623110558, 7.710051264928435, 4.288059028755361, 2.15842572744059, 1.1948799725858645, 1.3301560352305617, 0.679574145385976, 0.23561134817165577, 0.030131376885300903, 0.0014876702216375373, 14.289533075951674, 8.632586967588402, 4.584496287750888, 2.0564677517783267, 1.141020264885779, 0.8081337307855044, 0.35556584390926516, 0.07341349271519054, 0.006498318720014233, 0.00033485312301873775, 10.587068912168943, 6.23957725671145, 3.2315171916072787, 1.6283089013618508, 1.5156333209435722, 0.9843052053241201, 0.5282806995194806, 0.12294207674004427, 0.00988383996323065, 0.00035202675774434803, 12.255773089462624, 7.059068563753711, 3.3594200311412106, 1.5377932732823576, 1.7912232363832041, 1.1358950794215714, 0.7811979236707706, 0.2675413072848148]\n"
     ]
    },
    {
     "name": "stderr",
     "output_type": "stream",
     "text": [
      "Cost: 0.02:  90%|███████████████████████████████████████████████████████████████▉       | 9/10 [09:10<01:01, 61.20s/it]"
     ]
    },
    {
     "name": "stdout",
     "output_type": "stream",
     "text": [
      "Cost [1.805058834099499, 0.41932456458767126, 0.014087307350374025, 0.0001692433711427714, 5.653639294561886e-05, 3.356158175112585e-05, 2.396809661747693e-05, 1.9735546402678084e-05, 1.5763080920937223e-05, 1.3486385941374477e-05, 10.794958456889965, 6.921550221291253, 3.9205335028904216, 2.0339443569756948, 1.1359513374314638, 0.5665828764235191, 0.18895635398112973, 0.03744538130653987, 0.0041888964860639834, 0.0004988327741898294, 13.936540459613047, 9.96470549480028, 6.759911915500286, 4.147051321106824, 2.2729482942453947, 1.1610517082172722, 0.42251486776857794, 0.07469555281327084, 0.006418318407235089, 0.0005783703895562986, 12.836280793449864, 8.198480580402592, 4.708526150373516, 2.427440691808707, 1.259752148916097, 0.7081402542711223, 0.18073413084663914, 0.010133898370896953, 0.00024371080452472945, 2.753302081775263e-05, 15.011368842088576, 9.177649407984147, 5.024211633891435, 2.325921674059211, 1.181703919301214, 1.1140912177270343, 0.47171258927469695, 0.08954736188171877, 0.004429907390258706, 0.00017133434837629153, 13.292524588274912, 8.297900140272375, 4.582539758350406, 2.2713491107232695, 1.2404167320554749, 1.2194040529415546, 0.6275092268187233, 0.20654841465783322, 0.026026025442601127, 0.0012835155330387063, 12.287818623110558, 7.710051264928435, 4.288059028755361, 2.15842572744059, 1.1948799725858645, 1.3301560352305617, 0.679574145385976, 0.23561134817165577, 0.030131376885300903, 0.0014876702216375373, 14.289533075951674, 8.632586967588402, 4.584496287750888, 2.0564677517783267, 1.141020264885779, 0.8081337307855044, 0.35556584390926516, 0.07341349271519054, 0.006498318720014233, 0.00033485312301873775, 10.587068912168943, 6.23957725671145, 3.2315171916072787, 1.6283089013618508, 1.5156333209435722, 0.9843052053241201, 0.5282806995194806, 0.12294207674004427, 0.00988383996323065, 0.00035202675774434803, 12.255773089462624, 7.059068563753711, 3.3594200311412106, 1.5377932732823576, 1.7912232363832041, 1.1358950794215714, 0.7811979236707706, 0.2675413072848148, 0.0217032261349778]\n"
     ]
    },
    {
     "name": "stderr",
     "output_type": "stream",
     "text": [
      "Cost: 0.00: 100%|██████████████████████████████████████████████████████████████████████| 10/10 [10:11<00:00, 61.17s/it]"
     ]
    },
    {
     "name": "stdout",
     "output_type": "stream",
     "text": [
      "Cost [1.805058834099499, 0.41932456458767126, 0.014087307350374025, 0.0001692433711427714, 5.653639294561886e-05, 3.356158175112585e-05, 2.396809661747693e-05, 1.9735546402678084e-05, 1.5763080920937223e-05, 1.3486385941374477e-05, 10.794958456889965, 6.921550221291253, 3.9205335028904216, 2.0339443569756948, 1.1359513374314638, 0.5665828764235191, 0.18895635398112973, 0.03744538130653987, 0.0041888964860639834, 0.0004988327741898294, 13.936540459613047, 9.96470549480028, 6.759911915500286, 4.147051321106824, 2.2729482942453947, 1.1610517082172722, 0.42251486776857794, 0.07469555281327084, 0.006418318407235089, 0.0005783703895562986, 12.836280793449864, 8.198480580402592, 4.708526150373516, 2.427440691808707, 1.259752148916097, 0.7081402542711223, 0.18073413084663914, 0.010133898370896953, 0.00024371080452472945, 2.753302081775263e-05, 15.011368842088576, 9.177649407984147, 5.024211633891435, 2.325921674059211, 1.181703919301214, 1.1140912177270343, 0.47171258927469695, 0.08954736188171877, 0.004429907390258706, 0.00017133434837629153, 13.292524588274912, 8.297900140272375, 4.582539758350406, 2.2713491107232695, 1.2404167320554749, 1.2194040529415546, 0.6275092268187233, 0.20654841465783322, 0.026026025442601127, 0.0012835155330387063, 12.287818623110558, 7.710051264928435, 4.288059028755361, 2.15842572744059, 1.1948799725858645, 1.3301560352305617, 0.679574145385976, 0.23561134817165577, 0.030131376885300903, 0.0014876702216375373, 14.289533075951674, 8.632586967588402, 4.584496287750888, 2.0564677517783267, 1.141020264885779, 0.8081337307855044, 0.35556584390926516, 0.07341349271519054, 0.006498318720014233, 0.00033485312301873775, 10.587068912168943, 6.23957725671145, 3.2315171916072787, 1.6283089013618508, 1.5156333209435722, 0.9843052053241201, 0.5282806995194806, 0.12294207674004427, 0.00988383996323065, 0.00035202675774434803, 12.255773089462624, 7.059068563753711, 3.3594200311412106, 1.5377932732823576, 1.7912232363832041, 1.1358950794215714, 0.7811979236707706, 0.2675413072848148, 0.0217032261349778, 0.0004912304577327456]\n"
     ]
    },
    {
     "name": "stderr",
     "output_type": "stream",
     "text": [
      "\n",
      "\n",
      "Valid_Cost: 15.38:   0%|                                                                        | 0/10 [11:14<?, ?it/s]\u001b[A\n",
      "Valid_Cost: 15.38:  10%|██████                                                       | 1/10 [11:14<1:41:06, 674.04s/it]\u001b[A"
     ]
    },
    {
     "name": "stdout",
     "output_type": "stream",
     "text": [
      "Cost [12.613709885244726, 6.129279193499976, 1.9015729174187954, 0.4830742251328419, 0.059338604989321045, 0.0038545933766283057, 0.0003906240788377571, 9.15193451790838e-05, 3.919789094803865e-05, 2.5649834936594426e-05, 12.178118574525625, 8.83741414768729, 6.049341830583761, 3.717224841972516, 1.9367038000870511, 0.8429194833112358, 0.30925509649505994, 0.04688601036105282, 0.0031951087833463608, 0.0002975351746294532, 10.164771032014617, 6.8418420870715115, 4.228511992749954, 2.1664902232317886, 0.9171980347453055, 0.30422177998973543, 0.04735792114029455, 0.003021321679140005, 0.00022974909030712851, 4.913693756712343e-05, 12.514925977767167, 7.29940279102362, 3.7328417861479157, 1.8574271610449287, 1.2512844870644253, 0.74797770705636, 0.19659836765481745, 0.01166647408039311, 0.00030943374139103246, 2.9783938119770803e-05, 13.64446580618679, 8.573609685349934, 4.771710095712352, 2.3176120400710842, 1.3147699935605954, 1.2236189226704695, 0.667521883160358, 0.23163752914868802, 0.027726625673225976, 0.001240131038953828, 12.730051211658536, 7.930390974243899, 4.515109807553686, 2.3758921410602225, 1.297510735432644, 1.2396234186141042, 0.6761851602217582, 0.2584246883956613, 0.038007945093754436, 0.002053185179447755, 13.5582630073804, 8.815424995846875, 5.130528549478459, 2.6353227660896206, 1.3644164180726939, 1.3896577298544164, 0.7859347179135893, 0.33211278043545694, 0.04386177284685975, 0.001649375367116993, 13.527380603582033, 8.861295823654743, 5.361946023978778, 2.941880335751567, 1.517011534116002, 0.9347163370578417, 0.5632160956220061, 0.17224839980365825, 0.018015064533062567, 0.0007256451661008234, 14.162789833274452, 9.208703543078434, 5.434485297331754, 2.8335548521079845, 1.3713493356905602, 0.9853490474325212, 0.5558483844407683, 0.15448827483613106, 0.014339879952339112, 0.0004944759235560483, 15.37620690292581]\n"
     ]
    },
    {
     "name": "stderr",
     "output_type": "stream",
     "text": [
      "\n",
      "Valid_Cost: 9.67:  10%|██████▏                                                       | 1/10 [12:15<1:41:06, 674.04s/it]\u001b[A\n",
      "Valid_Cost: 9.67:  20%|████████████▍                                                 | 2/10 [12:15<1:05:21, 490.25s/it]\u001b[A"
     ]
    },
    {
     "name": "stdout",
     "output_type": "stream",
     "text": [
      "Cost [12.613709885244726, 6.129279193499976, 1.9015729174187954, 0.4830742251328419, 0.059338604989321045, 0.0038545933766283057, 0.0003906240788377571, 9.15193451790838e-05, 3.919789094803865e-05, 2.5649834936594426e-05, 12.178118574525625, 8.83741414768729, 6.049341830583761, 3.717224841972516, 1.9367038000870511, 0.8429194833112358, 0.30925509649505994, 0.04688601036105282, 0.0031951087833463608, 0.0002975351746294532, 10.164771032014617, 6.8418420870715115, 4.228511992749954, 2.1664902232317886, 0.9171980347453055, 0.30422177998973543, 0.04735792114029455, 0.003021321679140005, 0.00022974909030712851, 4.913693756712343e-05, 12.514925977767167, 7.29940279102362, 3.7328417861479157, 1.8574271610449287, 1.2512844870644253, 0.74797770705636, 0.19659836765481745, 0.01166647408039311, 0.00030943374139103246, 2.9783938119770803e-05, 13.64446580618679, 8.573609685349934, 4.771710095712352, 2.3176120400710842, 1.3147699935605954, 1.2236189226704695, 0.667521883160358, 0.23163752914868802, 0.027726625673225976, 0.001240131038953828, 12.730051211658536, 7.930390974243899, 4.515109807553686, 2.3758921410602225, 1.297510735432644, 1.2396234186141042, 0.6761851602217582, 0.2584246883956613, 0.038007945093754436, 0.002053185179447755, 13.5582630073804, 8.815424995846875, 5.130528549478459, 2.6353227660896206, 1.3644164180726939, 1.3896577298544164, 0.7859347179135893, 0.33211278043545694, 0.04386177284685975, 0.001649375367116993, 13.527380603582033, 8.861295823654743, 5.361946023978778, 2.941880335751567, 1.517011534116002, 0.9347163370578417, 0.5632160956220061, 0.17224839980365825, 0.018015064533062567, 0.0007256451661008234, 14.162789833274452, 9.208703543078434, 5.434485297331754, 2.8335548521079845, 1.3713493356905602, 0.9853490474325212, 0.5558483844407683, 0.15448827483613106, 0.014339879952339112, 0.0004944759235560483, 15.37620690292581, 9.674343200370785]\n"
     ]
    },
    {
     "name": "stderr",
     "output_type": "stream",
     "text": [
      "\n",
      "Valid_Cost: 5.37:  20%|████████████▍                                                 | 2/10 [13:16<1:05:21, 490.25s/it]\u001b[A\n",
      "Valid_Cost: 5.37:  30%|███████████████████▏                                            | 3/10 [13:16<42:10, 361.46s/it]\u001b[A"
     ]
    },
    {
     "name": "stdout",
     "output_type": "stream",
     "text": [
      "Cost [12.613709885244726, 6.129279193499976, 1.9015729174187954, 0.4830742251328419, 0.059338604989321045, 0.0038545933766283057, 0.0003906240788377571, 9.15193451790838e-05, 3.919789094803865e-05, 2.5649834936594426e-05, 12.178118574525625, 8.83741414768729, 6.049341830583761, 3.717224841972516, 1.9367038000870511, 0.8429194833112358, 0.30925509649505994, 0.04688601036105282, 0.0031951087833463608, 0.0002975351746294532, 10.164771032014617, 6.8418420870715115, 4.228511992749954, 2.1664902232317886, 0.9171980347453055, 0.30422177998973543, 0.04735792114029455, 0.003021321679140005, 0.00022974909030712851, 4.913693756712343e-05, 12.514925977767167, 7.29940279102362, 3.7328417861479157, 1.8574271610449287, 1.2512844870644253, 0.74797770705636, 0.19659836765481745, 0.01166647408039311, 0.00030943374139103246, 2.9783938119770803e-05, 13.64446580618679, 8.573609685349934, 4.771710095712352, 2.3176120400710842, 1.3147699935605954, 1.2236189226704695, 0.667521883160358, 0.23163752914868802, 0.027726625673225976, 0.001240131038953828, 12.730051211658536, 7.930390974243899, 4.515109807553686, 2.3758921410602225, 1.297510735432644, 1.2396234186141042, 0.6761851602217582, 0.2584246883956613, 0.038007945093754436, 0.002053185179447755, 13.5582630073804, 8.815424995846875, 5.130528549478459, 2.6353227660896206, 1.3644164180726939, 1.3896577298544164, 0.7859347179135893, 0.33211278043545694, 0.04386177284685975, 0.001649375367116993, 13.527380603582033, 8.861295823654743, 5.361946023978778, 2.941880335751567, 1.517011534116002, 0.9347163370578417, 0.5632160956220061, 0.17224839980365825, 0.018015064533062567, 0.0007256451661008234, 14.162789833274452, 9.208703543078434, 5.434485297331754, 2.8335548521079845, 1.3713493356905602, 0.9853490474325212, 0.5558483844407683, 0.15448827483613106, 0.014339879952339112, 0.0004944759235560483, 15.37620690292581, 9.674343200370785, 5.3711689395980855]\n"
     ]
    },
    {
     "name": "stderr",
     "output_type": "stream",
     "text": [
      "\n",
      "Valid_Cost: 2.52:  30%|███████████████████▏                                            | 3/10 [14:17<42:10, 361.46s/it]\u001b[A\n",
      "Valid_Cost: 2.52:  40%|█████████████████████████▌                                      | 4/10 [14:17<27:08, 271.47s/it]\u001b[A"
     ]
    },
    {
     "name": "stdout",
     "output_type": "stream",
     "text": [
      "Cost [12.613709885244726, 6.129279193499976, 1.9015729174187954, 0.4830742251328419, 0.059338604989321045, 0.0038545933766283057, 0.0003906240788377571, 9.15193451790838e-05, 3.919789094803865e-05, 2.5649834936594426e-05, 12.178118574525625, 8.83741414768729, 6.049341830583761, 3.717224841972516, 1.9367038000870511, 0.8429194833112358, 0.30925509649505994, 0.04688601036105282, 0.0031951087833463608, 0.0002975351746294532, 10.164771032014617, 6.8418420870715115, 4.228511992749954, 2.1664902232317886, 0.9171980347453055, 0.30422177998973543, 0.04735792114029455, 0.003021321679140005, 0.00022974909030712851, 4.913693756712343e-05, 12.514925977767167, 7.29940279102362, 3.7328417861479157, 1.8574271610449287, 1.2512844870644253, 0.74797770705636, 0.19659836765481745, 0.01166647408039311, 0.00030943374139103246, 2.9783938119770803e-05, 13.64446580618679, 8.573609685349934, 4.771710095712352, 2.3176120400710842, 1.3147699935605954, 1.2236189226704695, 0.667521883160358, 0.23163752914868802, 0.027726625673225976, 0.001240131038953828, 12.730051211658536, 7.930390974243899, 4.515109807553686, 2.3758921410602225, 1.297510735432644, 1.2396234186141042, 0.6761851602217582, 0.2584246883956613, 0.038007945093754436, 0.002053185179447755, 13.5582630073804, 8.815424995846875, 5.130528549478459, 2.6353227660896206, 1.3644164180726939, 1.3896577298544164, 0.7859347179135893, 0.33211278043545694, 0.04386177284685975, 0.001649375367116993, 13.527380603582033, 8.861295823654743, 5.361946023978778, 2.941880335751567, 1.517011534116002, 0.9347163370578417, 0.5632160956220061, 0.17224839980365825, 0.018015064533062567, 0.0007256451661008234, 14.162789833274452, 9.208703543078434, 5.434485297331754, 2.8335548521079845, 1.3713493356905602, 0.9853490474325212, 0.5558483844407683, 0.15448827483613106, 0.014339879952339112, 0.0004944759235560483, 15.37620690292581, 9.674343200370785, 5.3711689395980855, 2.5194578489017614]\n"
     ]
    },
    {
     "name": "stderr",
     "output_type": "stream",
     "text": [
      "\n",
      "Valid_Cost: 1.18:  40%|█████████████████████████▌                                      | 4/10 [15:18<27:08, 271.47s/it]\u001b[A\n",
      "Valid_Cost: 1.18:  50%|████████████████████████████████                                | 5/10 [15:18<17:21, 208.34s/it]\u001b[A"
     ]
    },
    {
     "name": "stdout",
     "output_type": "stream",
     "text": [
      "Cost [12.613709885244726, 6.129279193499976, 1.9015729174187954, 0.4830742251328419, 0.059338604989321045, 0.0038545933766283057, 0.0003906240788377571, 9.15193451790838e-05, 3.919789094803865e-05, 2.5649834936594426e-05, 12.178118574525625, 8.83741414768729, 6.049341830583761, 3.717224841972516, 1.9367038000870511, 0.8429194833112358, 0.30925509649505994, 0.04688601036105282, 0.0031951087833463608, 0.0002975351746294532, 10.164771032014617, 6.8418420870715115, 4.228511992749954, 2.1664902232317886, 0.9171980347453055, 0.30422177998973543, 0.04735792114029455, 0.003021321679140005, 0.00022974909030712851, 4.913693756712343e-05, 12.514925977767167, 7.29940279102362, 3.7328417861479157, 1.8574271610449287, 1.2512844870644253, 0.74797770705636, 0.19659836765481745, 0.01166647408039311, 0.00030943374139103246, 2.9783938119770803e-05, 13.64446580618679, 8.573609685349934, 4.771710095712352, 2.3176120400710842, 1.3147699935605954, 1.2236189226704695, 0.667521883160358, 0.23163752914868802, 0.027726625673225976, 0.001240131038953828, 12.730051211658536, 7.930390974243899, 4.515109807553686, 2.3758921410602225, 1.297510735432644, 1.2396234186141042, 0.6761851602217582, 0.2584246883956613, 0.038007945093754436, 0.002053185179447755, 13.5582630073804, 8.815424995846875, 5.130528549478459, 2.6353227660896206, 1.3644164180726939, 1.3896577298544164, 0.7859347179135893, 0.33211278043545694, 0.04386177284685975, 0.001649375367116993, 13.527380603582033, 8.861295823654743, 5.361946023978778, 2.941880335751567, 1.517011534116002, 0.9347163370578417, 0.5632160956220061, 0.17224839980365825, 0.018015064533062567, 0.0007256451661008234, 14.162789833274452, 9.208703543078434, 5.434485297331754, 2.8335548521079845, 1.3713493356905602, 0.9853490474325212, 0.5558483844407683, 0.15448827483613106, 0.014339879952339112, 0.0004944759235560483, 15.37620690292581, 9.674343200370785, 5.3711689395980855, 2.5194578489017614, 1.1836285157642934]\n"
     ]
    },
    {
     "name": "stderr",
     "output_type": "stream",
     "text": [
      "\n",
      "Valid_Cost: 1.43:  50%|████████████████████████████████                                | 5/10 [16:20<17:21, 208.34s/it]\u001b[A\n",
      "Valid_Cost: 1.43:  60%|██████████████████████████████████████▍                         | 6/10 [16:20<10:56, 164.22s/it]\u001b[A"
     ]
    },
    {
     "name": "stdout",
     "output_type": "stream",
     "text": [
      "Cost [12.613709885244726, 6.129279193499976, 1.9015729174187954, 0.4830742251328419, 0.059338604989321045, 0.0038545933766283057, 0.0003906240788377571, 9.15193451790838e-05, 3.919789094803865e-05, 2.5649834936594426e-05, 12.178118574525625, 8.83741414768729, 6.049341830583761, 3.717224841972516, 1.9367038000870511, 0.8429194833112358, 0.30925509649505994, 0.04688601036105282, 0.0031951087833463608, 0.0002975351746294532, 10.164771032014617, 6.8418420870715115, 4.228511992749954, 2.1664902232317886, 0.9171980347453055, 0.30422177998973543, 0.04735792114029455, 0.003021321679140005, 0.00022974909030712851, 4.913693756712343e-05, 12.514925977767167, 7.29940279102362, 3.7328417861479157, 1.8574271610449287, 1.2512844870644253, 0.74797770705636, 0.19659836765481745, 0.01166647408039311, 0.00030943374139103246, 2.9783938119770803e-05, 13.64446580618679, 8.573609685349934, 4.771710095712352, 2.3176120400710842, 1.3147699935605954, 1.2236189226704695, 0.667521883160358, 0.23163752914868802, 0.027726625673225976, 0.001240131038953828, 12.730051211658536, 7.930390974243899, 4.515109807553686, 2.3758921410602225, 1.297510735432644, 1.2396234186141042, 0.6761851602217582, 0.2584246883956613, 0.038007945093754436, 0.002053185179447755, 13.5582630073804, 8.815424995846875, 5.130528549478459, 2.6353227660896206, 1.3644164180726939, 1.3896577298544164, 0.7859347179135893, 0.33211278043545694, 0.04386177284685975, 0.001649375367116993, 13.527380603582033, 8.861295823654743, 5.361946023978778, 2.941880335751567, 1.517011534116002, 0.9347163370578417, 0.5632160956220061, 0.17224839980365825, 0.018015064533062567, 0.0007256451661008234, 14.162789833274452, 9.208703543078434, 5.434485297331754, 2.8335548521079845, 1.3713493356905602, 0.9853490474325212, 0.5558483844407683, 0.15448827483613106, 0.014339879952339112, 0.0004944759235560483, 15.37620690292581, 9.674343200370785, 5.3711689395980855, 2.5194578489017614, 1.1836285157642934, 1.4272209130697675]\n"
     ]
    },
    {
     "name": "stderr",
     "output_type": "stream",
     "text": [
      "\n",
      "Valid_Cost: 0.62:  60%|██████████████████████████████████████▍                         | 6/10 [17:21<10:56, 164.22s/it]\u001b[A\n",
      "Valid_Cost: 0.62:  70%|████████████████████████████████████████████▊                   | 7/10 [17:21<06:39, 133.22s/it]\u001b[A"
     ]
    },
    {
     "name": "stdout",
     "output_type": "stream",
     "text": [
      "Cost [12.613709885244726, 6.129279193499976, 1.9015729174187954, 0.4830742251328419, 0.059338604989321045, 0.0038545933766283057, 0.0003906240788377571, 9.15193451790838e-05, 3.919789094803865e-05, 2.5649834936594426e-05, 12.178118574525625, 8.83741414768729, 6.049341830583761, 3.717224841972516, 1.9367038000870511, 0.8429194833112358, 0.30925509649505994, 0.04688601036105282, 0.0031951087833463608, 0.0002975351746294532, 10.164771032014617, 6.8418420870715115, 4.228511992749954, 2.1664902232317886, 0.9171980347453055, 0.30422177998973543, 0.04735792114029455, 0.003021321679140005, 0.00022974909030712851, 4.913693756712343e-05, 12.514925977767167, 7.29940279102362, 3.7328417861479157, 1.8574271610449287, 1.2512844870644253, 0.74797770705636, 0.19659836765481745, 0.01166647408039311, 0.00030943374139103246, 2.9783938119770803e-05, 13.64446580618679, 8.573609685349934, 4.771710095712352, 2.3176120400710842, 1.3147699935605954, 1.2236189226704695, 0.667521883160358, 0.23163752914868802, 0.027726625673225976, 0.001240131038953828, 12.730051211658536, 7.930390974243899, 4.515109807553686, 2.3758921410602225, 1.297510735432644, 1.2396234186141042, 0.6761851602217582, 0.2584246883956613, 0.038007945093754436, 0.002053185179447755, 13.5582630073804, 8.815424995846875, 5.130528549478459, 2.6353227660896206, 1.3644164180726939, 1.3896577298544164, 0.7859347179135893, 0.33211278043545694, 0.04386177284685975, 0.001649375367116993, 13.527380603582033, 8.861295823654743, 5.361946023978778, 2.941880335751567, 1.517011534116002, 0.9347163370578417, 0.5632160956220061, 0.17224839980365825, 0.018015064533062567, 0.0007256451661008234, 14.162789833274452, 9.208703543078434, 5.434485297331754, 2.8335548521079845, 1.3713493356905602, 0.9853490474325212, 0.5558483844407683, 0.15448827483613106, 0.014339879952339112, 0.0004944759235560483, 15.37620690292581, 9.674343200370785, 5.3711689395980855, 2.5194578489017614, 1.1836285157642934, 1.4272209130697675, 0.6150984085507225]\n"
     ]
    },
    {
     "name": "stderr",
     "output_type": "stream",
     "text": [
      "\n",
      "Valid_Cost: 0.16:  70%|████████████████████████████████████████████▊                   | 7/10 [18:22<06:39, 133.22s/it]\u001b[A\n",
      "Valid_Cost: 0.16:  80%|███████████████████████████████████████████████████▏            | 8/10 [18:22<03:43, 111.67s/it]\u001b[A"
     ]
    },
    {
     "name": "stdout",
     "output_type": "stream",
     "text": [
      "Cost [12.613709885244726, 6.129279193499976, 1.9015729174187954, 0.4830742251328419, 0.059338604989321045, 0.0038545933766283057, 0.0003906240788377571, 9.15193451790838e-05, 3.919789094803865e-05, 2.5649834936594426e-05, 12.178118574525625, 8.83741414768729, 6.049341830583761, 3.717224841972516, 1.9367038000870511, 0.8429194833112358, 0.30925509649505994, 0.04688601036105282, 0.0031951087833463608, 0.0002975351746294532, 10.164771032014617, 6.8418420870715115, 4.228511992749954, 2.1664902232317886, 0.9171980347453055, 0.30422177998973543, 0.04735792114029455, 0.003021321679140005, 0.00022974909030712851, 4.913693756712343e-05, 12.514925977767167, 7.29940279102362, 3.7328417861479157, 1.8574271610449287, 1.2512844870644253, 0.74797770705636, 0.19659836765481745, 0.01166647408039311, 0.00030943374139103246, 2.9783938119770803e-05, 13.64446580618679, 8.573609685349934, 4.771710095712352, 2.3176120400710842, 1.3147699935605954, 1.2236189226704695, 0.667521883160358, 0.23163752914868802, 0.027726625673225976, 0.001240131038953828, 12.730051211658536, 7.930390974243899, 4.515109807553686, 2.3758921410602225, 1.297510735432644, 1.2396234186141042, 0.6761851602217582, 0.2584246883956613, 0.038007945093754436, 0.002053185179447755, 13.5582630073804, 8.815424995846875, 5.130528549478459, 2.6353227660896206, 1.3644164180726939, 1.3896577298544164, 0.7859347179135893, 0.33211278043545694, 0.04386177284685975, 0.001649375367116993, 13.527380603582033, 8.861295823654743, 5.361946023978778, 2.941880335751567, 1.517011534116002, 0.9347163370578417, 0.5632160956220061, 0.17224839980365825, 0.018015064533062567, 0.0007256451661008234, 14.162789833274452, 9.208703543078434, 5.434485297331754, 2.8335548521079845, 1.3713493356905602, 0.9853490474325212, 0.5558483844407683, 0.15448827483613106, 0.014339879952339112, 0.0004944759235560483, 15.37620690292581, 9.674343200370785, 5.3711689395980855, 2.5194578489017614, 1.1836285157642934, 1.4272209130697675, 0.6150984085507225, 0.15613655609482435]\n"
     ]
    },
    {
     "name": "stderr",
     "output_type": "stream",
     "text": [
      "\n",
      "Valid_Cost: 0.01:  80%|███████████████████████████████████████████████████▏            | 8/10 [19:23<03:43, 111.67s/it]\u001b[A\n",
      "Valid_Cost: 0.01:  90%|██████████████████████████████████████████████████████████▌      | 9/10 [19:23<01:36, 96.53s/it]\u001b[A"
     ]
    },
    {
     "name": "stdout",
     "output_type": "stream",
     "text": [
      "Cost [12.613709885244726, 6.129279193499976, 1.9015729174187954, 0.4830742251328419, 0.059338604989321045, 0.0038545933766283057, 0.0003906240788377571, 9.15193451790838e-05, 3.919789094803865e-05, 2.5649834936594426e-05, 12.178118574525625, 8.83741414768729, 6.049341830583761, 3.717224841972516, 1.9367038000870511, 0.8429194833112358, 0.30925509649505994, 0.04688601036105282, 0.0031951087833463608, 0.0002975351746294532, 10.164771032014617, 6.8418420870715115, 4.228511992749954, 2.1664902232317886, 0.9171980347453055, 0.30422177998973543, 0.04735792114029455, 0.003021321679140005, 0.00022974909030712851, 4.913693756712343e-05, 12.514925977767167, 7.29940279102362, 3.7328417861479157, 1.8574271610449287, 1.2512844870644253, 0.74797770705636, 0.19659836765481745, 0.01166647408039311, 0.00030943374139103246, 2.9783938119770803e-05, 13.64446580618679, 8.573609685349934, 4.771710095712352, 2.3176120400710842, 1.3147699935605954, 1.2236189226704695, 0.667521883160358, 0.23163752914868802, 0.027726625673225976, 0.001240131038953828, 12.730051211658536, 7.930390974243899, 4.515109807553686, 2.3758921410602225, 1.297510735432644, 1.2396234186141042, 0.6761851602217582, 0.2584246883956613, 0.038007945093754436, 0.002053185179447755, 13.5582630073804, 8.815424995846875, 5.130528549478459, 2.6353227660896206, 1.3644164180726939, 1.3896577298544164, 0.7859347179135893, 0.33211278043545694, 0.04386177284685975, 0.001649375367116993, 13.527380603582033, 8.861295823654743, 5.361946023978778, 2.941880335751567, 1.517011534116002, 0.9347163370578417, 0.5632160956220061, 0.17224839980365825, 0.018015064533062567, 0.0007256451661008234, 14.162789833274452, 9.208703543078434, 5.434485297331754, 2.8335548521079845, 1.3713493356905602, 0.9853490474325212, 0.5558483844407683, 0.15448827483613106, 0.014339879952339112, 0.0004944759235560483, 15.37620690292581, 9.674343200370785, 5.3711689395980855, 2.5194578489017614, 1.1836285157642934, 1.4272209130697675, 0.6150984085507225, 0.15613655609482435, 0.01094821331001203]\n"
     ]
    },
    {
     "name": "stderr",
     "output_type": "stream",
     "text": [
      "\n",
      "Valid_Cost: 0.00:  90%|██████████████████████████████████████████████████████████▌      | 9/10 [20:25<01:36, 96.53s/it]\u001b[A\n",
      "Valid_Cost: 0.00: 100%|███████████████████████████████████████████████████████████████| 10/10 [20:25<00:00, 122.53s/it]\u001b[A"
     ]
    },
    {
     "name": "stdout",
     "output_type": "stream",
     "text": [
      "Cost [12.613709885244726, 6.129279193499976, 1.9015729174187954, 0.4830742251328419, 0.059338604989321045, 0.0038545933766283057, 0.0003906240788377571, 9.15193451790838e-05, 3.919789094803865e-05, 2.5649834936594426e-05, 12.178118574525625, 8.83741414768729, 6.049341830583761, 3.717224841972516, 1.9367038000870511, 0.8429194833112358, 0.30925509649505994, 0.04688601036105282, 0.0031951087833463608, 0.0002975351746294532, 10.164771032014617, 6.8418420870715115, 4.228511992749954, 2.1664902232317886, 0.9171980347453055, 0.30422177998973543, 0.04735792114029455, 0.003021321679140005, 0.00022974909030712851, 4.913693756712343e-05, 12.514925977767167, 7.29940279102362, 3.7328417861479157, 1.8574271610449287, 1.2512844870644253, 0.74797770705636, 0.19659836765481745, 0.01166647408039311, 0.00030943374139103246, 2.9783938119770803e-05, 13.64446580618679, 8.573609685349934, 4.771710095712352, 2.3176120400710842, 1.3147699935605954, 1.2236189226704695, 0.667521883160358, 0.23163752914868802, 0.027726625673225976, 0.001240131038953828, 12.730051211658536, 7.930390974243899, 4.515109807553686, 2.3758921410602225, 1.297510735432644, 1.2396234186141042, 0.6761851602217582, 0.2584246883956613, 0.038007945093754436, 0.002053185179447755, 13.5582630073804, 8.815424995846875, 5.130528549478459, 2.6353227660896206, 1.3644164180726939, 1.3896577298544164, 0.7859347179135893, 0.33211278043545694, 0.04386177284685975, 0.001649375367116993, 13.527380603582033, 8.861295823654743, 5.361946023978778, 2.941880335751567, 1.517011534116002, 0.9347163370578417, 0.5632160956220061, 0.17224839980365825, 0.018015064533062567, 0.0007256451661008234, 14.162789833274452, 9.208703543078434, 5.434485297331754, 2.8335548521079845, 1.3713493356905602, 0.9853490474325212, 0.5558483844407683, 0.15448827483613106, 0.014339879952339112, 0.0004944759235560483, 15.37620690292581, 9.674343200370785, 5.3711689395980855, 2.5194578489017614, 1.1836285157642934, 1.4272209130697675, 0.6150984085507225, 0.15613655609482435, 0.01094821331001203, 0.00029467690087986]\n"
     ]
    },
    {
     "name": "stderr",
     "output_type": "stream",
     "text": [
      "\n",
      "\n",
      "\n",
      "Test_Cost: 19.10:   0%|                                                                         | 0/10 [21:26<?, ?it/s]\u001b[A\u001b[A\n",
      "\n",
      "Test_Cost: 19.10:  10%|██████                                                       | 1/10 [21:26<3:12:58, 1286.45s/it]\u001b[A\u001b[A"
     ]
    },
    {
     "name": "stdout",
     "output_type": "stream",
     "text": [
      "Cost [17.477931487658772, 11.481349621096912, 7.2365141576138186, 4.329902826767674, 2.4760411291537143, 1.5138635182223377, 0.7073556751685137, 0.12401734248441017, 0.007844180439016798, 0.0004556797310312098, 11.286471904239823, 7.1580123306771535, 3.9571610125268046, 1.8399116118774996, 0.7802855169740726, 0.2489798442024637, 0.040478171647824725, 0.0034103101165470257, 0.0003388346063951934, 8.207387633336027e-05, 14.600696001489547, 9.75421890186924, 5.943346249809679, 3.104772795184965, 1.3028420971721986, 0.6716637475518982, 0.17394469785564953, 0.013044275982573123, 0.00042176041655823655, 5.277390877793245e-05, 14.972619765065867, 9.155213669572213, 4.903756139238905, 2.2431711694723395, 1.2247738678146751, 0.6327003039336754, 0.13385226554640417, 0.006069226684909263, 0.00017053570314741042, 1.8954303310665997e-05, 16.557461094319603, 10.312316690749679, 5.807679969784163, 2.978874251521571, 1.5495151527915902, 1.351094254483115, 0.7920496809535496, 0.2575269765176783, 0.022406656313162774, 0.0005332186390589695, 15.40174981656828, 10.218580874295357, 6.19277725864181, 3.3933050781409753, 1.7065973026773404, 1.3837499965627784, 0.9491881593391612, 0.499905723050728, 0.1043395868721518, 0.006274060456623387, 18.123430148273588, 11.458900403303865, 6.549573953358018, 3.325961171360774, 1.677488759919609, 1.4107234813832696, 0.8985648211830274, 0.2547668961196521, 0.016730105095166207, 0.000328545286842944, 19.2408271536545, 13.059669414211465, 8.365699146889028, 4.943414085856317, 2.5987458980692235, 1.3941490719866367, 1.5176441375444867, 0.7697824631039416, 0.25675035514300687, 0.022526685466055487, 19.154181835283023, 13.080892296711623, 8.193166706450002, 4.505073218176413, 2.1136434044860564, 1.2920638901415038, 0.9927796843235402, 0.853860152232577, 0.22417929312875917, 0.012522398905406717, 19.099520770381318]\n"
     ]
    },
    {
     "name": "stderr",
     "output_type": "stream",
     "text": [
      "\n",
      "\n",
      "Test_Cost: 12.50:  10%|██████                                                       | 1/10 [22:27<3:12:58, 1286.45s/it]\u001b[A\u001b[A\n",
      "\n",
      "Test_Cost: 12.50:  20%|████████████▍                                                 | 2/10 [22:27<2:02:30, 918.87s/it]\u001b[A\u001b[A"
     ]
    },
    {
     "name": "stdout",
     "output_type": "stream",
     "text": [
      "Cost [17.477931487658772, 11.481349621096912, 7.2365141576138186, 4.329902826767674, 2.4760411291537143, 1.5138635182223377, 0.7073556751685137, 0.12401734248441017, 0.007844180439016798, 0.0004556797310312098, 11.286471904239823, 7.1580123306771535, 3.9571610125268046, 1.8399116118774996, 0.7802855169740726, 0.2489798442024637, 0.040478171647824725, 0.0034103101165470257, 0.0003388346063951934, 8.207387633336027e-05, 14.600696001489547, 9.75421890186924, 5.943346249809679, 3.104772795184965, 1.3028420971721986, 0.6716637475518982, 0.17394469785564953, 0.013044275982573123, 0.00042176041655823655, 5.277390877793245e-05, 14.972619765065867, 9.155213669572213, 4.903756139238905, 2.2431711694723395, 1.2247738678146751, 0.6327003039336754, 0.13385226554640417, 0.006069226684909263, 0.00017053570314741042, 1.8954303310665997e-05, 16.557461094319603, 10.312316690749679, 5.807679969784163, 2.978874251521571, 1.5495151527915902, 1.351094254483115, 0.7920496809535496, 0.2575269765176783, 0.022406656313162774, 0.0005332186390589695, 15.40174981656828, 10.218580874295357, 6.19277725864181, 3.3933050781409753, 1.7065973026773404, 1.3837499965627784, 0.9491881593391612, 0.499905723050728, 0.1043395868721518, 0.006274060456623387, 18.123430148273588, 11.458900403303865, 6.549573953358018, 3.325961171360774, 1.677488759919609, 1.4107234813832696, 0.8985648211830274, 0.2547668961196521, 0.016730105095166207, 0.000328545286842944, 19.2408271536545, 13.059669414211465, 8.365699146889028, 4.943414085856317, 2.5987458980692235, 1.3941490719866367, 1.5176441375444867, 0.7697824631039416, 0.25675035514300687, 0.022526685466055487, 19.154181835283023, 13.080892296711623, 8.193166706450002, 4.505073218176413, 2.1136434044860564, 1.2920638901415038, 0.9927796843235402, 0.853860152232577, 0.22417929312875917, 0.012522398905406717, 19.099520770381318, 12.497511142473975]\n"
     ]
    },
    {
     "name": "stderr",
     "output_type": "stream",
     "text": [
      "\n",
      "\n",
      "Test_Cost: 7.31:  20%|████████████▌                                                  | 2/10 [23:29<2:02:30, 918.87s/it]\u001b[A\u001b[A\n",
      "\n",
      "Test_Cost: 7.31:  30%|██████████████████▉                                            | 3/10 [23:29<1:17:11, 661.69s/it]\u001b[A\u001b[A"
     ]
    },
    {
     "name": "stdout",
     "output_type": "stream",
     "text": [
      "Cost [17.477931487658772, 11.481349621096912, 7.2365141576138186, 4.329902826767674, 2.4760411291537143, 1.5138635182223377, 0.7073556751685137, 0.12401734248441017, 0.007844180439016798, 0.0004556797310312098, 11.286471904239823, 7.1580123306771535, 3.9571610125268046, 1.8399116118774996, 0.7802855169740726, 0.2489798442024637, 0.040478171647824725, 0.0034103101165470257, 0.0003388346063951934, 8.207387633336027e-05, 14.600696001489547, 9.75421890186924, 5.943346249809679, 3.104772795184965, 1.3028420971721986, 0.6716637475518982, 0.17394469785564953, 0.013044275982573123, 0.00042176041655823655, 5.277390877793245e-05, 14.972619765065867, 9.155213669572213, 4.903756139238905, 2.2431711694723395, 1.2247738678146751, 0.6327003039336754, 0.13385226554640417, 0.006069226684909263, 0.00017053570314741042, 1.8954303310665997e-05, 16.557461094319603, 10.312316690749679, 5.807679969784163, 2.978874251521571, 1.5495151527915902, 1.351094254483115, 0.7920496809535496, 0.2575269765176783, 0.022406656313162774, 0.0005332186390589695, 15.40174981656828, 10.218580874295357, 6.19277725864181, 3.3933050781409753, 1.7065973026773404, 1.3837499965627784, 0.9491881593391612, 0.499905723050728, 0.1043395868721518, 0.006274060456623387, 18.123430148273588, 11.458900403303865, 6.549573953358018, 3.325961171360774, 1.677488759919609, 1.4107234813832696, 0.8985648211830274, 0.2547668961196521, 0.016730105095166207, 0.000328545286842944, 19.2408271536545, 13.059669414211465, 8.365699146889028, 4.943414085856317, 2.5987458980692235, 1.3941490719866367, 1.5176441375444867, 0.7697824631039416, 0.25675035514300687, 0.022526685466055487, 19.154181835283023, 13.080892296711623, 8.193166706450002, 4.505073218176413, 2.1136434044860564, 1.2920638901415038, 0.9927796843235402, 0.853860152232577, 0.22417929312875917, 0.012522398905406717, 19.099520770381318, 12.497511142473975, 7.30756144439713]\n"
     ]
    },
    {
     "name": "stderr",
     "output_type": "stream",
     "text": [
      "\n",
      "\n",
      "Test_Cost: 3.46:  30%|██████████████████▉                                            | 3/10 [24:30<1:17:11, 661.69s/it]\u001b[A\u001b[A\n",
      "\n",
      "Test_Cost: 3.46:  40%|██████████████████████████                                       | 4/10 [24:30<48:10, 481.69s/it]\u001b[A\u001b[A"
     ]
    },
    {
     "name": "stdout",
     "output_type": "stream",
     "text": [
      "Cost [17.477931487658772, 11.481349621096912, 7.2365141576138186, 4.329902826767674, 2.4760411291537143, 1.5138635182223377, 0.7073556751685137, 0.12401734248441017, 0.007844180439016798, 0.0004556797310312098, 11.286471904239823, 7.1580123306771535, 3.9571610125268046, 1.8399116118774996, 0.7802855169740726, 0.2489798442024637, 0.040478171647824725, 0.0034103101165470257, 0.0003388346063951934, 8.207387633336027e-05, 14.600696001489547, 9.75421890186924, 5.943346249809679, 3.104772795184965, 1.3028420971721986, 0.6716637475518982, 0.17394469785564953, 0.013044275982573123, 0.00042176041655823655, 5.277390877793245e-05, 14.972619765065867, 9.155213669572213, 4.903756139238905, 2.2431711694723395, 1.2247738678146751, 0.6327003039336754, 0.13385226554640417, 0.006069226684909263, 0.00017053570314741042, 1.8954303310665997e-05, 16.557461094319603, 10.312316690749679, 5.807679969784163, 2.978874251521571, 1.5495151527915902, 1.351094254483115, 0.7920496809535496, 0.2575269765176783, 0.022406656313162774, 0.0005332186390589695, 15.40174981656828, 10.218580874295357, 6.19277725864181, 3.3933050781409753, 1.7065973026773404, 1.3837499965627784, 0.9491881593391612, 0.499905723050728, 0.1043395868721518, 0.006274060456623387, 18.123430148273588, 11.458900403303865, 6.549573953358018, 3.325961171360774, 1.677488759919609, 1.4107234813832696, 0.8985648211830274, 0.2547668961196521, 0.016730105095166207, 0.000328545286842944, 19.2408271536545, 13.059669414211465, 8.365699146889028, 4.943414085856317, 2.5987458980692235, 1.3941490719866367, 1.5176441375444867, 0.7697824631039416, 0.25675035514300687, 0.022526685466055487, 19.154181835283023, 13.080892296711623, 8.193166706450002, 4.505073218176413, 2.1136434044860564, 1.2920638901415038, 0.9927796843235402, 0.853860152232577, 0.22417929312875917, 0.012522398905406717, 19.099520770381318, 12.497511142473975, 7.30756144439713, 3.461099722712985]\n"
     ]
    },
    {
     "name": "stderr",
     "output_type": "stream",
     "text": [
      "\n",
      "\n",
      "Test_Cost: 1.45:  40%|██████████████████████████                                       | 4/10 [25:32<48:10, 481.69s/it]\u001b[A\u001b[A\n",
      "\n",
      "Test_Cost: 1.45:  50%|████████████████████████████████▌                                | 5/10 [25:32<29:37, 355.51s/it]\u001b[A\u001b[A"
     ]
    },
    {
     "name": "stdout",
     "output_type": "stream",
     "text": [
      "Cost [17.477931487658772, 11.481349621096912, 7.2365141576138186, 4.329902826767674, 2.4760411291537143, 1.5138635182223377, 0.7073556751685137, 0.12401734248441017, 0.007844180439016798, 0.0004556797310312098, 11.286471904239823, 7.1580123306771535, 3.9571610125268046, 1.8399116118774996, 0.7802855169740726, 0.2489798442024637, 0.040478171647824725, 0.0034103101165470257, 0.0003388346063951934, 8.207387633336027e-05, 14.600696001489547, 9.75421890186924, 5.943346249809679, 3.104772795184965, 1.3028420971721986, 0.6716637475518982, 0.17394469785564953, 0.013044275982573123, 0.00042176041655823655, 5.277390877793245e-05, 14.972619765065867, 9.155213669572213, 4.903756139238905, 2.2431711694723395, 1.2247738678146751, 0.6327003039336754, 0.13385226554640417, 0.006069226684909263, 0.00017053570314741042, 1.8954303310665997e-05, 16.557461094319603, 10.312316690749679, 5.807679969784163, 2.978874251521571, 1.5495151527915902, 1.351094254483115, 0.7920496809535496, 0.2575269765176783, 0.022406656313162774, 0.0005332186390589695, 15.40174981656828, 10.218580874295357, 6.19277725864181, 3.3933050781409753, 1.7065973026773404, 1.3837499965627784, 0.9491881593391612, 0.499905723050728, 0.1043395868721518, 0.006274060456623387, 18.123430148273588, 11.458900403303865, 6.549573953358018, 3.325961171360774, 1.677488759919609, 1.4107234813832696, 0.8985648211830274, 0.2547668961196521, 0.016730105095166207, 0.000328545286842944, 19.2408271536545, 13.059669414211465, 8.365699146889028, 4.943414085856317, 2.5987458980692235, 1.3941490719866367, 1.5176441375444867, 0.7697824631039416, 0.25675035514300687, 0.022526685466055487, 19.154181835283023, 13.080892296711623, 8.193166706450002, 4.505073218176413, 2.1136434044860564, 1.2920638901415038, 0.9927796843235402, 0.853860152232577, 0.22417929312875917, 0.012522398905406717, 19.099520770381318, 12.497511142473975, 7.30756144439713, 3.461099722712985, 1.4519876005878387]\n"
     ]
    },
    {
     "name": "stderr",
     "output_type": "stream",
     "text": [
      "\n",
      "\n",
      "Test_Cost: 1.76:  50%|████████████████████████████████▌                                | 5/10 [26:33<29:37, 355.51s/it]\u001b[A\u001b[A\n",
      "\n",
      "Test_Cost: 1.76:  60%|███████████████████████████████████████                          | 6/10 [26:33<17:49, 267.29s/it]\u001b[A\u001b[A"
     ]
    },
    {
     "name": "stdout",
     "output_type": "stream",
     "text": [
      "Cost [17.477931487658772, 11.481349621096912, 7.2365141576138186, 4.329902826767674, 2.4760411291537143, 1.5138635182223377, 0.7073556751685137, 0.12401734248441017, 0.007844180439016798, 0.0004556797310312098, 11.286471904239823, 7.1580123306771535, 3.9571610125268046, 1.8399116118774996, 0.7802855169740726, 0.2489798442024637, 0.040478171647824725, 0.0034103101165470257, 0.0003388346063951934, 8.207387633336027e-05, 14.600696001489547, 9.75421890186924, 5.943346249809679, 3.104772795184965, 1.3028420971721986, 0.6716637475518982, 0.17394469785564953, 0.013044275982573123, 0.00042176041655823655, 5.277390877793245e-05, 14.972619765065867, 9.155213669572213, 4.903756139238905, 2.2431711694723395, 1.2247738678146751, 0.6327003039336754, 0.13385226554640417, 0.006069226684909263, 0.00017053570314741042, 1.8954303310665997e-05, 16.557461094319603, 10.312316690749679, 5.807679969784163, 2.978874251521571, 1.5495151527915902, 1.351094254483115, 0.7920496809535496, 0.2575269765176783, 0.022406656313162774, 0.0005332186390589695, 15.40174981656828, 10.218580874295357, 6.19277725864181, 3.3933050781409753, 1.7065973026773404, 1.3837499965627784, 0.9491881593391612, 0.499905723050728, 0.1043395868721518, 0.006274060456623387, 18.123430148273588, 11.458900403303865, 6.549573953358018, 3.325961171360774, 1.677488759919609, 1.4107234813832696, 0.8985648211830274, 0.2547668961196521, 0.016730105095166207, 0.000328545286842944, 19.2408271536545, 13.059669414211465, 8.365699146889028, 4.943414085856317, 2.5987458980692235, 1.3941490719866367, 1.5176441375444867, 0.7697824631039416, 0.25675035514300687, 0.022526685466055487, 19.154181835283023, 13.080892296711623, 8.193166706450002, 4.505073218176413, 2.1136434044860564, 1.2920638901415038, 0.9927796843235402, 0.853860152232577, 0.22417929312875917, 0.012522398905406717, 19.099520770381318, 12.497511142473975, 7.30756144439713, 3.461099722712985, 1.4519876005878387, 1.763198005034263]\n"
     ]
    },
    {
     "name": "stderr",
     "output_type": "stream",
     "text": [
      "\n",
      "\n",
      "Test_Cost: 0.95:  60%|███████████████████████████████████████                          | 6/10 [27:34<17:49, 267.29s/it]\u001b[A\u001b[A\n",
      "\n",
      "Test_Cost: 0.95:  70%|█████████████████████████████████████████████▌                   | 7/10 [27:34<10:16, 205.39s/it]\u001b[A\u001b[A"
     ]
    },
    {
     "name": "stdout",
     "output_type": "stream",
     "text": [
      "Cost [17.477931487658772, 11.481349621096912, 7.2365141576138186, 4.329902826767674, 2.4760411291537143, 1.5138635182223377, 0.7073556751685137, 0.12401734248441017, 0.007844180439016798, 0.0004556797310312098, 11.286471904239823, 7.1580123306771535, 3.9571610125268046, 1.8399116118774996, 0.7802855169740726, 0.2489798442024637, 0.040478171647824725, 0.0034103101165470257, 0.0003388346063951934, 8.207387633336027e-05, 14.600696001489547, 9.75421890186924, 5.943346249809679, 3.104772795184965, 1.3028420971721986, 0.6716637475518982, 0.17394469785564953, 0.013044275982573123, 0.00042176041655823655, 5.277390877793245e-05, 14.972619765065867, 9.155213669572213, 4.903756139238905, 2.2431711694723395, 1.2247738678146751, 0.6327003039336754, 0.13385226554640417, 0.006069226684909263, 0.00017053570314741042, 1.8954303310665997e-05, 16.557461094319603, 10.312316690749679, 5.807679969784163, 2.978874251521571, 1.5495151527915902, 1.351094254483115, 0.7920496809535496, 0.2575269765176783, 0.022406656313162774, 0.0005332186390589695, 15.40174981656828, 10.218580874295357, 6.19277725864181, 3.3933050781409753, 1.7065973026773404, 1.3837499965627784, 0.9491881593391612, 0.499905723050728, 0.1043395868721518, 0.006274060456623387, 18.123430148273588, 11.458900403303865, 6.549573953358018, 3.325961171360774, 1.677488759919609, 1.4107234813832696, 0.8985648211830274, 0.2547668961196521, 0.016730105095166207, 0.000328545286842944, 19.2408271536545, 13.059669414211465, 8.365699146889028, 4.943414085856317, 2.5987458980692235, 1.3941490719866367, 1.5176441375444867, 0.7697824631039416, 0.25675035514300687, 0.022526685466055487, 19.154181835283023, 13.080892296711623, 8.193166706450002, 4.505073218176413, 2.1136434044860564, 1.2920638901415038, 0.9927796843235402, 0.853860152232577, 0.22417929312875917, 0.012522398905406717, 19.099520770381318, 12.497511142473975, 7.30756144439713, 3.461099722712985, 1.4519876005878387, 1.763198005034263, 0.9457251343128031]\n"
     ]
    },
    {
     "name": "stderr",
     "output_type": "stream",
     "text": [
      "\n",
      "\n",
      "Test_Cost: 0.40:  70%|█████████████████████████████████████████████▌                   | 7/10 [28:35<10:16, 205.39s/it]\u001b[A\u001b[A\n",
      "\n",
      "Test_Cost: 0.40:  80%|████████████████████████████████████████████████████             | 8/10 [28:35<05:24, 162.22s/it]\u001b[A\u001b[A"
     ]
    },
    {
     "name": "stdout",
     "output_type": "stream",
     "text": [
      "Cost [17.477931487658772, 11.481349621096912, 7.2365141576138186, 4.329902826767674, 2.4760411291537143, 1.5138635182223377, 0.7073556751685137, 0.12401734248441017, 0.007844180439016798, 0.0004556797310312098, 11.286471904239823, 7.1580123306771535, 3.9571610125268046, 1.8399116118774996, 0.7802855169740726, 0.2489798442024637, 0.040478171647824725, 0.0034103101165470257, 0.0003388346063951934, 8.207387633336027e-05, 14.600696001489547, 9.75421890186924, 5.943346249809679, 3.104772795184965, 1.3028420971721986, 0.6716637475518982, 0.17394469785564953, 0.013044275982573123, 0.00042176041655823655, 5.277390877793245e-05, 14.972619765065867, 9.155213669572213, 4.903756139238905, 2.2431711694723395, 1.2247738678146751, 0.6327003039336754, 0.13385226554640417, 0.006069226684909263, 0.00017053570314741042, 1.8954303310665997e-05, 16.557461094319603, 10.312316690749679, 5.807679969784163, 2.978874251521571, 1.5495151527915902, 1.351094254483115, 0.7920496809535496, 0.2575269765176783, 0.022406656313162774, 0.0005332186390589695, 15.40174981656828, 10.218580874295357, 6.19277725864181, 3.3933050781409753, 1.7065973026773404, 1.3837499965627784, 0.9491881593391612, 0.499905723050728, 0.1043395868721518, 0.006274060456623387, 18.123430148273588, 11.458900403303865, 6.549573953358018, 3.325961171360774, 1.677488759919609, 1.4107234813832696, 0.8985648211830274, 0.2547668961196521, 0.016730105095166207, 0.000328545286842944, 19.2408271536545, 13.059669414211465, 8.365699146889028, 4.943414085856317, 2.5987458980692235, 1.3941490719866367, 1.5176441375444867, 0.7697824631039416, 0.25675035514300687, 0.022526685466055487, 19.154181835283023, 13.080892296711623, 8.193166706450002, 4.505073218176413, 2.1136434044860564, 1.2920638901415038, 0.9927796843235402, 0.853860152232577, 0.22417929312875917, 0.012522398905406717, 19.099520770381318, 12.497511142473975, 7.30756144439713, 3.461099722712985, 1.4519876005878387, 1.763198005034263, 0.9457251343128031, 0.4006763633610236]\n"
     ]
    },
    {
     "name": "stderr",
     "output_type": "stream",
     "text": [
      "\n",
      "\n",
      "Test_Cost: 0.04:  80%|████████████████████████████████████████████████████             | 8/10 [29:36<05:24, 162.22s/it]\u001b[A\u001b[A\n",
      "\n",
      "Test_Cost: 0.04:  90%|██████████████████████████████████████████████████████████▌      | 9/10 [29:36<02:11, 131.82s/it]\u001b[A\u001b[A"
     ]
    },
    {
     "name": "stdout",
     "output_type": "stream",
     "text": [
      "Cost [17.477931487658772, 11.481349621096912, 7.2365141576138186, 4.329902826767674, 2.4760411291537143, 1.5138635182223377, 0.7073556751685137, 0.12401734248441017, 0.007844180439016798, 0.0004556797310312098, 11.286471904239823, 7.1580123306771535, 3.9571610125268046, 1.8399116118774996, 0.7802855169740726, 0.2489798442024637, 0.040478171647824725, 0.0034103101165470257, 0.0003388346063951934, 8.207387633336027e-05, 14.600696001489547, 9.75421890186924, 5.943346249809679, 3.104772795184965, 1.3028420971721986, 0.6716637475518982, 0.17394469785564953, 0.013044275982573123, 0.00042176041655823655, 5.277390877793245e-05, 14.972619765065867, 9.155213669572213, 4.903756139238905, 2.2431711694723395, 1.2247738678146751, 0.6327003039336754, 0.13385226554640417, 0.006069226684909263, 0.00017053570314741042, 1.8954303310665997e-05, 16.557461094319603, 10.312316690749679, 5.807679969784163, 2.978874251521571, 1.5495151527915902, 1.351094254483115, 0.7920496809535496, 0.2575269765176783, 0.022406656313162774, 0.0005332186390589695, 15.40174981656828, 10.218580874295357, 6.19277725864181, 3.3933050781409753, 1.7065973026773404, 1.3837499965627784, 0.9491881593391612, 0.499905723050728, 0.1043395868721518, 0.006274060456623387, 18.123430148273588, 11.458900403303865, 6.549573953358018, 3.325961171360774, 1.677488759919609, 1.4107234813832696, 0.8985648211830274, 0.2547668961196521, 0.016730105095166207, 0.000328545286842944, 19.2408271536545, 13.059669414211465, 8.365699146889028, 4.943414085856317, 2.5987458980692235, 1.3941490719866367, 1.5176441375444867, 0.7697824631039416, 0.25675035514300687, 0.022526685466055487, 19.154181835283023, 13.080892296711623, 8.193166706450002, 4.505073218176413, 2.1136434044860564, 1.2920638901415038, 0.9927796843235402, 0.853860152232577, 0.22417929312875917, 0.012522398905406717, 19.099520770381318, 12.497511142473975, 7.30756144439713, 3.461099722712985, 1.4519876005878387, 1.763198005034263, 0.9457251343128031, 0.4006763633610236, 0.04350249348822573]\n"
     ]
    },
    {
     "name": "stderr",
     "output_type": "stream",
     "text": [
      "\n",
      "\n",
      "Test_Cost: 0.00:  90%|██████████████████████████████████████████████████████████▌      | 9/10 [30:38<02:11, 131.82s/it]\u001b[A\u001b[A\n",
      "\n",
      "Test_Cost: 0.00: 100%|████████████████████████████████████████████████████████████████| 10/10 [30:38<00:00, 183.80s/it]\u001b[A\u001b[A"
     ]
    },
    {
     "name": "stdout",
     "output_type": "stream",
     "text": [
      "Cost [17.477931487658772, 11.481349621096912, 7.2365141576138186, 4.329902826767674, 2.4760411291537143, 1.5138635182223377, 0.7073556751685137, 0.12401734248441017, 0.007844180439016798, 0.0004556797310312098, 11.286471904239823, 7.1580123306771535, 3.9571610125268046, 1.8399116118774996, 0.7802855169740726, 0.2489798442024637, 0.040478171647824725, 0.0034103101165470257, 0.0003388346063951934, 8.207387633336027e-05, 14.600696001489547, 9.75421890186924, 5.943346249809679, 3.104772795184965, 1.3028420971721986, 0.6716637475518982, 0.17394469785564953, 0.013044275982573123, 0.00042176041655823655, 5.277390877793245e-05, 14.972619765065867, 9.155213669572213, 4.903756139238905, 2.2431711694723395, 1.2247738678146751, 0.6327003039336754, 0.13385226554640417, 0.006069226684909263, 0.00017053570314741042, 1.8954303310665997e-05, 16.557461094319603, 10.312316690749679, 5.807679969784163, 2.978874251521571, 1.5495151527915902, 1.351094254483115, 0.7920496809535496, 0.2575269765176783, 0.022406656313162774, 0.0005332186390589695, 15.40174981656828, 10.218580874295357, 6.19277725864181, 3.3933050781409753, 1.7065973026773404, 1.3837499965627784, 0.9491881593391612, 0.499905723050728, 0.1043395868721518, 0.006274060456623387, 18.123430148273588, 11.458900403303865, 6.549573953358018, 3.325961171360774, 1.677488759919609, 1.4107234813832696, 0.8985648211830274, 0.2547668961196521, 0.016730105095166207, 0.000328545286842944, 19.2408271536545, 13.059669414211465, 8.365699146889028, 4.943414085856317, 2.5987458980692235, 1.3941490719866367, 1.5176441375444867, 0.7697824631039416, 0.25675035514300687, 0.022526685466055487, 19.154181835283023, 13.080892296711623, 8.193166706450002, 4.505073218176413, 2.1136434044860564, 1.2920638901415038, 0.9927796843235402, 0.853860152232577, 0.22417929312875917, 0.012522398905406717, 19.099520770381318, 12.497511142473975, 7.30756144439713, 3.461099722712985, 1.4519876005878387, 1.763198005034263, 0.9457251343128031, 0.4006763633610236, 0.04350249348822573, 0.0009334805636821346]\n",
      "parameters [array([[[[ 0.00779129,  0.14236761,  0.04711563,  0.02232552,\n",
      "           0.0141655 ],\n",
      "         [-0.00280389,  0.00795861, -0.01103466, -0.02650547,\n",
      "          -0.01529826],\n",
      "         [ 0.03564909, -0.03005884, -0.02874793,  0.03496438,\n",
      "           0.10408691],\n",
      "         [ 0.08491851, -0.10931472, -0.13311189,  0.01062362,\n",
      "          -0.02047088],\n",
      "         [-0.06344223,  0.08584955, -0.01843376,  0.11005461,\n",
      "          -0.12431139]]],\n",
      "\n",
      "\n",
      "       [[[ 0.05101876,  0.02750874, -0.03905475,  0.11564174,\n",
      "          -0.02227001],\n",
      "         [-0.01428715,  0.07147293,  0.08497014, -0.0706551 ,\n",
      "           0.00287682],\n",
      "         [-0.03011443, -0.13607698,  0.07681348,  0.01272174,\n",
      "           0.00628081],\n",
      "         [-0.0748265 , -0.02100822,  0.09462523,  0.01832851,\n",
      "          -0.02291125],\n",
      "         [ 0.00393814,  0.06068726, -0.06417959, -0.0241714 ,\n",
      "           0.00878959]]],\n",
      "\n",
      "\n",
      "       [[[-0.0232345 ,  0.06615554, -0.1014725 ,  0.01409796,\n",
      "          -0.04361204],\n",
      "         [ 0.02173558,  0.16013569, -0.0268874 , -0.03205338,\n",
      "          -0.03558646],\n",
      "         [-0.15885517, -0.05303925,  0.11761323,  0.05631665,\n",
      "          -0.02455412],\n",
      "         [ 0.04274216,  0.0035493 ,  0.11841908,  0.10613505,\n",
      "           0.01421566],\n",
      "         [ 0.07183095,  0.00027672,  0.07986773, -0.12740301,\n",
      "          -0.15774635]]],\n",
      "\n",
      "\n",
      "       [[[ 0.05505384,  0.07715835, -0.0161013 ,  0.02720562,\n",
      "          -0.01039118],\n",
      "         [ 0.01955099, -0.00423851,  0.05274067,  0.07331033,\n",
      "           0.0442498 ],\n",
      "         [ 0.04048426,  0.03558583,  0.05145843,  0.13029467,\n",
      "           0.02162617],\n",
      "         [-0.0962902 , -0.05856632,  0.00980838, -0.06501985,\n",
      "           0.10459148],\n",
      "         [-0.05389855,  0.048818  ,  0.11339528, -0.03557195,\n",
      "          -0.00557018]]],\n",
      "\n",
      "\n",
      "       [[[-0.0628284 ,  0.05544157, -0.040001  , -0.01435266,\n",
      "          -0.03124114],\n",
      "         [ 0.10901559, -0.06122542,  0.02459383,  0.16745252,\n",
      "           0.02421782],\n",
      "         [ 0.04382974, -0.05149907, -0.02949317,  0.13829368,\n",
      "           0.02270771],\n",
      "         [-0.08930919,  0.06055408, -0.16643702,  0.02155571,\n",
      "          -0.11150855],\n",
      "         [-0.07277102,  0.12136907, -0.02934666, -0.05592033,\n",
      "           0.08819147]]],\n",
      "\n",
      "\n",
      "       [[[ 0.05458706,  0.0021373 , -0.07273851, -0.19424201,\n",
      "           0.0117101 ],\n",
      "         [-0.03668549, -0.05453087,  0.06883607, -0.09069878,\n",
      "          -0.02013892],\n",
      "         [-0.15402904,  0.07175361,  0.10110312, -0.04273764,\n",
      "           0.00593262],\n",
      "         [ 0.02539019,  0.05296931, -0.11497984,  0.07576197,\n",
      "          -0.19398662],\n",
      "         [-0.04525086,  0.03896431,  0.05804602, -0.06249456,\n",
      "          -0.00317147]]],\n",
      "\n",
      "\n",
      "       [[[-0.05837709,  0.04408933, -0.05648229, -0.04712616,\n",
      "           0.02388128],\n",
      "         [-0.06572866,  0.01432432,  0.05004242,  0.04328052,\n",
      "           0.00273406],\n",
      "         [-0.09878753,  0.00715334,  0.17010933, -0.15592117,\n",
      "          -0.00770108],\n",
      "         [-0.08069148, -0.02247859, -0.03057623,  0.05492243,\n",
      "           0.04360868],\n",
      "         [-0.02320311,  0.05247968, -0.04593863,  0.02611048,\n",
      "           0.11453844]]],\n",
      "\n",
      "\n",
      "       [[[ 0.10326239, -0.00853953, -0.03937426,  0.14662906,\n",
      "           0.03866258],\n",
      "         [ 0.01210431, -0.03907882, -0.00594192,  0.02933021,\n",
      "           0.08485   ],\n",
      "         [ 0.05312504,  0.01094217, -0.04760124,  0.04273464,\n",
      "           0.02496101],\n",
      "         [-0.05578551,  0.06619146, -0.13879675, -0.04695319,\n",
      "          -0.10606885],\n",
      "         [ 0.0533732 , -0.2358958 , -0.0931007 ,  0.05822004,\n",
      "           0.03977332]]]]), array([[[[-2.41281175e-02, -8.25091467e-02, -5.17862941e-03,\n",
      "          -1.05914152e-02,  2.29373656e-02],\n",
      "         [-1.71003964e-02, -3.81888311e-02,  1.96999627e-02,\n",
      "           8.85288224e-04,  9.52571330e-03],\n",
      "         [ 3.26217596e-02,  5.83494275e-02, -1.98485547e-02,\n",
      "          -1.78397133e-02, -4.10418254e-02],\n",
      "         [-1.41234979e-02,  1.36987958e-02, -2.66463527e-03,\n",
      "           1.66593117e-02,  1.00969718e-02],\n",
      "         [ 2.09950183e-02,  2.57800820e-02, -6.13051985e-03,\n",
      "           4.34002026e-02, -4.97610106e-03]],\n",
      "\n",
      "        [[ 1.16287055e-02,  2.60727500e-03, -2.23397666e-03,\n",
      "           2.06864553e-02, -1.90632914e-02],\n",
      "         [ 1.36632048e-02, -3.97853184e-02, -1.79949889e-02,\n",
      "          -3.78063598e-02, -2.40061094e-02],\n",
      "         [-3.28738516e-02, -4.28699265e-02,  3.35266892e-02,\n",
      "          -1.80915764e-02,  8.50208174e-03],\n",
      "         [ 3.38882373e-03,  1.81154137e-02, -1.71843373e-02,\n",
      "           7.12534417e-03,  1.87263904e-02],\n",
      "         [ 2.16919514e-02, -4.61164126e-02, -2.68273917e-02,\n",
      "          -4.99070352e-02,  1.69093238e-02]],\n",
      "\n",
      "        [[ 7.40907058e-03,  5.99174625e-02,  4.55197683e-02,\n",
      "           8.30178148e-03,  4.28330220e-03],\n",
      "         [-9.48291747e-03, -1.04972463e-02, -1.30026798e-02,\n",
      "           3.79152665e-03, -2.47904566e-02],\n",
      "         [-2.20821978e-02, -2.95579795e-02, -4.86067845e-02,\n",
      "           2.36278793e-02, -2.77952485e-02],\n",
      "         [-4.83183966e-02, -4.96387581e-02,  1.28857150e-02,\n",
      "           1.56871036e-02, -9.86426784e-02],\n",
      "         [ 1.04888414e-02,  3.37866156e-02,  3.27528149e-03,\n",
      "          -6.55341273e-03, -7.43583778e-02]],\n",
      "\n",
      "        [[-6.63595232e-04,  1.23712942e-02,  5.04638298e-03,\n",
      "          -2.51965012e-03, -2.84153567e-02],\n",
      "         [ 3.53352704e-02,  2.82670498e-02,  2.31809624e-02,\n",
      "          -1.88499274e-02, -4.39587278e-02],\n",
      "         [ 5.22161629e-02,  3.83624448e-02,  5.20105377e-03,\n",
      "           5.09685581e-02,  1.74451836e-02],\n",
      "         [ 8.60380008e-03,  2.93052556e-02, -3.97073889e-02,\n",
      "          -1.82969279e-03,  6.90902581e-03],\n",
      "         [-1.19365750e-02,  3.59852864e-02,  6.94177166e-03,\n",
      "           1.13283848e-02, -3.65283309e-02]],\n",
      "\n",
      "        [[-4.03154768e-02,  7.44798827e-03, -2.41631067e-02,\n",
      "           3.41314099e-02, -7.67716558e-02],\n",
      "         [ 1.87618608e-02,  3.85433049e-02, -4.91954139e-04,\n",
      "          -1.21216602e-02, -5.75433292e-03],\n",
      "         [-6.32613787e-02,  3.03749293e-02,  1.77093787e-02,\n",
      "           4.50833462e-02,  5.19952085e-02],\n",
      "         [-2.59432678e-02, -1.78907944e-02,  2.28723853e-03,\n",
      "           1.10636630e-02,  2.93155170e-02],\n",
      "         [-1.01678309e-04,  1.17387219e-02,  2.01214727e-02,\n",
      "           2.59666407e-02,  5.00902053e-02]],\n",
      "\n",
      "        [[ 7.86886388e-03, -2.87006368e-02, -2.98777341e-02,\n",
      "          -3.70075506e-02,  1.73733245e-02],\n",
      "         [ 2.37094236e-02,  5.84064962e-03, -2.37891042e-03,\n",
      "          -2.33196601e-02,  1.34364579e-02],\n",
      "         [-5.21837496e-02, -3.02263292e-02, -1.27007456e-02,\n",
      "           5.69070519e-02,  4.31703359e-02],\n",
      "         [ 2.72944837e-02,  1.46222584e-02,  4.81168839e-03,\n",
      "           3.51477593e-02,  3.42941250e-02],\n",
      "         [-9.78849468e-02,  7.93278274e-03,  8.64571269e-03,\n",
      "          -1.13858748e-03,  4.91952866e-02]],\n",
      "\n",
      "        [[-9.96803992e-02,  6.18664728e-03,  1.90475384e-02,\n",
      "          -1.62105572e-02, -9.43318969e-03],\n",
      "         [-2.57060947e-02,  2.02990598e-02, -1.55127576e-02,\n",
      "          -5.77457432e-02, -4.46595422e-02],\n",
      "         [-5.42499482e-02, -4.80206014e-02, -1.82412064e-02,\n",
      "           1.14116260e-02, -5.81038344e-03],\n",
      "         [-3.77335753e-02,  1.61013100e-02, -1.27178583e-02,\n",
      "           1.47488821e-02, -2.67436340e-02],\n",
      "         [-2.26255519e-02, -8.50459633e-03, -1.15134225e-02,\n",
      "          -3.51298277e-02,  1.33471463e-02]],\n",
      "\n",
      "        [[-1.65016539e-02, -3.11620963e-04,  5.37955188e-03,\n",
      "           3.91261643e-02, -1.83045573e-02],\n",
      "         [ 4.99829118e-03, -4.07734027e-02, -7.66812412e-03,\n",
      "          -1.70494529e-02,  1.91376474e-02],\n",
      "         [ 2.94875242e-02,  4.80432462e-02,  5.81836115e-02,\n",
      "           1.16883511e-02,  5.33491275e-02],\n",
      "         [-2.14529124e-02,  2.75271755e-02,  5.25435309e-03,\n",
      "          -2.33505285e-02, -2.17460824e-02],\n",
      "         [ 1.67937324e-02,  4.74735295e-02, -4.93809487e-02,\n",
      "          -1.63139064e-02, -3.27850751e-02]]],\n",
      "\n",
      "\n",
      "       [[[-1.59049946e-02, -3.08272209e-02, -4.97804531e-02,\n",
      "          -3.87753558e-03, -6.93153692e-02],\n",
      "         [-3.45557591e-02,  1.12548458e-02, -1.81526346e-02,\n",
      "          -1.16268164e-02, -1.04085302e-02],\n",
      "         [-3.54294248e-02, -5.78701797e-02,  1.10680092e-03,\n",
      "          -6.26409021e-02, -4.11735890e-02],\n",
      "         [-5.57250323e-02, -5.69488728e-02,  2.33312567e-02,\n",
      "           3.36773835e-02, -2.20308888e-02],\n",
      "         [-6.18479281e-03,  2.79941299e-03, -5.65890496e-02,\n",
      "          -2.17318600e-02, -5.29871968e-02]],\n",
      "\n",
      "        [[ 3.26297811e-02, -2.19661442e-02, -3.90191511e-02,\n",
      "          -6.49973606e-03, -2.00002096e-02],\n",
      "         [-4.03395929e-02, -4.27786285e-02, -7.45276990e-03,\n",
      "          -1.44882975e-02, -2.82839994e-02],\n",
      "         [-3.50442285e-02,  1.14867552e-02, -4.61926994e-02,\n",
      "          -3.18723926e-02, -9.16230725e-04],\n",
      "         [-1.58049079e-02,  2.42773522e-02,  1.15675332e-02,\n",
      "          -3.09774210e-02, -1.08977339e-02],\n",
      "         [-2.74121850e-02,  1.12535116e-02, -5.33955157e-03,\n",
      "          -7.01098516e-03,  3.77872789e-03]],\n",
      "\n",
      "        [[ 2.51754767e-02, -8.29743203e-02, -4.29075644e-02,\n",
      "           2.90421068e-02, -4.32917373e-02],\n",
      "         [-6.92049769e-02, -8.57903383e-02, -7.09696681e-02,\n",
      "          -9.97694990e-03, -9.26643985e-03],\n",
      "         [ 4.97491975e-02, -5.35737639e-02, -1.31956059e-02,\n",
      "          -2.38848520e-02,  1.90552803e-02],\n",
      "         [-4.88069381e-04,  3.81191732e-02, -1.43963805e-02,\n",
      "           6.47316588e-02, -3.86014311e-02],\n",
      "         [-9.91639574e-02,  2.01509808e-02, -1.12545217e-02,\n",
      "          -2.71151665e-02, -2.44607772e-02]],\n",
      "\n",
      "        [[ 2.73222873e-02, -5.44450596e-02, -3.18739400e-02,\n",
      "           5.34707767e-02, -4.91583437e-03],\n",
      "         [ 8.74121091e-02, -4.31169419e-02, -3.37648260e-02,\n",
      "           1.43950039e-02, -4.21703856e-02],\n",
      "         [-5.85441979e-02, -2.40558398e-02,  4.56210750e-02,\n",
      "           6.38327399e-02,  3.10038781e-02],\n",
      "         [ 2.11049801e-02, -1.71478908e-02,  2.44004900e-02,\n",
      "          -1.41647304e-02,  1.12141463e-02],\n",
      "         [-2.29591237e-02,  5.32000157e-02, -1.40798156e-02,\n",
      "          -1.95863789e-02,  3.64613987e-02]],\n",
      "\n",
      "        [[ 9.32320140e-03,  1.52361957e-02,  5.98003113e-02,\n",
      "          -9.11807436e-03, -4.45481365e-02],\n",
      "         [-3.12169904e-03, -4.69664426e-02, -2.34219905e-02,\n",
      "           3.11719067e-02,  1.78318401e-02],\n",
      "         [ 5.83593357e-03,  1.42587259e-02,  1.14844988e-02,\n",
      "          -3.00211368e-02, -5.95743597e-02],\n",
      "         [ 1.64597630e-03, -2.90006674e-02,  5.64373099e-03,\n",
      "          -1.03474407e-02, -2.53274106e-02],\n",
      "         [-5.46390520e-02, -2.31931316e-03, -4.00642889e-02,\n",
      "          -1.15214412e-02,  2.48046478e-02]],\n",
      "\n",
      "        [[-3.72897309e-02, -1.04969471e-02, -4.19999032e-02,\n",
      "           2.59302277e-02, -6.04842249e-04],\n",
      "         [-6.04378625e-03, -7.97360049e-02, -4.75472050e-03,\n",
      "          -8.01321565e-03,  1.91265564e-02],\n",
      "         [-3.04792780e-02,  2.16715018e-02,  4.11855057e-03,\n",
      "          -1.22545385e-02, -2.18681561e-02],\n",
      "         [ 3.27057003e-02, -5.34392702e-03, -1.67161505e-02,\n",
      "           3.44738411e-02,  2.11129161e-02],\n",
      "         [ 4.93297808e-02,  1.23688524e-02,  5.05691231e-03,\n",
      "          -8.27876749e-02,  2.67500673e-02]],\n",
      "\n",
      "        [[ 2.63581392e-02, -6.49078365e-02, -1.78734148e-02,\n",
      "          -4.88692372e-02, -1.31771998e-02],\n",
      "         [-7.28333819e-02, -2.36238023e-02, -2.32151127e-02,\n",
      "          -5.19210492e-03, -2.83157580e-03],\n",
      "         [-1.48954019e-02, -1.49167980e-02, -1.78187586e-02,\n",
      "           2.79272919e-03, -5.34918013e-04],\n",
      "         [-1.11830838e-02, -5.81255391e-02, -3.00976699e-02,\n",
      "           1.51675557e-02, -4.21031693e-02],\n",
      "         [-4.32431422e-03, -2.72104999e-02, -5.37410500e-02,\n",
      "           1.40016405e-02, -8.95162243e-02]],\n",
      "\n",
      "        [[ 1.38295039e-02, -4.22128932e-02,  6.56883892e-02,\n",
      "           1.55824958e-02,  5.84660165e-03],\n",
      "         [-2.75763117e-02, -4.71783102e-02, -4.10127191e-02,\n",
      "          -3.28573547e-02, -2.13314185e-02],\n",
      "         [ 1.42080365e-03, -6.19568664e-02, -9.62810505e-02,\n",
      "          -1.39153677e-02,  5.56790462e-03],\n",
      "         [-4.43755852e-02, -3.65386690e-02, -6.26367447e-03,\n",
      "          -1.56812351e-02,  1.85835734e-03],\n",
      "         [-8.95522436e-02, -4.71201990e-02, -3.30180407e-02,\n",
      "           4.20694706e-02, -3.31263563e-02]]],\n",
      "\n",
      "\n",
      "       [[[ 2.09687606e-02, -2.51572301e-02,  2.75069469e-02,\n",
      "          -5.02081217e-02, -4.20153940e-02],\n",
      "         [-4.71867024e-02, -4.94756547e-02,  2.08949850e-02,\n",
      "          -4.18248015e-02,  2.32499219e-03],\n",
      "         [ 5.11918870e-02, -3.92128130e-04, -2.53147510e-02,\n",
      "           4.27587373e-02, -3.61127512e-02],\n",
      "         [-1.60619000e-02,  4.18018797e-02,  3.55041426e-02,\n",
      "           9.81248470e-03,  3.43641545e-03],\n",
      "         [-8.47710440e-03, -4.70765320e-03,  4.55908196e-02,\n",
      "           2.78980587e-02, -1.91946964e-03]],\n",
      "\n",
      "        [[ 3.62975429e-02,  1.04783894e-02,  1.57096526e-02,\n",
      "          -1.74935446e-02, -2.21563244e-02],\n",
      "         [ 4.01960250e-02,  1.52525381e-03, -3.12711913e-02,\n",
      "           7.03269059e-03,  3.74084365e-02],\n",
      "         [ 9.75302025e-03, -2.95641972e-02, -1.00727349e-02,\n",
      "          -2.55915155e-02, -1.00043584e-03],\n",
      "         [ 1.41123563e-02,  6.13679242e-02, -2.49343131e-02,\n",
      "           2.73461873e-02,  2.50312616e-02],\n",
      "         [ 2.22468375e-02,  4.92211880e-02, -2.04659914e-02,\n",
      "           1.63811233e-02,  3.76108916e-02]],\n",
      "\n",
      "        [[-4.35214144e-02, -5.42070968e-02, -5.76038498e-03,\n",
      "          -2.48625942e-02,  2.39369993e-03],\n",
      "         [-5.76720940e-02, -2.61787463e-02,  2.81953484e-02,\n",
      "          -4.97948770e-02,  5.09824415e-02],\n",
      "         [-1.55987659e-02,  3.64805749e-02,  6.82894589e-03,\n",
      "          -1.55983170e-02, -3.78759452e-02],\n",
      "         [ 2.33715648e-02,  2.84629931e-02, -3.19784350e-02,\n",
      "           4.26828168e-02,  1.67856710e-02],\n",
      "         [ 7.82454245e-03, -1.42060685e-02,  3.01852803e-02,\n",
      "          -7.56978493e-03,  6.15538126e-02]],\n",
      "\n",
      "        [[-2.81631116e-02, -5.52283330e-03,  1.96073136e-02,\n",
      "           6.49003722e-02, -3.12920688e-02],\n",
      "         [ 5.81471091e-02, -2.48349929e-02, -5.60268051e-02,\n",
      "           2.03160089e-02,  5.45862569e-02],\n",
      "         [-2.63219948e-03,  2.90850702e-02, -4.06584743e-03,\n",
      "          -1.85475540e-02,  3.51687477e-02],\n",
      "         [-3.40565618e-02, -6.96636601e-02,  3.27297762e-02,\n",
      "           1.84297591e-02,  2.39129047e-02],\n",
      "         [ 2.99202801e-02, -2.02322776e-03, -2.56963878e-02,\n",
      "           6.11958009e-02, -3.35421058e-03]],\n",
      "\n",
      "        [[ 2.57670904e-02, -2.51836605e-02,  4.41502604e-02,\n",
      "          -1.71614677e-02,  2.74911181e-02],\n",
      "         [-1.65656194e-02, -1.09768563e-02, -4.15713288e-02,\n",
      "          -1.81687615e-02,  5.89291711e-03],\n",
      "         [-4.90741182e-02, -1.22408514e-02,  4.55899743e-02,\n",
      "          -8.65013499e-03, -2.90872438e-02],\n",
      "         [ 2.37565838e-02, -2.93489578e-02,  1.28595832e-02,\n",
      "           3.31088512e-02, -3.64523531e-02],\n",
      "         [-2.36715726e-02,  1.44787057e-02, -9.52307388e-02,\n",
      "           1.09200791e-02,  2.48586706e-02]],\n",
      "\n",
      "        [[ 8.54107834e-03,  2.89370499e-02, -2.66766652e-02,\n",
      "           8.50561438e-03,  1.15678722e-02],\n",
      "         [ 1.80169140e-02,  2.29749005e-02,  9.74932293e-03,\n",
      "           2.24661463e-02,  2.44324426e-02],\n",
      "         [-1.63205742e-02,  3.95793266e-02, -9.16078686e-03,\n",
      "           5.03612948e-03, -9.04846927e-03],\n",
      "         [ 2.82202269e-02, -5.24211663e-03,  2.81931477e-02,\n",
      "          -2.46997852e-02, -4.28671589e-02],\n",
      "         [-4.58967731e-03, -8.96838124e-04,  1.13701007e-02,\n",
      "           1.68889882e-02, -1.55626484e-02]],\n",
      "\n",
      "        [[-3.06676630e-02, -3.42737609e-02, -8.29520763e-02,\n",
      "          -9.91177269e-02, -4.25509883e-02],\n",
      "         [ 5.69911745e-02,  3.00002156e-03, -4.54192070e-02,\n",
      "          -3.28459734e-02, -5.89030166e-02],\n",
      "         [-1.08929239e-02, -1.27417674e-02, -6.87690767e-02,\n",
      "          -6.15349325e-03, -2.79165707e-02],\n",
      "         [-2.38664260e-02, -2.63376055e-02, -4.34712346e-02,\n",
      "           1.28523805e-03, -8.84756817e-02],\n",
      "         [-2.30512630e-02, -2.89752492e-02, -1.78305379e-02,\n",
      "          -2.72523848e-02, -2.45724983e-02]],\n",
      "\n",
      "        [[-2.58412174e-03, -7.26359801e-03, -5.26455358e-02,\n",
      "          -1.51273072e-02,  1.37560345e-02],\n",
      "         [-4.78286189e-02, -1.04683059e-02, -2.73830474e-02,\n",
      "          -6.80481811e-02, -4.30936021e-02],\n",
      "         [-8.34651465e-03, -3.17827863e-02, -3.49950211e-02,\n",
      "          -2.10447221e-03, -4.05626898e-02],\n",
      "         [-7.26477864e-03, -1.54844880e-02, -1.07351789e-02,\n",
      "           1.37964257e-02, -1.57029884e-02],\n",
      "         [-5.25897511e-02, -1.35725507e-02, -3.02687127e-02,\n",
      "          -2.24568079e-02, -1.45451131e-02]]],\n",
      "\n",
      "\n",
      "       [[[-9.42352812e-03, -8.42096290e-03,  2.71641479e-02,\n",
      "          -2.48667124e-02,  2.44652196e-03],\n",
      "         [-8.22417958e-03, -4.24135953e-02, -2.50008562e-02,\n",
      "          -4.50544907e-02, -4.22877577e-02],\n",
      "         [ 1.29646897e-02, -5.46225901e-02, -1.10142633e-01,\n",
      "          -4.49116510e-02, -8.62085774e-03],\n",
      "         [-4.79686936e-04, -1.91772896e-02, -2.04428493e-02,\n",
      "           1.20222869e-03, -2.07380436e-02],\n",
      "         [-3.07349556e-02, -4.21151956e-02,  3.11768360e-03,\n",
      "           1.90547942e-04, -2.51565085e-02]],\n",
      "\n",
      "        [[-6.59028890e-02, -4.63757630e-02, -2.18169946e-02,\n",
      "           1.22719331e-02, -1.89141385e-03],\n",
      "         [-2.70523962e-02,  2.97717720e-02, -5.92870946e-02,\n",
      "           3.46779870e-02,  4.88143762e-02],\n",
      "         [-4.26303818e-02, -6.65017183e-03, -2.98224143e-02,\n",
      "          -1.22449030e-02, -1.47351686e-02],\n",
      "         [-1.56519427e-02, -5.05534410e-02, -2.49269169e-02,\n",
      "          -3.68620382e-02,  1.43807029e-02],\n",
      "         [ 2.85200199e-02, -5.98892020e-02,  2.09244710e-02,\n",
      "          -1.08305472e-02,  2.48900264e-02]],\n",
      "\n",
      "        [[ 1.55787729e-02, -6.35164020e-02, -8.59184812e-03,\n",
      "          -5.01057661e-02,  1.76011099e-02],\n",
      "         [-2.73717669e-02,  1.83099377e-02, -2.95364367e-02,\n",
      "          -4.30477110e-02, -3.24404595e-02],\n",
      "         [-2.39032577e-02, -2.89459967e-03, -3.82239492e-02,\n",
      "           6.52345505e-03, -2.13556396e-02],\n",
      "         [-1.22469393e-02, -6.26531313e-03, -3.58069392e-02,\n",
      "          -6.89392056e-03,  1.45077164e-03],\n",
      "         [-3.81634900e-02,  4.59876166e-04,  1.57486647e-02,\n",
      "          -9.43803972e-03, -3.45302475e-03]],\n",
      "\n",
      "        [[ 3.28391995e-02, -3.50638619e-02,  3.34766239e-02,\n",
      "           6.16491593e-03, -8.36219157e-03],\n",
      "         [ 7.26271720e-03, -7.41003513e-03, -5.89215920e-02,\n",
      "           3.89334774e-02,  1.95930082e-02],\n",
      "         [ 3.39898790e-02, -4.50415196e-02,  1.82998146e-02,\n",
      "           1.17749291e-02, -4.23762886e-02],\n",
      "         [-1.65168478e-02, -4.55288329e-02,  3.80949470e-02,\n",
      "           2.29926374e-02, -2.32081467e-02],\n",
      "         [-6.14453152e-03, -1.16315708e-02,  4.47524991e-02,\n",
      "          -2.00638114e-03,  1.53658925e-02]],\n",
      "\n",
      "        [[ 1.76635251e-02,  4.04120874e-02,  2.96265933e-02,\n",
      "          -2.73659975e-02,  4.01745814e-03],\n",
      "         [-1.10896600e-02,  1.93795523e-02, -8.57430692e-03,\n",
      "          -4.73124751e-02,  1.65599634e-02],\n",
      "         [-9.39102633e-03,  1.34916496e-02, -2.19119759e-02,\n",
      "           3.37776471e-02, -5.83919206e-03],\n",
      "         [-2.16318589e-02,  1.05210288e-02, -4.57022182e-02,\n",
      "          -3.94737766e-02,  1.54924441e-02],\n",
      "         [-1.41850689e-02,  2.08111494e-02,  1.11042602e-02,\n",
      "          -3.37918829e-02,  4.32885680e-02]],\n",
      "\n",
      "        [[-2.58245571e-03, -3.57651262e-02,  3.01259554e-02,\n",
      "          -1.60313283e-02, -2.61971966e-02],\n",
      "         [ 1.42396697e-03,  3.57425371e-02, -1.77538665e-02,\n",
      "           5.17986547e-02,  1.91895847e-02],\n",
      "         [-3.82058449e-02, -1.01151405e-03,  2.10652011e-02,\n",
      "          -1.71883792e-02,  5.32091589e-04],\n",
      "         [-1.78033458e-04,  1.14356067e-03,  4.04938053e-02,\n",
      "           2.45398297e-02,  3.04696224e-02],\n",
      "         [-3.07335488e-02,  1.72295300e-02, -1.59375355e-03,\n",
      "           4.24066748e-02, -4.70955001e-02]],\n",
      "\n",
      "        [[-1.78173884e-02, -1.21548316e-02,  1.47438207e-02,\n",
      "          -6.19501181e-04, -2.02022541e-02],\n",
      "         [ 2.63621648e-02,  2.57883236e-02, -9.20510759e-04,\n",
      "          -1.73872885e-02, -3.83764937e-02],\n",
      "         [-5.20705931e-03,  3.21129331e-02, -6.40354855e-03,\n",
      "          -4.27457934e-02, -3.45580413e-02],\n",
      "         [-4.99445399e-02,  6.46606328e-02,  2.37352728e-02,\n",
      "          -3.41199506e-02, -1.07074136e-02],\n",
      "         [-2.35685270e-03, -1.06893230e-02, -4.84458796e-02,\n",
      "           1.88082026e-02,  3.35018303e-02]],\n",
      "\n",
      "        [[-2.75372806e-02, -3.51968393e-02,  6.44758990e-02,\n",
      "          -3.42850204e-02, -4.64398094e-03],\n",
      "         [-1.33989167e-02,  2.91450661e-02, -1.63750505e-02,\n",
      "          -1.39367207e-02, -2.73468220e-02],\n",
      "         [-4.92818479e-02, -3.86085529e-02, -4.34394951e-02,\n",
      "           1.62935260e-02,  1.04590263e-02],\n",
      "         [-7.18389283e-03, -5.70619231e-03,  1.62299687e-02,\n",
      "          -2.66771538e-03, -3.20323442e-02],\n",
      "         [ 1.46463388e-03, -3.11651012e-02, -3.85731687e-02,\n",
      "          -1.66643388e-02, -6.74753055e-02]]],\n",
      "\n",
      "\n",
      "       [[[-1.53169346e-02, -3.86005107e-02, -1.52581674e-03,\n",
      "          -9.87408856e-03,  2.47527216e-02],\n",
      "         [-8.52910619e-03,  4.09764238e-02, -2.70472822e-02,\n",
      "          -1.77700841e-02,  2.70083707e-02],\n",
      "         [-1.31179238e-02,  7.73159517e-02, -1.94648467e-02,\n",
      "          -1.79805038e-02,  1.51790738e-02],\n",
      "         [-3.19968120e-02,  1.39186249e-02, -3.21898783e-02,\n",
      "          -3.31074708e-02, -3.80648892e-02],\n",
      "         [-1.03035050e-02,  2.24242425e-03, -3.06375850e-02,\n",
      "           3.74171574e-03, -5.60822261e-02]],\n",
      "\n",
      "        [[ 3.58179007e-02,  4.70591029e-03, -2.59708796e-02,\n",
      "           4.60325461e-02,  6.25613561e-02],\n",
      "         [ 1.67264077e-04, -4.33420605e-02,  1.95214312e-02,\n",
      "           4.10436940e-03, -4.53399733e-02],\n",
      "         [ 1.47663564e-02, -2.16215835e-02,  2.02309726e-03,\n",
      "          -1.14929907e-02,  8.00017296e-03],\n",
      "         [ 3.39557951e-02,  2.12076563e-02, -2.43092147e-02,\n",
      "           1.28784185e-02, -6.71816235e-02],\n",
      "         [-2.80949781e-02,  1.88479449e-02,  4.80478783e-02,\n",
      "          -4.82285355e-02, -4.06981982e-02]],\n",
      "\n",
      "        [[ 3.79997318e-02,  2.62593951e-02, -3.04600204e-03,\n",
      "          -1.34737852e-02,  3.33440932e-02],\n",
      "         [ 5.03163077e-02, -3.14585368e-02, -3.77148131e-02,\n",
      "          -1.82867181e-02,  3.19354695e-02],\n",
      "         [-2.89545805e-02, -6.11684448e-02,  3.59811319e-02,\n",
      "          -2.12907650e-02,  1.34825843e-02],\n",
      "         [ 3.37899800e-02, -1.19330183e-02,  3.24565273e-02,\n",
      "           2.73423478e-02, -1.09311879e-02],\n",
      "         [ 1.72780942e-02,  4.64799827e-02,  6.25290582e-02,\n",
      "           7.20251646e-03, -2.68451594e-03]],\n",
      "\n",
      "        [[-1.64483119e-02,  2.66424889e-04,  2.98952422e-03,\n",
      "          -3.67142258e-02,  1.72564784e-02],\n",
      "         [-1.31290279e-02, -2.30954844e-02,  9.85688086e-03,\n",
      "          -4.73805566e-02,  4.09832350e-02],\n",
      "         [ 3.86035513e-02, -6.52941748e-03, -1.11234964e-02,\n",
      "           2.46116021e-02,  1.32854547e-03],\n",
      "         [-7.48599786e-02,  2.77031696e-02, -2.31635908e-02,\n",
      "           2.69532610e-02, -3.92133461e-02],\n",
      "         [ 6.62274197e-02,  4.62674316e-03, -3.13948446e-02,\n",
      "           4.26259114e-02, -3.56366817e-02]],\n",
      "\n",
      "        [[ 1.53314309e-02, -8.32930923e-03,  5.57768019e-02,\n",
      "           7.10254643e-03,  2.94657852e-03],\n",
      "         [-8.26784728e-03, -8.17832947e-04, -1.16969997e-02,\n",
      "          -2.01808976e-03, -9.17249008e-03],\n",
      "         [-3.12425657e-02, -4.45216821e-02, -5.88809943e-02,\n",
      "          -1.67314352e-02, -2.51975681e-02],\n",
      "         [ 1.71936774e-03, -3.98661227e-02,  3.63229630e-02,\n",
      "          -4.30386650e-02, -1.00496064e-02],\n",
      "         [ 7.76930704e-03, -8.55449346e-02, -7.51279642e-02,\n",
      "          -1.19395191e-02, -2.52759542e-02]],\n",
      "\n",
      "        [[ 9.99985833e-03, -1.38526493e-03, -2.74521852e-02,\n",
      "           3.86530871e-02,  6.12610971e-03],\n",
      "         [-4.84008762e-03,  3.46435466e-04, -1.91674777e-03,\n",
      "           1.21943076e-02,  3.34077462e-03],\n",
      "         [-2.31015742e-02,  3.76740481e-02,  1.02470717e-03,\n",
      "          -4.25810782e-03,  2.41174017e-02],\n",
      "         [ 2.56536187e-02, -8.36995463e-06, -1.91419940e-02,\n",
      "          -2.53633201e-02,  4.73970396e-02],\n",
      "         [-2.15160655e-02,  2.49886668e-02,  2.35668321e-02,\n",
      "          -5.04909330e-02, -1.53788396e-02]],\n",
      "\n",
      "        [[ 1.03034686e-02, -5.59152693e-02,  9.44678915e-05,\n",
      "          -6.38651761e-02, -4.72971889e-02],\n",
      "         [-3.07723697e-02, -2.42163257e-02, -4.45338929e-03,\n",
      "          -1.29499659e-03, -2.04301001e-02],\n",
      "         [-5.28300711e-02,  4.30604593e-02, -9.95960832e-02,\n",
      "          -1.56105808e-02,  1.49343088e-02],\n",
      "         [-5.24995104e-03,  1.49247313e-02, -5.65827711e-02,\n",
      "           4.58219794e-02, -4.53196515e-02],\n",
      "         [-6.02055849e-02, -4.83141579e-02,  3.27571642e-03,\n",
      "          -2.67923113e-02, -1.36738851e-02]],\n",
      "\n",
      "        [[-3.59944559e-02,  1.91969155e-02, -8.66823428e-02,\n",
      "          -1.50732340e-02,  2.20653749e-03],\n",
      "         [-4.11210399e-02, -4.39873174e-02, -4.19940116e-04,\n",
      "           2.91642766e-02, -4.77164857e-02],\n",
      "         [-9.40342106e-02, -1.37897202e-02,  1.26428565e-02,\n",
      "          -7.24416908e-02, -1.25371702e-02],\n",
      "         [-2.60321044e-02, -4.72341327e-02, -3.87255350e-02,\n",
      "          -9.92163590e-02, -8.94811203e-03],\n",
      "         [-7.18208766e-02,  7.23719428e-03, -7.92758854e-03,\n",
      "          -5.54988568e-02, -2.62744705e-02]]]]), array([[ 0.0096655 ,  0.01381078, -0.00134279, ..., -0.01633265,\n",
      "        -0.00159248,  0.0005204 ],\n",
      "       [ 0.00914009, -0.00660943,  0.00069488, ..., -0.02633506,\n",
      "         0.00014615,  0.00839542],\n",
      "       [-0.01299536, -0.01219485, -0.01249981, ..., -0.00738795,\n",
      "        -0.00806025,  0.00954527],\n",
      "       ...,\n",
      "       [ 0.02131334, -0.01160266, -0.000485  , ...,  0.01344474,\n",
      "        -0.00898778, -0.00204453],\n",
      "       [-0.020722  , -0.00976356, -0.01382441, ..., -0.01151974,\n",
      "         0.0024758 ,  0.00060251],\n",
      "       [ 0.01318417,  0.00704436,  0.03130021, ...,  0.00187325,\n",
      "         0.01651346,  0.03037591]]), array([[ 0.00067166,  0.00115738,  0.00998355, ..., -0.01473955,\n",
      "        -0.01171567, -0.04599841],\n",
      "       [-0.00480995, -0.00988307, -0.00976935, ..., -0.00803013,\n",
      "        -0.02519183, -0.08430405],\n",
      "       [-0.00306142, -0.01084135,  0.00472665, ..., -0.02011607,\n",
      "        -0.02595601, -0.04861956],\n",
      "       ...,\n",
      "       [-0.00429627, -0.01101853, -0.00877942, ...,  0.00682538,\n",
      "        -0.01513601, -0.03352146],\n",
      "       [-0.01891532,  0.01623285,  0.00397255, ..., -0.00828889,\n",
      "        -0.00067381, -0.04543346],\n",
      "       [ 0.00645957,  0.00175019, -0.00391279, ..., -0.00793054,\n",
      "        -0.00701145, -0.0565953 ]]), array([[ 2.90652754e-02],\n",
      "       [-2.49616483e-02],\n",
      "       [ 3.39142184e-03],\n",
      "       [-3.35441406e-02],\n",
      "       [-2.99196492e-03],\n",
      "       [-5.09177183e-05],\n",
      "       [ 2.49080231e-02],\n",
      "       [ 2.65842432e-02]]), array([[-0.01437496],\n",
      "       [-0.02662673],\n",
      "       [-0.01977944],\n",
      "       [-0.01923108],\n",
      "       [-0.03034205]]), array([[-9.26795661e-04],\n",
      "       [-3.04275167e-03],\n",
      "       [-1.91506536e-03],\n",
      "       [-1.44026559e-03],\n",
      "       [ 1.61319635e-02],\n",
      "       [-2.56517726e-03],\n",
      "       [-2.29898406e-03],\n",
      "       [-1.05710772e-03],\n",
      "       [ 2.35300138e-02],\n",
      "       [-4.68844524e-03],\n",
      "       [-1.87370412e-03],\n",
      "       [-2.77544330e-03],\n",
      "       [ 2.19772950e-02],\n",
      "       [-2.10486151e-03],\n",
      "       [-2.06924670e-03],\n",
      "       [-1.22306461e-03],\n",
      "       [-3.58634389e-03],\n",
      "       [-1.07121936e-03],\n",
      "       [-3.08172236e-03],\n",
      "       [ 2.59083503e-03],\n",
      "       [ 7.80807895e-03],\n",
      "       [-2.81780865e-03],\n",
      "       [-1.64897078e-03],\n",
      "       [ 1.94261624e-02],\n",
      "       [-8.27492769e-04],\n",
      "       [-4.07753191e-03],\n",
      "       [-4.47380665e-03],\n",
      "       [-1.15072121e-03],\n",
      "       [-4.99304577e-04],\n",
      "       [-1.31683975e-03],\n",
      "       [-3.18351324e-03],\n",
      "       [-8.34337228e-04],\n",
      "       [-3.60100951e-04],\n",
      "       [-4.29753596e-03],\n",
      "       [-2.12856268e-03],\n",
      "       [ 5.44668594e-03],\n",
      "       [-3.67360174e-03],\n",
      "       [ 1.37195919e-02],\n",
      "       [-3.33061822e-04],\n",
      "       [-2.34464609e-03],\n",
      "       [-1.61636750e-03],\n",
      "       [-9.14968281e-04],\n",
      "       [-2.03784934e-03],\n",
      "       [-2.24105106e-03],\n",
      "       [-1.88027616e-03],\n",
      "       [-1.91029562e-03],\n",
      "       [-1.45561834e-03],\n",
      "       [-9.56974577e-04],\n",
      "       [-1.88661747e-03],\n",
      "       [-2.35315835e-03],\n",
      "       [-3.87433833e-03],\n",
      "       [ 2.96107649e-02],\n",
      "       [-2.92399720e-03],\n",
      "       [-2.15394075e-03],\n",
      "       [-3.74217210e-03],\n",
      "       [-4.82107727e-04],\n",
      "       [-3.83650915e-03],\n",
      "       [-1.36206892e-03],\n",
      "       [-1.43438274e-03],\n",
      "       [-1.39881911e-03],\n",
      "       [-1.07868273e-03],\n",
      "       [-3.23777506e-03],\n",
      "       [-7.56628468e-04],\n",
      "       [ 2.69843775e-02],\n",
      "       [-1.94131117e-03],\n",
      "       [-6.51502742e-04],\n",
      "       [ 5.08951557e-03],\n",
      "       [-2.95418306e-03],\n",
      "       [-2.37251113e-04],\n",
      "       [ 7.25535186e-04],\n",
      "       [-2.00610164e-03],\n",
      "       [-4.43017629e-04],\n",
      "       [-1.29961600e-03],\n",
      "       [-1.37791158e-03],\n",
      "       [-1.83787779e-03],\n",
      "       [-4.54530478e-03],\n",
      "       [-2.29012451e-03],\n",
      "       [-2.13873771e-03],\n",
      "       [-2.10222165e-03],\n",
      "       [-3.05628418e-03],\n",
      "       [-2.36757586e-03],\n",
      "       [-2.93602072e-03],\n",
      "       [-3.76650124e-03],\n",
      "       [-2.11577195e-03],\n",
      "       [ 2.45932777e-02],\n",
      "       [-2.28905475e-03],\n",
      "       [-2.66017040e-03],\n",
      "       [-9.33998830e-04],\n",
      "       [-1.85903439e-03],\n",
      "       [-7.08897898e-04],\n",
      "       [ 2.86974431e-02],\n",
      "       [-1.46459955e-03],\n",
      "       [ 7.79738738e-03],\n",
      "       [-5.44033369e-04],\n",
      "       [-2.80422844e-03],\n",
      "       [-1.78376285e-03],\n",
      "       [ 1.84591056e-02],\n",
      "       [-1.33097890e-03],\n",
      "       [-2.90992716e-03],\n",
      "       [-1.36083430e-03],\n",
      "       [-2.47337888e-03],\n",
      "       [-2.00830672e-03],\n",
      "       [ 4.38351898e-03],\n",
      "       [-4.16878188e-03],\n",
      "       [-8.05337889e-04],\n",
      "       [-2.70124635e-03],\n",
      "       [-2.49853419e-03],\n",
      "       [-2.04165219e-03],\n",
      "       [ 8.28582205e-05],\n",
      "       [-1.50865440e-03],\n",
      "       [-6.19875137e-04],\n",
      "       [ 1.86973846e-03],\n",
      "       [-7.61468274e-04],\n",
      "       [-1.06244941e-03],\n",
      "       [-1.94072616e-03],\n",
      "       [-1.47426495e-03],\n",
      "       [ 1.69263263e-04],\n",
      "       [-1.77664831e-03],\n",
      "       [-3.31110902e-03],\n",
      "       [-1.03629015e-03],\n",
      "       [-2.65956699e-03],\n",
      "       [-2.33205958e-04],\n",
      "       [ 1.05805671e-02],\n",
      "       [-3.81642640e-03],\n",
      "       [ 2.94092333e-02],\n",
      "       [-9.36035131e-04],\n",
      "       [-3.38591896e-03],\n",
      "       [ 9.14188153e-03]]), array([[-0.03162947],\n",
      "       [-0.03276363],\n",
      "       [-0.03206833],\n",
      "       [-0.03236802],\n",
      "       [-0.0319939 ],\n",
      "       [-0.03212319],\n",
      "       [-0.02273693],\n",
      "       [-0.03381273]])]\n"
     ]
    },
    {
     "name": "stderr",
     "output_type": "stream",
     "text": [
      "\n"
     ]
    }
   ],
   "source": [
    "parameters,cost,valid_cost,test_cost = train(num_classes = 8, lr = 0.001, beta1 = 0.95, beta2 = 0.99, img_dim = 32, img_depth = 1, f = 5, num_filt1 = 8, num_filt2 = 5, batch_size = 100, num_epochs = 10)"
   ]
  },
  {
   "cell_type": "code",
   "execution_count": 17,
   "metadata": {
    "colab": {
     "base_uri": "https://localhost:8080/",
     "height": 231
    },
    "id": "HZ3J0CQvvXRn",
    "outputId": "3a78c12f-84e6-45fa-aeaf-7765a9f67ab4"
   },
   "outputs": [
    {
     "data": {
      "image/png": "[encoded data removed]",
      "text/plain": [
       "<Figure size 720x360 with 1 Axes>"
      ]
     },
     "metadata": {
      "needs_background": "light"
     },
     "output_type": "display_data"
    }
   ],
   "source": [
    "fig,(ax1)=plt.subplots(figsize=(10,5),\n",
    "                          nrows=1,\n",
    "                          ncols=1)\n",
    "epochs = range(1,101)\n",
    "plt.plot(epochs, cost, 'r', label='Training loss')\n",
    "plt.title('Training and Validation loss')\n",
    "plt.xlabel('Number of Epochs')\n",
    "plt.ylabel('Loss')\n",
    "plt.legend()\n",
    "plt.show()\n",
    "\n",
    "    "
   ]
  },
  {
   "cell_type": "code",
   "execution_count": 50,
   "metadata": {
    "colab": {
     "base_uri": "https://localhost:8080/",
     "height": 350
    },
    "id": "RMC660s1yepb",
    "outputId": "ff731108-495d-4906-9340-36e7bed5f2c8"
   },
   "outputs": [
    {
     "data": {
      "image/png": "[encoded data removed]",
      "text/plain": [
       "<Figure size 720x360 with 1 Axes>"
      ]
     },
     "metadata": {
      "needs_background": "light"
     },
     "output_type": "display_data"
    }
   ],
   "source": [
    "fig,(ax1)=plt.subplots(figsize=(10,5),\n",
    "                          nrows=1,\n",
    "                          ncols=1)\n",
    "epochs = range(1,101)\n",
    "plt.plot(epochs, valid_cost, 'g', label='Validation loss')\n",
    "plt.title('Training and Validation loss')\n",
    "plt.xlabel('Number of Epochs')\n",
    "plt.ylabel('Loss')\n",
    "plt.legend()\n",
    "plt.show()"
   ]
  },
  {
   "cell_type": "code",
   "execution_count": 19,
   "metadata": {
    "colab": {
     "base_uri": "https://localhost:8080/",
     "height": 350
    },
    "id": "3JPlSgftysxQ",
    "outputId": "614c859e-fc10-436b-d860-2235296ef2e2"
   },
   "outputs": [
    {
     "data": {
      "image/png": "[encoded data removed]",
      "text/plain": [
       "<Figure size 720x360 with 1 Axes>"
      ]
     },
     "metadata": {
      "needs_background": "light"
     },
     "output_type": "display_data"
    }
   ],
   "source": [
    "fig,(ax1)=plt.subplots(figsize=(10,5),\n",
    "                          nrows=1,\n",
    "                          ncols=1)\n",
    "epochs = range(1,101)\n",
    "plt.plot(epochs, test_cost, 'b', label='Training loss')\n",
    "plt.title('Training and Validation loss')\n",
    "plt.xlabel('Number of Epochs')\n",
    "plt.ylabel('Loss')\n",
    "plt.legend()\n",
    "plt.show()"
   ]
  },
  {
   "cell_type": "code",
   "execution_count": 20,
   "metadata": {
    "colab": {
     "base_uri": "https://localhost:8080/",
     "height": 677
    },
    "id": "LSjKz_RXxTsb",
    "outputId": "f2753903-aaf4-401e-ac48-85170ecb03af"
   },
   "outputs": [
    {
     "data": {
      "image/png": "[encoded data removed]",
      "text/plain": [
       "<Figure size 720x360 with 1 Axes>"
      ]
     },
     "metadata": {
      "needs_background": "light"
     },
     "output_type": "display_data"
    }
   ],
   "source": [
    "fig,(ax1)=plt.subplots(figsize=(10,5),\n",
    "                          nrows=1,\n",
    "                          ncols=1)\n",
    "epochs = range(1,101)\n",
    "plt.plot(epochs, cost, 'r', label='Training loss')\n",
    "plt.plot(epochs, valid_cost, 'g', label='validation loss')\n",
    "plt.plot(epochs, test_cost, 'b', label='Test loss')\n",
    "plt.title('Training and Validation loss')\n",
    "plt.xlabel('Number of Epochs')\n",
    "plt.ylabel('Loss')\n",
    "plt.legend()\n",
    "plt.show()"
   ]
  },
  {
   "cell_type": "code",
   "execution_count": 21,
   "metadata": {
    "colab": {
     "base_uri": "https://localhost:8080/",
     "height": 350
    },
    "id": "H4axnbsrvusO",
    "outputId": "af17dbfe-ea9e-4536-c1d9-c9e4a8d0b515"
   },
   "outputs": [
    {
     "data": {
      "image/png": "[encoded data removed]",
      "text/plain": [
       "<Figure size 720x360 with 1 Axes>"
      ]
     },
     "metadata": {
      "needs_background": "light"
     },
     "output_type": "display_data"
    }
   ],
   "source": [
    "fig,(ax1)=plt.subplots(figsize=(10,5),\n",
    "                          nrows=1,\n",
    "                          ncols=1)\n",
    "ax1.scatter(x=list(range(0,100)),y=cost,color='red',label='Training Cost')\n",
    "ax1.scatter(x=list(range(0,100)),y=valid_cost,color='green',label='Valid Cost')\n",
    "ax1.scatter(x=list(range(0,100)),y=test_cost,color='blue',label='Test Cost')\n",
    "plt.xlabel('No of Epoch')\n",
    "plt.ylabel('Cost')\n",
    "plt.title('Visualisation of Cost Function')\n",
    "plt.legend()\n",
    "plt.show()"
   ]
  },
  {
   "cell_type": "code",
   "execution_count": 22,
   "metadata": {
    "id": "mOsakqecDTNQ"
   },
   "outputs": [],
   "source": [
    "parameters = list(parameters)"
   ]
  },
  {
   "cell_type": "code",
   "execution_count": 23,
   "metadata": {
    "colab": {
     "base_uri": "https://localhost:8080/"
    },
    "id": "-8V0Tp1mJ1OS",
    "outputId": "a0855d8a-b5d1-4633-e49c-85cd5a6a67af"
   },
   "outputs": [
    {
     "data": {
      "text/plain": [
       "(5, 8, 5, 5)"
      ]
     },
     "execution_count": 23,
     "metadata": {},
     "output_type": "execute_result"
    }
   ],
   "source": [
    "parameters[1].shape"
   ]
  },
  {
   "cell_type": "code",
   "execution_count": 24,
   "metadata": {
    "colab": {
     "base_uri": "https://localhost:8080/"
    },
    "id": "lNFw5BQwJ7Yh",
    "outputId": "62ea590a-f530-4b02-8b90-661399b03582"
   },
   "outputs": [
    {
     "data": {
      "text/plain": [
       "(8, 1, 5, 5)"
      ]
     },
     "execution_count": 24,
     "metadata": {},
     "output_type": "execute_result"
    }
   ],
   "source": [
    "parameters[0].shape"
   ]
  },
  {
   "cell_type": "code",
   "execution_count": 25,
   "metadata": {
    "colab": {
     "base_uri": "https://localhost:8080/"
    },
    "id": "mamgRrAzJ7ae",
    "outputId": "ac615e9a-2f5c-438a-8f40-1b36d870aeef"
   },
   "outputs": [
    {
     "data": {
      "text/plain": [
       "(128, 720)"
      ]
     },
     "execution_count": 25,
     "metadata": {},
     "output_type": "execute_result"
    }
   ],
   "source": [
    "parameters[2].shape"
   ]
  },
  {
   "cell_type": "code",
   "execution_count": 26,
   "metadata": {
    "colab": {
     "base_uri": "https://localhost:8080/"
    },
    "id": "4BXUy5RmDaBW",
    "outputId": "b5f59fee-1628-4567-ec5d-2275fa54bd30"
   },
   "outputs": [
    {
     "data": {
      "text/plain": [
       "list"
      ]
     },
     "execution_count": 26,
     "metadata": {},
     "output_type": "execute_result"
    }
   ],
   "source": [
    "type(parameters)"
   ]
  },
  {
   "cell_type": "code",
   "execution_count": 27,
   "metadata": {
    "colab": {
     "base_uri": "https://localhost:8080/"
    },
    "id": "y7ZVtnuUDnSY",
    "outputId": "890317f9-d5e2-4585-bb9f-13c26594c558"
   },
   "outputs": [
    {
     "data": {
      "text/plain": [
       "dtype('float64')"
      ]
     },
     "execution_count": 27,
     "metadata": {},
     "output_type": "execute_result"
    }
   ],
   "source": [
    "parameters[2].dtype"
   ]
  },
  {
   "cell_type": "code",
   "execution_count": null,
   "metadata": {
    "colab": {
     "base_uri": "https://localhost:8080/",
     "height": 72,
     "resources": {
      "http://localhost:8080/nbextensions/google.colab/files.js": {
       "data": "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",
       "headers": [
        [
         "content-type",
         "application/javascript"
        ]
       ],
       "ok": true,
       "status": 200,
       "status_text": ""
      }
     }
    },
    "id": "o8KaWpsBo2nn",
    "outputId": "a2083170-8d05-4a98-ebe3-e6f62a66b630"
   },
   "outputs": [],
   "source": []
  },
  {
   "cell_type": "code",
   "execution_count": 28,
   "metadata": {
    "id": "u-LGBrT1_016"
   },
   "outputs": [],
   "source": [
    "image = cv2.imread('MO_2221.jpg',0)"
   ]
  },
  {
   "cell_type": "code",
   "execution_count": 29,
   "metadata": {
    "id": "PbD_2HZu_8yA"
   },
   "outputs": [],
   "source": [
    "image= cv2.resize(image,(32,32),interpolation = cv2.INTER_AREA)"
   ]
  },
  {
   "cell_type": "code",
   "execution_count": 30,
   "metadata": {
    "colab": {
     "base_uri": "https://localhost:8080/"
    },
    "id": "Tq5W_3859Vv-",
    "outputId": "95a3fa78-1623-4cf1-e21d-c817908c4aee"
   },
   "outputs": [
    {
     "data": {
      "text/plain": [
       "numpy.ndarray"
      ]
     },
     "execution_count": 30,
     "metadata": {},
     "output_type": "execute_result"
    }
   ],
   "source": [
    "type(image)"
   ]
  },
  {
   "cell_type": "code",
   "execution_count": 31,
   "metadata": {
    "colab": {
     "base_uri": "https://localhost:8080/"
    },
    "id": "jJLq-SCnPN1m",
    "outputId": "bad4400a-5245-4db1-c6fd-bafe389d1b8a"
   },
   "outputs": [
    {
     "data": {
      "text/plain": [
       "(32, 32)"
      ]
     },
     "execution_count": 31,
     "metadata": {},
     "output_type": "execute_result"
    }
   ],
   "source": [
    "image.shape"
   ]
  },
  {
   "cell_type": "code",
   "execution_count": 32,
   "metadata": {
    "id": "r1JMaBkQ8rTF"
   },
   "outputs": [],
   "source": [
    "image=np.reshape(image, (1,32,32))"
   ]
  },
  {
   "cell_type": "code",
   "execution_count": 33,
   "metadata": {
    "colab": {
     "base_uri": "https://localhost:8080/"
    },
    "id": "Jklh64J78rbX",
    "outputId": "f6ae3d92-ebca-40e0-b99a-50043f018fb7"
   },
   "outputs": [
    {
     "data": {
      "text/plain": [
       "(1, 32, 32)"
      ]
     },
     "execution_count": 33,
     "metadata": {},
     "output_type": "execute_result"
    }
   ],
   "source": [
    "image.shape"
   ]
  },
  {
   "cell_type": "code",
   "execution_count": 34,
   "metadata": {
    "id": "kMn2YH8U8reO"
   },
   "outputs": [],
   "source": [
    "def test(image, label, params, conv_s, pool_f, pool_s):\n",
    "    \n",
    "    [f1, f2, w3, w4, b1, b2, b3, b4] = params \n",
    "    \n",
    "    ################################################\n",
    "    ############## Forward Operation ###############\n",
    "    ################################################\n",
    "    conv1 = convolution(image, f1, b1, conv_s) # convolution operation\n",
    "    conv1[conv1<=0] = 0 # pass through ReLU non-linearity\n",
    "    \n",
    "    conv2 = convolution(conv1, f2, b2, conv_s) # second convolution operation\n",
    "    conv2[conv2<=0] = 0 # pass through ReLU non-linearity\n",
    "    \n",
    "    pooled = maxpool(conv2, pool_f, pool_s) # maxpooling operation\n",
    "    \n",
    "    (nf2, dim2, _) = pooled.shape\n",
    "    fc = pooled.reshape((nf2 * dim2 * dim2, 1)) # flatten pooled layer\n",
    "    \n",
    "    z = w3.dot(fc) + b3 # first dense layer\n",
    "    z[z<=0] = 0 # pass through ReLU non-linearity\n",
    "    \n",
    "    out = w4.dot(z) + b4 # second dense layer\n",
    "     \n",
    "    probs = softmax(out) # predict class probabilities with the softmax activation function\n",
    "    \n",
    "    ################################################\n",
    "    #################### Loss ######################\n",
    "    ################################################\n",
    "    \n",
    "    loss = categoricalCrossEntropy(probs, label) # categorical cross-entropy loss\n",
    "        \n",
    "        \n",
    "    return probs, loss"
   ]
  },
  {
   "cell_type": "code",
   "execution_count": 35,
   "metadata": {
    "id": "Y6U6wJaqAnw_"
   },
   "outputs": [],
   "source": [
    "prediction,loss = test(image, label=8, params = parameters, conv_s=1, pool_f=2, pool_s=2)"
   ]
  },
  {
   "cell_type": "code",
   "execution_count": 36,
   "metadata": {
    "colab": {
     "base_uri": "https://localhost:8080/"
    },
    "id": "CW1tWLFJM3cg",
    "outputId": "b7077b2d-a9bd-41de-a721-4c65a5b25f67"
   },
   "outputs": [
    {
     "data": {
      "text/plain": [
       "array([[6.12800894e-07],\n",
       "       [5.66312297e-15],\n",
       "       [2.96423838e-15],\n",
       "       [1.41468261e-15],\n",
       "       [3.44261275e-15],\n",
       "       [8.96967416e-05],\n",
       "       [9.99909690e-01],\n",
       "       [3.63900761e-16]])"
      ]
     },
     "execution_count": 36,
     "metadata": {},
     "output_type": "execute_result"
    }
   ],
   "source": [
    "prediction"
   ]
  },
  {
   "cell_type": "code",
   "execution_count": 37,
   "metadata": {
    "colab": {
     "base_uri": "https://localhost:8080/"
    },
    "id": "DCdCDSJ6P43k",
    "outputId": "83948ee4-88ec-4801-c9ed-e032fcd02b71"
   },
   "outputs": [
    {
     "data": {
      "text/plain": [
       "array([0.99990969])"
      ]
     },
     "execution_count": 37,
     "metadata": {},
     "output_type": "execute_result"
    }
   ],
   "source": [
    "max(prediction)"
   ]
  },
  {
   "cell_type": "code",
   "execution_count": 38,
   "metadata": {
    "colab": {
     "base_uri": "https://localhost:8080/"
    },
    "id": "P6t4UzAHP7s1",
    "outputId": "2f40d5e9-002c-4b7d-d02c-327ae9dc32fb"
   },
   "outputs": [
    {
     "data": {
      "text/plain": [
       "1543.403333686526"
      ]
     },
     "execution_count": 38,
     "metadata": {},
     "output_type": "execute_result"
    }
   ],
   "source": [
    "loss"
   ]
  },
  {
   "cell_type": "code",
   "execution_count": 39,
   "metadata": {
    "colab": {
     "base_uri": "https://localhost:8080/",
     "height": 698
    },
    "id": "eWY91HEtQKG3",
    "outputId": "8ac833ff-067d-4434-f090-7c106bac87db"
   },
   "outputs": [
    {
     "data": {
      "image/png": "[encoded data removed]",
      "text/plain": [
       "<Figure size 720x360 with 1 Axes>"
      ]
     },
     "metadata": {
      "needs_background": "light"
     },
     "output_type": "display_data"
    }
   ],
   "source": [
    "fig,(ax1)=plt.subplots(figsize=(10,5),\n",
    "                          nrows=1,\n",
    "                          ncols=1)\n",
    "ax1.scatter(x=list(range(0,100)),y=cost,color='red',label='Training Cost')\n",
    "\n",
    "plt.xlabel('No of Epoch')\n",
    "plt.ylabel('Cost')\n",
    "plt.title('Visualisation of Cost Function')\n",
    "plt.legend()\n",
    "plt.show()"
   ]
  },
  {
   "cell_type": "code",
   "execution_count": 40,
   "metadata": {
    "colab": {
     "base_uri": "https://localhost:8080/"
    },
    "id": "b2I4md6cPn9D",
    "outputId": "ba1ce732-06f9-4284-84fd-f8082fcf4a7a"
   },
   "outputs": [
    {
     "data": {
      "image/png": "[encoded data removed]",
      "text/plain": [
       "<Figure size 720x360 with 1 Axes>"
      ]
     },
     "metadata": {
      "needs_background": "light"
     },
     "output_type": "display_data"
    }
   ],
   "source": [
    "\n",
    "fig,(ax1)=plt.subplots(figsize=(10,5),\n",
    "                          nrows=1,\n",
    "                          ncols=1)\n",
    "\n",
    "ax1.scatter(x=list(range(0,100)),y=valid_cost,color='green',label='Valid Cost')\n",
    "\n",
    "plt.xlabel('No of Epoch')\n",
    "plt.ylabel('Cost')\n",
    "plt.title('Visualisation of Cost Function')\n",
    "plt.legend()\n",
    "plt.show()"
   ]
  },
  {
   "cell_type": "code",
   "execution_count": 41,
   "metadata": {
    "id": "49T2JvsrOxVt"
   },
   "outputs": [
    {
     "data": {
      "image/png": "[encoded data removed]",
      "text/plain": [
       "<Figure size 720x360 with 1 Axes>"
      ]
     },
     "metadata": {
      "needs_background": "light"
     },
     "output_type": "display_data"
    }
   ],
   "source": [
    "fig,(ax1)=plt.subplots(figsize=(10,5),\n",
    "                          nrows=1,\n",
    "                          ncols=1)\n",
    "\n",
    "ax1.scatter(x=list(range(0,100)),y=test_cost,color='blue',label='Test Cost')\n",
    "plt.xlabel('No of Epoch')\n",
    "plt.ylabel('Cost')\n",
    "plt.title('Visualisation of Cost Function')\n",
    "plt.legend()\n",
    "plt.show()"
   ]
  },
  {
   "cell_type": "code",
   "execution_count": 42,
   "metadata": {
    "colab": {
     "base_uri": "https://localhost:8080/",
     "height": 295
    },
    "id": "OwNfraQ1b97P",
    "outputId": "e173e313-93db-4335-8088-c5a392acabb3"
   },
   "outputs": [
    {
     "data": {
      "text/plain": [
       "[1.805058834099499,\n",
       " 0.41932456458767126,\n",
       " 0.014087307350374025,\n",
       " 0.0001692433711427714,\n",
       " 5.653639294561886e-05,\n",
       " 3.356158175112585e-05,\n",
       " 2.396809661747693e-05,\n",
       " 1.9735546402678084e-05,\n",
       " 1.5763080920937223e-05,\n",
       " 1.3486385941374477e-05]"
      ]
     },
     "execution_count": 42,
     "metadata": {},
     "output_type": "execute_result"
    }
   ],
   "source": [
    "c = cost[:10]"
   ]
  },
  {
   "cell_type": "code",
   "execution_count": 48,
   "metadata": {},
   "outputs": [
    {
     "data": {
      "image/png": "[encoded data removed]",
      "text/plain": [
       "<Figure size 720x360 with 1 Axes>"
      ]
     },
     "metadata": {
      "needs_background": "light"
     },
     "output_type": "display_data"
    }
   ],
   "source": [
    "fig,(ax1)=plt.subplots(figsize=(10,5),\n",
    "                          nrows=1,\n",
    "                          ncols=1)\n",
    "epochs = range(1,11)\n",
    "plt.plot(epochs, test_cost[:10], 'b', label='Test loss')\n",
    "plt.title('Training and Validation loss')\n",
    "plt.xlabel('Number of Epochs')\n",
    "plt.ylabel('Loss')\n",
    "plt.legend()\n",
    "plt.show()"
   ]
  },
  {
   "cell_type": "code",
   "execution_count": 46,
   "metadata": {},
   "outputs": [
    {
     "data": {
      "image/png": "[encoded data removed]",
      "text/plain": [
       "<Figure size 720x360 with 1 Axes>"
      ]
     },
     "metadata": {
      "needs_background": "light"
     },
     "output_type": "display_data"
    }
   ],
   "source": [
    "fig,(ax1)=plt.subplots(figsize=(10,5),\n",
    "                          nrows=1,\n",
    "                          ncols=1)\n",
    "epochs = range(1,11)\n",
    "plt.plot(epochs, cost[:10], 'r', label='Training loss')\n",
    "plt.plot(epochs, valid_cost[:10], 'g', label='validation loss')\n",
    "plt.plot(epochs, test_cost[:10], 'b', label='Test loss')\n",
    "plt.title('Training and Validation loss')\n",
    "plt.xlabel('Number of Epochs')\n",
    "plt.ylabel('Loss')\n",
    "plt.legend()\n",
    "plt.show()"
   ]
  },
  {
   "cell_type": "code",
   "execution_count": 49,
   "metadata": {},
   "outputs": [
    {
     "data": {
      "image/png": "[encoded data removed]",
      "text/plain": [
       "<Figure size 720x360 with 1 Axes>"
      ]
     },
     "metadata": {
      "needs_background": "light"
     },
     "output_type": "display_data"
    }
   ],
   "source": [
    "fig,(ax1)=plt.subplots(figsize=(10,5),\n",
    "                          nrows=1,\n",
    "                          ncols=1)\n",
    "epochs = range(1,11)\n",
    "plt.plot(epochs, cost[:10], 'r', label='Training loss')\n",
    "plt.title('Training and Validation loss')\n",
    "plt.xlabel('Number of Epochs')\n",
    "plt.ylabel('Loss')\n",
    "plt.legend()\n",
    "plt.show()"
   ]
  },
  {
   "cell_type": "code",
   "execution_count": 51,
   "metadata": {},
   "outputs": [
    {
     "data": {
      "image/png": "[encoded data removed]",
      "text/plain": [
       "<Figure size 720x360 with 1 Axes>"
      ]
     },
     "metadata": {
      "needs_background": "light"
     },
     "output_type": "display_data"
    }
   ],
   "source": [
    "fig,(ax1)=plt.subplots(figsize=(10,5),\n",
    "                          nrows=1,\n",
    "                          ncols=1)\n",
    "epochs = range(1,11)\n",
    "plt.plot(epochs, valid_cost[:10], 'g', label='Validation loss')\n",
    "plt.title('Training and Validation loss')\n",
    "plt.xlabel('Number of Epochs')\n",
    "plt.ylabel('Loss')\n",
    "plt.legend()\n",
    "plt.show()"
   ]
  },
  {
   "cell_type": "code",
   "execution_count": 2,
   "metadata": {},
   "outputs": [
    {
     "ename": "NameError",
     "evalue": "name 'cost' is not defined",
     "output_type": "error",
     "traceback": [
      "\u001b[1;31m---------------------------------------------------------------------------\u001b[0m",
      "\u001b[1;31mNameError\u001b[0m                                 Traceback (most recent call last)",
      "\u001b[1;32m<ipython-input-2-5baf4dfeb985>\u001b[0m in \u001b[0;36m<module>\u001b[1;34m\u001b[0m\n\u001b[1;32m----> 1\u001b[1;33m \u001b[0mcost\u001b[0m\u001b[1;33m\u001b[0m\u001b[1;33m\u001b[0m\u001b[0m\n\u001b[0m",
      "\u001b[1;31mNameError\u001b[0m: name 'cost' is not defined"
     ]
    }
   ],
   "source": [
    "cost"
   ]
  },
  {
   "cell_type": "code",
   "execution_count": null,
   "metadata": {},
   "outputs": [],
   "source": []
  }
 ],
 "metadata": {
  "colab": {
   "collapsed_sections": [],
   "name": "DL Project testing_2 dataset.ipynb",
   "provenance": []
  },
  "kernelspec": {
   "display_name": "Python 3",
   "language": "python",
   "name": "python3"
  },
  "language_info": {
   "codemirror_mode": {
    "name": "ipython",
    "version": 3
   },
   "file_extension": ".py",
   "mimetype": "text/x-python",
   "name": "python",
   "nbconvert_exporter": "python",
   "pygments_lexer": "ipython3",
   "version": "3.8.5"
  }
 },
 "nbformat": 4,
 "nbformat_minor": 1
}
